{
 "cells": [
  {
   "cell_type": "markdown",
   "metadata": {},
   "source": [
    "### Import des librairies et lecture des fichiers\n",
    "\n",
    "\n",
    "Est ce qu'on ajouterais pas les keywords ?"
   ]
  },
  {
   "cell_type": "code",
   "execution_count": 1,
   "metadata": {},
   "outputs": [],
   "source": [
    "import numpy as np\n",
    "import pandas as pd\n",
    "import matplotlib.pyplot as plt\n",
    "import math\n",
    "import re\n",
    "import time"
   ]
  },
  {
   "cell_type": "code",
   "execution_count": 3,
   "metadata": {},
   "outputs": [
    {
     "data": {
      "text/html": [
       "<div>\n",
       "<style scoped>\n",
       "    .dataframe tbody tr th:only-of-type {\n",
       "        vertical-align: middle;\n",
       "    }\n",
       "\n",
       "    .dataframe tbody tr th {\n",
       "        vertical-align: top;\n",
       "    }\n",
       "\n",
       "    .dataframe thead th {\n",
       "        text-align: right;\n",
       "    }\n",
       "</style>\n",
       "<table border=\"1\" class=\"dataframe\">\n",
       "  <thead>\n",
       "    <tr style=\"text-align: right;\">\n",
       "      <th></th>\n",
       "      <th>adult</th>\n",
       "      <th>belongs_to_collection</th>\n",
       "      <th>budget</th>\n",
       "      <th>genres</th>\n",
       "      <th>homepage</th>\n",
       "      <th>id</th>\n",
       "      <th>imdb_id</th>\n",
       "      <th>original_language</th>\n",
       "      <th>original_title</th>\n",
       "      <th>overview</th>\n",
       "      <th>...</th>\n",
       "      <th>release_date</th>\n",
       "      <th>revenue</th>\n",
       "      <th>runtime</th>\n",
       "      <th>spoken_languages</th>\n",
       "      <th>status</th>\n",
       "      <th>tagline</th>\n",
       "      <th>title</th>\n",
       "      <th>video</th>\n",
       "      <th>vote_average</th>\n",
       "      <th>vote_count</th>\n",
       "    </tr>\n",
       "  </thead>\n",
       "  <tbody>\n",
       "    <tr>\n",
       "      <td>0</td>\n",
       "      <td>False</td>\n",
       "      <td>{'id': 10194, 'name': 'Toy Story Collection', ...</td>\n",
       "      <td>30000000</td>\n",
       "      <td>[{'id': 16, 'name': 'Animation'}, {'id': 35, '...</td>\n",
       "      <td>http://toystory.disney.com/toy-story</td>\n",
       "      <td>862</td>\n",
       "      <td>tt0114709</td>\n",
       "      <td>en</td>\n",
       "      <td>Toy Story</td>\n",
       "      <td>Led by Woody, Andy's toys live happily in his ...</td>\n",
       "      <td>...</td>\n",
       "      <td>1995-10-30</td>\n",
       "      <td>373554033.0</td>\n",
       "      <td>81.0</td>\n",
       "      <td>[{'iso_639_1': 'en', 'name': 'English'}]</td>\n",
       "      <td>Released</td>\n",
       "      <td>NaN</td>\n",
       "      <td>Toy Story</td>\n",
       "      <td>False</td>\n",
       "      <td>7.7</td>\n",
       "      <td>5415.0</td>\n",
       "    </tr>\n",
       "    <tr>\n",
       "      <td>1</td>\n",
       "      <td>False</td>\n",
       "      <td>NaN</td>\n",
       "      <td>65000000</td>\n",
       "      <td>[{'id': 12, 'name': 'Adventure'}, {'id': 14, '...</td>\n",
       "      <td>NaN</td>\n",
       "      <td>8844</td>\n",
       "      <td>tt0113497</td>\n",
       "      <td>en</td>\n",
       "      <td>Jumanji</td>\n",
       "      <td>When siblings Judy and Peter discover an encha...</td>\n",
       "      <td>...</td>\n",
       "      <td>1995-12-15</td>\n",
       "      <td>262797249.0</td>\n",
       "      <td>104.0</td>\n",
       "      <td>[{'iso_639_1': 'en', 'name': 'English'}, {'iso...</td>\n",
       "      <td>Released</td>\n",
       "      <td>Roll the dice and unleash the excitement!</td>\n",
       "      <td>Jumanji</td>\n",
       "      <td>False</td>\n",
       "      <td>6.9</td>\n",
       "      <td>2413.0</td>\n",
       "    </tr>\n",
       "    <tr>\n",
       "      <td>2</td>\n",
       "      <td>False</td>\n",
       "      <td>{'id': 119050, 'name': 'Grumpy Old Men Collect...</td>\n",
       "      <td>0</td>\n",
       "      <td>[{'id': 10749, 'name': 'Romance'}, {'id': 35, ...</td>\n",
       "      <td>NaN</td>\n",
       "      <td>15602</td>\n",
       "      <td>tt0113228</td>\n",
       "      <td>en</td>\n",
       "      <td>Grumpier Old Men</td>\n",
       "      <td>A family wedding reignites the ancient feud be...</td>\n",
       "      <td>...</td>\n",
       "      <td>1995-12-22</td>\n",
       "      <td>0.0</td>\n",
       "      <td>101.0</td>\n",
       "      <td>[{'iso_639_1': 'en', 'name': 'English'}]</td>\n",
       "      <td>Released</td>\n",
       "      <td>Still Yelling. Still Fighting. Still Ready for...</td>\n",
       "      <td>Grumpier Old Men</td>\n",
       "      <td>False</td>\n",
       "      <td>6.5</td>\n",
       "      <td>92.0</td>\n",
       "    </tr>\n",
       "    <tr>\n",
       "      <td>3</td>\n",
       "      <td>False</td>\n",
       "      <td>NaN</td>\n",
       "      <td>16000000</td>\n",
       "      <td>[{'id': 35, 'name': 'Comedy'}, {'id': 18, 'nam...</td>\n",
       "      <td>NaN</td>\n",
       "      <td>31357</td>\n",
       "      <td>tt0114885</td>\n",
       "      <td>en</td>\n",
       "      <td>Waiting to Exhale</td>\n",
       "      <td>Cheated on, mistreated and stepped on, the wom...</td>\n",
       "      <td>...</td>\n",
       "      <td>1995-12-22</td>\n",
       "      <td>81452156.0</td>\n",
       "      <td>127.0</td>\n",
       "      <td>[{'iso_639_1': 'en', 'name': 'English'}]</td>\n",
       "      <td>Released</td>\n",
       "      <td>Friends are the people who let you be yourself...</td>\n",
       "      <td>Waiting to Exhale</td>\n",
       "      <td>False</td>\n",
       "      <td>6.1</td>\n",
       "      <td>34.0</td>\n",
       "    </tr>\n",
       "    <tr>\n",
       "      <td>4</td>\n",
       "      <td>False</td>\n",
       "      <td>{'id': 96871, 'name': 'Father of the Bride Col...</td>\n",
       "      <td>0</td>\n",
       "      <td>[{'id': 35, 'name': 'Comedy'}]</td>\n",
       "      <td>NaN</td>\n",
       "      <td>11862</td>\n",
       "      <td>tt0113041</td>\n",
       "      <td>en</td>\n",
       "      <td>Father of the Bride Part II</td>\n",
       "      <td>Just when George Banks has recovered from his ...</td>\n",
       "      <td>...</td>\n",
       "      <td>1995-02-10</td>\n",
       "      <td>76578911.0</td>\n",
       "      <td>106.0</td>\n",
       "      <td>[{'iso_639_1': 'en', 'name': 'English'}]</td>\n",
       "      <td>Released</td>\n",
       "      <td>Just When His World Is Back To Normal... He's ...</td>\n",
       "      <td>Father of the Bride Part II</td>\n",
       "      <td>False</td>\n",
       "      <td>5.7</td>\n",
       "      <td>173.0</td>\n",
       "    </tr>\n",
       "  </tbody>\n",
       "</table>\n",
       "<p>5 rows × 24 columns</p>\n",
       "</div>"
      ],
      "text/plain": [
       "   adult                              belongs_to_collection    budget  \\\n",
       "0  False  {'id': 10194, 'name': 'Toy Story Collection', ...  30000000   \n",
       "1  False                                                NaN  65000000   \n",
       "2  False  {'id': 119050, 'name': 'Grumpy Old Men Collect...         0   \n",
       "3  False                                                NaN  16000000   \n",
       "4  False  {'id': 96871, 'name': 'Father of the Bride Col...         0   \n",
       "\n",
       "                                              genres  \\\n",
       "0  [{'id': 16, 'name': 'Animation'}, {'id': 35, '...   \n",
       "1  [{'id': 12, 'name': 'Adventure'}, {'id': 14, '...   \n",
       "2  [{'id': 10749, 'name': 'Romance'}, {'id': 35, ...   \n",
       "3  [{'id': 35, 'name': 'Comedy'}, {'id': 18, 'nam...   \n",
       "4                     [{'id': 35, 'name': 'Comedy'}]   \n",
       "\n",
       "                               homepage     id    imdb_id original_language  \\\n",
       "0  http://toystory.disney.com/toy-story    862  tt0114709                en   \n",
       "1                                   NaN   8844  tt0113497                en   \n",
       "2                                   NaN  15602  tt0113228                en   \n",
       "3                                   NaN  31357  tt0114885                en   \n",
       "4                                   NaN  11862  tt0113041                en   \n",
       "\n",
       "                original_title  \\\n",
       "0                    Toy Story   \n",
       "1                      Jumanji   \n",
       "2             Grumpier Old Men   \n",
       "3            Waiting to Exhale   \n",
       "4  Father of the Bride Part II   \n",
       "\n",
       "                                            overview  ... release_date  \\\n",
       "0  Led by Woody, Andy's toys live happily in his ...  ...   1995-10-30   \n",
       "1  When siblings Judy and Peter discover an encha...  ...   1995-12-15   \n",
       "2  A family wedding reignites the ancient feud be...  ...   1995-12-22   \n",
       "3  Cheated on, mistreated and stepped on, the wom...  ...   1995-12-22   \n",
       "4  Just when George Banks has recovered from his ...  ...   1995-02-10   \n",
       "\n",
       "       revenue runtime                                   spoken_languages  \\\n",
       "0  373554033.0    81.0           [{'iso_639_1': 'en', 'name': 'English'}]   \n",
       "1  262797249.0   104.0  [{'iso_639_1': 'en', 'name': 'English'}, {'iso...   \n",
       "2          0.0   101.0           [{'iso_639_1': 'en', 'name': 'English'}]   \n",
       "3   81452156.0   127.0           [{'iso_639_1': 'en', 'name': 'English'}]   \n",
       "4   76578911.0   106.0           [{'iso_639_1': 'en', 'name': 'English'}]   \n",
       "\n",
       "     status                                            tagline  \\\n",
       "0  Released                                                NaN   \n",
       "1  Released          Roll the dice and unleash the excitement!   \n",
       "2  Released  Still Yelling. Still Fighting. Still Ready for...   \n",
       "3  Released  Friends are the people who let you be yourself...   \n",
       "4  Released  Just When His World Is Back To Normal... He's ...   \n",
       "\n",
       "                         title  video vote_average vote_count  \n",
       "0                    Toy Story  False          7.7     5415.0  \n",
       "1                      Jumanji  False          6.9     2413.0  \n",
       "2             Grumpier Old Men  False          6.5       92.0  \n",
       "3            Waiting to Exhale  False          6.1       34.0  \n",
       "4  Father of the Bride Part II  False          5.7      173.0  \n",
       "\n",
       "[5 rows x 24 columns]"
      ]
     },
     "execution_count": 3,
     "metadata": {},
     "output_type": "execute_result"
    }
   ],
   "source": [
    "movies = pd.read_csv(\"movies_metadata.csv\")\n",
    "ratings = pd.read_csv(\"ratings_small.csv\")\n",
    "keywords = pd.read_csv(\"keywords.csv\")\n",
    "movies.head()"
   ]
  },
  {
   "cell_type": "markdown",
   "metadata": {},
   "source": [
    "### Nettoyage de la base de données et réduction de la matrice aux caractéristiques interéssantes\n",
    "\n",
    "Suppression des id incorrects, des valeurs abérrantes, des lignes avec NaN, et modification des valeurs pour les rendre plus faciles à traiter.\n",
    "\n",
    "On sélectionne les attributs de films qui semblent pertinents pour différencier les films sur leur contenu.\n",
    "Ces choix sont arbitraires et on pourra être amenés à réfléchir dessus et à les modifier. Nous aurions voulu compléter notre base de données pour obtenir plus d'attributs (en particulier réalisateur, casting, mots clés), mais nous avons finalement du nous résigner à ne pas garder trop d'attributs pour limiter le temps de calcul."
   ]
  },
  {
   "cell_type": "code",
   "execution_count": 4,
   "metadata": {},
   "outputs": [],
   "source": [
    "def filter_correct_id(word): # MEILLEURE VERSION ICI\n",
    "    if not isinstance(word, str) or re.fullmatch(r'[0-9]+', word):\n",
    "        return word\n",
    "    return \"wrong_id\""
   ]
  },
  {
   "cell_type": "markdown",
   "metadata": {},
   "source": [
    "On supprime les films dont l'id n'est pas un int, puis on change le type de l'attribut id : il passe de str à int64. (Ne pas rerun)"
   ]
  },
  {
   "cell_type": "code",
   "execution_count": 5,
   "metadata": {},
   "outputs": [],
   "source": [
    "movies = movies[~movies.id.duplicated()]\n",
    "keywords = keywords[~keywords.id.duplicated()]\n",
    "movies.id = movies.id.apply(filter_correct_id)\n",
    "movies = movies[movies.id != \"wrong_id\"]\n",
    "movies.id = movies.id.astype('int64')"
   ]
  },
  {
   "cell_type": "markdown",
   "metadata": {},
   "source": [
    "Nous ne voulons garder que les films ayant reçu une note. Cela est une manière de ne garder qu'un nombre limité de films (il est très compliqué pour nous d'effectuer des calculs pour 45 000 films). De plus le clustering est intéressant pour renforcer la recommendation \"user-based\". On ne garde donc que les films ayant été notés par les utilisateurs. Ensuite on rajoute l'attribut keywords aux films. (Ne pas rerun)"
   ]
  },
  {
   "cell_type": "code",
   "execution_count": 6,
   "metadata": {},
   "outputs": [],
   "source": [
    "movies = movies.rename(columns={'id' : 'movieId'})\n",
    "keywords = keywords.rename(columns={'id' : 'movieId'})\n",
    "ratings = ratings.movieId.drop_duplicates()\n",
    "#keywords = keywords[~movies.movieId.duplicated()]\n",
    "keywords = keywords.drop_duplicates()\n",
    "movies = movies.merge(ratings, how='inner')\n",
    "movies = movies.join(keywords.set_index('movieId'), on='movieId', how='inner')"
   ]
  },
  {
   "cell_type": "markdown",
   "metadata": {},
   "source": [
    "Les clusters de films seront basés sur certains attributs. On ne garde que ceux qui nous intéressent pour comparer les films, à savoir le genre, les mots-clés, la date de sortie, les pays producteurs, la langue originale et la durée du film."
   ]
  },
  {
   "cell_type": "code",
   "execution_count": 7,
   "metadata": {},
   "outputs": [
    {
     "data": {
      "text/plain": [
       "Index(['adult', 'belongs_to_collection', 'budget', 'genres', 'homepage',\n",
       "       'movieId', 'imdb_id', 'original_language', 'original_title', 'overview',\n",
       "       'popularity', 'poster_path', 'production_companies',\n",
       "       'production_countries', 'release_date', 'revenue', 'runtime',\n",
       "       'spoken_languages', 'status', 'tagline', 'title', 'video',\n",
       "       'vote_average', 'vote_count', 'keywords'],\n",
       "      dtype='object')"
      ]
     },
     "execution_count": 7,
     "metadata": {},
     "output_type": "execute_result"
    }
   ],
   "source": [
    "movies.columns"
   ]
  },
  {
   "cell_type": "code",
   "execution_count": 8,
   "metadata": {},
   "outputs": [
    {
     "data": {
      "text/html": [
       "<div>\n",
       "<style scoped>\n",
       "    .dataframe tbody tr th:only-of-type {\n",
       "        vertical-align: middle;\n",
       "    }\n",
       "\n",
       "    .dataframe tbody tr th {\n",
       "        vertical-align: top;\n",
       "    }\n",
       "\n",
       "    .dataframe thead th {\n",
       "        text-align: right;\n",
       "    }\n",
       "</style>\n",
       "<table border=\"1\" class=\"dataframe\">\n",
       "  <thead>\n",
       "    <tr style=\"text-align: right;\">\n",
       "      <th></th>\n",
       "      <th>movieId</th>\n",
       "      <th>genres</th>\n",
       "      <th>keywords</th>\n",
       "      <th>release_date</th>\n",
       "      <th>production_countries</th>\n",
       "      <th>original_language</th>\n",
       "      <th>runtime</th>\n",
       "    </tr>\n",
       "  </thead>\n",
       "  <tbody>\n",
       "    <tr>\n",
       "      <td>0</td>\n",
       "      <td>949</td>\n",
       "      <td>[{'id': 28, 'name': 'Action'}, {'id': 80, 'nam...</td>\n",
       "      <td>[{'id': 642, 'name': 'robbery'}, {'id': 703, '...</td>\n",
       "      <td>1995-12-15</td>\n",
       "      <td>[{'iso_3166_1': 'US', 'name': 'United States o...</td>\n",
       "      <td>en</td>\n",
       "      <td>170.0</td>\n",
       "    </tr>\n",
       "  </tbody>\n",
       "</table>\n",
       "</div>"
      ],
      "text/plain": [
       "   movieId                                             genres  \\\n",
       "0      949  [{'id': 28, 'name': 'Action'}, {'id': 80, 'nam...   \n",
       "\n",
       "                                            keywords release_date  \\\n",
       "0  [{'id': 642, 'name': 'robbery'}, {'id': 703, '...   1995-12-15   \n",
       "\n",
       "                                production_countries original_language  \\\n",
       "0  [{'iso_3166_1': 'US', 'name': 'United States o...                en   \n",
       "\n",
       "   runtime  \n",
       "0    170.0  "
      ]
     },
     "execution_count": 8,
     "metadata": {},
     "output_type": "execute_result"
    }
   ],
   "source": [
    "cluster_features = movies[['movieId', 'genres', 'keywords', 'release_date', 'production_countries', 'original_language', 'runtime']]\n",
    "cluster_features = cluster_features.dropna()\n",
    "cluster_features.head(1)"
   ]
  },
  {
   "cell_type": "markdown",
   "metadata": {},
   "source": [
    "Dans une optique de simplification, on ne va considérer que les films \"normaux\" pour nos custers. On donc va enlever les outsiders, à savoir les films d'une durée trop grande ou trop petite et ceux pour lesquels ces champs n'ont pas été renseignés."
   ]
  },
  {
   "cell_type": "code",
   "execution_count": 9,
   "metadata": {},
   "outputs": [
    {
     "data": {
      "text/plain": [
       "[<matplotlib.lines.Line2D at 0x19f40a8ffc8>]"
      ]
     },
     "execution_count": 9,
     "metadata": {},
     "output_type": "execute_result"
    },
    {
     "data": {
      "image/png": "[encoded data removed]",
      "text/plain": [
       "<Figure size 432x288 with 1 Axes>"
      ]
     },
     "metadata": {
      "needs_background": "light"
     },
     "output_type": "display_data"
    }
   ],
   "source": [
    "plt.plot(movies.runtime)"
   ]
  },
  {
   "cell_type": "markdown",
   "metadata": {},
   "source": [
    "On choisit de ne retenir que les films d'une durée comprise entre 40 minutes et 4 heures."
   ]
  },
  {
   "cell_type": "code",
   "execution_count": 10,
   "metadata": {},
   "outputs": [],
   "source": [
    "cluster_features = cluster_features[cluster_features.runtime >= 40]\n",
    "cluster_features = cluster_features[cluster_features.runtime <= 240]"
   ]
  },
  {
   "cell_type": "markdown",
   "metadata": {},
   "source": [
    "On regarde la proportion de films pour lesquels certains champs n'ont pas été renseignés."
   ]
  },
  {
   "cell_type": "code",
   "execution_count": 11,
   "metadata": {},
   "outputs": [
    {
     "name": "stdout",
     "output_type": "stream",
     "text": [
      "Nombre de films retenus dans cluster_features :  2760\n",
      "Parmi ces films :\n",
      "20 n'ont pas de genres\n",
      "262 n'ont pas de keywords\n",
      "87 n'ont pas de production_countries\n"
     ]
    }
   ],
   "source": [
    "print(\"Nombre de films retenus dans cluster_features : \", len(cluster_features))\n",
    "print(\"Parmi ces films :\")\n",
    "print(len(cluster_features[cluster_features.genres == \"[]\"]), \"n'ont pas de genres\")\n",
    "print(len(cluster_features[cluster_features.keywords == \"[]\"]), \"n'ont pas de keywords\")\n",
    "print(len(cluster_features[cluster_features.production_countries == \"[]\"]), \"n'ont pas de production_countries\")"
   ]
  },
  {
   "cell_type": "markdown",
   "metadata": {},
   "source": [
    "Il s'agit d'une petite proportion, on peut donc retirer ces films problématiques."
   ]
  },
  {
   "cell_type": "code",
   "execution_count": 12,
   "metadata": {},
   "outputs": [
    {
     "name": "stdout",
     "output_type": "stream",
     "text": [
      "Nombre de films dans cluster_features :  2456\n"
     ]
    }
   ],
   "source": [
    "cluster_features = cluster_features[cluster_features.genres != \"[]\"]\n",
    "cluster_features = cluster_features[cluster_features.keywords != \"[]\"]\n",
    "cluster_features = cluster_features[cluster_features.production_countries != \"[]\"]\n",
    "print(\"Nombre de films dans cluster_features : \", len(cluster_features))"
   ]
  },
  {
   "cell_type": "markdown",
   "metadata": {},
   "source": [
    "On peut maintenant se concentrer sur le traitement des données de chacune des colonnes. Il faut les simplifier au maximum pour rendre possible la comparaison de films basée sur ces attributs."
   ]
  },
  {
   "cell_type": "code",
   "execution_count": 13,
   "metadata": {},
   "outputs": [],
   "source": [
    "def vectorize_genres(genres):\n",
    "    \n",
    "    if isinstance(genres, str):\n",
    "        pattern = re.compile(r\"'id': [0-9]*\")\n",
    "        return np.array([int(w[6:]) for w in pattern.findall(genres)])\n",
    "    \n",
    "    return genres\n",
    "\n",
    "cluster_features.genres = cluster_features.genres.apply(vectorize_genres)"
   ]
  },
  {
   "cell_type": "code",
   "execution_count": 14,
   "metadata": {},
   "outputs": [],
   "source": [
    "def vectorize_keywords(keywords):\n",
    "    \n",
    "    if isinstance(keywords, str):\n",
    "        pattern = re.compile(r\"'id': [0-9]*\")\n",
    "        return np.array([int(w[6:]) for w in pattern.findall(keywords)])\n",
    "    \n",
    "    return keywords\n",
    "\n",
    "cluster_features.keywords = cluster_features.keywords.apply(vectorize_keywords)"
   ]
  },
  {
   "cell_type": "code",
   "execution_count": 15,
   "metadata": {},
   "outputs": [],
   "source": [
    "def simplify_date(date):\n",
    "    \n",
    "    if isinstance(date, str):\n",
    "        return int(date[:4])\n",
    "    \n",
    "    return date\n",
    "\n",
    "cluster_features.release_date = cluster_features.release_date.apply(simplify_date)"
   ]
  },
  {
   "cell_type": "code",
   "execution_count": 16,
   "metadata": {},
   "outputs": [],
   "source": [
    "def simplify_countries(countries):\n",
    "    \n",
    "    if isinstance(countries, str):\n",
    "        pattern = re.compile(r\"'iso_3166_1': ...\")\n",
    "        return [w[15:] for w in pattern.findall(countries)]\n",
    "    \n",
    "    return genres\n",
    "\n",
    "cluster_features.production_countries = cluster_features.production_countries.apply(simplify_countries)"
   ]
  },
  {
   "cell_type": "code",
   "execution_count": 17,
   "metadata": {},
   "outputs": [
    {
     "data": {
      "text/html": [
       "<div>\n",
       "<style scoped>\n",
       "    .dataframe tbody tr th:only-of-type {\n",
       "        vertical-align: middle;\n",
       "    }\n",
       "\n",
       "    .dataframe tbody tr th {\n",
       "        vertical-align: top;\n",
       "    }\n",
       "\n",
       "    .dataframe thead th {\n",
       "        text-align: right;\n",
       "    }\n",
       "</style>\n",
       "<table border=\"1\" class=\"dataframe\">\n",
       "  <thead>\n",
       "    <tr style=\"text-align: right;\">\n",
       "      <th></th>\n",
       "      <th>movieId</th>\n",
       "      <th>genres</th>\n",
       "      <th>keywords</th>\n",
       "      <th>release_date</th>\n",
       "      <th>production_countries</th>\n",
       "      <th>original_language</th>\n",
       "      <th>runtime</th>\n",
       "    </tr>\n",
       "  </thead>\n",
       "  <tbody>\n",
       "    <tr>\n",
       "      <td>0</td>\n",
       "      <td>949</td>\n",
       "      <td>[28, 80, 18, 53]</td>\n",
       "      <td>[642, 703, 974, 1523, 3713, 7281, 9727, 9812, ...</td>\n",
       "      <td>1995</td>\n",
       "      <td>[US]</td>\n",
       "      <td>en</td>\n",
       "      <td>170.0</td>\n",
       "    </tr>\n",
       "    <tr>\n",
       "      <td>1</td>\n",
       "      <td>710</td>\n",
       "      <td>[12, 28, 53]</td>\n",
       "      <td>[701, 769, 1308, 2812, 3268, 3272, 3278, 3376,...</td>\n",
       "      <td>1995</td>\n",
       "      <td>[GB, US]</td>\n",
       "      <td>en</td>\n",
       "      <td>130.0</td>\n",
       "    </tr>\n",
       "    <tr>\n",
       "      <td>2</td>\n",
       "      <td>1408</td>\n",
       "      <td>[28, 12]</td>\n",
       "      <td>[911, 1454, 1969, 3799, 5470, 12988]</td>\n",
       "      <td>1995</td>\n",
       "      <td>[FR, DE, IT, US]</td>\n",
       "      <td>en</td>\n",
       "      <td>119.0</td>\n",
       "    </tr>\n",
       "    <tr>\n",
       "      <td>3</td>\n",
       "      <td>524</td>\n",
       "      <td>[18, 80]</td>\n",
       "      <td>[383, 726, 1228, 2635, 33625]</td>\n",
       "      <td>1995</td>\n",
       "      <td>[FR, US]</td>\n",
       "      <td>en</td>\n",
       "      <td>178.0</td>\n",
       "    </tr>\n",
       "    <tr>\n",
       "      <td>4</td>\n",
       "      <td>4584</td>\n",
       "      <td>[18, 10749]</td>\n",
       "      <td>[420, 818, 964, 2755, 7564, 10911, 11109, 1506...</td>\n",
       "      <td>1995</td>\n",
       "      <td>[GB, US]</td>\n",
       "      <td>en</td>\n",
       "      <td>136.0</td>\n",
       "    </tr>\n",
       "  </tbody>\n",
       "</table>\n",
       "</div>"
      ],
      "text/plain": [
       "   movieId            genres  \\\n",
       "0      949  [28, 80, 18, 53]   \n",
       "1      710      [12, 28, 53]   \n",
       "2     1408          [28, 12]   \n",
       "3      524          [18, 80]   \n",
       "4     4584       [18, 10749]   \n",
       "\n",
       "                                            keywords  release_date  \\\n",
       "0  [642, 703, 974, 1523, 3713, 7281, 9727, 9812, ...          1995   \n",
       "1  [701, 769, 1308, 2812, 3268, 3272, 3278, 3376,...          1995   \n",
       "2               [911, 1454, 1969, 3799, 5470, 12988]          1995   \n",
       "3                      [383, 726, 1228, 2635, 33625]          1995   \n",
       "4  [420, 818, 964, 2755, 7564, 10911, 11109, 1506...          1995   \n",
       "\n",
       "  production_countries original_language  runtime  \n",
       "0                 [US]                en    170.0  \n",
       "1             [GB, US]                en    130.0  \n",
       "2     [FR, DE, IT, US]                en    119.0  \n",
       "3             [FR, US]                en    178.0  \n",
       "4             [GB, US]                en    136.0  "
      ]
     },
     "execution_count": 17,
     "metadata": {},
     "output_type": "execute_result"
    }
   ],
   "source": [
    "cluster_features.head()"
   ]
  },
  {
   "cell_type": "code",
   "execution_count": 18,
   "metadata": {},
   "outputs": [
    {
     "data": {
      "text/html": [
       "<div>\n",
       "<style scoped>\n",
       "    .dataframe tbody tr th:only-of-type {\n",
       "        vertical-align: middle;\n",
       "    }\n",
       "\n",
       "    .dataframe tbody tr th {\n",
       "        vertical-align: top;\n",
       "    }\n",
       "\n",
       "    .dataframe thead th {\n",
       "        text-align: right;\n",
       "    }\n",
       "</style>\n",
       "<table border=\"1\" class=\"dataframe\">\n",
       "  <thead>\n",
       "    <tr style=\"text-align: right;\">\n",
       "      <th></th>\n",
       "      <th>movieId</th>\n",
       "      <th>genres</th>\n",
       "      <th>keywords</th>\n",
       "      <th>release_date</th>\n",
       "      <th>production_countries</th>\n",
       "      <th>original_language</th>\n",
       "      <th>runtime</th>\n",
       "    </tr>\n",
       "  </thead>\n",
       "  <tbody>\n",
       "    <tr>\n",
       "      <td>2819</td>\n",
       "      <td>2286</td>\n",
       "      <td>[12, 14, 36]</td>\n",
       "      <td>[2868, 2901, 4379, 4820, 41406]</td>\n",
       "      <td>2006</td>\n",
       "      <td>[NL, BE, DE, LU]</td>\n",
       "      <td>en</td>\n",
       "      <td>125.0</td>\n",
       "    </tr>\n",
       "    <tr>\n",
       "      <td>2821</td>\n",
       "      <td>26147</td>\n",
       "      <td>[35, 10749]</td>\n",
       "      <td>[6075, 10556, 13042]</td>\n",
       "      <td>2005</td>\n",
       "      <td>[FI]</td>\n",
       "      <td>fi</td>\n",
       "      <td>107.0</td>\n",
       "    </tr>\n",
       "    <tr>\n",
       "      <td>2823</td>\n",
       "      <td>2331</td>\n",
       "      <td>[36, 18]</td>\n",
       "      <td>[186, 2292, 2974, 3034, 3036, 3902, 6506, 1100...</td>\n",
       "      <td>1999</td>\n",
       "      <td>[CZ, DE, IT, US]</td>\n",
       "      <td>en</td>\n",
       "      <td>240.0</td>\n",
       "    </tr>\n",
       "    <tr>\n",
       "      <td>2826</td>\n",
       "      <td>3104</td>\n",
       "      <td>[27, 878]</td>\n",
       "      <td>[6737, 155730]</td>\n",
       "      <td>1967</td>\n",
       "      <td>[GB]</td>\n",
       "      <td>en</td>\n",
       "      <td>92.0</td>\n",
       "    </tr>\n",
       "    <tr>\n",
       "      <td>2827</td>\n",
       "      <td>64197</td>\n",
       "      <td>[10749, 18]</td>\n",
       "      <td>[187056]</td>\n",
       "      <td>2007</td>\n",
       "      <td>[RU]</td>\n",
       "      <td>ru</td>\n",
       "      <td>97.0</td>\n",
       "    </tr>\n",
       "  </tbody>\n",
       "</table>\n",
       "</div>"
      ],
      "text/plain": [
       "      movieId        genres  \\\n",
       "2819     2286  [12, 14, 36]   \n",
       "2821    26147   [35, 10749]   \n",
       "2823     2331      [36, 18]   \n",
       "2826     3104     [27, 878]   \n",
       "2827    64197   [10749, 18]   \n",
       "\n",
       "                                               keywords  release_date  \\\n",
       "2819                    [2868, 2901, 4379, 4820, 41406]          2006   \n",
       "2821                               [6075, 10556, 13042]          2005   \n",
       "2823  [186, 2292, 2974, 3034, 3036, 3902, 6506, 1100...          1999   \n",
       "2826                                     [6737, 155730]          1967   \n",
       "2827                                           [187056]          2007   \n",
       "\n",
       "     production_countries original_language  runtime  \n",
       "2819     [NL, BE, DE, LU]                en    125.0  \n",
       "2821                 [FI]                fi    107.0  \n",
       "2823     [CZ, DE, IT, US]                en    240.0  \n",
       "2826                 [GB]                en     92.0  \n",
       "2827                 [RU]                ru     97.0  "
      ]
     },
     "execution_count": 18,
     "metadata": {},
     "output_type": "execute_result"
    }
   ],
   "source": [
    "cluster_features.tail()"
   ]
  },
  {
   "cell_type": "markdown",
   "metadata": {},
   "source": [
    "### Définition d'une distance sur les films"
   ]
  },
  {
   "cell_type": "code",
   "execution_count": 19,
   "metadata": {},
   "outputs": [],
   "source": [
    "MAX_YEAR_DIFFERENCE = max(cluster_features.release_date) - min(cluster_features.release_date)\n",
    "MAX_RUNTIME_DIFFERENCE = max(cluster_features.runtime) - min(cluster_features.runtime)"
   ]
  },
  {
   "cell_type": "markdown",
   "metadata": {},
   "source": [
    "Cette fonction calcule les similarités entre 2 films. Plus les valeurs sont proches de 0, plus les films ont de points communs et plus elles sont proches de 1, plus ils sont différents (peut-être changer le nom ? instinctivement, j'aurais pensé que pour être très similaire il fallait un score élevé REPONSE : il s'agit d'une distance)\n",
    "\n",
    "discuter de la manière de les calculer ?"
   ]
  },
  {
   "cell_type": "code",
   "execution_count": 20,
   "metadata": {},
   "outputs": [],
   "source": [
    "def similarity_vect(mov1, mov2):\n",
    "    \n",
    "    m1 = mov1.iloc[0] #\n",
    "    m2 = mov2.iloc[0] # Passage de DataFrame en Series\n",
    "    simi_vect = pd.Series([])\n",
    "    \n",
    "    # SIMILARITIES IN GENRES\n",
    "    gen = np.append(m1.genres, m2.genres)\n",
    "    simi_vect['genres'] = 2 * len(np.unique(gen)) / len(gen) - 1 # CHANGER PEUT ETRE\n",
    "        \n",
    "    # SIMILARITIES IN KEYWORDS\n",
    "    kw = np.append(m1.keywords, m2.keywords)\n",
    "    simi_vect['keywords'] = 2 * len(np.unique(kw)) / len(kw) - 1 # CHANGER PEUT ETRE\n",
    "        \n",
    "    #SIMILARITIES FOR THE RELEASE DATE\n",
    "    simi_vect['release_date'] = abs(m1.release_date - m2.release_date) / MAX_YEAR_DIFFERENCE\n",
    "    \n",
    "    #SIMILARITIES IN PRODUCTION COUNTRIES\n",
    "    pc = []\n",
    "    pc.extend(m1.production_countries)\n",
    "    pc.extend(m2.production_countries)\n",
    "    simi_vect['production_countries'] = 2 * len(np.unique(pc)) / len(pc) - 1 # Changer aussi peut etre\n",
    "    \n",
    "    #SIMILARITIES FOR THE LANGUAGE\n",
    "    simi_vect['original_language'] = int(not m1.original_language == m2.original_language)\n",
    "    \n",
    "    #SIMILARITIES FOR THE RUNTIME\n",
    "    simi_vect['runtime'] = abs(m1.runtime - m2.runtime) / MAX_RUNTIME_DIFFERENCE\n",
    "    \n",
    "    return simi_vect"
   ]
  },
  {
   "cell_type": "markdown",
   "metadata": {},
   "source": [
    "Cette fonction sert à donner des poids à chaque caractéristique."
   ]
  },
  {
   "cell_type": "code",
   "execution_count": 21,
   "metadata": {},
   "outputs": [],
   "source": [
    "def weight_vect(vect, w_gen=3, w_key=3, w_rel=2, w_pro=1, w_ori=1, w_run=2):\n",
    "    \n",
    "    vect.genres *= w_gen\n",
    "    vect.keywords *= w_key\n",
    "    vect.release_date *= w_rel\n",
    "    vect.production_countries *= w_pro\n",
    "    vect.original_language *= w_ori\n",
    "    vect.runtime *= w_run\n",
    "    \n",
    "    return vect"
   ]
  },
  {
   "cell_type": "code",
   "execution_count": 22,
   "metadata": {},
   "outputs": [],
   "source": [
    "def movie_distance(m1, m2, distance=lambda x: np.linalg.norm(x, ord=1)):\n",
    "    simi_vect = similarity_vect(m1, m2)\n",
    "    vect = weight_vect(simi_vect)\n",
    "    return distance(vect)"
   ]
  },
  {
   "cell_type": "markdown",
   "metadata": {},
   "source": [
    "La fonction compute_dist_matrix calcule la distance séparant chaque paire de films du DataFrame passé en argument. Cependant elle ne renvoit pas une matrice, mais un pd Series avec un double index (l'id de 2 films)."
   ]
  },
  {
   "cell_type": "code",
   "execution_count": 23,
   "metadata": {},
   "outputs": [],
   "source": [
    "def compute_dist_matrix(clu_fea):\n",
    "    dist = []\n",
    "    movies_id = clu_fea.movieId.to_numpy() # Conversion de pd Series a np array\n",
    "    couples = []\n",
    "    for i in range(len(movies_id)):\n",
    "        u = movies_id[i]\n",
    "        for j in range(i + 1, len(movies_id)):\n",
    "            v = movies_id[j]\n",
    "            couples.append((str(u), str(v)))\n",
    "            dist.append(movie_distance(clu_fea[clu_fea.movieId == u], clu_fea[clu_fea.movieId == v]))\n",
    "    index = pd.MultiIndex.from_tuples(couples, names=['u', 'v'])\n",
    "    dist_mat = pd.Series(dist, index=index)\n",
    "    \n",
    "    return dist_mat"
   ]
  },
  {
   "cell_type": "markdown",
   "metadata": {},
   "source": [
    "On s'intéresse ici au Agglomerative Hierarchical Clustering. On n'a pas besoin de préciser le nombre de clusters attendus, à la place on obtient un dendrogramme."
   ]
  },
  {
   "cell_type": "code",
   "execution_count": 24,
   "metadata": {},
   "outputs": [],
   "source": [
    "class dendrogram:\n",
    "    def __init__(self, leaf=None):\n",
    "        self.leaf = leaf\n",
    "        self.leaf_nb = 1\n",
    "        self.father = None\n",
    "        self.left = None\n",
    "        self.right = None\n",
    "    \n",
    "    def set_leaf_nb(self):\n",
    "        total_leaf_nb = 0\n",
    "        if self.left is not None:\n",
    "            total_leaf_nb += self.left.leaf_nb\n",
    "        if self.right is not None:\n",
    "            total_leaf_nb += self.right.leaf_nb\n",
    "        self.leaf_nb = max(1, total_leaf_nb)\n",
    "    \n",
    "    def get_id_list(self):\n",
    "        id_list = []\n",
    "        def prefix(node):\n",
    "            if node.leaf is not None:\n",
    "                id_list.append(node.leaf)\n",
    "            else:\n",
    "                prefix(node.right)\n",
    "                prefix(node.left)\n",
    "        prefix(self)\n",
    "        \n",
    "        return id_list\n",
    "    \n",
    "    def get_root(self):\n",
    "        tmp = self\n",
    "        while tmp.father is not None: tmp = tmp.father\n",
    "            \n",
    "        return tmp"
   ]
  },
  {
   "cell_type": "markdown",
   "metadata": {},
   "source": [
    "Fonction actualisant la moyenne des distances d'un cluster nouvellement formé, union des clusters x1 et x2. w1 et w2 sont respectivement la taille des clusters x1 et x2."
   ]
  },
  {
   "cell_type": "code",
   "execution_count": 25,
   "metadata": {},
   "outputs": [],
   "source": [
    "def weighted_mean(x1, w1, x2, w2):\n",
    "    \n",
    "    return (w1 * x1 + w2 * x2) / (w1 + w2)"
   ]
  },
  {
   "cell_type": "markdown",
   "metadata": {},
   "source": [
    "On ajoute un attributs dendrogram aux films sélectionnés. Au départ, chaque film est isolé. Ensuite on construit le dendrogramme étape par étape en connectant les films les plus proches (on les regroupe dans un même cluster)."
   ]
  },
  {
   "cell_type": "code",
   "execution_count": 26,
   "metadata": {},
   "outputs": [],
   "source": [
    "def clusterize(dist_mat, clu_fea):\n",
    "    \n",
    "    clu_fea[\"dendrogram\"] = clu_fea.movieId.apply(lambda x: dendrogram(leaf=x))\n",
    "    size_mat = clu_fea.shape[0]\n",
    "    for cpt in range(1, size_mat):\n",
    "        id_list = [tup[1] for tup in dist_mat.index[: size_mat - cpt]]\n",
    "        id_list.append(dist_mat.index[0][0])\n",
    "        index_str1, index_str2 = pd.Series.idxmin(dist_mat)\n",
    "        index1, index2 = int(index_str1), int(index_str2)\n",
    "        mov1 = clu_fea[clu_fea.movieId == index1].iloc[0]\n",
    "        mov2 = clu_fea[clu_fea.movieId == index2].iloc[0]\n",
    "        tmp1 = mov1.dendrogram\n",
    "        tmp2 = mov2.dendrogram\n",
    "        while tmp1.father is not None: tmp1 = tmp1.father\n",
    "        while tmp2.father is not None: tmp2 = tmp2.father\n",
    "        tmp3 = dendrogram()\n",
    "        tmp3.left = tmp1\n",
    "        tmp3.right = tmp2\n",
    "        tmp3.set_leaf_nb()\n",
    "        tmp1.father = tmp3\n",
    "        tmp2.father = tmp3\n",
    "        for x in id_list:\n",
    "            if x == index_str1 or x == index_str2 : continue\n",
    "            if (index_str1, x) in dist_mat.index:\n",
    "                if (index_str2, x) in dist_mat:\n",
    "                    tmp = weighted_mean(dist_mat.loc[index_str1, x], tmp1.leaf_nb,\n",
    "                                        dist_mat.loc[index_str2, x], tmp2.leaf_nb)\n",
    "                else:\n",
    "                    tmp = weighted_mean(dist_mat.loc[index_str1, x], tmp1.leaf_nb,\n",
    "                                        dist_mat.loc[x, index_str2], tmp2.leaf_nb)\n",
    "                dist_mat.loc[index_str1, x] = tmp\n",
    "            else:\n",
    "                if (index_str2, x) in dist_mat:\n",
    "                    tmp = weighted_mean(dist_mat.loc[x, index_str1], tmp1.leaf_nb,\n",
    "                                        dist_mat.loc[index_str2, x], tmp2.leaf_nb)\n",
    "                else:\n",
    "                    tmp = weighted_mean(dist_mat.loc[x, index_str1], tmp1.leaf_nb,\n",
    "                                        dist_mat.loc[x, index_str2], tmp2.leaf_nb)\n",
    "                dist_mat.loc[x, index_str1] = tmp\n",
    "        dist_mat = dist_mat.drop(index_str2, level='u')\n",
    "        dist_mat = dist_mat.drop(index_str2, level='v')\n",
    "    \n",
    "    return clu_fea.iloc[0].dendrogram.get_root()"
   ]
  },
  {
   "cell_type": "markdown",
   "metadata": {},
   "source": [
    "Test sur un échantillon de taille 10"
   ]
  },
  {
   "cell_type": "code",
   "execution_count": 27,
   "metadata": {},
   "outputs": [
    {
     "name": "stdout",
     "output_type": "stream",
     "text": [
      "Temps d'execution : 0.23340630531311035 secondes ---\n"
     ]
    }
   ],
   "source": [
    "test_10 = cluster_features.sample(10)\n",
    "start_time = time.time()\n",
    "dist_mat_test_10 = compute_dist_matrix(test_10)\n",
    "print(\"Temps d'execution : %s secondes ---\" % (time.time() - start_time))"
   ]
  },
  {
   "cell_type": "code",
   "execution_count": 28,
   "metadata": {},
   "outputs": [
    {
     "name": "stdout",
     "output_type": "stream",
     "text": [
      "Temps d'execution : 0.04687356948852539 secondes ---\n"
     ]
    }
   ],
   "source": [
    "start_time = time.time()\n",
    "root_test_10 = clusterize(dist_mat_test_10, test_10)\n",
    "print(\"Temps d'execution : %s secondes ---\" % (time.time() - start_time))"
   ]
  },
  {
   "cell_type": "markdown",
   "metadata": {},
   "source": [
    "Test sur un échantillon de taille 50"
   ]
  },
  {
   "cell_type": "code",
   "execution_count": 29,
   "metadata": {},
   "outputs": [],
   "source": [
    "test_100 = cluster_features.sample(100)"
   ]
  },
  {
   "cell_type": "code",
   "execution_count": 30,
   "metadata": {},
   "outputs": [
    {
     "name": "stdout",
     "output_type": "stream",
     "text": [
      "Temps d'execution : 22.623297691345215 secondes ---\n"
     ]
    }
   ],
   "source": [
    "start_time = time.time()\n",
    "dist_mat_test_100 = compute_dist_matrix(test_100)\n",
    "print(\"Temps d'execution : %s secondes ---\" % (time.time() - start_time))"
   ]
  },
  {
   "cell_type": "code",
   "execution_count": 31,
   "metadata": {},
   "outputs": [
    {
     "name": "stdout",
     "output_type": "stream",
     "text": [
      "Temps d'execution : 1.528916597366333 secondes ---\n"
     ]
    }
   ],
   "source": [
    "start_time = time.time()\n",
    "root_test_100 = clusterize(dist_mat_test_100, test_100)\n",
    "print(\"Temps d'execution : %s secondes ---\" % (time.time() - start_time))"
   ]
  },
  {
   "cell_type": "code",
   "execution_count": 32,
   "metadata": {},
   "outputs": [
    {
     "name": "stdout",
     "output_type": "stream",
     "text": [
      "Temps d'execution : 35889.50049376488 secondes ---\n"
     ]
    }
   ],
   "source": [
    "start_time = time.time()\n",
    "dist_mat = compute_dist_matrix(cluster_features) # environ ??? heures ?? minutes\n",
    "print(\"Temps d'execution : %s secondes ---\" % (time.time() - start_time))"
   ]
  },
  {
   "cell_type": "code",
   "execution_count": 33,
   "metadata": {},
   "outputs": [
    {
     "name": "stdout",
     "output_type": "stream",
     "text": [
      "Temps d'execution : 8590.381591558456 secondes ---\n"
     ]
    }
   ],
   "source": [
    "start_time = time.time()\n",
    "root = clusterize(dist_mat, cluster_features) # environ ??? heures ?? minutes\n",
    "print(\"Temps d'execution : %s secondes ---\" % (time.time() - start_time))"
   ]
  }
 ],
 "metadata": {
  "kernelspec": {
   "display_name": "Python 3",
   "language": "python",
   "name": "python3"
  },
  "language_info": {
   "codemirror_mode": {
    "name": "ipython",
    "version": 3
   },
   "file_extension": ".py",
   "mimetype": "text/x-python",
   "name": "python",
   "nbconvert_exporter": "python",
   "pygments_lexer": "ipython3",
   "version": "3.7.4"
  }
 },
 "nbformat": 4,
 "nbformat_minor": 2
}
