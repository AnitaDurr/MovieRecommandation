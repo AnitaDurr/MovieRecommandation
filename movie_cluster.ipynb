{
 "cells": [
  {
   "cell_type": "markdown",
   "metadata": {},
   "source": [
    "### Import des librairies et lecture des fichiers\n",
    "\n",
    "\n",
    "Est ce qu'on ajouterais pas les keywords ?"
   ]
  },
  {
   "cell_type": "code",
   "execution_count": 334,
   "metadata": {},
   "outputs": [],
   "source": [
    "import numpy as np\n",
    "import pandas as pd\n",
    "import matplotlib.pyplot as plt\n",
    "import math\n",
    "import re\n",
    "import time"
   ]
  },
  {
   "cell_type": "code",
   "execution_count": 335,
   "metadata": {},
   "outputs": [],
   "source": [
    "movies = pd.read_csv(\"movies_metadata.csv\")\n",
    "ratings = pd.read_csv(\"ratings_small.csv\")"
   ]
  },
  {
   "cell_type": "code",
   "execution_count": 336,
   "metadata": {},
   "outputs": [
    {
     "data": {
      "text/plain": [
       "45466"
      ]
     },
     "execution_count": 336,
     "metadata": {},
     "output_type": "execute_result"
    }
   ],
   "source": [
    "len(movies)"
   ]
  },
  {
   "cell_type": "code",
   "execution_count": 337,
   "metadata": {},
   "outputs": [
    {
     "data": {
      "text/html": [
       "<div>\n",
       "<style scoped>\n",
       "    .dataframe tbody tr th:only-of-type {\n",
       "        vertical-align: middle;\n",
       "    }\n",
       "\n",
       "    .dataframe tbody tr th {\n",
       "        vertical-align: top;\n",
       "    }\n",
       "\n",
       "    .dataframe thead th {\n",
       "        text-align: right;\n",
       "    }\n",
       "</style>\n",
       "<table border=\"1\" class=\"dataframe\">\n",
       "  <thead>\n",
       "    <tr style=\"text-align: right;\">\n",
       "      <th></th>\n",
       "      <th>adult</th>\n",
       "      <th>belongs_to_collection</th>\n",
       "      <th>budget</th>\n",
       "      <th>genres</th>\n",
       "      <th>homepage</th>\n",
       "      <th>id</th>\n",
       "      <th>imdb_id</th>\n",
       "      <th>original_language</th>\n",
       "      <th>original_title</th>\n",
       "      <th>overview</th>\n",
       "      <th>...</th>\n",
       "      <th>release_date</th>\n",
       "      <th>revenue</th>\n",
       "      <th>runtime</th>\n",
       "      <th>spoken_languages</th>\n",
       "      <th>status</th>\n",
       "      <th>tagline</th>\n",
       "      <th>title</th>\n",
       "      <th>video</th>\n",
       "      <th>vote_average</th>\n",
       "      <th>vote_count</th>\n",
       "    </tr>\n",
       "  </thead>\n",
       "  <tbody>\n",
       "    <tr>\n",
       "      <td>18</td>\n",
       "      <td>False</td>\n",
       "      <td>{'id': 3167, 'name': 'Ace Ventura Collection',...</td>\n",
       "      <td>30000000</td>\n",
       "      <td>[{'id': 80, 'name': 'Crime'}, {'id': 35, 'name...</td>\n",
       "      <td>NaN</td>\n",
       "      <td>9273</td>\n",
       "      <td>tt0112281</td>\n",
       "      <td>en</td>\n",
       "      <td>Ace Ventura: When Nature Calls</td>\n",
       "      <td>Summoned from an ashram in Tibet, Ace finds hi...</td>\n",
       "      <td>...</td>\n",
       "      <td>1995-11-10</td>\n",
       "      <td>212385533.0</td>\n",
       "      <td>90.0</td>\n",
       "      <td>[{'iso_639_1': 'en', 'name': 'English'}]</td>\n",
       "      <td>Released</td>\n",
       "      <td>New animals. New adventures. Same hair.</td>\n",
       "      <td>Ace Ventura: When Nature Calls</td>\n",
       "      <td>False</td>\n",
       "      <td>6.1</td>\n",
       "      <td>1128.0</td>\n",
       "    </tr>\n",
       "  </tbody>\n",
       "</table>\n",
       "<p>1 rows × 24 columns</p>\n",
       "</div>"
      ],
      "text/plain": [
       "    adult                              belongs_to_collection    budget  \\\n",
       "18  False  {'id': 3167, 'name': 'Ace Ventura Collection',...  30000000   \n",
       "\n",
       "                                               genres homepage    id  \\\n",
       "18  [{'id': 80, 'name': 'Crime'}, {'id': 35, 'name...      NaN  9273   \n",
       "\n",
       "      imdb_id original_language                  original_title  \\\n",
       "18  tt0112281                en  Ace Ventura: When Nature Calls   \n",
       "\n",
       "                                             overview  ... release_date  \\\n",
       "18  Summoned from an ashram in Tibet, Ace finds hi...  ...   1995-11-10   \n",
       "\n",
       "        revenue runtime                          spoken_languages    status  \\\n",
       "18  212385533.0    90.0  [{'iso_639_1': 'en', 'name': 'English'}]  Released   \n",
       "\n",
       "                                    tagline                           title  \\\n",
       "18  New animals. New adventures. Same hair.  Ace Ventura: When Nature Calls   \n",
       "\n",
       "    video vote_average vote_count  \n",
       "18  False          6.1     1128.0  \n",
       "\n",
       "[1 rows x 24 columns]"
      ]
     },
     "execution_count": 337,
     "metadata": {},
     "output_type": "execute_result"
    }
   ],
   "source": [
    "movies[movies[\"id\"]==\"9273\"]"
   ]
  },
  {
   "cell_type": "markdown",
   "metadata": {},
   "source": [
    "### Nettoyage de la base de données et réduction de la matrice aux caractéristiques interéssantes\n",
    "\n",
    "Suppression des id incorrects, des valeurs abérrantes, des lignes avec NaN, et modification des valeurs pour les rendre plus faciles à traiter.\n",
    "\n",
    "On sélectionne les attributs de films qui semblent pertinents pour différencier les films sur leur contenu.\n",
    "Ces choix sont arbitraires et on pourra être amenés à réfléchir dessus et à les modifier. Nous aurions voulu compléter notre base de données pour obtenir plus d'attributs (en particulier réalisateur, casting, mots clés), mais nous avons finalement du nous résigner à ne pas garder trop d'attributs pour limiter le temps de calcul."
   ]
  },
  {
   "cell_type": "code",
   "execution_count": 338,
   "metadata": {},
   "outputs": [],
   "source": [
    "def filter_correct_id(word): # MEILLEURE VERSION ICI\n",
    "    if not isinstance(word, str) or re.fullmatch(r'[0-9]+', word):\n",
    "        return word\n",
    "    return \"wrong_id\""
   ]
  },
  {
   "cell_type": "code",
   "execution_count": 339,
   "metadata": {},
   "outputs": [],
   "source": [
    "movies[~movies.id.duplicated()]\n",
    "movies.id = movies.id.apply(filter_correct_id)\n",
    "movies = movies[movies.id != \"wrong_id\"] #3 id incorrect\n",
    "movies.id = movies.id.astype('int64')\n",
    "movies.budget = movies.budget.astype('int64')"
   ]
  },
  {
   "cell_type": "markdown",
   "metadata": {},
   "source": [
    "Nous ne voulons garder que les films ayant reçu une note. Cela est une manière de ne garder qu'un nombre limité de films (il est très compliqué pour nous d'effectuer des calculs pour 45000 films) et cela pourrait être utile dans le cadre de la recommendation \"user-based\"."
   ]
  },
  {
   "cell_type": "code",
   "execution_count": 340,
   "metadata": {},
   "outputs": [],
   "source": [
    "movies = movies.rename(columns={'id' : 'movieId'})\n",
    "ratings = ratings.movieId.drop_duplicates()\n",
    "movies = movies.merge(ratings, how='inner')"
   ]
  },
  {
   "cell_type": "code",
   "execution_count": 341,
   "metadata": {},
   "outputs": [
    {
     "data": {
      "text/plain": [
       "2831"
      ]
     },
     "execution_count": 341,
     "metadata": {},
     "output_type": "execute_result"
    }
   ],
   "source": [
    "len(movies)"
   ]
  },
  {
   "cell_type": "code",
   "execution_count": 342,
   "metadata": {},
   "outputs": [
    {
     "data": {
      "text/plain": [
       "Index(['adult', 'belongs_to_collection', 'budget', 'genres', 'homepage',\n",
       "       'movieId', 'imdb_id', 'original_language', 'original_title', 'overview',\n",
       "       'popularity', 'poster_path', 'production_companies',\n",
       "       'production_countries', 'release_date', 'revenue', 'runtime',\n",
       "       'spoken_languages', 'status', 'tagline', 'title', 'video',\n",
       "       'vote_average', 'vote_count'],\n",
       "      dtype='object')"
      ]
     },
     "execution_count": 342,
     "metadata": {},
     "output_type": "execute_result"
    }
   ],
   "source": [
    "movies.columns"
   ]
  },
  {
   "cell_type": "code",
   "execution_count": 343,
   "metadata": {},
   "outputs": [],
   "source": [
    "cluster_features = movies[['movieId', 'genres', 'release_date', 'production_countries', 'original_language', 'runtime', 'budget']]\n",
    "cluster_features = cluster_features.dropna()"
   ]
  },
  {
   "cell_type": "code",
   "execution_count": 344,
   "metadata": {},
   "outputs": [
    {
     "name": "stdout",
     "output_type": "stream",
     "text": [
      "22\n"
     ]
    }
   ],
   "source": [
    "print(len(cluster_features[cluster_features[\"runtime\"]==0]))  #22 films à 0 minutes\n",
    "#La durée d'un long métrage est d'au moins 40 minutes, ne gardons que les longs (et cela supprime les valeurs abérrantes) \n",
    "cluster_features = cluster_features[cluster_features[\"runtime\"]>40]"
   ]
  },
  {
   "cell_type": "code",
   "execution_count": 345,
   "metadata": {},
   "outputs": [
    {
     "name": "stdout",
     "output_type": "stream",
     "text": [
      "2766\n",
      "1507\n"
     ]
    }
   ],
   "source": [
    "print(len(cluster_features))\n",
    "print(len(cluster_features[cluster_features[\"budget\"]==0])) #beaucoup de films dont le budget n'est pas renseigné"
   ]
  },
  {
   "cell_type": "code",
   "execution_count": 346,
   "metadata": {},
   "outputs": [],
   "source": [
    "def vectorize_genres(genres):\n",
    "    if isinstance(genres, str):\n",
    "        pattern = re.compile(r\"'id': [0-9]*\")\n",
    "        return np.array([int(w[6:]) for w in pattern.findall(genres)])\n",
    "    return genres\n",
    "\n",
    "cluster_features.genres = cluster_features.genres.apply(vectorize_genres)"
   ]
  },
  {
   "cell_type": "code",
   "execution_count": 347,
   "metadata": {},
   "outputs": [],
   "source": [
    "def simplify_date(date):\n",
    "    if isinstance(date, str):\n",
    "        return int(date[:4])\n",
    "    return date\n",
    "\n",
    "cluster_features.release_date = cluster_features.release_date.apply(simplify_date)"
   ]
  },
  {
   "cell_type": "code",
   "execution_count": 348,
   "metadata": {},
   "outputs": [],
   "source": [
    "def simplify_countries(countries):\n",
    "    if isinstance(countries, str):\n",
    "        pattern = re.compile(r\"'iso_3166_1': ...\")\n",
    "        return [w[15:] for w in pattern.findall(countries)]\n",
    "    return genres\n",
    "\n",
    "cluster_features.production_countries = cluster_features.production_countries.apply(simplify_countries)"
   ]
  },
  {
   "cell_type": "code",
   "execution_count": 349,
   "metadata": {},
   "outputs": [
    {
     "data": {
      "text/html": [
       "<div>\n",
       "<style scoped>\n",
       "    .dataframe tbody tr th:only-of-type {\n",
       "        vertical-align: middle;\n",
       "    }\n",
       "\n",
       "    .dataframe tbody tr th {\n",
       "        vertical-align: top;\n",
       "    }\n",
       "\n",
       "    .dataframe thead th {\n",
       "        text-align: right;\n",
       "    }\n",
       "</style>\n",
       "<table border=\"1\" class=\"dataframe\">\n",
       "  <thead>\n",
       "    <tr style=\"text-align: right;\">\n",
       "      <th></th>\n",
       "      <th>movieId</th>\n",
       "      <th>genres</th>\n",
       "      <th>release_date</th>\n",
       "      <th>production_countries</th>\n",
       "      <th>original_language</th>\n",
       "      <th>runtime</th>\n",
       "      <th>budget</th>\n",
       "    </tr>\n",
       "  </thead>\n",
       "  <tbody>\n",
       "    <tr>\n",
       "      <td>0</td>\n",
       "      <td>949</td>\n",
       "      <td>[28, 80, 18, 53]</td>\n",
       "      <td>1995</td>\n",
       "      <td>[US]</td>\n",
       "      <td>en</td>\n",
       "      <td>170.0</td>\n",
       "      <td>60000000</td>\n",
       "    </tr>\n",
       "    <tr>\n",
       "      <td>1</td>\n",
       "      <td>710</td>\n",
       "      <td>[12, 28, 53]</td>\n",
       "      <td>1995</td>\n",
       "      <td>[GB, US]</td>\n",
       "      <td>en</td>\n",
       "      <td>130.0</td>\n",
       "      <td>58000000</td>\n",
       "    </tr>\n",
       "    <tr>\n",
       "      <td>2</td>\n",
       "      <td>1408</td>\n",
       "      <td>[28, 12]</td>\n",
       "      <td>1995</td>\n",
       "      <td>[FR, DE, IT, US]</td>\n",
       "      <td>en</td>\n",
       "      <td>119.0</td>\n",
       "      <td>98000000</td>\n",
       "    </tr>\n",
       "    <tr>\n",
       "      <td>3</td>\n",
       "      <td>524</td>\n",
       "      <td>[18, 80]</td>\n",
       "      <td>1995</td>\n",
       "      <td>[FR, US]</td>\n",
       "      <td>en</td>\n",
       "      <td>178.0</td>\n",
       "      <td>52000000</td>\n",
       "    </tr>\n",
       "    <tr>\n",
       "      <td>4</td>\n",
       "      <td>4584</td>\n",
       "      <td>[18, 10749]</td>\n",
       "      <td>1995</td>\n",
       "      <td>[GB, US]</td>\n",
       "      <td>en</td>\n",
       "      <td>136.0</td>\n",
       "      <td>16500000</td>\n",
       "    </tr>\n",
       "  </tbody>\n",
       "</table>\n",
       "</div>"
      ],
      "text/plain": [
       "   movieId            genres  release_date production_countries  \\\n",
       "0      949  [28, 80, 18, 53]          1995                 [US]   \n",
       "1      710      [12, 28, 53]          1995             [GB, US]   \n",
       "2     1408          [28, 12]          1995     [FR, DE, IT, US]   \n",
       "3      524          [18, 80]          1995             [FR, US]   \n",
       "4     4584       [18, 10749]          1995             [GB, US]   \n",
       "\n",
       "  original_language  runtime    budget  \n",
       "0                en    170.0  60000000  \n",
       "1                en    130.0  58000000  \n",
       "2                en    119.0  98000000  \n",
       "3                en    178.0  52000000  \n",
       "4                en    136.0  16500000  "
      ]
     },
     "execution_count": 349,
     "metadata": {},
     "output_type": "execute_result"
    }
   ],
   "source": [
    "cluster_features.head()"
   ]
  },
  {
   "cell_type": "code",
   "execution_count": 350,
   "metadata": {},
   "outputs": [
    {
     "data": {
      "text/html": [
       "<div>\n",
       "<style scoped>\n",
       "    .dataframe tbody tr th:only-of-type {\n",
       "        vertical-align: middle;\n",
       "    }\n",
       "\n",
       "    .dataframe tbody tr th {\n",
       "        vertical-align: top;\n",
       "    }\n",
       "\n",
       "    .dataframe thead th {\n",
       "        text-align: right;\n",
       "    }\n",
       "</style>\n",
       "<table border=\"1\" class=\"dataframe\">\n",
       "  <thead>\n",
       "    <tr style=\"text-align: right;\">\n",
       "      <th></th>\n",
       "      <th>movieId</th>\n",
       "      <th>genres</th>\n",
       "      <th>release_date</th>\n",
       "      <th>production_countries</th>\n",
       "      <th>original_language</th>\n",
       "      <th>runtime</th>\n",
       "      <th>budget</th>\n",
       "    </tr>\n",
       "  </thead>\n",
       "  <tbody>\n",
       "    <tr>\n",
       "      <td>2824</td>\n",
       "      <td>2331</td>\n",
       "      <td>[36, 18]</td>\n",
       "      <td>1999</td>\n",
       "      <td>[CZ, DE, IT, US]</td>\n",
       "      <td>en</td>\n",
       "      <td>240.0</td>\n",
       "      <td>20000000</td>\n",
       "    </tr>\n",
       "    <tr>\n",
       "      <td>2826</td>\n",
       "      <td>80831</td>\n",
       "      <td>[18]</td>\n",
       "      <td>2009</td>\n",
       "      <td>[ID]</td>\n",
       "      <td>en</td>\n",
       "      <td>121.0</td>\n",
       "      <td>0</td>\n",
       "    </tr>\n",
       "    <tr>\n",
       "      <td>2827</td>\n",
       "      <td>3104</td>\n",
       "      <td>[27, 878]</td>\n",
       "      <td>1967</td>\n",
       "      <td>[GB]</td>\n",
       "      <td>en</td>\n",
       "      <td>92.0</td>\n",
       "      <td>0</td>\n",
       "    </tr>\n",
       "    <tr>\n",
       "      <td>2828</td>\n",
       "      <td>64197</td>\n",
       "      <td>[10749, 18]</td>\n",
       "      <td>2007</td>\n",
       "      <td>[RU]</td>\n",
       "      <td>ru</td>\n",
       "      <td>97.0</td>\n",
       "      <td>0</td>\n",
       "    </tr>\n",
       "    <tr>\n",
       "      <td>2829</td>\n",
       "      <td>98604</td>\n",
       "      <td>[35, 10749]</td>\n",
       "      <td>2012</td>\n",
       "      <td>[RU]</td>\n",
       "      <td>ru</td>\n",
       "      <td>91.0</td>\n",
       "      <td>0</td>\n",
       "    </tr>\n",
       "  </tbody>\n",
       "</table>\n",
       "</div>"
      ],
      "text/plain": [
       "      movieId       genres  release_date production_countries  \\\n",
       "2824     2331     [36, 18]          1999     [CZ, DE, IT, US]   \n",
       "2826    80831         [18]          2009                 [ID]   \n",
       "2827     3104    [27, 878]          1967                 [GB]   \n",
       "2828    64197  [10749, 18]          2007                 [RU]   \n",
       "2829    98604  [35, 10749]          2012                 [RU]   \n",
       "\n",
       "     original_language  runtime    budget  \n",
       "2824                en    240.0  20000000  \n",
       "2826                en    121.0         0  \n",
       "2827                en     92.0         0  \n",
       "2828                ru     97.0         0  \n",
       "2829                ru     91.0         0  "
      ]
     },
     "execution_count": 350,
     "metadata": {},
     "output_type": "execute_result"
    }
   ],
   "source": [
    "cluster_features.tail()"
   ]
  },
  {
   "cell_type": "code",
   "execution_count": 351,
   "metadata": {},
   "outputs": [
    {
     "data": {
      "text/plain": [
       "2766"
      ]
     },
     "execution_count": 351,
     "metadata": {},
     "output_type": "execute_result"
    }
   ],
   "source": [
    "len(cluster_features)"
   ]
  },
  {
   "cell_type": "markdown",
   "metadata": {},
   "source": [
    "### Définition d'une distance sur les films"
   ]
  },
  {
   "cell_type": "code",
   "execution_count": 352,
   "metadata": {},
   "outputs": [],
   "source": [
    "MAX_YEAR = max(cluster_features.release_date) - min(cluster_features.release_date)"
   ]
  },
  {
   "cell_type": "code",
   "execution_count": 353,
   "metadata": {},
   "outputs": [
    {
     "data": {
      "text/plain": [
       "count    2766.000000\n",
       "mean      107.479754\n",
       "std        24.056597\n",
       "min        43.000000\n",
       "25%        93.000000\n",
       "50%       103.000000\n",
       "75%       118.000000\n",
       "max       320.000000\n",
       "Name: runtime, dtype: float64"
      ]
     },
     "execution_count": 353,
     "metadata": {},
     "output_type": "execute_result"
    }
   ],
   "source": [
    "cluster_features.runtime.describe()"
   ]
  },
  {
   "cell_type": "code",
   "execution_count": 354,
   "metadata": {},
   "outputs": [
    {
     "data": {
      "text/plain": [
       "count    2.766000e+03\n",
       "mean     1.427657e+07\n",
       "std      3.146411e+07\n",
       "min      0.000000e+00\n",
       "25%      0.000000e+00\n",
       "50%      0.000000e+00\n",
       "75%      1.400000e+07\n",
       "max      3.800000e+08\n",
       "Name: budget, dtype: float64"
      ]
     },
     "execution_count": 354,
     "metadata": {},
     "output_type": "execute_result"
    }
   ],
   "source": [
    "cluster_features.budget.describe()"
   ]
  },
  {
   "cell_type": "markdown",
   "metadata": {},
   "source": [
    "Cette fonction calcule les similarités entre 2 Films. Plus les valeurs sont proches de 0, plus les films ont de points communs et plus elles sont proches de 1, plus ils sont différents (peut-être changer le nom ? instinctivement, j'aurais pensé que pour être très similaire il fallait un score élevé)\n",
    "\n",
    "discuter de la manière de les calculer ?\n",
    "mettre formule pour dire d'où viennent les std pris"
   ]
  },
  {
   "cell_type": "code",
   "execution_count": 355,
   "metadata": {},
   "outputs": [],
   "source": [
    "def similarity_vect(mov1, mov2):\n",
    "    m1 = mov1.iloc[0]\n",
    "    m2 = mov2.iloc[0]\n",
    "    simi_vect = pd.Series([])\n",
    "    \n",
    "    # SIMILARITIES IN GENRES\n",
    "    \n",
    "    g1 = m1.genres\n",
    "    g2 = m2.genres\n",
    "    if list(g1) and list(g2): #est ce utile ? y a t'il vraiment des genres vides ? combien ? les supprimer si oui ?\n",
    "        g3 = np.append(g1, g2)\n",
    "        simi_vect['genres'] = 2 * len(np.unique(g3)) / len(g3) - 1 # CHANGER PEUT ETRE\n",
    "    else:\n",
    "        simi_vect['genres'] = 1\n",
    "        \n",
    "    #SIMILARITIES FOR THE RELEASE DATE\n",
    "    \n",
    "    simi_vect['release_date'] = abs(m1.release_date - m2.release_date) / MAX_YEAR #\n",
    "    \n",
    "    #SIMILARITIES IN PRODUCTION COUNTRIES\n",
    "    \n",
    "    p1 = m1.production_countries\n",
    "    p2 = m2.production_countries\n",
    "    if list(p1) and list(p2):\n",
    "        p3 = []\n",
    "        p3.extend(p1)\n",
    "        p3.extend(p2)\n",
    "        simi_vect['production_countries'] = 2 * len(np.unique(p3)) / len(p3) - 1 # Changer aussi peut etre\n",
    "    else:\n",
    "        simi_vect['production_countries'] = 1\n",
    "    \n",
    "    #SIMILARITIES FOR THE LANGUAGE\n",
    "    \n",
    "    simi_vect['original_language'] = int(not m1.original_language == m2.original_language)\n",
    "    \n",
    "    #SIMILARITIES FOR THE RUNTIME\n",
    "    \n",
    "    r1 = m1.runtime\n",
    "    r2 = m2.runtime\n",
    "    #j'ai supprimé les films trop courts comme il y en avait très peu\n",
    "    #if r1 == 0 or r2 == 0:\n",
    "    #    simi_vect['runtime'] = 1 # Changer peut etre\n",
    "    #else:\n",
    "    simi_vect['runtime'] = min(1, abs(r1 - r2) / 55) # Choix 2 * std\n",
    "    \n",
    "    #SIMILARITIES FOR THE BUDGET\n",
    "    \n",
    "    b1 = m1.budget\n",
    "    b2 = m2.budget\n",
    "    if b1 == 0 or b2 == 0:\n",
    "        simi_vect['budget'] = 1 # Changer peut etre\n",
    "    else:\n",
    "        simi_vect['budget'] = min(1, abs(b1 - b2) / (3 * 1.1e+07)) # La aussi (3 * ecart type ~ arbitraire)\n",
    "    \n",
    "    return simi_vect"
   ]
  },
  {
   "cell_type": "code",
   "execution_count": 358,
   "metadata": {},
   "outputs": [
    {
     "name": "stdout",
     "output_type": "stream",
     "text": [
      "movieId                             1408\n",
      "genres                          [28, 12]\n",
      "release_date                        1995\n",
      "production_countries    [FR, DE, IT, US]\n",
      "original_language                     en\n",
      "runtime                              119\n",
      "budget                          98000000\n",
      "Name: 2, dtype: object\n",
      "movieId                      524\n",
      "genres                  [18, 80]\n",
      "release_date                1995\n",
      "production_countries    [FR, US]\n",
      "original_language             en\n",
      "runtime                      178\n",
      "budget                  52000000\n",
      "Name: 3, dtype: object\n"
     ]
    },
    {
     "data": {
      "text/plain": [
       "genres                  1.000000\n",
       "release_date            0.000000\n",
       "production_countries    0.333333\n",
       "original_language       0.000000\n",
       "runtime                 1.000000\n",
       "budget                  1.000000\n",
       "dtype: float64"
      ]
     },
     "execution_count": 358,
     "metadata": {},
     "output_type": "execute_result"
    }
   ],
   "source": [
    "mov1 = cluster_features[cluster_features.movieId == 1408]\n",
    "mov2 = cluster_features[cluster_features.movieId == 524]\n",
    "#print(mov1)\n",
    "print(mov1.iloc[0])\n",
    "print(mov2.iloc[0])\n",
    "\n",
    "similarity_vect(mov1,mov2)"
   ]
  },
  {
   "cell_type": "markdown",
   "metadata": {},
   "source": [
    "Cette fonction sert à donner des poids à chaque caractéristique."
   ]
  },
  {
   "cell_type": "code",
   "execution_count": 361,
   "metadata": {},
   "outputs": [],
   "source": [
    "def weight_vect(simi_vect, w_gen=3, w_rel=2, w_pro=1, w_ori=1, w_run=1, w_bud=1):\n",
    "    weighted_vect = simi_vect.copy()\n",
    "    weighted_vect.genres *= w_gen\n",
    "    weighted_vect.release_date *= w_rel\n",
    "    weighted_vect.production_countries *= w_pro\n",
    "    weighted_vect.original_language *= w_ori\n",
    "    weighted_vect.runtime *= w_run\n",
    "    weighted_vect.budget *= w_bud\n",
    "    \n",
    "    return weighted_vect"
   ]
  },
  {
   "cell_type": "code",
   "execution_count": 362,
   "metadata": {},
   "outputs": [],
   "source": [
    "def movie_distance(m1, m2, distance=lambda x: np.linalg.norm(x, ord=1)):\n",
    "    simi_vect = similarity_vect(m1, m2)\n",
    "    weighted_vect = weight_vect(simi_vect)\n",
    "    return distance(weighted_vect)"
   ]
  },
  {
   "cell_type": "code",
   "execution_count": 363,
   "metadata": {},
   "outputs": [
    {
     "data": {
      "text/plain": [
       "5.333333333333333"
      ]
     },
     "execution_count": 363,
     "metadata": {},
     "output_type": "execute_result"
    }
   ],
   "source": [
    "movie_distance(mov1,mov2)"
   ]
  },
  {
   "cell_type": "code",
   "execution_count": 364,
   "metadata": {},
   "outputs": [
    {
     "data": {
      "text/plain": [
       "2766"
      ]
     },
     "execution_count": 364,
     "metadata": {},
     "output_type": "execute_result"
    }
   ],
   "source": [
    "len(cluster_features[\"movieId\"])"
   ]
  },
  {
   "cell_type": "code",
   "execution_count": 365,
   "metadata": {},
   "outputs": [
    {
     "data": {
      "text/plain": [
       "2765"
      ]
     },
     "execution_count": 365,
     "metadata": {},
     "output_type": "execute_result"
    }
   ],
   "source": [
    "len(cluster_features[\"movieId\"].unique()) #Pourquoi un de moins ? Je croyais qu'on avait déjà éliminé les duplicatas ?"
   ]
  },
  {
   "cell_type": "code",
   "execution_count": 177,
   "metadata": {},
   "outputs": [],
   "source": [
    "def compute_dist_matrix(clu_fea):\n",
    "    dist = []\n",
    "    movies_id = clu_fea.movieId.unique() #unique() à retirer ? je pense qu'il n'est pas utile ?\n",
    "    couples = []\n",
    "    for i in range(len(movies_id)):\n",
    "        u = movies_id[i]\n",
    "        for j in range(i + 1, len(movies_id)):\n",
    "            v = movies_id[j]\n",
    "            couples.append((str(u), str(v)))\n",
    "            dist.append(movie_distance(clu_fea[clu_fea.movieId == u], clu_fea[clu_fea.movieId == v]))\n",
    "    \n",
    "    index = pd.MultiIndex.from_tuples(couples, names=['u', 'v'])\n",
    "    dist_mat = pd.Series(dist, index=index)\n",
    "    \n",
    "    return dist_mat"
   ]
  },
  {
   "cell_type": "code",
   "execution_count": 373,
   "metadata": {},
   "outputs": [],
   "source": [
    "mini_test = cluster_features.iloc[0:10]\n",
    "petit_test = cluster_features.iloc[0:100]"
   ]
  },
  {
   "cell_type": "code",
   "execution_count": 38,
   "metadata": {},
   "outputs": [
    {
     "name": "stdout",
     "output_type": "stream",
     "text": [
      "u      v    \n",
      "949    710      2.406926\n",
      "       1408     4.527273\n",
      "       524      1.721212\n",
      "       4584     3.951515\n",
      "       5        4.000000\n",
      "                  ...   \n",
      "3104   98604    6.774484\n",
      "       49280    8.126050\n",
      "64197  98604    2.693125\n",
      "       49280    8.798319\n",
      "98604  49280    8.882353\n",
      "Length: 3991725, dtype: float64\n",
      "Temps d execution : 24088.50949215889 secondes ---\n"
     ]
    }
   ],
   "source": [
    "#start_time = time.time()\n",
    "#m = compute_dist_matrix(cluster_features) # environ 1 heure\n",
    "#print(m)\n",
    "#print(\"Temps d execution : %s secondes ---\" % (time.time() - start_time))"
   ]
  },
  {
   "cell_type": "code",
   "execution_count": 377,
   "metadata": {},
   "outputs": [
    {
     "name": "stdout",
     "output_type": "stream",
     "text": [
      "u     v   \n",
      "949   710     2.406926\n",
      "      1408    4.527273\n",
      "      524     1.721212\n",
      "      4584    3.951515\n",
      "      5       4.000000\n",
      "      8012    3.187229\n",
      "      451     4.000000\n",
      "      902     7.000000\n",
      "      63      3.812554\n",
      "710   1408    2.466667\n",
      "      524     4.554545\n",
      "      4584    4.109091\n",
      "      5       4.915152\n",
      "      8012    3.628788\n",
      "      451     4.660606\n",
      "      902     5.400000\n",
      "      63      3.215152\n",
      "1408  524     5.333333\n",
      "      4584    4.975758\n",
      "      5       4.981818\n",
      "      8012    4.854545\n",
      "      451     4.727273\n",
      "      902     4.428571\n",
      "      63      4.781818\n",
      "524   4584    3.763636\n",
      "      5       3.833333\n",
      "      8012    3.792424\n",
      "      451     3.833333\n",
      "      902     6.600000\n",
      "      63      4.906061\n",
      "4584  5       4.403030\n",
      "      8012    4.313636\n",
      "      451     1.160606\n",
      "      902     5.554545\n",
      "      63      3.854545\n",
      "5     8012    1.522727\n",
      "      451     3.266667\n",
      "      902     5.606061\n",
      "      63      4.336364\n",
      "8012  451     3.934848\n",
      "      902     5.425758\n",
      "      63      2.459091\n",
      "451   902     5.509091\n",
      "      63      4.093939\n",
      "902   63      4.730303\n",
      "dtype: float64\n",
      "Temps d execution : 0.5081229209899902 secondes ---\n"
     ]
    }
   ],
   "source": [
    "start_time = time.time()\n",
    "ma = compute_dist_matrix(mini_test) # environ 1 heure\n",
    "print(ma)\n",
    "print(\"Temps d execution : %s secondes ---\" % (time.time() - start_time))"
   ]
  },
  {
   "cell_type": "code",
   "execution_count": 376,
   "metadata": {},
   "outputs": [
    {
     "name": "stdout",
     "output_type": "stream",
     "text": [
      "u     v   \n",
      "949   710     2.406926\n",
      "      1408    4.527273\n",
      "      524     1.721212\n",
      "      4584    3.951515\n",
      "      5       4.000000\n",
      "                ...   \n",
      "1245  2088    2.618182\n",
      "      424     3.451515\n",
      "7007  2088    2.216450\n",
      "      424     4.000000\n",
      "2088  424     3.794372\n",
      "Length: 4950, dtype: float64\n",
      "Temps d execution : 72.04397654533386 secondes ---\n"
     ]
    }
   ],
   "source": [
    "start_time = time.time()\n",
    "mat = compute_dist_matrix(petit_test) # environ 1 heure\n",
    "print(mat)\n",
    "print(\"Temps d execution : %s secondes ---\" % (time.time() - start_time))"
   ]
  },
  {
   "cell_type": "code",
   "execution_count": 39,
   "metadata": {},
   "outputs": [],
   "source": [
    "class dendrogram:\n",
    "    def __init__(self, leaf=None):\n",
    "        self.leaf = leaf\n",
    "        self.leaf_nb = 1\n",
    "        self.father = None\n",
    "        self.left = None\n",
    "        self.right = None\n",
    "    \n",
    "    def set_leaf_nb(self):\n",
    "        total_leaf_nb = 0\n",
    "        if self.left is not None:\n",
    "            total_leaf_nb += self.left.leaf_nb\n",
    "        if self.right is not None:\n",
    "            total_leaf_nb += self.right.leaf_nb\n",
    "        self.leaf_nb = max(1, total_leaf_nb)\n",
    "    \n",
    "    def get_id_list(self):\n",
    "        id_list = []\n",
    "        def prefix(node):\n",
    "            if node.leaf is not None:\n",
    "                id_list.append(node.leaf)\n",
    "            else:\n",
    "                prefix(node.right)\n",
    "                prefix(node.left)\n",
    "        \n",
    "        prefix(self)\n",
    "        return id_list\n",
    "    \n",
    "    def get_root(self):\n",
    "        tmp = self\n",
    "        while tmp.father is not None: tmp = tmp.father\n",
    "        return tmp"
   ]
  },
  {
   "cell_type": "code",
   "execution_count": 40,
   "metadata": {},
   "outputs": [],
   "source": [
    "cluster_features[\"dendrogram\"] = cluster_features.movieId.apply(lambda x: dendrogram(leaf=x))"
   ]
  },
  {
   "cell_type": "code",
   "execution_count": 41,
   "metadata": {},
   "outputs": [],
   "source": [
    "def weighted_mean(x1, w1, x2, w2):\n",
    "    return (w1 * x1 + w2 * x2) / (w1 + w2)"
   ]
  },
  {
   "cell_type": "code",
   "execution_count": 42,
   "metadata": {},
   "outputs": [],
   "source": [
    "def clusterize(dist_mat, clu_fea):\n",
    "    \n",
    "    size_mat = clu_fea.shape[0]\n",
    "    for cpt in range(1, size_mat):\n",
    "        id_list = [tup[1] for tup in dist_mat.index[: size_mat - cpt]]\n",
    "        id_list.append(dist_mat.index[0][0])\n",
    "        index_str1, index_str2 = pd.Series.idxmin(dist_mat)\n",
    "        index1, index2 = int(index_str1), int(index_str2)\n",
    "        mov1 = clu_fea[clu_fea.movieId == index1].iloc[0]\n",
    "        mov2 = clu_fea[clu_fea.movieId == index2].iloc[0]\n",
    "        tmp1 = mov1.dendrogram\n",
    "        tmp2 = mov2.dendrogram\n",
    "        while tmp1.father is not None: tmp1 = tmp1.father\n",
    "        while tmp2.father is not None: tmp2 = tmp2.father\n",
    "        tmp3 = dendrogram()\n",
    "        tmp3.left = tmp1\n",
    "        tmp3.right = tmp2\n",
    "        tmp3.set_leaf_nb()\n",
    "        tmp1.father = tmp3\n",
    "        tmp2.father = tmp3\n",
    "        for x in id_list:\n",
    "            if x == index_str1 or x == index_str2 : continue\n",
    "            if (index_str1, x) in dist_mat.index:\n",
    "                if (index_str2, x) in dist_mat:\n",
    "                    tmp = weighted_mean(dist_mat.loc[index_str1, x], tmp1.leaf_nb,\n",
    "                                        dist_mat.loc[index_str2, x], tmp2.leaf_nb)\n",
    "                else:\n",
    "                    tmp = weighted_mean(dist_mat.loc[index_str1, x], tmp1.leaf_nb,\n",
    "                                        dist_mat.loc[x, index_str2], tmp2.leaf_nb)\n",
    "                dist_mat.loc[index_str1, x] = tmp\n",
    "            else:\n",
    "                if (index_str2, x) in dist_mat:\n",
    "                    tmp = weighted_mean(dist_mat.loc[x, index_str1], tmp1.leaf_nb,\n",
    "                                        dist_mat.loc[index_str2, x], tmp2.leaf_nb)\n",
    "                else:\n",
    "                    tmp = weighted_mean(dist_mat.loc[x, index_str1], tmp1.leaf_nb,\n",
    "                                        dist_mat.loc[x, index_str2], tmp2.leaf_nb)\n",
    "                dist_mat.loc[x, index_str1] = tmp\n",
    "        dist_mat = dist_mat.drop(index_str2, level='u')\n",
    "        dist_mat = dist_mat.drop(index_str2, level='v')\n",
    "    \n",
    "    return clu_fea.iloc[0].dendrogram.get_root()"
   ]
  },
  {
   "cell_type": "code",
   "execution_count": 43,
   "metadata": {},
   "outputs": [
    {
     "data": {
      "text/html": [
       "<div>\n",
       "<style scoped>\n",
       "    .dataframe tbody tr th:only-of-type {\n",
       "        vertical-align: middle;\n",
       "    }\n",
       "\n",
       "    .dataframe tbody tr th {\n",
       "        vertical-align: top;\n",
       "    }\n",
       "\n",
       "    .dataframe thead th {\n",
       "        text-align: right;\n",
       "    }\n",
       "</style>\n",
       "<table border=\"1\" class=\"dataframe\">\n",
       "  <thead>\n",
       "    <tr style=\"text-align: right;\">\n",
       "      <th></th>\n",
       "      <th>movieId</th>\n",
       "      <th>genres</th>\n",
       "      <th>release_date</th>\n",
       "      <th>production_countries</th>\n",
       "      <th>original_language</th>\n",
       "      <th>runtime</th>\n",
       "      <th>budget</th>\n",
       "      <th>dendrogram</th>\n",
       "    </tr>\n",
       "  </thead>\n",
       "  <tbody>\n",
       "    <tr>\n",
       "      <td>0</td>\n",
       "      <td>949</td>\n",
       "      <td>[28, 80, 18, 53]</td>\n",
       "      <td>1995</td>\n",
       "      <td>[US]</td>\n",
       "      <td>en</td>\n",
       "      <td>170.0</td>\n",
       "      <td>60000000</td>\n",
       "      <td>&lt;__main__.dendrogram object at 0x000001B1C9A93...</td>\n",
       "    </tr>\n",
       "    <tr>\n",
       "      <td>1</td>\n",
       "      <td>710</td>\n",
       "      <td>[12, 28, 53]</td>\n",
       "      <td>1995</td>\n",
       "      <td>[GB, US]</td>\n",
       "      <td>en</td>\n",
       "      <td>130.0</td>\n",
       "      <td>58000000</td>\n",
       "      <td>&lt;__main__.dendrogram object at 0x000001B1C9A93...</td>\n",
       "    </tr>\n",
       "    <tr>\n",
       "      <td>2</td>\n",
       "      <td>1408</td>\n",
       "      <td>[28, 12]</td>\n",
       "      <td>1995</td>\n",
       "      <td>[FR, DE, IT, US]</td>\n",
       "      <td>en</td>\n",
       "      <td>119.0</td>\n",
       "      <td>98000000</td>\n",
       "      <td>&lt;__main__.dendrogram object at 0x000001B1C9A93...</td>\n",
       "    </tr>\n",
       "    <tr>\n",
       "      <td>3</td>\n",
       "      <td>524</td>\n",
       "      <td>[18, 80]</td>\n",
       "      <td>1995</td>\n",
       "      <td>[FR, US]</td>\n",
       "      <td>en</td>\n",
       "      <td>178.0</td>\n",
       "      <td>52000000</td>\n",
       "      <td>&lt;__main__.dendrogram object at 0x000001B1C9A93...</td>\n",
       "    </tr>\n",
       "    <tr>\n",
       "      <td>4</td>\n",
       "      <td>4584</td>\n",
       "      <td>[18, 10749]</td>\n",
       "      <td>1995</td>\n",
       "      <td>[GB, US]</td>\n",
       "      <td>en</td>\n",
       "      <td>136.0</td>\n",
       "      <td>16500000</td>\n",
       "      <td>&lt;__main__.dendrogram object at 0x000001B1C9A93...</td>\n",
       "    </tr>\n",
       "  </tbody>\n",
       "</table>\n",
       "</div>"
      ],
      "text/plain": [
       "   movieId            genres  release_date production_countries  \\\n",
       "0      949  [28, 80, 18, 53]          1995                 [US]   \n",
       "1      710      [12, 28, 53]          1995             [GB, US]   \n",
       "2     1408          [28, 12]          1995     [FR, DE, IT, US]   \n",
       "3      524          [18, 80]          1995             [FR, US]   \n",
       "4     4584       [18, 10749]          1995             [GB, US]   \n",
       "\n",
       "  original_language  runtime    budget  \\\n",
       "0                en    170.0  60000000   \n",
       "1                en    130.0  58000000   \n",
       "2                en    119.0  98000000   \n",
       "3                en    178.0  52000000   \n",
       "4                en    136.0  16500000   \n",
       "\n",
       "                                          dendrogram  \n",
       "0  <__main__.dendrogram object at 0x000001B1C9A93...  \n",
       "1  <__main__.dendrogram object at 0x000001B1C9A93...  \n",
       "2  <__main__.dendrogram object at 0x000001B1C9A93...  \n",
       "3  <__main__.dendrogram object at 0x000001B1C9A93...  \n",
       "4  <__main__.dendrogram object at 0x000001B1C9A93...  "
      ]
     },
     "execution_count": 43,
     "metadata": {},
     "output_type": "execute_result"
    }
   ],
   "source": [
    "clu_test = cluster_features.iloc[:10]\n",
    "dist_test = compute_dist_matrix(clu_test)\n",
    "clu_test.head()"
   ]
  },
  {
   "cell_type": "code",
   "execution_count": 44,
   "metadata": {},
   "outputs": [],
   "source": [
    "root = clusterize(dist_test, clu_test)"
   ]
  },
  {
   "cell_type": "code",
   "execution_count": null,
   "metadata": {},
   "outputs": [],
   "source": []
  }
 ],
 "metadata": {
  "kernelspec": {
   "display_name": "Python 3",
   "language": "python",
   "name": "python3"
  },
  "language_info": {
   "codemirror_mode": {
    "name": "ipython",
    "version": 3
   },
   "file_extension": ".py",
   "mimetype": "text/x-python",
   "name": "python",
   "nbconvert_exporter": "python",
   "pygments_lexer": "ipython3",
   "version": "3.7.4"
  }
 },
 "nbformat": 4,
 "nbformat_minor": 2
}
