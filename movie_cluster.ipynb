{
 "cells": [
  {
   "cell_type": "markdown",
   "metadata": {},
   "source": [
    "### Import des librairies et lecture des fichiers\n",
    "\n",
    "\n",
    "Est ce qu'on ajouterais pas les keywords ?"
   ]
  },
  {
   "cell_type": "code",
   "execution_count": 196,
   "metadata": {},
   "outputs": [],
   "source": [
    "import numpy as np\n",
    "import pandas as pd\n",
    "import matplotlib.pyplot as plt\n",
    "import math\n",
    "import re\n",
    "import time"
   ]
  },
  {
   "cell_type": "code",
   "execution_count": 197,
   "metadata": {},
   "outputs": [],
   "source": [
    "movies = pd.read_csv(\"movies_metadata.csv\")\n",
    "ratings = pd.read_csv(\"ratings_small.csv\")\n",
    "keywords = pd.read_csv(\"keywords.csv\")"
   ]
  },
  {
   "cell_type": "markdown",
   "metadata": {},
   "source": [
    "### Nettoyage de la base de données et réduction de la matrice aux caractéristiques interéssantes\n",
    "\n",
    "Suppression des id incorrects, des valeurs abérrantes, des lignes avec NaN, et modification des valeurs pour les rendre plus faciles à traiter.\n",
    "\n",
    "On sélectionne les attributs de films qui semblent pertinents pour différencier les films sur leur contenu.\n",
    "Ces choix sont arbitraires et on pourra être amenés à réfléchir dessus et à les modifier. Nous aurions voulu compléter notre base de données pour obtenir plus d'attributs (en particulier réalisateur, casting, mots clés), mais nous avons finalement du nous résigner à ne pas garder trop d'attributs pour limiter le temps de calcul."
   ]
  },
  {
   "cell_type": "code",
   "execution_count": 198,
   "metadata": {},
   "outputs": [],
   "source": [
    "def filter_correct_id(word): # MEILLEURE VERSION ICI\n",
    "    if not isinstance(word, str) or re.fullmatch(r'[0-9]+', word):\n",
    "        return word\n",
    "    return \"wrong_id\""
   ]
  },
  {
   "cell_type": "code",
   "execution_count": 199,
   "metadata": {},
   "outputs": [],
   "source": [
    "movies = movies[~movies.id.duplicated()]\n",
    "keywords = keywords[~keywords.id.duplicated()]\n",
    "movies.id = movies.id.apply(filter_correct_id)\n",
    "movies = movies[movies.id != \"wrong_id\"]\n",
    "movies.id = movies.id.astype('int64')\n",
    "movies.budget = movies.budget.astype('int64')"
   ]
  },
  {
   "cell_type": "markdown",
   "metadata": {},
   "source": [
    "Nous ne voulons garder que les films ayant reçu une note. Cela est une manière de ne garder qu'un nombre limité de films (il est très compliqué pour nous d'effectuer des calculs pour 45000 films) et cela pourrait être utile dans le cadre de la recommendation \"user-based\"."
   ]
  },
  {
   "cell_type": "code",
   "execution_count": 200,
   "metadata": {},
   "outputs": [],
   "source": [
    "movies = movies.rename(columns={'id' : 'movieId'})\n",
    "keywords = keywords.rename(columns={'id' : 'movieId'})\n",
    "ratings = ratings.movieId.drop_duplicates()\n",
    "#keywords = keywords[~movies.movieId.duplicated()]\n",
    "keywords = keywords.drop_duplicates()\n",
    "movies = movies.merge(ratings, how='inner')\n",
    "movies = movies.join(keywords.set_index('movieId'),on='movieId',how='inner')"
   ]
  },
  {
   "cell_type": "code",
   "execution_count": 201,
   "metadata": {},
   "outputs": [
    {
     "data": {
      "text/plain": [
       "2830"
      ]
     },
     "execution_count": 201,
     "metadata": {},
     "output_type": "execute_result"
    }
   ],
   "source": [
    "len(movies)"
   ]
  },
  {
   "cell_type": "code",
   "execution_count": 202,
   "metadata": {},
   "outputs": [
    {
     "data": {
      "text/html": [
       "<div>\n",
       "<style scoped>\n",
       "    .dataframe tbody tr th:only-of-type {\n",
       "        vertical-align: middle;\n",
       "    }\n",
       "\n",
       "    .dataframe tbody tr th {\n",
       "        vertical-align: top;\n",
       "    }\n",
       "\n",
       "    .dataframe thead th {\n",
       "        text-align: right;\n",
       "    }\n",
       "</style>\n",
       "<table border=\"1\" class=\"dataframe\">\n",
       "  <thead>\n",
       "    <tr style=\"text-align: right;\">\n",
       "      <th></th>\n",
       "      <th>movieId</th>\n",
       "      <th>keywords</th>\n",
       "    </tr>\n",
       "  </thead>\n",
       "  <tbody>\n",
       "    <tr>\n",
       "      <td>0</td>\n",
       "      <td>862</td>\n",
       "      <td>[{'id': 931, 'name': 'jealousy'}, {'id': 4290,...</td>\n",
       "    </tr>\n",
       "    <tr>\n",
       "      <td>1</td>\n",
       "      <td>8844</td>\n",
       "      <td>[{'id': 10090, 'name': 'board game'}, {'id': 1...</td>\n",
       "    </tr>\n",
       "    <tr>\n",
       "      <td>2</td>\n",
       "      <td>15602</td>\n",
       "      <td>[{'id': 1495, 'name': 'fishing'}, {'id': 12392...</td>\n",
       "    </tr>\n",
       "    <tr>\n",
       "      <td>3</td>\n",
       "      <td>31357</td>\n",
       "      <td>[{'id': 818, 'name': 'based on novel'}, {'id':...</td>\n",
       "    </tr>\n",
       "    <tr>\n",
       "      <td>4</td>\n",
       "      <td>11862</td>\n",
       "      <td>[{'id': 1009, 'name': 'baby'}, {'id': 1599, 'n...</td>\n",
       "    </tr>\n",
       "  </tbody>\n",
       "</table>\n",
       "</div>"
      ],
      "text/plain": [
       "   movieId                                           keywords\n",
       "0      862  [{'id': 931, 'name': 'jealousy'}, {'id': 4290,...\n",
       "1     8844  [{'id': 10090, 'name': 'board game'}, {'id': 1...\n",
       "2    15602  [{'id': 1495, 'name': 'fishing'}, {'id': 12392...\n",
       "3    31357  [{'id': 818, 'name': 'based on novel'}, {'id':...\n",
       "4    11862  [{'id': 1009, 'name': 'baby'}, {'id': 1599, 'n..."
      ]
     },
     "execution_count": 202,
     "metadata": {},
     "output_type": "execute_result"
    }
   ],
   "source": [
    "keywords.head()"
   ]
  },
  {
   "cell_type": "code",
   "execution_count": 203,
   "metadata": {},
   "outputs": [
    {
     "data": {
      "text/plain": [
       "Index(['adult', 'belongs_to_collection', 'budget', 'genres', 'homepage',\n",
       "       'movieId', 'imdb_id', 'original_language', 'original_title', 'overview',\n",
       "       'popularity', 'poster_path', 'production_companies',\n",
       "       'production_countries', 'release_date', 'revenue', 'runtime',\n",
       "       'spoken_languages', 'status', 'tagline', 'title', 'video',\n",
       "       'vote_average', 'vote_count', 'keywords'],\n",
       "      dtype='object')"
      ]
     },
     "execution_count": 203,
     "metadata": {},
     "output_type": "execute_result"
    }
   ],
   "source": [
    "movies.columns"
   ]
  },
  {
   "cell_type": "code",
   "execution_count": 204,
   "metadata": {},
   "outputs": [],
   "source": [
    "cluster_features = movies[['movieId', 'genres','keywords', 'release_date', 'production_countries', 'original_language', 'runtime', 'budget']]\n",
    "cluster_features = cluster_features.dropna()"
   ]
  },
  {
   "cell_type": "code",
   "execution_count": 205,
   "metadata": {},
   "outputs": [
    {
     "data": {
      "text/html": [
       "<div>\n",
       "<style scoped>\n",
       "    .dataframe tbody tr th:only-of-type {\n",
       "        vertical-align: middle;\n",
       "    }\n",
       "\n",
       "    .dataframe tbody tr th {\n",
       "        vertical-align: top;\n",
       "    }\n",
       "\n",
       "    .dataframe thead th {\n",
       "        text-align: right;\n",
       "    }\n",
       "</style>\n",
       "<table border=\"1\" class=\"dataframe\">\n",
       "  <thead>\n",
       "    <tr style=\"text-align: right;\">\n",
       "      <th></th>\n",
       "      <th>movieId</th>\n",
       "      <th>genres</th>\n",
       "      <th>keywords</th>\n",
       "      <th>release_date</th>\n",
       "      <th>production_countries</th>\n",
       "      <th>original_language</th>\n",
       "      <th>runtime</th>\n",
       "      <th>budget</th>\n",
       "    </tr>\n",
       "  </thead>\n",
       "  <tbody>\n",
       "    <tr>\n",
       "      <td>0</td>\n",
       "      <td>949</td>\n",
       "      <td>[{'id': 28, 'name': 'Action'}, {'id': 80, 'nam...</td>\n",
       "      <td>[{'id': 642, 'name': 'robbery'}, {'id': 703, '...</td>\n",
       "      <td>1995-12-15</td>\n",
       "      <td>[{'iso_3166_1': 'US', 'name': 'United States o...</td>\n",
       "      <td>en</td>\n",
       "      <td>170.0</td>\n",
       "      <td>60000000</td>\n",
       "    </tr>\n",
       "    <tr>\n",
       "      <td>1</td>\n",
       "      <td>710</td>\n",
       "      <td>[{'id': 12, 'name': 'Adventure'}, {'id': 28, '...</td>\n",
       "      <td>[{'id': 701, 'name': 'cuba'}, {'id': 769, 'nam...</td>\n",
       "      <td>1995-11-16</td>\n",
       "      <td>[{'iso_3166_1': 'GB', 'name': 'United Kingdom'...</td>\n",
       "      <td>en</td>\n",
       "      <td>130.0</td>\n",
       "      <td>58000000</td>\n",
       "    </tr>\n",
       "    <tr>\n",
       "      <td>2</td>\n",
       "      <td>1408</td>\n",
       "      <td>[{'id': 28, 'name': 'Action'}, {'id': 12, 'nam...</td>\n",
       "      <td>[{'id': 911, 'name': 'exotic island'}, {'id': ...</td>\n",
       "      <td>1995-12-22</td>\n",
       "      <td>[{'iso_3166_1': 'FR', 'name': 'France'}, {'iso...</td>\n",
       "      <td>en</td>\n",
       "      <td>119.0</td>\n",
       "      <td>98000000</td>\n",
       "    </tr>\n",
       "    <tr>\n",
       "      <td>3</td>\n",
       "      <td>524</td>\n",
       "      <td>[{'id': 18, 'name': 'Drama'}, {'id': 80, 'name...</td>\n",
       "      <td>[{'id': 383, 'name': 'poker'}, {'id': 726, 'na...</td>\n",
       "      <td>1995-11-22</td>\n",
       "      <td>[{'iso_3166_1': 'FR', 'name': 'France'}, {'iso...</td>\n",
       "      <td>en</td>\n",
       "      <td>178.0</td>\n",
       "      <td>52000000</td>\n",
       "    </tr>\n",
       "    <tr>\n",
       "      <td>4</td>\n",
       "      <td>4584</td>\n",
       "      <td>[{'id': 18, 'name': 'Drama'}, {'id': 10749, 'n...</td>\n",
       "      <td>[{'id': 420, 'name': 'bowling'}, {'id': 818, '...</td>\n",
       "      <td>1995-12-13</td>\n",
       "      <td>[{'iso_3166_1': 'GB', 'name': 'United Kingdom'...</td>\n",
       "      <td>en</td>\n",
       "      <td>136.0</td>\n",
       "      <td>16500000</td>\n",
       "    </tr>\n",
       "  </tbody>\n",
       "</table>\n",
       "</div>"
      ],
      "text/plain": [
       "   movieId                                             genres  \\\n",
       "0      949  [{'id': 28, 'name': 'Action'}, {'id': 80, 'nam...   \n",
       "1      710  [{'id': 12, 'name': 'Adventure'}, {'id': 28, '...   \n",
       "2     1408  [{'id': 28, 'name': 'Action'}, {'id': 12, 'nam...   \n",
       "3      524  [{'id': 18, 'name': 'Drama'}, {'id': 80, 'name...   \n",
       "4     4584  [{'id': 18, 'name': 'Drama'}, {'id': 10749, 'n...   \n",
       "\n",
       "                                            keywords release_date  \\\n",
       "0  [{'id': 642, 'name': 'robbery'}, {'id': 703, '...   1995-12-15   \n",
       "1  [{'id': 701, 'name': 'cuba'}, {'id': 769, 'nam...   1995-11-16   \n",
       "2  [{'id': 911, 'name': 'exotic island'}, {'id': ...   1995-12-22   \n",
       "3  [{'id': 383, 'name': 'poker'}, {'id': 726, 'na...   1995-11-22   \n",
       "4  [{'id': 420, 'name': 'bowling'}, {'id': 818, '...   1995-12-13   \n",
       "\n",
       "                                production_countries original_language  \\\n",
       "0  [{'iso_3166_1': 'US', 'name': 'United States o...                en   \n",
       "1  [{'iso_3166_1': 'GB', 'name': 'United Kingdom'...                en   \n",
       "2  [{'iso_3166_1': 'FR', 'name': 'France'}, {'iso...                en   \n",
       "3  [{'iso_3166_1': 'FR', 'name': 'France'}, {'iso...                en   \n",
       "4  [{'iso_3166_1': 'GB', 'name': 'United Kingdom'...                en   \n",
       "\n",
       "   runtime    budget  \n",
       "0    170.0  60000000  \n",
       "1    130.0  58000000  \n",
       "2    119.0  98000000  \n",
       "3    178.0  52000000  \n",
       "4    136.0  16500000  "
      ]
     },
     "execution_count": 205,
     "metadata": {},
     "output_type": "execute_result"
    }
   ],
   "source": [
    "cluster_features.head()"
   ]
  },
  {
   "cell_type": "code",
   "execution_count": 206,
   "metadata": {},
   "outputs": [
    {
     "name": "stdout",
     "output_type": "stream",
     "text": [
      "22\n"
     ]
    }
   ],
   "source": [
    "print(len(cluster_features[cluster_features[\"runtime\"]==0]))  #22 films à 0 minutes\n",
    "#La durée d'un long métrage est d'au moins 40 minutes, ne gardons que les longs (et cela supprime les valeurs abérrantes) \n",
    "cluster_features = cluster_features[cluster_features[\"runtime\"]>40]"
   ]
  },
  {
   "cell_type": "code",
   "execution_count": 207,
   "metadata": {},
   "outputs": [
    {
     "name": "stdout",
     "output_type": "stream",
     "text": [
      "2765\n",
      "1507\n"
     ]
    }
   ],
   "source": [
    "print(len(cluster_features))\n",
    "print(len(cluster_features[cluster_features[\"budget\"]==0])) #beaucoup de films dont le budget n'est pas renseigné\n",
    "\n",
    "#J'aimerais savoir combien de films n'ont pas de genre ou pas de keywords mais je n'y arrive pas :("
   ]
  },
  {
   "cell_type": "code",
   "execution_count": 208,
   "metadata": {},
   "outputs": [],
   "source": [
    "def vectorize_genres(genres):\n",
    "    if isinstance(genres, str):\n",
    "        pattern = re.compile(r\"'id': [0-9]*\")\n",
    "        return np.array([int(w[6:]) for w in pattern.findall(genres)])\n",
    "    return genres\n",
    "\n",
    "cluster_features.genres = cluster_features.genres.apply(vectorize_genres)"
   ]
  },
  {
   "cell_type": "code",
   "execution_count": 209,
   "metadata": {},
   "outputs": [],
   "source": [
    "def vectorize_keywords(keywords):\n",
    "    if isinstance(keywords, str):\n",
    "        pattern = re.compile(r\"'id': [0-9]*\")\n",
    "        return np.array([int(w[6:]) for w in pattern.findall(keywords)])\n",
    "    return keywords\n",
    "\n",
    "cluster_features.keywords = cluster_features.keywords.apply(vectorize_keywords)"
   ]
  },
  {
   "cell_type": "code",
   "execution_count": 210,
   "metadata": {},
   "outputs": [],
   "source": [
    "def simplify_date(date):\n",
    "    if isinstance(date, str):\n",
    "        return int(date[:4])\n",
    "    return date\n",
    "\n",
    "cluster_features.release_date = cluster_features.release_date.apply(simplify_date)"
   ]
  },
  {
   "cell_type": "code",
   "execution_count": 211,
   "metadata": {},
   "outputs": [],
   "source": [
    "def simplify_countries(countries):\n",
    "    if isinstance(countries, str):\n",
    "        pattern = re.compile(r\"'iso_3166_1': ...\")\n",
    "        return [w[15:] for w in pattern.findall(countries)]\n",
    "    return genres\n",
    "\n",
    "cluster_features.production_countries = cluster_features.production_countries.apply(simplify_countries)"
   ]
  },
  {
   "cell_type": "code",
   "execution_count": 212,
   "metadata": {},
   "outputs": [
    {
     "data": {
      "text/html": [
       "<div>\n",
       "<style scoped>\n",
       "    .dataframe tbody tr th:only-of-type {\n",
       "        vertical-align: middle;\n",
       "    }\n",
       "\n",
       "    .dataframe tbody tr th {\n",
       "        vertical-align: top;\n",
       "    }\n",
       "\n",
       "    .dataframe thead th {\n",
       "        text-align: right;\n",
       "    }\n",
       "</style>\n",
       "<table border=\"1\" class=\"dataframe\">\n",
       "  <thead>\n",
       "    <tr style=\"text-align: right;\">\n",
       "      <th></th>\n",
       "      <th>movieId</th>\n",
       "      <th>genres</th>\n",
       "      <th>keywords</th>\n",
       "      <th>release_date</th>\n",
       "      <th>production_countries</th>\n",
       "      <th>original_language</th>\n",
       "      <th>runtime</th>\n",
       "      <th>budget</th>\n",
       "    </tr>\n",
       "  </thead>\n",
       "  <tbody>\n",
       "    <tr>\n",
       "      <td>0</td>\n",
       "      <td>949</td>\n",
       "      <td>[28, 80, 18, 53]</td>\n",
       "      <td>[642, 703, 974, 1523, 3713, 7281, 9727, 9812, ...</td>\n",
       "      <td>1995</td>\n",
       "      <td>[US]</td>\n",
       "      <td>en</td>\n",
       "      <td>170.0</td>\n",
       "      <td>60000000</td>\n",
       "    </tr>\n",
       "    <tr>\n",
       "      <td>1</td>\n",
       "      <td>710</td>\n",
       "      <td>[12, 28, 53]</td>\n",
       "      <td>[701, 769, 1308, 2812, 3268, 3272, 3278, 3376,...</td>\n",
       "      <td>1995</td>\n",
       "      <td>[GB, US]</td>\n",
       "      <td>en</td>\n",
       "      <td>130.0</td>\n",
       "      <td>58000000</td>\n",
       "    </tr>\n",
       "    <tr>\n",
       "      <td>2</td>\n",
       "      <td>1408</td>\n",
       "      <td>[28, 12]</td>\n",
       "      <td>[911, 1454, 1969, 3799, 5470, 12988]</td>\n",
       "      <td>1995</td>\n",
       "      <td>[FR, DE, IT, US]</td>\n",
       "      <td>en</td>\n",
       "      <td>119.0</td>\n",
       "      <td>98000000</td>\n",
       "    </tr>\n",
       "    <tr>\n",
       "      <td>3</td>\n",
       "      <td>524</td>\n",
       "      <td>[18, 80]</td>\n",
       "      <td>[383, 726, 1228, 2635, 33625]</td>\n",
       "      <td>1995</td>\n",
       "      <td>[FR, US]</td>\n",
       "      <td>en</td>\n",
       "      <td>178.0</td>\n",
       "      <td>52000000</td>\n",
       "    </tr>\n",
       "    <tr>\n",
       "      <td>4</td>\n",
       "      <td>4584</td>\n",
       "      <td>[18, 10749]</td>\n",
       "      <td>[420, 818, 964, 2755, 7564, 10911, 11109, 1506...</td>\n",
       "      <td>1995</td>\n",
       "      <td>[GB, US]</td>\n",
       "      <td>en</td>\n",
       "      <td>136.0</td>\n",
       "      <td>16500000</td>\n",
       "    </tr>\n",
       "  </tbody>\n",
       "</table>\n",
       "</div>"
      ],
      "text/plain": [
       "   movieId            genres  \\\n",
       "0      949  [28, 80, 18, 53]   \n",
       "1      710      [12, 28, 53]   \n",
       "2     1408          [28, 12]   \n",
       "3      524          [18, 80]   \n",
       "4     4584       [18, 10749]   \n",
       "\n",
       "                                            keywords  release_date  \\\n",
       "0  [642, 703, 974, 1523, 3713, 7281, 9727, 9812, ...          1995   \n",
       "1  [701, 769, 1308, 2812, 3268, 3272, 3278, 3376,...          1995   \n",
       "2               [911, 1454, 1969, 3799, 5470, 12988]          1995   \n",
       "3                      [383, 726, 1228, 2635, 33625]          1995   \n",
       "4  [420, 818, 964, 2755, 7564, 10911, 11109, 1506...          1995   \n",
       "\n",
       "  production_countries original_language  runtime    budget  \n",
       "0                 [US]                en    170.0  60000000  \n",
       "1             [GB, US]                en    130.0  58000000  \n",
       "2     [FR, DE, IT, US]                en    119.0  98000000  \n",
       "3             [FR, US]                en    178.0  52000000  \n",
       "4             [GB, US]                en    136.0  16500000  "
      ]
     },
     "execution_count": 212,
     "metadata": {},
     "output_type": "execute_result"
    }
   ],
   "source": [
    "cluster_features.head()"
   ]
  },
  {
   "cell_type": "code",
   "execution_count": 213,
   "metadata": {},
   "outputs": [
    {
     "data": {
      "text/html": [
       "<div>\n",
       "<style scoped>\n",
       "    .dataframe tbody tr th:only-of-type {\n",
       "        vertical-align: middle;\n",
       "    }\n",
       "\n",
       "    .dataframe tbody tr th {\n",
       "        vertical-align: top;\n",
       "    }\n",
       "\n",
       "    .dataframe thead th {\n",
       "        text-align: right;\n",
       "    }\n",
       "</style>\n",
       "<table border=\"1\" class=\"dataframe\">\n",
       "  <thead>\n",
       "    <tr style=\"text-align: right;\">\n",
       "      <th></th>\n",
       "      <th>movieId</th>\n",
       "      <th>genres</th>\n",
       "      <th>keywords</th>\n",
       "      <th>release_date</th>\n",
       "      <th>production_countries</th>\n",
       "      <th>original_language</th>\n",
       "      <th>runtime</th>\n",
       "      <th>budget</th>\n",
       "    </tr>\n",
       "  </thead>\n",
       "  <tbody>\n",
       "    <tr>\n",
       "      <td>2823</td>\n",
       "      <td>2331</td>\n",
       "      <td>[36, 18]</td>\n",
       "      <td>[186, 2292, 2974, 3034, 3036, 3902, 6506, 1100...</td>\n",
       "      <td>1999</td>\n",
       "      <td>[CZ, DE, IT, US]</td>\n",
       "      <td>en</td>\n",
       "      <td>240.0</td>\n",
       "      <td>20000000</td>\n",
       "    </tr>\n",
       "    <tr>\n",
       "      <td>2825</td>\n",
       "      <td>80831</td>\n",
       "      <td>[18]</td>\n",
       "      <td>[]</td>\n",
       "      <td>2009</td>\n",
       "      <td>[ID]</td>\n",
       "      <td>en</td>\n",
       "      <td>121.0</td>\n",
       "      <td>0</td>\n",
       "    </tr>\n",
       "    <tr>\n",
       "      <td>2826</td>\n",
       "      <td>3104</td>\n",
       "      <td>[27, 878]</td>\n",
       "      <td>[6737, 155730]</td>\n",
       "      <td>1967</td>\n",
       "      <td>[GB]</td>\n",
       "      <td>en</td>\n",
       "      <td>92.0</td>\n",
       "      <td>0</td>\n",
       "    </tr>\n",
       "    <tr>\n",
       "      <td>2827</td>\n",
       "      <td>64197</td>\n",
       "      <td>[10749, 18]</td>\n",
       "      <td>[187056]</td>\n",
       "      <td>2007</td>\n",
       "      <td>[RU]</td>\n",
       "      <td>ru</td>\n",
       "      <td>97.0</td>\n",
       "      <td>0</td>\n",
       "    </tr>\n",
       "    <tr>\n",
       "      <td>2828</td>\n",
       "      <td>98604</td>\n",
       "      <td>[35, 10749]</td>\n",
       "      <td>[]</td>\n",
       "      <td>2012</td>\n",
       "      <td>[RU]</td>\n",
       "      <td>ru</td>\n",
       "      <td>91.0</td>\n",
       "      <td>0</td>\n",
       "    </tr>\n",
       "  </tbody>\n",
       "</table>\n",
       "</div>"
      ],
      "text/plain": [
       "      movieId       genres                                           keywords  \\\n",
       "2823     2331     [36, 18]  [186, 2292, 2974, 3034, 3036, 3902, 6506, 1100...   \n",
       "2825    80831         [18]                                                 []   \n",
       "2826     3104    [27, 878]                                     [6737, 155730]   \n",
       "2827    64197  [10749, 18]                                           [187056]   \n",
       "2828    98604  [35, 10749]                                                 []   \n",
       "\n",
       "      release_date production_countries original_language  runtime    budget  \n",
       "2823          1999     [CZ, DE, IT, US]                en    240.0  20000000  \n",
       "2825          2009                 [ID]                en    121.0         0  \n",
       "2826          1967                 [GB]                en     92.0         0  \n",
       "2827          2007                 [RU]                ru     97.0         0  \n",
       "2828          2012                 [RU]                ru     91.0         0  "
      ]
     },
     "execution_count": 213,
     "metadata": {},
     "output_type": "execute_result"
    }
   ],
   "source": [
    "cluster_features.tail()"
   ]
  },
  {
   "cell_type": "code",
   "execution_count": 214,
   "metadata": {},
   "outputs": [
    {
     "data": {
      "text/plain": [
       "2765"
      ]
     },
     "execution_count": 214,
     "metadata": {},
     "output_type": "execute_result"
    }
   ],
   "source": [
    "len(cluster_features)"
   ]
  },
  {
   "cell_type": "markdown",
   "metadata": {},
   "source": [
    "### Définition d'une distance sur les films"
   ]
  },
  {
   "cell_type": "code",
   "execution_count": 215,
   "metadata": {},
   "outputs": [],
   "source": [
    "MAX_YEAR = max(cluster_features.release_date) - min(cluster_features.release_date)"
   ]
  },
  {
   "cell_type": "code",
   "execution_count": 216,
   "metadata": {},
   "outputs": [
    {
     "data": {
      "text/plain": [
       "count    2765.000000\n",
       "mean      107.477758\n",
       "std        24.060719\n",
       "min        43.000000\n",
       "25%        93.000000\n",
       "50%       103.000000\n",
       "75%       118.000000\n",
       "max       320.000000\n",
       "Name: runtime, dtype: float64"
      ]
     },
     "execution_count": 216,
     "metadata": {},
     "output_type": "execute_result"
    }
   ],
   "source": [
    "cluster_features.runtime.describe()"
   ]
  },
  {
   "cell_type": "code",
   "execution_count": 217,
   "metadata": {},
   "outputs": [
    {
     "data": {
      "text/plain": [
       "count    2.765000e+03\n",
       "mean     1.427089e+07\n",
       "std      3.146838e+07\n",
       "min      0.000000e+00\n",
       "25%      0.000000e+00\n",
       "50%      0.000000e+00\n",
       "75%      1.400000e+07\n",
       "max      3.800000e+08\n",
       "Name: budget, dtype: float64"
      ]
     },
     "execution_count": 217,
     "metadata": {},
     "output_type": "execute_result"
    }
   ],
   "source": [
    "cluster_features.budget.describe()"
   ]
  },
  {
   "cell_type": "markdown",
   "metadata": {},
   "source": [
    "Cette fonction calcule les similarités entre 2 Films. Plus les valeurs sont proches de 0, plus les films ont de points communs et plus elles sont proches de 1, plus ils sont différents (peut-être changer le nom ? instinctivement, j'aurais pensé que pour être très similaire il fallait un score élevé)\n",
    "\n",
    "discuter de la manière de les calculer ?\n",
    "mettre formule pour dire d'où viennent les std pris"
   ]
  },
  {
   "cell_type": "code",
   "execution_count": 220,
   "metadata": {},
   "outputs": [],
   "source": [
    "def similarity_vect(mov1, mov2):\n",
    "    m1 = mov1.iloc[0]\n",
    "    m2 = mov2.iloc[0]\n",
    "    simi_vect = pd.Series([])\n",
    "    \n",
    "    # SIMILARITIES IN GENRES\n",
    "    \n",
    "    g1 = m1.genres\n",
    "    g2 = m2.genres\n",
    "    if list(g1) and list(g2):\n",
    "        g3 = np.append(g1, g2)\n",
    "        simi_vect['genres'] = 2 * len(np.unique(g3)) / len(g3) - 1 # CHANGER PEUT ETRE\n",
    "    else:\n",
    "        simi_vect['genres'] = 1 #si un film n'a pas de genre donné, la distance est maximisée\n",
    "        \n",
    "        # SIMILARITIES IN KEYWORDS\n",
    "    \n",
    "    k1 = m1.keywords\n",
    "    k2 = m2.keywords\n",
    "    if list(k1) and list(k2):\n",
    "        k3 = np.append(k1, k2)\n",
    "        simi_vect['keywords'] = 2 * len(np.unique(k3)) / len(k3) - 1 # CHANGER PEUT ETRE\n",
    "    else:\n",
    "        simi_vect['keywords'] = 1\n",
    "        \n",
    "    #SIMILARITIES FOR THE RELEASE DATE\n",
    "    \n",
    "    simi_vect['release_date'] = abs(m1.release_date - m2.release_date) / MAX_YEAR #\n",
    "    \n",
    "    #SIMILARITIES IN PRODUCTION COUNTRIES\n",
    "    \n",
    "    p1 = m1.production_countries\n",
    "    p2 = m2.production_countries\n",
    "    if list(p1) and list(p2):\n",
    "        p3 = []\n",
    "        p3.extend(p1)\n",
    "        p3.extend(p2)\n",
    "        simi_vect['production_countries'] = 2 * len(np.unique(p3)) / len(p3) - 1 # Changer aussi peut etre\n",
    "    else:\n",
    "        simi_vect['production_countries'] = 1\n",
    "    \n",
    "    #SIMILARITIES FOR THE LANGUAGE\n",
    "    \n",
    "    simi_vect['original_language'] = int(not m1.original_language == m2.original_language)\n",
    "    \n",
    "    #SIMILARITIES FOR THE RUNTIME\n",
    "    \n",
    "    r1 = m1.runtime\n",
    "    r2 = m2.runtime\n",
    "    #j'ai supprimé les films trop courts comme il y en avait très peu\n",
    "    #if r1 == 0 or r2 == 0:\n",
    "    #    simi_vect['runtime'] = 1 # Changer peut etre\n",
    "    #else:\n",
    "    simi_vect['runtime'] = min(1, abs(r1 - r2) / 55) # Choix 2 * std\n",
    "    \n",
    "    #SIMILARITIES FOR THE BUDGET\n",
    "    \n",
    "    b1 = m1.budget\n",
    "    b2 = m2.budget\n",
    "    if b1 == 0 or b2 == 0:\n",
    "        simi_vect['budget'] = 1 # Changer peut etre\n",
    "    else:\n",
    "        simi_vect['budget'] = min(1, abs(b1 - b2) / (3 * 1.1e+07)) # La aussi (3 * ecart type ~ arbitraire)\n",
    "    \n",
    "    return simi_vect"
   ]
  },
  {
   "cell_type": "code",
   "execution_count": 222,
   "metadata": {},
   "outputs": [
    {
     "name": "stdout",
     "output_type": "stream",
     "text": [
      "movieId                                                              2331\n",
      "genres                                                           [36, 18]\n",
      "keywords                [186, 2292, 2974, 3034, 3036, 3902, 6506, 1100...\n",
      "release_date                                                         1999\n",
      "production_countries                                     [CZ, DE, IT, US]\n",
      "original_language                                                      en\n",
      "runtime                                                               240\n",
      "budget                                                           20000000\n",
      "Name: 2823, dtype: object\n",
      "movieId                                           524\n",
      "genres                                       [18, 80]\n",
      "keywords                [383, 726, 1228, 2635, 33625]\n",
      "release_date                                     1995\n",
      "production_countries                         [FR, US]\n",
      "original_language                                  en\n",
      "runtime                                           178\n",
      "budget                                       52000000\n",
      "Name: 3, dtype: object\n"
     ]
    },
    {
     "data": {
      "text/plain": [
       "genres                  0.500000\n",
       "keywords                1.000000\n",
       "release_date            0.039604\n",
       "production_countries    0.666667\n",
       "original_language       0.000000\n",
       "runtime                 1.000000\n",
       "budget                  0.969697\n",
       "dtype: float64"
      ]
     },
     "execution_count": 222,
     "metadata": {},
     "output_type": "execute_result"
    }
   ],
   "source": [
    "mov1 = cluster_features[cluster_features.movieId == 2331]\n",
    "mov2 = cluster_features[cluster_features.movieId == 524]\n",
    "#print(mov1)\n",
    "print(mov1.iloc[0])\n",
    "print(mov2.iloc[0])\n",
    "\n",
    "similarity_vect(mov1,mov2)\n",
    "\n",
    "#pourquoi runtime à 1 ici ?"
   ]
  },
  {
   "cell_type": "markdown",
   "metadata": {},
   "source": [
    "Cette fonction sert à donner des poids à chaque caractéristique."
   ]
  },
  {
   "cell_type": "code",
   "execution_count": 223,
   "metadata": {},
   "outputs": [],
   "source": [
    "def weight_vect(simi_vect, w_gen=3, w_key=3, w_rel=2, w_pro=1, w_ori=1, w_run=1, w_bud=1):\n",
    "    weighted_vect = simi_vect.copy()\n",
    "    weighted_vect.genres *= w_gen\n",
    "    weighted_vect.keywords *= w_key\n",
    "    weighted_vect.release_date *= w_rel\n",
    "    weighted_vect.production_countries *= w_pro\n",
    "    weighted_vect.original_language *= w_ori\n",
    "    weighted_vect.runtime *= w_run\n",
    "    weighted_vect.budget *= w_bud\n",
    "    \n",
    "    return weighted_vect"
   ]
  },
  {
   "cell_type": "code",
   "execution_count": 224,
   "metadata": {},
   "outputs": [],
   "source": [
    "def movie_distance(m1, m2, distance=lambda x: np.linalg.norm(x, ord=1)):\n",
    "    simi_vect = similarity_vect(m1, m2)\n",
    "    weighted_vect = weight_vect(simi_vect)\n",
    "    return distance(weighted_vect)"
   ]
  },
  {
   "cell_type": "code",
   "execution_count": 225,
   "metadata": {},
   "outputs": [
    {
     "data": {
      "text/plain": [
       "7.215571557155716"
      ]
     },
     "execution_count": 225,
     "metadata": {},
     "output_type": "execute_result"
    }
   ],
   "source": [
    "movie_distance(mov1,mov2)"
   ]
  },
  {
   "cell_type": "code",
   "execution_count": 228,
   "metadata": {},
   "outputs": [],
   "source": [
    "def compute_dist_matrix(clu_fea):\n",
    "    dist = []\n",
    "    movies_id = clu_fea.movieId.unique() #unique() à retirer ? je pense qu'il n'est pas utile ?\n",
    "    couples = []\n",
    "    for i in range(len(movies_id)):\n",
    "        u = movies_id[i]\n",
    "        for j in range(i + 1, len(movies_id)):\n",
    "            v = movies_id[j]\n",
    "            couples.append((str(u), str(v)))\n",
    "            dist.append(movie_distance(clu_fea[clu_fea.movieId == u], clu_fea[clu_fea.movieId == v]))\n",
    "    \n",
    "    index = pd.MultiIndex.from_tuples(couples, names=['u', 'v'])\n",
    "    dist_mat = pd.Series(dist, index=index)\n",
    "    \n",
    "    return dist_mat"
   ]
  },
  {
   "cell_type": "code",
   "execution_count": 233,
   "metadata": {},
   "outputs": [],
   "source": [
    "mini_test = cluster_features.sample(10)\n",
    "petit_test = cluster_features.sample(100)"
   ]
  },
  {
   "cell_type": "code",
   "execution_count": 231,
   "metadata": {},
   "outputs": [],
   "source": [
    "#start_time = time.time()\n",
    "#m = compute_dist_matrix(cluster_features) # environ 1 heure\n",
    "#print(m)\n",
    "#print(\"Temps d execution : %s secondes ---\" % (time.time() - start_time))"
   ]
  },
  {
   "cell_type": "code",
   "execution_count": 234,
   "metadata": {},
   "outputs": [
    {
     "name": "stdout",
     "output_type": "stream",
     "text": [
      "u      v    \n",
      "2055   80219    7.636364\n",
      "       4932     8.621962\n",
      "       766      7.551155\n",
      "       26663    8.890729\n",
      "       844      8.504650\n",
      "       2694     9.841224\n",
      "       2290     7.924662\n",
      "       1499     7.343474\n",
      "       3602     7.913951\n",
      "80219  4932     7.985599\n",
      "       766      7.636004\n",
      "       26663    6.254365\n",
      "       844      8.474347\n",
      "       2694     8.004860\n",
      "       2290     6.670117\n",
      "       1499     7.676808\n",
      "       3602     7.277588\n",
      "4932   766      6.440504\n",
      "       26663    7.523312\n",
      "       844      9.459946\n",
      "       2694     8.699550\n",
      "       2290     7.497300\n",
      "       1499     7.225458\n",
      "       3602     7.826823\n",
      "766    26663    8.163816\n",
      "       844      8.283511\n",
      "       2694     9.549955\n",
      "       2290     7.347705\n",
      "       1499     5.334690\n",
      "       3602     5.977228\n",
      "26663  844      9.528713\n",
      "       2694     8.668317\n",
      "       2290     7.466067\n",
      "       1499     8.244224\n",
      "       3602     8.241044\n",
      "844    2694     6.591985\n",
      "       2290     8.155503\n",
      "       1499     7.604835\n",
      "       3602     9.712331\n",
      "2694   2290     8.574977\n",
      "       1499     9.257426\n",
      "       3602     9.072727\n",
      "2290   1499     7.488509\n",
      "       3602     8.147705\n",
      "1499   3602     7.663486\n",
      "dtype: float64\n",
      "Temps d execution : 0.7556962966918945 secondes ---\n"
     ]
    }
   ],
   "source": [
    "start_time = time.time()\n",
    "ma = compute_dist_matrix(mini_test)\n",
    "print(ma)\n",
    "print(\"Temps d execution : %s secondes ---\" % (time.time() - start_time))"
   ]
  },
  {
   "cell_type": "code",
   "execution_count": 235,
   "metadata": {},
   "outputs": [
    {
     "name": "stdout",
     "output_type": "stream",
     "text": [
      "u      v    \n",
      "1665   4645      9.482088\n",
      "       43177     7.097210\n",
      "       1694      7.577858\n",
      "       6547      9.602880\n",
      "       8392      9.518452\n",
      "                  ...    \n",
      "36527  8986      8.236004\n",
      "       563       8.677228\n",
      "8420   8986      8.488839\n",
      "       563      10.430063\n",
      "8986   563       7.441224\n",
      "Length: 4950, dtype: float64\n",
      "Temps d execution : 82.81663656234741 secondes ---\n"
     ]
    }
   ],
   "source": [
    "start_time = time.time()\n",
    "mat = compute_dist_matrix(petit_test)\n",
    "print(mat)\n",
    "print(\"Temps d execution : %s secondes ---\" % (time.time() - start_time))"
   ]
  },
  {
   "cell_type": "code",
   "execution_count": 39,
   "metadata": {},
   "outputs": [],
   "source": [
    "class dendrogram:\n",
    "    def __init__(self, leaf=None):\n",
    "        self.leaf = leaf\n",
    "        self.leaf_nb = 1\n",
    "        self.father = None\n",
    "        self.left = None\n",
    "        self.right = None\n",
    "    \n",
    "    def set_leaf_nb(self):\n",
    "        total_leaf_nb = 0\n",
    "        if self.left is not None:\n",
    "            total_leaf_nb += self.left.leaf_nb\n",
    "        if self.right is not None:\n",
    "            total_leaf_nb += self.right.leaf_nb\n",
    "        self.leaf_nb = max(1, total_leaf_nb)\n",
    "    \n",
    "    def get_id_list(self):\n",
    "        id_list = []\n",
    "        def prefix(node):\n",
    "            if node.leaf is not None:\n",
    "                id_list.append(node.leaf)\n",
    "            else:\n",
    "                prefix(node.right)\n",
    "                prefix(node.left)\n",
    "        \n",
    "        prefix(self)\n",
    "        return id_list\n",
    "    \n",
    "    def get_root(self):\n",
    "        tmp = self\n",
    "        while tmp.father is not None: tmp = tmp.father\n",
    "        return tmp"
   ]
  },
  {
   "cell_type": "code",
   "execution_count": 40,
   "metadata": {},
   "outputs": [],
   "source": [
    "cluster_features[\"dendrogram\"] = cluster_features.movieId.apply(lambda x: dendrogram(leaf=x))"
   ]
  },
  {
   "cell_type": "code",
   "execution_count": 41,
   "metadata": {},
   "outputs": [],
   "source": [
    "def weighted_mean(x1, w1, x2, w2):\n",
    "    return (w1 * x1 + w2 * x2) / (w1 + w2)"
   ]
  },
  {
   "cell_type": "code",
   "execution_count": 42,
   "metadata": {},
   "outputs": [],
   "source": [
    "def clusterize(dist_mat, clu_fea):\n",
    "    \n",
    "    size_mat = clu_fea.shape[0]\n",
    "    for cpt in range(1, size_mat):\n",
    "        id_list = [tup[1] for tup in dist_mat.index[: size_mat - cpt]]\n",
    "        id_list.append(dist_mat.index[0][0])\n",
    "        index_str1, index_str2 = pd.Series.idxmin(dist_mat)\n",
    "        index1, index2 = int(index_str1), int(index_str2)\n",
    "        mov1 = clu_fea[clu_fea.movieId == index1].iloc[0]\n",
    "        mov2 = clu_fea[clu_fea.movieId == index2].iloc[0]\n",
    "        tmp1 = mov1.dendrogram\n",
    "        tmp2 = mov2.dendrogram\n",
    "        while tmp1.father is not None: tmp1 = tmp1.father\n",
    "        while tmp2.father is not None: tmp2 = tmp2.father\n",
    "        tmp3 = dendrogram()\n",
    "        tmp3.left = tmp1\n",
    "        tmp3.right = tmp2\n",
    "        tmp3.set_leaf_nb()\n",
    "        tmp1.father = tmp3\n",
    "        tmp2.father = tmp3\n",
    "        for x in id_list:\n",
    "            if x == index_str1 or x == index_str2 : continue\n",
    "            if (index_str1, x) in dist_mat.index:\n",
    "                if (index_str2, x) in dist_mat:\n",
    "                    tmp = weighted_mean(dist_mat.loc[index_str1, x], tmp1.leaf_nb,\n",
    "                                        dist_mat.loc[index_str2, x], tmp2.leaf_nb)\n",
    "                else:\n",
    "                    tmp = weighted_mean(dist_mat.loc[index_str1, x], tmp1.leaf_nb,\n",
    "                                        dist_mat.loc[x, index_str2], tmp2.leaf_nb)\n",
    "                dist_mat.loc[index_str1, x] = tmp\n",
    "            else:\n",
    "                if (index_str2, x) in dist_mat:\n",
    "                    tmp = weighted_mean(dist_mat.loc[x, index_str1], tmp1.leaf_nb,\n",
    "                                        dist_mat.loc[index_str2, x], tmp2.leaf_nb)\n",
    "                else:\n",
    "                    tmp = weighted_mean(dist_mat.loc[x, index_str1], tmp1.leaf_nb,\n",
    "                                        dist_mat.loc[x, index_str2], tmp2.leaf_nb)\n",
    "                dist_mat.loc[x, index_str1] = tmp\n",
    "        dist_mat = dist_mat.drop(index_str2, level='u')\n",
    "        dist_mat = dist_mat.drop(index_str2, level='v')\n",
    "    \n",
    "    return clu_fea.iloc[0].dendrogram.get_root()"
   ]
  },
  {
   "cell_type": "code",
   "execution_count": 43,
   "metadata": {},
   "outputs": [
    {
     "data": {
      "text/html": [
       "<div>\n",
       "<style scoped>\n",
       "    .dataframe tbody tr th:only-of-type {\n",
       "        vertical-align: middle;\n",
       "    }\n",
       "\n",
       "    .dataframe tbody tr th {\n",
       "        vertical-align: top;\n",
       "    }\n",
       "\n",
       "    .dataframe thead th {\n",
       "        text-align: right;\n",
       "    }\n",
       "</style>\n",
       "<table border=\"1\" class=\"dataframe\">\n",
       "  <thead>\n",
       "    <tr style=\"text-align: right;\">\n",
       "      <th></th>\n",
       "      <th>movieId</th>\n",
       "      <th>genres</th>\n",
       "      <th>release_date</th>\n",
       "      <th>production_countries</th>\n",
       "      <th>original_language</th>\n",
       "      <th>runtime</th>\n",
       "      <th>budget</th>\n",
       "      <th>dendrogram</th>\n",
       "    </tr>\n",
       "  </thead>\n",
       "  <tbody>\n",
       "    <tr>\n",
       "      <td>0</td>\n",
       "      <td>949</td>\n",
       "      <td>[28, 80, 18, 53]</td>\n",
       "      <td>1995</td>\n",
       "      <td>[US]</td>\n",
       "      <td>en</td>\n",
       "      <td>170.0</td>\n",
       "      <td>60000000</td>\n",
       "      <td>&lt;__main__.dendrogram object at 0x000001B1C9A93...</td>\n",
       "    </tr>\n",
       "    <tr>\n",
       "      <td>1</td>\n",
       "      <td>710</td>\n",
       "      <td>[12, 28, 53]</td>\n",
       "      <td>1995</td>\n",
       "      <td>[GB, US]</td>\n",
       "      <td>en</td>\n",
       "      <td>130.0</td>\n",
       "      <td>58000000</td>\n",
       "      <td>&lt;__main__.dendrogram object at 0x000001B1C9A93...</td>\n",
       "    </tr>\n",
       "    <tr>\n",
       "      <td>2</td>\n",
       "      <td>1408</td>\n",
       "      <td>[28, 12]</td>\n",
       "      <td>1995</td>\n",
       "      <td>[FR, DE, IT, US]</td>\n",
       "      <td>en</td>\n",
       "      <td>119.0</td>\n",
       "      <td>98000000</td>\n",
       "      <td>&lt;__main__.dendrogram object at 0x000001B1C9A93...</td>\n",
       "    </tr>\n",
       "    <tr>\n",
       "      <td>3</td>\n",
       "      <td>524</td>\n",
       "      <td>[18, 80]</td>\n",
       "      <td>1995</td>\n",
       "      <td>[FR, US]</td>\n",
       "      <td>en</td>\n",
       "      <td>178.0</td>\n",
       "      <td>52000000</td>\n",
       "      <td>&lt;__main__.dendrogram object at 0x000001B1C9A93...</td>\n",
       "    </tr>\n",
       "    <tr>\n",
       "      <td>4</td>\n",
       "      <td>4584</td>\n",
       "      <td>[18, 10749]</td>\n",
       "      <td>1995</td>\n",
       "      <td>[GB, US]</td>\n",
       "      <td>en</td>\n",
       "      <td>136.0</td>\n",
       "      <td>16500000</td>\n",
       "      <td>&lt;__main__.dendrogram object at 0x000001B1C9A93...</td>\n",
       "    </tr>\n",
       "  </tbody>\n",
       "</table>\n",
       "</div>"
      ],
      "text/plain": [
       "   movieId            genres  release_date production_countries  \\\n",
       "0      949  [28, 80, 18, 53]          1995                 [US]   \n",
       "1      710      [12, 28, 53]          1995             [GB, US]   \n",
       "2     1408          [28, 12]          1995     [FR, DE, IT, US]   \n",
       "3      524          [18, 80]          1995             [FR, US]   \n",
       "4     4584       [18, 10749]          1995             [GB, US]   \n",
       "\n",
       "  original_language  runtime    budget  \\\n",
       "0                en    170.0  60000000   \n",
       "1                en    130.0  58000000   \n",
       "2                en    119.0  98000000   \n",
       "3                en    178.0  52000000   \n",
       "4                en    136.0  16500000   \n",
       "\n",
       "                                          dendrogram  \n",
       "0  <__main__.dendrogram object at 0x000001B1C9A93...  \n",
       "1  <__main__.dendrogram object at 0x000001B1C9A93...  \n",
       "2  <__main__.dendrogram object at 0x000001B1C9A93...  \n",
       "3  <__main__.dendrogram object at 0x000001B1C9A93...  \n",
       "4  <__main__.dendrogram object at 0x000001B1C9A93...  "
      ]
     },
     "execution_count": 43,
     "metadata": {},
     "output_type": "execute_result"
    }
   ],
   "source": [
    "clu_test = cluster_features.iloc[:10]\n",
    "dist_test = compute_dist_matrix(clu_test)\n",
    "clu_test.head()"
   ]
  },
  {
   "cell_type": "code",
   "execution_count": 44,
   "metadata": {},
   "outputs": [],
   "source": [
    "root = clusterize(dist_test, clu_test)"
   ]
  },
  {
   "cell_type": "code",
   "execution_count": null,
   "metadata": {},
   "outputs": [],
   "source": []
  }
 ],
 "metadata": {
  "kernelspec": {
   "display_name": "Python 3",
   "language": "python",
   "name": "python3"
  },
  "language_info": {
   "codemirror_mode": {
    "name": "ipython",
    "version": 3
   },
   "file_extension": ".py",
   "mimetype": "text/x-python",
   "name": "python",
   "nbconvert_exporter": "python",
   "pygments_lexer": "ipython3",
   "version": "3.7.4"
  }
 },
 "nbformat": 4,
 "nbformat_minor": 2
}
