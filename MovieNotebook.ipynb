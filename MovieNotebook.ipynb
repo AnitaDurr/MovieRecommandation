{
 "cells": [
  {
   "cell_type": "markdown",
   "metadata": {},
   "source": [
    "# Construction d'un système de recommandation\n",
    "\n",
    "Nous avons décidé d'orienter notre projet sur la recommendation de films.\n",
    "En effet durant ce confinement, nous avons eu le temps de visionner beaucoup de films,\n",
    "mais nous nous sommes rendus compte que nous passions quasiment autant de temps\n",
    "à choisir le film qu'à le regarder. D'où la nécessité de créer un système de re-\n",
    "commendations afin d'optimiser notre temps de visionnage.\n",
    "Nous avons chercher une base de données assez exploitable afin de mener à bien\n",
    "notre projet. Nous nous sommes basés sur la base de données de 'The Movies Dataset'."
   ]
  },
  {
   "cell_type": "markdown",
   "metadata": {},
   "source": [
    "# Différents systèmes de recommandation\n",
    "\n",
    "- [x] popularity based = moyenne simple\n",
    "- [x] memory-based (user- et item- based)\n",
    "- [x] hybride : popularity/collabo\n",
    "- [x] clustering\n",
    "- [ ] hybride : cluster/collabo\n",
    "- [ ] model-based (matrix factorisation, optimisation avec descente de gradient)\n",
    "    - [x] descente de gradient\n",
    "    - [ ] cross-validation pour tuner les hyperparamètres\n",
    "- [ ] hybride : cluster/model\n",
    "- [ ] user-centered linear approach = descente de gradient (même pb d'opti que model-based, mais on donne les infos des films)\n"
   ]
  },
  {
   "cell_type": "code",
   "execution_count": 1,
   "metadata": {},
   "outputs": [],
   "source": [
    "import logging\n",
    "import numpy as np\n",
    "import matplotlib.pyplot as plt\n",
    "import pandas as pd\n",
    "import math\n",
    "import re\n",
    "from time import time\n",
    "from ast import literal_eval"
   ]
  },
  {
   "cell_type": "code",
   "execution_count": 2,
   "metadata": {
    "scrolled": true
   },
   "outputs": [],
   "source": [
    "%load_ext line_profiler"
   ]
  },
  {
   "cell_type": "markdown",
   "metadata": {},
   "source": [
    "## Fetching and cleaning data\n",
    "\n",
    "Nous utilisons deux tables de données. L'une, *movies_metadata.csv*, contient une liste de films et des informations relativesau genre, date de sortie etc. "
   ]
  },
  {
   "cell_type": "code",
   "execution_count": 3,
   "metadata": {},
   "outputs": [
    {
     "name": "stderr",
     "output_type": "stream",
     "text": [
      "C:\\Users\\VICTOR\\Anaconda3\\lib\\site-packages\\IPython\\core\\interactiveshell.py:3058: DtypeWarning: Columns (10) have mixed types. Specify dtype option on import or set low_memory=False.\n",
      "  interactivity=interactivity, compiler=compiler, result=result)\n"
     ]
    }
   ],
   "source": [
    "movies = pd.read_csv(\"movies_metadata.csv\")\n",
    "ratings = pd.read_csv(\"ratings_small.csv\")\n",
    "keywords = pd.read_csv(\"keywords.csv\")\n",
    "credits = pd.read_csv(\"tmdb_5000_credits.csv\")\n",
    "link = pd.read_csv(\"links_small.csv\")"
   ]
  },
  {
   "cell_type": "code",
   "execution_count": 4,
   "metadata": {
    "scrolled": true
   },
   "outputs": [
    {
     "data": {
      "text/html": [
       "<div>\n",
       "<style scoped>\n",
       "    .dataframe tbody tr th:only-of-type {\n",
       "        vertical-align: middle;\n",
       "    }\n",
       "\n",
       "    .dataframe tbody tr th {\n",
       "        vertical-align: top;\n",
       "    }\n",
       "\n",
       "    .dataframe thead th {\n",
       "        text-align: right;\n",
       "    }\n",
       "</style>\n",
       "<table border=\"1\" class=\"dataframe\">\n",
       "  <thead>\n",
       "    <tr style=\"text-align: right;\">\n",
       "      <th></th>\n",
       "      <th>adult</th>\n",
       "      <th>belongs_to_collection</th>\n",
       "      <th>budget</th>\n",
       "      <th>genres</th>\n",
       "      <th>homepage</th>\n",
       "      <th>id</th>\n",
       "      <th>imdb_id</th>\n",
       "      <th>original_language</th>\n",
       "      <th>original_title</th>\n",
       "      <th>overview</th>\n",
       "      <th>...</th>\n",
       "      <th>release_date</th>\n",
       "      <th>revenue</th>\n",
       "      <th>runtime</th>\n",
       "      <th>spoken_languages</th>\n",
       "      <th>status</th>\n",
       "      <th>tagline</th>\n",
       "      <th>title</th>\n",
       "      <th>video</th>\n",
       "      <th>vote_average</th>\n",
       "      <th>vote_count</th>\n",
       "    </tr>\n",
       "  </thead>\n",
       "  <tbody>\n",
       "    <tr>\n",
       "      <td>0</td>\n",
       "      <td>False</td>\n",
       "      <td>{'id': 10194, 'name': 'Toy Story Collection', ...</td>\n",
       "      <td>30000000</td>\n",
       "      <td>[{'id': 16, 'name': 'Animation'}, {'id': 35, '...</td>\n",
       "      <td>http://toystory.disney.com/toy-story</td>\n",
       "      <td>862</td>\n",
       "      <td>tt0114709</td>\n",
       "      <td>en</td>\n",
       "      <td>Toy Story</td>\n",
       "      <td>Led by Woody, Andy's toys live happily in his ...</td>\n",
       "      <td>...</td>\n",
       "      <td>1995-10-30</td>\n",
       "      <td>373554033.0</td>\n",
       "      <td>81.0</td>\n",
       "      <td>[{'iso_639_1': 'en', 'name': 'English'}]</td>\n",
       "      <td>Released</td>\n",
       "      <td>NaN</td>\n",
       "      <td>Toy Story</td>\n",
       "      <td>False</td>\n",
       "      <td>7.7</td>\n",
       "      <td>5415.0</td>\n",
       "    </tr>\n",
       "    <tr>\n",
       "      <td>1</td>\n",
       "      <td>False</td>\n",
       "      <td>NaN</td>\n",
       "      <td>65000000</td>\n",
       "      <td>[{'id': 12, 'name': 'Adventure'}, {'id': 14, '...</td>\n",
       "      <td>NaN</td>\n",
       "      <td>8844</td>\n",
       "      <td>tt0113497</td>\n",
       "      <td>en</td>\n",
       "      <td>Jumanji</td>\n",
       "      <td>When siblings Judy and Peter discover an encha...</td>\n",
       "      <td>...</td>\n",
       "      <td>1995-12-15</td>\n",
       "      <td>262797249.0</td>\n",
       "      <td>104.0</td>\n",
       "      <td>[{'iso_639_1': 'en', 'name': 'English'}, {'iso...</td>\n",
       "      <td>Released</td>\n",
       "      <td>Roll the dice and unleash the excitement!</td>\n",
       "      <td>Jumanji</td>\n",
       "      <td>False</td>\n",
       "      <td>6.9</td>\n",
       "      <td>2413.0</td>\n",
       "    </tr>\n",
       "    <tr>\n",
       "      <td>2</td>\n",
       "      <td>False</td>\n",
       "      <td>{'id': 119050, 'name': 'Grumpy Old Men Collect...</td>\n",
       "      <td>0</td>\n",
       "      <td>[{'id': 10749, 'name': 'Romance'}, {'id': 35, ...</td>\n",
       "      <td>NaN</td>\n",
       "      <td>15602</td>\n",
       "      <td>tt0113228</td>\n",
       "      <td>en</td>\n",
       "      <td>Grumpier Old Men</td>\n",
       "      <td>A family wedding reignites the ancient feud be...</td>\n",
       "      <td>...</td>\n",
       "      <td>1995-12-22</td>\n",
       "      <td>0.0</td>\n",
       "      <td>101.0</td>\n",
       "      <td>[{'iso_639_1': 'en', 'name': 'English'}]</td>\n",
       "      <td>Released</td>\n",
       "      <td>Still Yelling. Still Fighting. Still Ready for...</td>\n",
       "      <td>Grumpier Old Men</td>\n",
       "      <td>False</td>\n",
       "      <td>6.5</td>\n",
       "      <td>92.0</td>\n",
       "    </tr>\n",
       "    <tr>\n",
       "      <td>3</td>\n",
       "      <td>False</td>\n",
       "      <td>NaN</td>\n",
       "      <td>16000000</td>\n",
       "      <td>[{'id': 35, 'name': 'Comedy'}, {'id': 18, 'nam...</td>\n",
       "      <td>NaN</td>\n",
       "      <td>31357</td>\n",
       "      <td>tt0114885</td>\n",
       "      <td>en</td>\n",
       "      <td>Waiting to Exhale</td>\n",
       "      <td>Cheated on, mistreated and stepped on, the wom...</td>\n",
       "      <td>...</td>\n",
       "      <td>1995-12-22</td>\n",
       "      <td>81452156.0</td>\n",
       "      <td>127.0</td>\n",
       "      <td>[{'iso_639_1': 'en', 'name': 'English'}]</td>\n",
       "      <td>Released</td>\n",
       "      <td>Friends are the people who let you be yourself...</td>\n",
       "      <td>Waiting to Exhale</td>\n",
       "      <td>False</td>\n",
       "      <td>6.1</td>\n",
       "      <td>34.0</td>\n",
       "    </tr>\n",
       "    <tr>\n",
       "      <td>4</td>\n",
       "      <td>False</td>\n",
       "      <td>{'id': 96871, 'name': 'Father of the Bride Col...</td>\n",
       "      <td>0</td>\n",
       "      <td>[{'id': 35, 'name': 'Comedy'}]</td>\n",
       "      <td>NaN</td>\n",
       "      <td>11862</td>\n",
       "      <td>tt0113041</td>\n",
       "      <td>en</td>\n",
       "      <td>Father of the Bride Part II</td>\n",
       "      <td>Just when George Banks has recovered from his ...</td>\n",
       "      <td>...</td>\n",
       "      <td>1995-02-10</td>\n",
       "      <td>76578911.0</td>\n",
       "      <td>106.0</td>\n",
       "      <td>[{'iso_639_1': 'en', 'name': 'English'}]</td>\n",
       "      <td>Released</td>\n",
       "      <td>Just When His World Is Back To Normal... He's ...</td>\n",
       "      <td>Father of the Bride Part II</td>\n",
       "      <td>False</td>\n",
       "      <td>5.7</td>\n",
       "      <td>173.0</td>\n",
       "    </tr>\n",
       "  </tbody>\n",
       "</table>\n",
       "<p>5 rows × 24 columns</p>\n",
       "</div>"
      ],
      "text/plain": [
       "   adult                              belongs_to_collection    budget  \\\n",
       "0  False  {'id': 10194, 'name': 'Toy Story Collection', ...  30000000   \n",
       "1  False                                                NaN  65000000   \n",
       "2  False  {'id': 119050, 'name': 'Grumpy Old Men Collect...         0   \n",
       "3  False                                                NaN  16000000   \n",
       "4  False  {'id': 96871, 'name': 'Father of the Bride Col...         0   \n",
       "\n",
       "                                              genres  \\\n",
       "0  [{'id': 16, 'name': 'Animation'}, {'id': 35, '...   \n",
       "1  [{'id': 12, 'name': 'Adventure'}, {'id': 14, '...   \n",
       "2  [{'id': 10749, 'name': 'Romance'}, {'id': 35, ...   \n",
       "3  [{'id': 35, 'name': 'Comedy'}, {'id': 18, 'nam...   \n",
       "4                     [{'id': 35, 'name': 'Comedy'}]   \n",
       "\n",
       "                               homepage     id    imdb_id original_language  \\\n",
       "0  http://toystory.disney.com/toy-story    862  tt0114709                en   \n",
       "1                                   NaN   8844  tt0113497                en   \n",
       "2                                   NaN  15602  tt0113228                en   \n",
       "3                                   NaN  31357  tt0114885                en   \n",
       "4                                   NaN  11862  tt0113041                en   \n",
       "\n",
       "                original_title  \\\n",
       "0                    Toy Story   \n",
       "1                      Jumanji   \n",
       "2             Grumpier Old Men   \n",
       "3            Waiting to Exhale   \n",
       "4  Father of the Bride Part II   \n",
       "\n",
       "                                            overview  ... release_date  \\\n",
       "0  Led by Woody, Andy's toys live happily in his ...  ...   1995-10-30   \n",
       "1  When siblings Judy and Peter discover an encha...  ...   1995-12-15   \n",
       "2  A family wedding reignites the ancient feud be...  ...   1995-12-22   \n",
       "3  Cheated on, mistreated and stepped on, the wom...  ...   1995-12-22   \n",
       "4  Just when George Banks has recovered from his ...  ...   1995-02-10   \n",
       "\n",
       "       revenue runtime                                   spoken_languages  \\\n",
       "0  373554033.0    81.0           [{'iso_639_1': 'en', 'name': 'English'}]   \n",
       "1  262797249.0   104.0  [{'iso_639_1': 'en', 'name': 'English'}, {'iso...   \n",
       "2          0.0   101.0           [{'iso_639_1': 'en', 'name': 'English'}]   \n",
       "3   81452156.0   127.0           [{'iso_639_1': 'en', 'name': 'English'}]   \n",
       "4   76578911.0   106.0           [{'iso_639_1': 'en', 'name': 'English'}]   \n",
       "\n",
       "     status                                            tagline  \\\n",
       "0  Released                                                NaN   \n",
       "1  Released          Roll the dice and unleash the excitement!   \n",
       "2  Released  Still Yelling. Still Fighting. Still Ready for...   \n",
       "3  Released  Friends are the people who let you be yourself...   \n",
       "4  Released  Just When His World Is Back To Normal... He's ...   \n",
       "\n",
       "                         title  video vote_average vote_count  \n",
       "0                    Toy Story  False          7.7     5415.0  \n",
       "1                      Jumanji  False          6.9     2413.0  \n",
       "2             Grumpier Old Men  False          6.5       92.0  \n",
       "3            Waiting to Exhale  False          6.1       34.0  \n",
       "4  Father of the Bride Part II  False          5.7      173.0  \n",
       "\n",
       "[5 rows x 24 columns]"
      ]
     },
     "execution_count": 4,
     "metadata": {},
     "output_type": "execute_result"
    }
   ],
   "source": [
    "movies.head()"
   ]
  },
  {
   "cell_type": "code",
   "execution_count": 5,
   "metadata": {},
   "outputs": [
    {
     "data": {
      "text/html": [
       "<div>\n",
       "<style scoped>\n",
       "    .dataframe tbody tr th:only-of-type {\n",
       "        vertical-align: middle;\n",
       "    }\n",
       "\n",
       "    .dataframe tbody tr th {\n",
       "        vertical-align: top;\n",
       "    }\n",
       "\n",
       "    .dataframe thead th {\n",
       "        text-align: right;\n",
       "    }\n",
       "</style>\n",
       "<table border=\"1\" class=\"dataframe\">\n",
       "  <thead>\n",
       "    <tr style=\"text-align: right;\">\n",
       "      <th></th>\n",
       "      <th>id</th>\n",
       "      <th>keywords</th>\n",
       "    </tr>\n",
       "  </thead>\n",
       "  <tbody>\n",
       "    <tr>\n",
       "      <td>0</td>\n",
       "      <td>862</td>\n",
       "      <td>[{'id': 931, 'name': 'jealousy'}, {'id': 4290,...</td>\n",
       "    </tr>\n",
       "    <tr>\n",
       "      <td>1</td>\n",
       "      <td>8844</td>\n",
       "      <td>[{'id': 10090, 'name': 'board game'}, {'id': 1...</td>\n",
       "    </tr>\n",
       "    <tr>\n",
       "      <td>2</td>\n",
       "      <td>15602</td>\n",
       "      <td>[{'id': 1495, 'name': 'fishing'}, {'id': 12392...</td>\n",
       "    </tr>\n",
       "    <tr>\n",
       "      <td>3</td>\n",
       "      <td>31357</td>\n",
       "      <td>[{'id': 818, 'name': 'based on novel'}, {'id':...</td>\n",
       "    </tr>\n",
       "    <tr>\n",
       "      <td>4</td>\n",
       "      <td>11862</td>\n",
       "      <td>[{'id': 1009, 'name': 'baby'}, {'id': 1599, 'n...</td>\n",
       "    </tr>\n",
       "  </tbody>\n",
       "</table>\n",
       "</div>"
      ],
      "text/plain": [
       "      id                                           keywords\n",
       "0    862  [{'id': 931, 'name': 'jealousy'}, {'id': 4290,...\n",
       "1   8844  [{'id': 10090, 'name': 'board game'}, {'id': 1...\n",
       "2  15602  [{'id': 1495, 'name': 'fishing'}, {'id': 12392...\n",
       "3  31357  [{'id': 818, 'name': 'based on novel'}, {'id':...\n",
       "4  11862  [{'id': 1009, 'name': 'baby'}, {'id': 1599, 'n..."
      ]
     },
     "execution_count": 5,
     "metadata": {},
     "output_type": "execute_result"
    }
   ],
   "source": [
    "keywords.head()"
   ]
  },
  {
   "cell_type": "code",
   "execution_count": 6,
   "metadata": {
    "scrolled": true
   },
   "outputs": [
    {
     "data": {
      "text/html": [
       "<div>\n",
       "<style scoped>\n",
       "    .dataframe tbody tr th:only-of-type {\n",
       "        vertical-align: middle;\n",
       "    }\n",
       "\n",
       "    .dataframe tbody tr th {\n",
       "        vertical-align: top;\n",
       "    }\n",
       "\n",
       "    .dataframe thead th {\n",
       "        text-align: right;\n",
       "    }\n",
       "</style>\n",
       "<table border=\"1\" class=\"dataframe\">\n",
       "  <thead>\n",
       "    <tr style=\"text-align: right;\">\n",
       "      <th></th>\n",
       "      <th>movie_id</th>\n",
       "      <th>title</th>\n",
       "      <th>cast</th>\n",
       "      <th>crew</th>\n",
       "    </tr>\n",
       "  </thead>\n",
       "  <tbody>\n",
       "    <tr>\n",
       "      <td>0</td>\n",
       "      <td>19995</td>\n",
       "      <td>Avatar</td>\n",
       "      <td>[{\"cast_id\": 242, \"character\": \"Jake Sully\", \"...</td>\n",
       "      <td>[{\"credit_id\": \"52fe48009251416c750aca23\", \"de...</td>\n",
       "    </tr>\n",
       "    <tr>\n",
       "      <td>1</td>\n",
       "      <td>285</td>\n",
       "      <td>Pirates of the Caribbean: At World's End</td>\n",
       "      <td>[{\"cast_id\": 4, \"character\": \"Captain Jack Spa...</td>\n",
       "      <td>[{\"credit_id\": \"52fe4232c3a36847f800b579\", \"de...</td>\n",
       "    </tr>\n",
       "    <tr>\n",
       "      <td>2</td>\n",
       "      <td>206647</td>\n",
       "      <td>Spectre</td>\n",
       "      <td>[{\"cast_id\": 1, \"character\": \"James Bond\", \"cr...</td>\n",
       "      <td>[{\"credit_id\": \"54805967c3a36829b5002c41\", \"de...</td>\n",
       "    </tr>\n",
       "    <tr>\n",
       "      <td>3</td>\n",
       "      <td>49026</td>\n",
       "      <td>The Dark Knight Rises</td>\n",
       "      <td>[{\"cast_id\": 2, \"character\": \"Bruce Wayne / Ba...</td>\n",
       "      <td>[{\"credit_id\": \"52fe4781c3a36847f81398c3\", \"de...</td>\n",
       "    </tr>\n",
       "    <tr>\n",
       "      <td>4</td>\n",
       "      <td>49529</td>\n",
       "      <td>John Carter</td>\n",
       "      <td>[{\"cast_id\": 5, \"character\": \"John Carter\", \"c...</td>\n",
       "      <td>[{\"credit_id\": \"52fe479ac3a36847f813eaa3\", \"de...</td>\n",
       "    </tr>\n",
       "  </tbody>\n",
       "</table>\n",
       "</div>"
      ],
      "text/plain": [
       "   movie_id                                     title  \\\n",
       "0     19995                                    Avatar   \n",
       "1       285  Pirates of the Caribbean: At World's End   \n",
       "2    206647                                   Spectre   \n",
       "3     49026                     The Dark Knight Rises   \n",
       "4     49529                               John Carter   \n",
       "\n",
       "                                                cast  \\\n",
       "0  [{\"cast_id\": 242, \"character\": \"Jake Sully\", \"...   \n",
       "1  [{\"cast_id\": 4, \"character\": \"Captain Jack Spa...   \n",
       "2  [{\"cast_id\": 1, \"character\": \"James Bond\", \"cr...   \n",
       "3  [{\"cast_id\": 2, \"character\": \"Bruce Wayne / Ba...   \n",
       "4  [{\"cast_id\": 5, \"character\": \"John Carter\", \"c...   \n",
       "\n",
       "                                                crew  \n",
       "0  [{\"credit_id\": \"52fe48009251416c750aca23\", \"de...  \n",
       "1  [{\"credit_id\": \"52fe4232c3a36847f800b579\", \"de...  \n",
       "2  [{\"credit_id\": \"54805967c3a36829b5002c41\", \"de...  \n",
       "3  [{\"credit_id\": \"52fe4781c3a36847f81398c3\", \"de...  \n",
       "4  [{\"credit_id\": \"52fe479ac3a36847f813eaa3\", \"de...  "
      ]
     },
     "execution_count": 6,
     "metadata": {},
     "output_type": "execute_result"
    }
   ],
   "source": [
    "credits.head()"
   ]
  },
  {
   "cell_type": "code",
   "execution_count": 4,
   "metadata": {},
   "outputs": [],
   "source": [
    "def filter_correct_id(word):\n",
    "    if not isinstance(word, str) or re.fullmatch(r'[0-9]+', word):\n",
    "        return word\n",
    "    return \"wrong_id\""
   ]
  },
  {
   "cell_type": "code",
   "execution_count": 5,
   "metadata": {},
   "outputs": [],
   "source": [
    "movies = movies[~movies.id.duplicated()]\n",
    "movies.id = movies.id.apply(filter_correct_id)\n",
    "movies = movies[movies.id != \"wrong_id\"]\n",
    "movies.id = movies.id.astype('int64')"
   ]
  },
  {
   "cell_type": "markdown",
   "metadata": {},
   "source": [
    "### Avis des utilisateurs"
   ]
  },
  {
   "cell_type": "code",
   "execution_count": 6,
   "metadata": {},
   "outputs": [
    {
     "data": {
      "text/html": [
       "<div>\n",
       "<style scoped>\n",
       "    .dataframe tbody tr th:only-of-type {\n",
       "        vertical-align: middle;\n",
       "    }\n",
       "\n",
       "    .dataframe tbody tr th {\n",
       "        vertical-align: top;\n",
       "    }\n",
       "\n",
       "    .dataframe thead th {\n",
       "        text-align: right;\n",
       "    }\n",
       "</style>\n",
       "<table border=\"1\" class=\"dataframe\">\n",
       "  <thead>\n",
       "    <tr style=\"text-align: right;\">\n",
       "      <th></th>\n",
       "      <th>userId</th>\n",
       "      <th>movieId</th>\n",
       "      <th>rating</th>\n",
       "      <th>timestamp</th>\n",
       "    </tr>\n",
       "  </thead>\n",
       "  <tbody>\n",
       "    <tr>\n",
       "      <td>0</td>\n",
       "      <td>1</td>\n",
       "      <td>31</td>\n",
       "      <td>2.5</td>\n",
       "      <td>1260759144</td>\n",
       "    </tr>\n",
       "    <tr>\n",
       "      <td>1</td>\n",
       "      <td>1</td>\n",
       "      <td>1029</td>\n",
       "      <td>3.0</td>\n",
       "      <td>1260759179</td>\n",
       "    </tr>\n",
       "    <tr>\n",
       "      <td>2</td>\n",
       "      <td>1</td>\n",
       "      <td>1061</td>\n",
       "      <td>3.0</td>\n",
       "      <td>1260759182</td>\n",
       "    </tr>\n",
       "    <tr>\n",
       "      <td>3</td>\n",
       "      <td>1</td>\n",
       "      <td>1129</td>\n",
       "      <td>2.0</td>\n",
       "      <td>1260759185</td>\n",
       "    </tr>\n",
       "    <tr>\n",
       "      <td>4</td>\n",
       "      <td>1</td>\n",
       "      <td>1172</td>\n",
       "      <td>4.0</td>\n",
       "      <td>1260759205</td>\n",
       "    </tr>\n",
       "  </tbody>\n",
       "</table>\n",
       "</div>"
      ],
      "text/plain": [
       "   userId  movieId  rating   timestamp\n",
       "0       1       31     2.5  1260759144\n",
       "1       1     1029     3.0  1260759179\n",
       "2       1     1061     3.0  1260759182\n",
       "3       1     1129     2.0  1260759185\n",
       "4       1     1172     4.0  1260759205"
      ]
     },
     "execution_count": 6,
     "metadata": {},
     "output_type": "execute_result"
    }
   ],
   "source": [
    "ratings = pd.read_csv(\"ratings_small.csv\")\n",
    "ratings.head()"
   ]
  },
  {
   "cell_type": "code",
   "execution_count": 10,
   "metadata": {},
   "outputs": [
    {
     "data": {
      "text/html": [
       "<div>\n",
       "<style scoped>\n",
       "    .dataframe tbody tr th:only-of-type {\n",
       "        vertical-align: middle;\n",
       "    }\n",
       "\n",
       "    .dataframe tbody tr th {\n",
       "        vertical-align: top;\n",
       "    }\n",
       "\n",
       "    .dataframe thead th {\n",
       "        text-align: right;\n",
       "    }\n",
       "</style>\n",
       "<table border=\"1\" class=\"dataframe\">\n",
       "  <thead>\n",
       "    <tr style=\"text-align: right;\">\n",
       "      <th></th>\n",
       "      <th>userId</th>\n",
       "      <th>movieId</th>\n",
       "      <th>rating</th>\n",
       "    </tr>\n",
       "  </thead>\n",
       "  <tbody>\n",
       "    <tr>\n",
       "      <td>0</td>\n",
       "      <td>1</td>\n",
       "      <td>31</td>\n",
       "      <td>2.5</td>\n",
       "    </tr>\n",
       "    <tr>\n",
       "      <td>1</td>\n",
       "      <td>1</td>\n",
       "      <td>1029</td>\n",
       "      <td>3.0</td>\n",
       "    </tr>\n",
       "    <tr>\n",
       "      <td>2</td>\n",
       "      <td>1</td>\n",
       "      <td>1061</td>\n",
       "      <td>3.0</td>\n",
       "    </tr>\n",
       "    <tr>\n",
       "      <td>3</td>\n",
       "      <td>1</td>\n",
       "      <td>1129</td>\n",
       "      <td>2.0</td>\n",
       "    </tr>\n",
       "    <tr>\n",
       "      <td>4</td>\n",
       "      <td>1</td>\n",
       "      <td>1172</td>\n",
       "      <td>4.0</td>\n",
       "    </tr>\n",
       "  </tbody>\n",
       "</table>\n",
       "</div>"
      ],
      "text/plain": [
       "   userId  movieId  rating\n",
       "0       1       31     2.5\n",
       "1       1     1029     3.0\n",
       "2       1     1061     3.0\n",
       "3       1     1129     2.0\n",
       "4       1     1172     4.0"
      ]
     },
     "execution_count": 10,
     "metadata": {},
     "output_type": "execute_result"
    }
   ],
   "source": [
    "# ne pas re-run !\n",
    "ratings = ratings.drop(columns=['timestamp'])\n",
    "ratings.head()"
   ]
  },
  {
   "cell_type": "code",
   "execution_count": 11,
   "metadata": {},
   "outputs": [
    {
     "data": {
      "text/html": [
       "<div>\n",
       "<style scoped>\n",
       "    .dataframe tbody tr th:only-of-type {\n",
       "        vertical-align: middle;\n",
       "    }\n",
       "\n",
       "    .dataframe tbody tr th {\n",
       "        vertical-align: top;\n",
       "    }\n",
       "\n",
       "    .dataframe thead th {\n",
       "        text-align: right;\n",
       "    }\n",
       "</style>\n",
       "<table border=\"1\" class=\"dataframe\">\n",
       "  <thead>\n",
       "    <tr style=\"text-align: right;\">\n",
       "      <th></th>\n",
       "      <th>userId</th>\n",
       "      <th>movieId</th>\n",
       "      <th>rating</th>\n",
       "    </tr>\n",
       "  </thead>\n",
       "  <tbody>\n",
       "    <tr>\n",
       "      <td>0</td>\n",
       "      <td>1</td>\n",
       "      <td>31</td>\n",
       "      <td>2.5</td>\n",
       "    </tr>\n",
       "  </tbody>\n",
       "</table>\n",
       "</div>"
      ],
      "text/plain": [
       "   userId  movieId  rating\n",
       "0       1       31     2.5"
      ]
     },
     "execution_count": 11,
     "metadata": {},
     "output_type": "execute_result"
    }
   ],
   "source": [
    "ratings[(ratings['userId'] == 1) & (ratings['movieId'] == 31)]"
   ]
  },
  {
   "cell_type": "code",
   "execution_count": 12,
   "metadata": {},
   "outputs": [
    {
     "name": "stdout",
     "output_type": "stream",
     "text": [
      "0.5 5.0\n"
     ]
    },
    {
     "data": {
      "text/plain": [
       "userId       int64\n",
       "movieId      int64\n",
       "rating     float64\n",
       "dtype: object"
      ]
     },
     "execution_count": 12,
     "metadata": {},
     "output_type": "execute_result"
    }
   ],
   "source": [
    "print(min(ratings.rating), max(ratings.rating))\n",
    "ratings.describe()\n",
    "ratings.dtypes"
   ]
  },
  {
   "cell_type": "markdown",
   "metadata": {},
   "source": [
    "Dans tout le notebook, on considère l'existence d'une variable globale `dfr` contenant la dataframe des notes et `dfm` contenant la dataframe des films. Cela nous permet d'abord tester notre code sur des petits échantillons et avant de les faire tourner sur la totalité des donneés, sans avoir à modifier le code. De même,"
   ]
  },
  {
   "cell_type": "markdown",
   "metadata": {},
   "source": [
    "## Top films par genres"
   ]
  },
  {
   "cell_type": "markdown",
   "metadata": {},
   "source": [
    "### Selection des genres"
   ]
  },
  {
   "cell_type": "code",
   "execution_count": 13,
   "metadata": {},
   "outputs": [
    {
     "data": {
      "text/html": [
       "<div>\n",
       "<style scoped>\n",
       "    .dataframe tbody tr th:only-of-type {\n",
       "        vertical-align: middle;\n",
       "    }\n",
       "\n",
       "    .dataframe tbody tr th {\n",
       "        vertical-align: top;\n",
       "    }\n",
       "\n",
       "    .dataframe thead th {\n",
       "        text-align: right;\n",
       "    }\n",
       "</style>\n",
       "<table border=\"1\" class=\"dataframe\">\n",
       "  <thead>\n",
       "    <tr style=\"text-align: right;\">\n",
       "      <th></th>\n",
       "      <th>movieId</th>\n",
       "      <th>genres</th>\n",
       "      <th>title</th>\n",
       "    </tr>\n",
       "  </thead>\n",
       "  <tbody>\n",
       "    <tr>\n",
       "      <td>0</td>\n",
       "      <td>949</td>\n",
       "      <td>[{'id': 28, 'name': 'Action'}, {'id': 80, 'nam...</td>\n",
       "      <td>Heat</td>\n",
       "    </tr>\n",
       "    <tr>\n",
       "      <td>1</td>\n",
       "      <td>949</td>\n",
       "      <td>[{'id': 28, 'name': 'Action'}, {'id': 80, 'nam...</td>\n",
       "      <td>Heat</td>\n",
       "    </tr>\n",
       "    <tr>\n",
       "      <td>2</td>\n",
       "      <td>949</td>\n",
       "      <td>[{'id': 28, 'name': 'Action'}, {'id': 80, 'nam...</td>\n",
       "      <td>Heat</td>\n",
       "    </tr>\n",
       "    <tr>\n",
       "      <td>3</td>\n",
       "      <td>949</td>\n",
       "      <td>[{'id': 28, 'name': 'Action'}, {'id': 80, 'nam...</td>\n",
       "      <td>Heat</td>\n",
       "    </tr>\n",
       "    <tr>\n",
       "      <td>4</td>\n",
       "      <td>949</td>\n",
       "      <td>[{'id': 28, 'name': 'Action'}, {'id': 80, 'nam...</td>\n",
       "      <td>Heat</td>\n",
       "    </tr>\n",
       "  </tbody>\n",
       "</table>\n",
       "</div>"
      ],
      "text/plain": [
       "   movieId                                             genres title\n",
       "0      949  [{'id': 28, 'name': 'Action'}, {'id': 80, 'nam...  Heat\n",
       "1      949  [{'id': 28, 'name': 'Action'}, {'id': 80, 'nam...  Heat\n",
       "2      949  [{'id': 28, 'name': 'Action'}, {'id': 80, 'nam...  Heat\n",
       "3      949  [{'id': 28, 'name': 'Action'}, {'id': 80, 'nam...  Heat\n",
       "4      949  [{'id': 28, 'name': 'Action'}, {'id': 80, 'nam...  Heat"
      ]
     },
     "execution_count": 13,
     "metadata": {},
     "output_type": "execute_result"
    }
   ],
   "source": [
    "dfr = ratings.copy()\n",
    "dfm = movies.copy().rename(columns={'id' : 'movieId'})\n",
    "dfm = dfm.merge(dfr, how='inner')\n",
    "dfm = dfm.loc[:, ['movieId', 'genres', 'title']]\n",
    "dfm.head()\n",
    "# dfm.sort_values(by='movieId').head(100)\n",
    "# dfr.head(20)"
   ]
  },
  {
   "cell_type": "code",
   "execution_count": 14,
   "metadata": {},
   "outputs": [],
   "source": [
    "def simplify_genre(l):\n",
    "    if len(l) <= 0 :\n",
    "        return []\n",
    "    if isinstance(l[0], dict):\n",
    "        return [d['name'] for d in l]\n",
    "    return l"
   ]
  },
  {
   "cell_type": "code",
   "execution_count": 15,
   "metadata": {},
   "outputs": [
    {
     "data": {
      "text/html": [
       "<div>\n",
       "<style scoped>\n",
       "    .dataframe tbody tr th:only-of-type {\n",
       "        vertical-align: middle;\n",
       "    }\n",
       "\n",
       "    .dataframe tbody tr th {\n",
       "        vertical-align: top;\n",
       "    }\n",
       "\n",
       "    .dataframe thead th {\n",
       "        text-align: right;\n",
       "    }\n",
       "</style>\n",
       "<table border=\"1\" class=\"dataframe\">\n",
       "  <thead>\n",
       "    <tr style=\"text-align: right;\">\n",
       "      <th></th>\n",
       "      <th>movieId</th>\n",
       "      <th>genres</th>\n",
       "      <th>title</th>\n",
       "    </tr>\n",
       "  </thead>\n",
       "  <tbody>\n",
       "    <tr>\n",
       "      <td>0</td>\n",
       "      <td>949</td>\n",
       "      <td>[Action, Crime, Drama, Thriller]</td>\n",
       "      <td>Heat</td>\n",
       "    </tr>\n",
       "    <tr>\n",
       "      <td>1</td>\n",
       "      <td>949</td>\n",
       "      <td>[Action, Crime, Drama, Thriller]</td>\n",
       "      <td>Heat</td>\n",
       "    </tr>\n",
       "    <tr>\n",
       "      <td>2</td>\n",
       "      <td>949</td>\n",
       "      <td>[Action, Crime, Drama, Thriller]</td>\n",
       "      <td>Heat</td>\n",
       "    </tr>\n",
       "    <tr>\n",
       "      <td>3</td>\n",
       "      <td>949</td>\n",
       "      <td>[Action, Crime, Drama, Thriller]</td>\n",
       "      <td>Heat</td>\n",
       "    </tr>\n",
       "    <tr>\n",
       "      <td>4</td>\n",
       "      <td>949</td>\n",
       "      <td>[Action, Crime, Drama, Thriller]</td>\n",
       "      <td>Heat</td>\n",
       "    </tr>\n",
       "  </tbody>\n",
       "</table>\n",
       "</div>"
      ],
      "text/plain": [
       "   movieId                            genres title\n",
       "0      949  [Action, Crime, Drama, Thriller]  Heat\n",
       "1      949  [Action, Crime, Drama, Thriller]  Heat\n",
       "2      949  [Action, Crime, Drama, Thriller]  Heat\n",
       "3      949  [Action, Crime, Drama, Thriller]  Heat\n",
       "4      949  [Action, Crime, Drama, Thriller]  Heat"
      ]
     },
     "execution_count": 15,
     "metadata": {},
     "output_type": "execute_result"
    }
   ],
   "source": [
    "dfm['genres'] = dfm['genres'].apply(lambda x: literal_eval(x) if isinstance(x, str) else x).apply(simplify_genre)\n",
    "dfm.head()"
   ]
  },
  {
   "cell_type": "markdown",
   "metadata": {},
   "source": [
    "### Normaliser les notes sur toutes les données"
   ]
  },
  {
   "cell_type": "code",
   "execution_count": 16,
   "metadata": {},
   "outputs": [
    {
     "name": "stdout",
     "output_type": "stream",
     "text": [
      "8.57 ms ± 776 µs per loop (mean ± std. dev. of 7 runs, 100 loops each)\n"
     ]
    }
   ],
   "source": [
    "%timeit dfm['mean_rating'] = ratings.groupby('movieId').mean().loc[:, ['rating']]"
   ]
  },
  {
   "cell_type": "code",
   "execution_count": 17,
   "metadata": {},
   "outputs": [
    {
     "data": {
      "text/html": [
       "<div>\n",
       "<style scoped>\n",
       "    .dataframe tbody tr th:only-of-type {\n",
       "        vertical-align: middle;\n",
       "    }\n",
       "\n",
       "    .dataframe tbody tr th {\n",
       "        vertical-align: top;\n",
       "    }\n",
       "\n",
       "    .dataframe thead th {\n",
       "        text-align: right;\n",
       "    }\n",
       "</style>\n",
       "<table border=\"1\" class=\"dataframe\">\n",
       "  <thead>\n",
       "    <tr style=\"text-align: right;\">\n",
       "      <th></th>\n",
       "      <th>movieId</th>\n",
       "      <th>genres</th>\n",
       "      <th>title</th>\n",
       "      <th>mean_rating</th>\n",
       "    </tr>\n",
       "  </thead>\n",
       "  <tbody>\n",
       "    <tr>\n",
       "      <td>0</td>\n",
       "      <td>949</td>\n",
       "      <td>[Action, Crime, Drama, Thriller]</td>\n",
       "      <td>Heat</td>\n",
       "      <td>NaN</td>\n",
       "    </tr>\n",
       "    <tr>\n",
       "      <td>1</td>\n",
       "      <td>949</td>\n",
       "      <td>[Action, Crime, Drama, Thriller]</td>\n",
       "      <td>Heat</td>\n",
       "      <td>3.872470</td>\n",
       "    </tr>\n",
       "    <tr>\n",
       "      <td>2</td>\n",
       "      <td>949</td>\n",
       "      <td>[Action, Crime, Drama, Thriller]</td>\n",
       "      <td>Heat</td>\n",
       "      <td>3.401869</td>\n",
       "    </tr>\n",
       "    <tr>\n",
       "      <td>3</td>\n",
       "      <td>949</td>\n",
       "      <td>[Action, Crime, Drama, Thriller]</td>\n",
       "      <td>Heat</td>\n",
       "      <td>3.161017</td>\n",
       "    </tr>\n",
       "    <tr>\n",
       "      <td>4</td>\n",
       "      <td>949</td>\n",
       "      <td>[Action, Crime, Drama, Thriller]</td>\n",
       "      <td>Heat</td>\n",
       "      <td>2.384615</td>\n",
       "    </tr>\n",
       "  </tbody>\n",
       "</table>\n",
       "</div>"
      ],
      "text/plain": [
       "   movieId                            genres title  mean_rating\n",
       "0      949  [Action, Crime, Drama, Thriller]  Heat          NaN\n",
       "1      949  [Action, Crime, Drama, Thriller]  Heat     3.872470\n",
       "2      949  [Action, Crime, Drama, Thriller]  Heat     3.401869\n",
       "3      949  [Action, Crime, Drama, Thriller]  Heat     3.161017\n",
       "4      949  [Action, Crime, Drama, Thriller]  Heat     2.384615"
      ]
     },
     "execution_count": 17,
     "metadata": {},
     "output_type": "execute_result"
    }
   ],
   "source": [
    "dfm.head()"
   ]
  },
  {
   "cell_type": "code",
   "execution_count": 18,
   "metadata": {},
   "outputs": [],
   "source": [
    "dfm = dfm.sort_values(by='mean_rating', ascending=False)"
   ]
  },
  {
   "cell_type": "code",
   "execution_count": 19,
   "metadata": {},
   "outputs": [
    {
     "data": {
      "text/html": [
       "<div>\n",
       "<style scoped>\n",
       "    .dataframe tbody tr th:only-of-type {\n",
       "        vertical-align: middle;\n",
       "    }\n",
       "\n",
       "    .dataframe tbody tr th {\n",
       "        vertical-align: top;\n",
       "    }\n",
       "\n",
       "    .dataframe thead th {\n",
       "        text-align: right;\n",
       "    }\n",
       "</style>\n",
       "<table border=\"1\" class=\"dataframe\">\n",
       "  <thead>\n",
       "    <tr style=\"text-align: right;\">\n",
       "      <th></th>\n",
       "      <th>movieId</th>\n",
       "      <th>genres</th>\n",
       "      <th>title</th>\n",
       "      <th>mean_rating</th>\n",
       "    </tr>\n",
       "  </thead>\n",
       "  <tbody>\n",
       "    <tr>\n",
       "      <td>702</td>\n",
       "      <td>1945</td>\n",
       "      <td>[Drama, Thriller]</td>\n",
       "      <td>Nell</td>\n",
       "      <td>5.0</td>\n",
       "    </tr>\n",
       "    <tr>\n",
       "      <td>4711</td>\n",
       "      <td>1092</td>\n",
       "      <td>[Thriller, Mystery]</td>\n",
       "      <td>The Third Man</td>\n",
       "      <td>5.0</td>\n",
       "    </tr>\n",
       "    <tr>\n",
       "      <td>32515</td>\n",
       "      <td>920</td>\n",
       "      <td>[Animation, Adventure, Comedy, Family]</td>\n",
       "      <td>Cars</td>\n",
       "      <td>5.0</td>\n",
       "    </tr>\n",
       "    <tr>\n",
       "      <td>3202</td>\n",
       "      <td>3083</td>\n",
       "      <td>[Comedy, Drama]</td>\n",
       "      <td>Mr. Smith Goes to Washington</td>\n",
       "      <td>5.0</td>\n",
       "    </tr>\n",
       "    <tr>\n",
       "      <td>32460</td>\n",
       "      <td>588</td>\n",
       "      <td>[Horror, Mystery]</td>\n",
       "      <td>Silent Hill</td>\n",
       "      <td>5.0</td>\n",
       "    </tr>\n",
       "  </tbody>\n",
       "</table>\n",
       "</div>"
      ],
      "text/plain": [
       "       movieId                                  genres  \\\n",
       "702       1945                       [Drama, Thriller]   \n",
       "4711      1092                     [Thriller, Mystery]   \n",
       "32515      920  [Animation, Adventure, Comedy, Family]   \n",
       "3202      3083                         [Comedy, Drama]   \n",
       "32460      588                       [Horror, Mystery]   \n",
       "\n",
       "                              title  mean_rating  \n",
       "702                            Nell          5.0  \n",
       "4711                  The Third Man          5.0  \n",
       "32515                          Cars          5.0  \n",
       "3202   Mr. Smith Goes to Washington          5.0  \n",
       "32460                   Silent Hill          5.0  "
      ]
     },
     "execution_count": 19,
     "metadata": {},
     "output_type": "execute_result"
    }
   ],
   "source": [
    "dfm.head()"
   ]
  },
  {
   "cell_type": "markdown",
   "metadata": {},
   "source": [
    "# <span style=\"color:green\">copy de dfm + join pour que mean_rating soit respecté + ou ne pas faire de repetition et utiliser deux tables ? </span>"
   ]
  },
  {
   "cell_type": "code",
   "execution_count": 20,
   "metadata": {},
   "outputs": [
    {
     "data": {
      "text/html": [
       "<div>\n",
       "<style scoped>\n",
       "    .dataframe tbody tr th:only-of-type {\n",
       "        vertical-align: middle;\n",
       "    }\n",
       "\n",
       "    .dataframe tbody tr th {\n",
       "        vertical-align: top;\n",
       "    }\n",
       "\n",
       "    .dataframe thead th {\n",
       "        text-align: right;\n",
       "    }\n",
       "</style>\n",
       "<table border=\"1\" class=\"dataframe\">\n",
       "  <thead>\n",
       "    <tr style=\"text-align: right;\">\n",
       "      <th></th>\n",
       "      <th>movieId</th>\n",
       "      <th>title</th>\n",
       "      <th>mean_rating</th>\n",
       "      <th>genres</th>\n",
       "    </tr>\n",
       "  </thead>\n",
       "  <tbody>\n",
       "    <tr>\n",
       "      <td>0</td>\n",
       "      <td>949</td>\n",
       "      <td>Heat</td>\n",
       "      <td>NaN</td>\n",
       "      <td>Action</td>\n",
       "    </tr>\n",
       "    <tr>\n",
       "      <td>0</td>\n",
       "      <td>949</td>\n",
       "      <td>Heat</td>\n",
       "      <td>NaN</td>\n",
       "      <td>Crime</td>\n",
       "    </tr>\n",
       "    <tr>\n",
       "      <td>0</td>\n",
       "      <td>949</td>\n",
       "      <td>Heat</td>\n",
       "      <td>NaN</td>\n",
       "      <td>Drama</td>\n",
       "    </tr>\n",
       "    <tr>\n",
       "      <td>0</td>\n",
       "      <td>949</td>\n",
       "      <td>Heat</td>\n",
       "      <td>NaN</td>\n",
       "      <td>Thriller</td>\n",
       "    </tr>\n",
       "    <tr>\n",
       "      <td>1</td>\n",
       "      <td>949</td>\n",
       "      <td>Heat</td>\n",
       "      <td>3.87247</td>\n",
       "      <td>Action</td>\n",
       "    </tr>\n",
       "  </tbody>\n",
       "</table>\n",
       "</div>"
      ],
      "text/plain": [
       "   movieId title  mean_rating    genres\n",
       "0      949  Heat          NaN    Action\n",
       "0      949  Heat          NaN     Crime\n",
       "0      949  Heat          NaN     Drama\n",
       "0      949  Heat          NaN  Thriller\n",
       "1      949  Heat      3.87247    Action"
      ]
     },
     "execution_count": 20,
     "metadata": {},
     "output_type": "execute_result"
    }
   ],
   "source": [
    "# 1 genre par ligne\n",
    "serie = dfm.apply(lambda x: pd.Series(x['genres']), axis=1).stack().reset_index(level=1, drop=True)\n",
    "serie.name = 'genres'\n",
    "dfm_simpl = dfm.copy().drop('genres', axis=1).join(serie)\n",
    "dfm_simpl.head()"
   ]
  },
  {
   "cell_type": "code",
   "execution_count": 21,
   "metadata": {},
   "outputs": [],
   "source": [
    "def top(genres):\n",
    "    # selection des films par genre\n",
    "    df_genres = dfm_simpl.loc[dfm_simpl['genres'].isin(genres)]\n",
    "    df_genres = df_genres.sort_values(by='mean_rating', ascending=False)\n",
    "    return df_genres"
   ]
  },
  {
   "cell_type": "code",
   "execution_count": 22,
   "metadata": {},
   "outputs": [
    {
     "data": {
      "text/html": [
       "<div>\n",
       "<style scoped>\n",
       "    .dataframe tbody tr th:only-of-type {\n",
       "        vertical-align: middle;\n",
       "    }\n",
       "\n",
       "    .dataframe tbody tr th {\n",
       "        vertical-align: top;\n",
       "    }\n",
       "\n",
       "    .dataframe thead th {\n",
       "        text-align: right;\n",
       "    }\n",
       "</style>\n",
       "<table border=\"1\" class=\"dataframe\">\n",
       "  <thead>\n",
       "    <tr style=\"text-align: right;\">\n",
       "      <th></th>\n",
       "      <th>movieId</th>\n",
       "      <th>title</th>\n",
       "      <th>mean_rating</th>\n",
       "      <th>genres</th>\n",
       "    </tr>\n",
       "  </thead>\n",
       "  <tbody>\n",
       "    <tr>\n",
       "      <td>26094</td>\n",
       "      <td>2817</td>\n",
       "      <td>Same Old Song</td>\n",
       "      <td>5.0</td>\n",
       "      <td>Comedy</td>\n",
       "    </tr>\n",
       "    <tr>\n",
       "      <td>32515</td>\n",
       "      <td>920</td>\n",
       "      <td>Cars</td>\n",
       "      <td>5.0</td>\n",
       "      <td>Comedy</td>\n",
       "    </tr>\n",
       "    <tr>\n",
       "      <td>5301</td>\n",
       "      <td>1554</td>\n",
       "      <td>Down by Law</td>\n",
       "      <td>5.0</td>\n",
       "      <td>Comedy</td>\n",
       "    </tr>\n",
       "    <tr>\n",
       "      <td>5301</td>\n",
       "      <td>1554</td>\n",
       "      <td>Down by Law</td>\n",
       "      <td>5.0</td>\n",
       "      <td>Drama</td>\n",
       "    </tr>\n",
       "    <tr>\n",
       "      <td>3575</td>\n",
       "      <td>2033</td>\n",
       "      <td>Infinity</td>\n",
       "      <td>5.0</td>\n",
       "      <td>Drama</td>\n",
       "    </tr>\n",
       "  </tbody>\n",
       "</table>\n",
       "</div>"
      ],
      "text/plain": [
       "       movieId          title  mean_rating  genres\n",
       "26094     2817  Same Old Song          5.0  Comedy\n",
       "32515      920           Cars          5.0  Comedy\n",
       "5301      1554    Down by Law          5.0  Comedy\n",
       "5301      1554    Down by Law          5.0   Drama\n",
       "3575      2033       Infinity          5.0   Drama"
      ]
     },
     "execution_count": 22,
     "metadata": {},
     "output_type": "execute_result"
    }
   ],
   "source": [
    "top(['Drama', 'Comedy']).head()"
   ]
  },
  {
   "cell_type": "code",
   "execution_count": 23,
   "metadata": {},
   "outputs": [],
   "source": [
    "def union_list(lst1, lst2):\n",
    "    return list(set(lst1) | set(lst2)) \n",
    "\n",
    "def pref_genres(uid):\n",
    "    '''\n",
    "    Retourne les genres des 5 films préférés de l'user uid\n",
    "    '''\n",
    "    rats = dfr.loc[dfr['userId'] == uid, :].sort_values(by='rating')\n",
    "    pref = rats.head(5)['movieId'].values if rats.shape[0] > 5 else rats['movieId'].values\n",
    "    genres = []\n",
    "    for g in dfm.loc[dfm['movieId'].isin(pref)].genres :\n",
    "        genres = union_list(genres, g)\n",
    "    return genres"
   ]
  },
  {
   "cell_type": "code",
   "execution_count": 24,
   "metadata": {},
   "outputs": [],
   "source": [
    "def top_reco(uid, k):\n",
    "    '''\n",
    "    Retourne les k films les plus populaires appartenant aux genres préféres de l'user uid\n",
    "    '''\n",
    "    chart = top(pref_genres(uid))\n",
    "    chart = chart.loc[~chart['movieId'].isin(dfr.loc[dfr['userId'] == uid, :].movieId.unique()) ]\n",
    "    return chart.head(k) if chart.shape[0] > k else chart"
   ]
  },
  {
   "cell_type": "code",
   "execution_count": 25,
   "metadata": {
    "scrolled": true
   },
   "outputs": [
    {
     "name": "stdout",
     "output_type": "stream",
     "text": [
      "['Thriller', 'Romance', 'Action', 'Adventure', 'Comedy', 'Drama', 'Science Fiction', 'Family']\n"
     ]
    },
    {
     "data": {
      "text/html": [
       "<div>\n",
       "<style scoped>\n",
       "    .dataframe tbody tr th:only-of-type {\n",
       "        vertical-align: middle;\n",
       "    }\n",
       "\n",
       "    .dataframe tbody tr th {\n",
       "        vertical-align: top;\n",
       "    }\n",
       "\n",
       "    .dataframe thead th {\n",
       "        text-align: right;\n",
       "    }\n",
       "</style>\n",
       "<table border=\"1\" class=\"dataframe\">\n",
       "  <thead>\n",
       "    <tr style=\"text-align: right;\">\n",
       "      <th></th>\n",
       "      <th>movieId</th>\n",
       "      <th>title</th>\n",
       "      <th>mean_rating</th>\n",
       "      <th>genres</th>\n",
       "    </tr>\n",
       "  </thead>\n",
       "  <tbody>\n",
       "    <tr>\n",
       "      <td>3021</td>\n",
       "      <td>223</td>\n",
       "      <td>Rebecca</td>\n",
       "      <td>5.0</td>\n",
       "      <td>Drama</td>\n",
       "    </tr>\n",
       "    <tr>\n",
       "      <td>1455</td>\n",
       "      <td>8831</td>\n",
       "      <td>Timecop</td>\n",
       "      <td>5.0</td>\n",
       "      <td>Action</td>\n",
       "    </tr>\n",
       "    <tr>\n",
       "      <td>4567</td>\n",
       "      <td>595</td>\n",
       "      <td>To Kill a Mockingbird</td>\n",
       "      <td>5.0</td>\n",
       "      <td>Drama</td>\n",
       "    </tr>\n",
       "    <tr>\n",
       "      <td>1428</td>\n",
       "      <td>1689</td>\n",
       "      <td>Little Buddha</td>\n",
       "      <td>5.0</td>\n",
       "      <td>Drama</td>\n",
       "    </tr>\n",
       "    <tr>\n",
       "      <td>4565</td>\n",
       "      <td>595</td>\n",
       "      <td>To Kill a Mockingbird</td>\n",
       "      <td>5.0</td>\n",
       "      <td>Drama</td>\n",
       "    </tr>\n",
       "    <tr>\n",
       "      <td>26422</td>\n",
       "      <td>5902</td>\n",
       "      <td>A Bridge Too Far</td>\n",
       "      <td>5.0</td>\n",
       "      <td>Drama</td>\n",
       "    </tr>\n",
       "    <tr>\n",
       "      <td>4522</td>\n",
       "      <td>595</td>\n",
       "      <td>To Kill a Mockingbird</td>\n",
       "      <td>5.0</td>\n",
       "      <td>Drama</td>\n",
       "    </tr>\n",
       "    <tr>\n",
       "      <td>26501</td>\n",
       "      <td>316</td>\n",
       "      <td>Grill Point</td>\n",
       "      <td>5.0</td>\n",
       "      <td>Comedy</td>\n",
       "    </tr>\n",
       "    <tr>\n",
       "      <td>26501</td>\n",
       "      <td>316</td>\n",
       "      <td>Grill Point</td>\n",
       "      <td>5.0</td>\n",
       "      <td>Drama</td>\n",
       "    </tr>\n",
       "    <tr>\n",
       "      <td>4466</td>\n",
       "      <td>595</td>\n",
       "      <td>To Kill a Mockingbird</td>\n",
       "      <td>5.0</td>\n",
       "      <td>Drama</td>\n",
       "    </tr>\n",
       "    <tr>\n",
       "      <td>4459</td>\n",
       "      <td>595</td>\n",
       "      <td>To Kill a Mockingbird</td>\n",
       "      <td>5.0</td>\n",
       "      <td>Drama</td>\n",
       "    </tr>\n",
       "    <tr>\n",
       "      <td>1455</td>\n",
       "      <td>8831</td>\n",
       "      <td>Timecop</td>\n",
       "      <td>5.0</td>\n",
       "      <td>Thriller</td>\n",
       "    </tr>\n",
       "    <tr>\n",
       "      <td>1455</td>\n",
       "      <td>8831</td>\n",
       "      <td>Timecop</td>\n",
       "      <td>5.0</td>\n",
       "      <td>Science Fiction</td>\n",
       "    </tr>\n",
       "    <tr>\n",
       "      <td>26578</td>\n",
       "      <td>316</td>\n",
       "      <td>Grill Point</td>\n",
       "      <td>5.0</td>\n",
       "      <td>Comedy</td>\n",
       "    </tr>\n",
       "    <tr>\n",
       "      <td>4442</td>\n",
       "      <td>595</td>\n",
       "      <td>To Kill a Mockingbird</td>\n",
       "      <td>5.0</td>\n",
       "      <td>Drama</td>\n",
       "    </tr>\n",
       "  </tbody>\n",
       "</table>\n",
       "</div>"
      ],
      "text/plain": [
       "       movieId                  title  mean_rating           genres\n",
       "3021       223                Rebecca          5.0            Drama\n",
       "1455      8831                Timecop          5.0           Action\n",
       "4567       595  To Kill a Mockingbird          5.0            Drama\n",
       "1428      1689          Little Buddha          5.0            Drama\n",
       "4565       595  To Kill a Mockingbird          5.0            Drama\n",
       "26422     5902       A Bridge Too Far          5.0            Drama\n",
       "4522       595  To Kill a Mockingbird          5.0            Drama\n",
       "26501      316            Grill Point          5.0           Comedy\n",
       "26501      316            Grill Point          5.0            Drama\n",
       "4466       595  To Kill a Mockingbird          5.0            Drama\n",
       "4459       595  To Kill a Mockingbird          5.0            Drama\n",
       "1455      8831                Timecop          5.0         Thriller\n",
       "1455      8831                Timecop          5.0  Science Fiction\n",
       "26578      316            Grill Point          5.0           Comedy\n",
       "4442       595  To Kill a Mockingbird          5.0            Drama"
      ]
     },
     "execution_count": 25,
     "metadata": {},
     "output_type": "execute_result"
    }
   ],
   "source": [
    "user = 4\n",
    "k = 15\n",
    "\n",
    "print(pref_genres(user))\n",
    "top_reco(user, k)"
   ]
  },
  {
   "cell_type": "markdown",
   "metadata": {},
   "source": [
    "# <span style=\"color:red\"> À blablater : méthode pas personalisée, privilégie les plus populaires et ne permet pas d'évaluer de manière quantitative la pertinence (pas de note)\n",
    "</span>"
   ]
  },
  {
   "cell_type": "markdown",
   "metadata": {},
   "source": [
    "## Collaborative filtering : user- et item- based\n",
    "\n",
    "Pour prédire la note d'un couple (*user*, *movie*) on peut regarder quelle note les utilisateurs similaires à *user* ont donné à ce film et faire une moyenne de leurs notes. On peut également regarder quelle note *user* a donné à des films similaires à *movie*. La première approche est centré sur les utilisateurs, *user-based*, tandis que la deuxième est centrée sur les films, *item-based*. Neánsmoins les deux approches suivent la même logique et nous allons implémenter des fonctions qui s'adaptent en fonction de l'approche choisie. Dans un système *user-based*, nous allons appeler **peers** les **users** et **others** les **items**. Dans un système *item-based* c'est l'inverse.\n",
    "\n",
    "\n",
    "\n",
    "Deux utilisateurs sont considérés comme similaires s'ils ont les mêmes préférences de films. Il semble en effet plus pertinent de demander à un utilisateurs aux goûts similaires à *user* de lui conseiller un film. Pour comparer deux utilisateurs il faudra donc regarder les notes qu'ils ont donné aux mêmes films. De manière analogue, deux films sont similaires s'ils sont appréciés par les mêmes utilisateurs. Il faudra donc regarder les notes données par les mêmes utilisateurs pour comparer deux films. Cette notion de similitude sera calculée par un taux de corrélation."
   ]
  },
  {
   "cell_type": "markdown",
   "metadata": {},
   "source": [
    "Nous allons considérer une variable globale `cm_user` et `cm_movie` contenant la matrice de correlation entre utilisateurs et films. "
   ]
  },
  {
   "cell_type": "markdown",
   "metadata": {},
   "source": [
    "### Normalisation des notes\n",
    "\n",
    "Nous n'avons besoin pour ce système que des notes données par les utilisateurs. Puisque la moyenne des notes données varie d'un utilisateur à un autre et d'un film à un autre, nous allons translater les notes afin que la moyenne des notes se trouve à 0. En *user-based*, on considère la moyenne par utilisateur, tandis qu'en *item-based* on s'interèsse à la moyenne par film. Par abus de langage nous appelons ces nouvelles notes les notes *normalisées*. "
   ]
  },
  {
   "cell_type": "code",
   "execution_count": 26,
   "metadata": {},
   "outputs": [
    {
     "name": "stdout",
     "output_type": "stream",
     "text": [
      "(1165, 3)\n"
     ]
    },
    {
     "data": {
      "text/html": [
       "<div>\n",
       "<style scoped>\n",
       "    .dataframe tbody tr th:only-of-type {\n",
       "        vertical-align: middle;\n",
       "    }\n",
       "\n",
       "    .dataframe tbody tr th {\n",
       "        vertical-align: top;\n",
       "    }\n",
       "\n",
       "    .dataframe thead th {\n",
       "        text-align: right;\n",
       "    }\n",
       "</style>\n",
       "<table border=\"1\" class=\"dataframe\">\n",
       "  <thead>\n",
       "    <tr style=\"text-align: right;\">\n",
       "      <th></th>\n",
       "      <th>userId</th>\n",
       "      <th>movieId</th>\n",
       "      <th>rating</th>\n",
       "    </tr>\n",
       "  </thead>\n",
       "  <tbody>\n",
       "    <tr>\n",
       "      <td>0</td>\n",
       "      <td>1</td>\n",
       "      <td>31</td>\n",
       "      <td>2.5</td>\n",
       "    </tr>\n",
       "    <tr>\n",
       "      <td>20</td>\n",
       "      <td>2</td>\n",
       "      <td>10</td>\n",
       "      <td>4.0</td>\n",
       "    </tr>\n",
       "    <tr>\n",
       "      <td>21</td>\n",
       "      <td>2</td>\n",
       "      <td>17</td>\n",
       "      <td>5.0</td>\n",
       "    </tr>\n",
       "    <tr>\n",
       "      <td>22</td>\n",
       "      <td>2</td>\n",
       "      <td>39</td>\n",
       "      <td>5.0</td>\n",
       "    </tr>\n",
       "    <tr>\n",
       "      <td>23</td>\n",
       "      <td>2</td>\n",
       "      <td>47</td>\n",
       "      <td>4.0</td>\n",
       "    </tr>\n",
       "  </tbody>\n",
       "</table>\n",
       "</div>"
      ],
      "text/plain": [
       "    userId  movieId  rating\n",
       "0        1       31     2.5\n",
       "20       2       10     4.0\n",
       "21       2       17     5.0\n",
       "22       2       39     5.0\n",
       "23       2       47     4.0"
      ]
     },
     "execution_count": 26,
     "metadata": {},
     "output_type": "execute_result"
    }
   ],
   "source": [
    "# test si plus efficace \n",
    "# _ mean une dataframe, et donc récuper la note moyenne avec un loc\n",
    "# _ mean un numpy matrice, avec une liste donnant l'équivalent entre id et indice\n",
    "\n",
    "dfr = ratings.copy().loc[(ratings['userId'] <= 50) & (ratings['movieId'] <= 500)]\n",
    "base ='user'\n",
    "ptype, otype = ('userId', 'movieId') if base == 'user' else ('movieId', 'userId')\n",
    "print(dfr.shape)\n",
    "dfr.head()"
   ]
  },
  {
   "cell_type": "code",
   "execution_count": 27,
   "metadata": {
    "scrolled": true
   },
   "outputs": [
    {
     "name": "stdout",
     "output_type": "stream",
     "text": [
      "139 ms ± 12.1 ms per loop (mean ± std. dev. of 7 runs, 10 loops each)\n"
     ]
    }
   ],
   "source": [
    "%%timeit\n",
    "mean1 = dfr.groupby(ptype).mean().loc[:, ['rating']]\n",
    "new_col = 'rating_norm_'+base\n",
    "dfr[new_col] = dfr[[ptype, 'rating']].apply(lambda row : \n",
    "                                            row['rating'] -  mean1.loc[int(row[ptype])]['rating'], axis=1)"
   ]
  },
  {
   "cell_type": "code",
   "execution_count": 28,
   "metadata": {},
   "outputs": [
    {
     "name": "stdout",
     "output_type": "stream",
     "text": [
      "51.8 ms ± 3.29 ms per loop (mean ± std. dev. of 7 runs, 10 loops each)\n"
     ]
    }
   ],
   "source": [
    "%%timeit\n",
    "mean2 = dfr.groupby(ptype).mean()['rating']\n",
    "new_col = 'rating_norm_'+base\n",
    "dfr[new_col] = dfr[[ptype, 'rating']].apply(lambda row : \n",
    "                                            row['rating'] -  mean2.loc[int(row[ptype])], axis=1)"
   ]
  },
  {
   "cell_type": "code",
   "execution_count": 29,
   "metadata": {},
   "outputs": [],
   "source": [
    "def normalize(base='user'):\n",
    "    '''\n",
    "    Ajoute une colonne dans la dataframe df contenant les notes normalisées des utilisateurs\n",
    "    Retourne la Série donnant la moyenne des notes par peer\n",
    "    '''\n",
    "    ptype, otype = ('userId', 'movieId') if base == 'user' else ('movieId', 'userId')\n",
    "    mean = dfr.groupby(ptype).mean()['rating']\n",
    "    new_col = 'rating_norm_'+base\n",
    "    dfr[new_col] = dfr[[ptype, 'rating']].apply(lambda row : \n",
    "                                            row['rating'] -  mean.loc[int(row[ptype])], axis=1)\n",
    "    return mean"
   ]
  },
  {
   "cell_type": "markdown",
   "metadata": {},
   "source": [
    "### Calculer la matrice de corrélation\n",
    "\n",
    "\n",
    "Dans un système *user-based*, on note $I_u$ l'ensemble des items renseignés pour l'utilisateur $u$ et $U_k$ l'ensemble des utilisateurs qui ont notés le film $k$. On note $I_{uv} = I_u \\cap I_v$. Pour le *item-based* on utilisera les mêmes notations en intervertissant user et item. On notera également $S_{ui}$ la note normalisée de l'item *i* donnée par l'utilisateur *u*. \n",
    "\n",
    "\n",
    "Pour déterminer si deux utilisateurs se ressemblent en termes de goûts, nous utilisons un taux de corrélation sur les avis données. Nous allons comparer quatres taux de corrélations différents. Le premier ```cor()``` calcule le taux de corrélation classique donné par la formule :\n",
    "$$\n",
    "cor(u, v) = \\frac{\\sum_{k \\in I_{uv}} s_{uk} s_{vk}}{\\sqrt{\\sum_{k \\in I_{uv}} s_{uk}^2}\\sqrt{\\sum_{k \\in I_{uv}} s_{vk}^2}}\n",
    "$$\n",
    "\n",
    "Le taux de corrélation ajusté ```cor_adj()``` permet de ne pas donner trop d'importance aux films populaires que beaucoup de personnes ont vu.\n",
    "$$\n",
    "cor\\_adj(u, v) = \\frac{\\sum_{k \\in I_{uv}} s_{uk} s_{vk} / U_k}{\\sqrt{\\sum_{k \\in I_{uv}} \\frac{s_{uk}^2}{|U_k|}}\\sqrt{\\sum_{k \\in I_{uv}} \\frac{s_{vk}^2}{|U_k|}}}\n",
    "$$\n",
    "\n",
    "Le taux de correlation calculé par ```cor_dis()``` permet de ne pas donner une correlation trop élevée si les deux utilisateurs n'ont pas donné assez d'avis sur des films en commun. \n",
    "$$\n",
    "cor\\_dis(u, v) = cor(u, v) * \\frac{min(|I_{uv}|, \\beta)}{\\beta}\n",
    "$$\n",
    "\n",
    "Enfin la fonction ```cor_dis_adj()``` fait un mélange des deux dernières amélioration : il filtre les films trop populaire et n'apporte de l'importance seulement si deux personnes ont données leur avis sur un certain nombre de films.\n",
    "\n",
    "$$\n",
    "cor\\_dis(u, v) = cor\\_adj(u, v) * \\frac{min(|I_{uv}|, \\beta)}{\\beta}\n",
    "$$"
   ]
  },
  {
   "cell_type": "markdown",
   "metadata": {},
   "source": [
    "# <span style=\"color:red\">Big question : on donne quoi comme correlation si su et/ou sv est nul ? J'ai mis 0 par défaut mais bon ...\n",
    "</span>"
   ]
  },
  {
   "cell_type": "code",
   "execution_count": 30,
   "metadata": {},
   "outputs": [],
   "source": [
    "def tx_cor(u, v, base):\n",
    "    '''\n",
    "    :param: u, v - les id des peers (user ou movie) à comparer\n",
    "            base - un indicateur dy type de recommandation utilisé : 'user' ou 'movie'\n",
    "    :return: le taux de corrélation classique entre u et v.\n",
    "    '''\n",
    "    ptype, otype = ('userId', 'movieId') if base == 'user' else ('movieId', 'userId')\n",
    "    \n",
    "    Iu = dfr.loc[dfr[ptype] == u, [otype]]\n",
    "    Iv = dfr.loc[dfr[ptype] == v, [otype]]\n",
    "    Iuv = Iu.join(Iv.set_index(otype), on=otype, how='inner')\n",
    "    if not Iuv.shape[0] : # l'intersection est vide\n",
    "        return float('nan')\n",
    "\n",
    "    su = dfr.loc[(dfr[ptype] == u) & (dfr[otype].isin(Iuv[otype]))]\n",
    "    sv = dfr.loc[(dfr[ptype] == v) & (dfr[otype].isin(Iuv[otype]))]\n",
    "    su = su['rating_norm_'+base].to_numpy()\n",
    "    sv = sv['rating_norm_'+base].to_numpy()\n",
    "    \n",
    "    up = np.dot(su, sv)\n",
    "    down = math.sqrt(np.dot(su, su) * np.dot(sv, sv))\n",
    "\n",
    "# default value to change\n",
    "    if up == 0 or down == 0:\n",
    "        return 0\n",
    "    return up / down"
   ]
  },
  {
   "cell_type": "markdown",
   "metadata": {},
   "source": [
    "# <span style=\"color:red\">À adapter encore</span>"
   ]
  },
  {
   "cell_type": "code",
   "execution_count": 31,
   "metadata": {},
   "outputs": [],
   "source": [
    "def cor_adj(u, v, df, Iuv):\n",
    "    nb_rat = df.loc[:, ['movieId', 'rating']].groupby(['movieId']).count()\n",
    "    \n",
    "    sum_up = 0\n",
    "    sum_down_u = 0\n",
    "    sum_down_v = 0\n",
    "    for movie in Iuv.movieId.unique() :\n",
    "        suk = df.loc[(df['userId'] == u) & (df['movieId'] == movie), ['rating_norm_'+base]]\n",
    "        svk = df.loc[(df['userId'] == v) & (df['movieId'] == movie), ['rating_norm_'+base]]\n",
    "        suk, svk = float(suk), float(svk)\n",
    "        \n",
    "        sum_up += suk * svk / nb_rat.at[movie, 'rating']\n",
    "        sum_down_u += suk**2 /  nb_rat.at[movie, 'rating']\n",
    "        sum_down_v += svk**2 /  nb_rat.at[movie, 'rating']\n",
    "    return sum_up / math.sqrt(sum_down_u * sum_down_v)"
   ]
  },
  {
   "cell_type": "code",
   "execution_count": 32,
   "metadata": {},
   "outputs": [],
   "source": [
    "def cor_dis(u, v, df, Iuv):\n",
    "    beta = 20\n",
    "    correlation = cor(u, v, df, Iuv)\n",
    "    return correlation * min(len(Iuv), beta)/beta"
   ]
  },
  {
   "cell_type": "code",
   "execution_count": 33,
   "metadata": {},
   "outputs": [],
   "source": [
    "def cor_dis_adj(u, v, df, Iuv):\n",
    "    beta = 20\n",
    "    correlation = cor_adj(u, v, df, Iuv)\n",
    "    return correlation * min(len(Iuv), beta)/beta"
   ]
  },
  {
   "cell_type": "markdown",
   "metadata": {},
   "source": [
    "# <span style=\"color:red\">Big question 2 : un gars ([ici](https://www.ethanrosenthal.com/2015/11/02/intro-to-collaborative-filtering/)) fait cette fonction pour calculer la matrice plus rapidement </span>\n"
   ]
  },
  {
   "cell_type": "code",
   "execution_count": 34,
   "metadata": {},
   "outputs": [],
   "source": [
    "def fast_similarity(ratings, kind='user', epsilon=1e-9):\n",
    "    # epsilon -> small number for handling dived-by-zero errors\n",
    "    if kind == 'user':\n",
    "        sim = ratings.dot(ratings.T) + epsilon\n",
    "    elif kind == 'item':\n",
    "        sim = ratings.T.dot(ratings) + epsilon\n",
    "    norms = np.array([np.sqrt(np.diagonal(sim))])\n",
    "    return (sim / norms / norms.T)"
   ]
  },
  {
   "cell_type": "markdown",
   "metadata": {},
   "source": [
    "Nous construisons maintenant la matrice de correlation. Puisqu'une telle matrice est symétrique, nous avons préféré utiliser une dataframe à deux entrées et ainsi ne stocker la corrélation pour un couple qu'une seule fois. En procédant comme tel, l'ordre dans lequel on désigne un couple peer-peer sera important. Pour faciliter l'accès, nous trions d'abord la datframe `df` pour que les peers soient pris dans l'ordre croissant des id. Ainsi les doubles indices de la dataframe construite auront tous la propriété que le premier indice est strictement inférieur au deuxième. Lors de l'accès à la correlation entre deux peers *u et v* il suffira de les ranger dans le bon ordre.\n",
    "\n",
    "La fonction de corrélation à utiliser peut être précisée en argument et par défaut la fonction choisie est la corrélation classique.\n",
    "\n",
    "Nous utilisons également le module logging pour suivre le déroulement du calcul. Celui-ci peut être très long en fonction de la taille des données et en rappelant tous les 10 peers qu\n",
    "\n",
    "Comme le calcul de la matrice peut-être très long, afin d'voir un suivi du déroulement du calcul, on utilise le module logging. Cette fonctionalité est désactivée par défaut. "
   ]
  },
  {
   "cell_type": "markdown",
   "metadata": {},
   "source": [
    "# <span style=\"color:green\">Comparer temps de construction d'une matrice de corrélation vs dataframe de corrélation. Dans construction de matrice, peut-être checker si déjà calculer et recuperer dans cellule déjà entrée ? Ou est ce plus long que de juste recalculer le taux de corrélation ? ==> timer le calcul d'une correlation </span>"
   ]
  },
  {
   "cell_type": "code",
   "execution_count": 35,
   "metadata": {},
   "outputs": [
    {
     "name": "stdout",
     "output_type": "stream",
     "text": [
      "(1165, 3)\n"
     ]
    }
   ],
   "source": [
    "dfr = ratings.copy().loc[(ratings['userId'] <= 50) & (ratings['movieId'] <= 500)]\n",
    "print(dfr.shape)\n",
    "base ='user'\n",
    "user = 2\n",
    "movie = 4\n",
    "\n",
    "mean_user = normalize(base)"
   ]
  },
  {
   "cell_type": "code",
   "execution_count": 36,
   "metadata": {
    "scrolled": true
   },
   "outputs": [
    {
     "ename": "NameError",
     "evalue": "name 'u' is not defined",
     "output_type": "error",
     "traceback": [
      "\u001b[1;31m---------------------------------------------------------------------------\u001b[0m",
      "\u001b[1;31mNameError\u001b[0m                                 Traceback (most recent call last)",
      "\u001b[1;32m<ipython-input-36-41e43ec03029>\u001b[0m in \u001b[0;36m<module>\u001b[1;34m\u001b[0m\n\u001b[1;32m----> 1\u001b[1;33m \u001b[0mget_ipython\u001b[0m\u001b[1;33m(\u001b[0m\u001b[1;33m)\u001b[0m\u001b[1;33m.\u001b[0m\u001b[0mrun_line_magic\u001b[0m\u001b[1;33m(\u001b[0m\u001b[1;34m'timeit'\u001b[0m\u001b[1;33m,\u001b[0m \u001b[1;34m'tx_cor(u, v, base)'\u001b[0m\u001b[1;33m)\u001b[0m\u001b[1;33m\u001b[0m\u001b[1;33m\u001b[0m\u001b[0m\n\u001b[0m\u001b[0;32m      2\u001b[0m \u001b[0mget_ipython\u001b[0m\u001b[1;33m(\u001b[0m\u001b[1;33m)\u001b[0m\u001b[1;33m.\u001b[0m\u001b[0mrun_line_magic\u001b[0m\u001b[1;33m(\u001b[0m\u001b[1;34m'timeit'\u001b[0m\u001b[1;33m,\u001b[0m \u001b[1;34m'3 + 4'\u001b[0m\u001b[1;33m)\u001b[0m\u001b[1;33m\u001b[0m\u001b[1;33m\u001b[0m\u001b[0m\n",
      "\u001b[1;32m~\\Anaconda3\\lib\\site-packages\\IPython\\core\\interactiveshell.py\u001b[0m in \u001b[0;36mrun_line_magic\u001b[1;34m(self, magic_name, line, _stack_depth)\u001b[0m\n\u001b[0;32m   2312\u001b[0m                 \u001b[0mkwargs\u001b[0m\u001b[1;33m[\u001b[0m\u001b[1;34m'local_ns'\u001b[0m\u001b[1;33m]\u001b[0m \u001b[1;33m=\u001b[0m \u001b[0msys\u001b[0m\u001b[1;33m.\u001b[0m\u001b[0m_getframe\u001b[0m\u001b[1;33m(\u001b[0m\u001b[0mstack_depth\u001b[0m\u001b[1;33m)\u001b[0m\u001b[1;33m.\u001b[0m\u001b[0mf_locals\u001b[0m\u001b[1;33m\u001b[0m\u001b[1;33m\u001b[0m\u001b[0m\n\u001b[0;32m   2313\u001b[0m             \u001b[1;32mwith\u001b[0m \u001b[0mself\u001b[0m\u001b[1;33m.\u001b[0m\u001b[0mbuiltin_trap\u001b[0m\u001b[1;33m:\u001b[0m\u001b[1;33m\u001b[0m\u001b[1;33m\u001b[0m\u001b[0m\n\u001b[1;32m-> 2314\u001b[1;33m                 \u001b[0mresult\u001b[0m \u001b[1;33m=\u001b[0m \u001b[0mfn\u001b[0m\u001b[1;33m(\u001b[0m\u001b[1;33m*\u001b[0m\u001b[0margs\u001b[0m\u001b[1;33m,\u001b[0m \u001b[1;33m**\u001b[0m\u001b[0mkwargs\u001b[0m\u001b[1;33m)\u001b[0m\u001b[1;33m\u001b[0m\u001b[1;33m\u001b[0m\u001b[0m\n\u001b[0m\u001b[0;32m   2315\u001b[0m             \u001b[1;32mreturn\u001b[0m \u001b[0mresult\u001b[0m\u001b[1;33m\u001b[0m\u001b[1;33m\u001b[0m\u001b[0m\n\u001b[0;32m   2316\u001b[0m \u001b[1;33m\u001b[0m\u001b[0m\n",
      "\u001b[1;32m<C:\\Users\\VICTOR\\Anaconda3\\lib\\site-packages\\decorator.py:decorator-gen-61>\u001b[0m in \u001b[0;36mtimeit\u001b[1;34m(self, line, cell, local_ns)\u001b[0m\n",
      "\u001b[1;32m~\\Anaconda3\\lib\\site-packages\\IPython\\core\\magic.py\u001b[0m in \u001b[0;36m<lambda>\u001b[1;34m(f, *a, **k)\u001b[0m\n\u001b[0;32m    185\u001b[0m     \u001b[1;31m# but it's overkill for just that one bit of state.\u001b[0m\u001b[1;33m\u001b[0m\u001b[1;33m\u001b[0m\u001b[1;33m\u001b[0m\u001b[0m\n\u001b[0;32m    186\u001b[0m     \u001b[1;32mdef\u001b[0m \u001b[0mmagic_deco\u001b[0m\u001b[1;33m(\u001b[0m\u001b[0marg\u001b[0m\u001b[1;33m)\u001b[0m\u001b[1;33m:\u001b[0m\u001b[1;33m\u001b[0m\u001b[1;33m\u001b[0m\u001b[0m\n\u001b[1;32m--> 187\u001b[1;33m         \u001b[0mcall\u001b[0m \u001b[1;33m=\u001b[0m \u001b[1;32mlambda\u001b[0m \u001b[0mf\u001b[0m\u001b[1;33m,\u001b[0m \u001b[1;33m*\u001b[0m\u001b[0ma\u001b[0m\u001b[1;33m,\u001b[0m \u001b[1;33m**\u001b[0m\u001b[0mk\u001b[0m\u001b[1;33m:\u001b[0m \u001b[0mf\u001b[0m\u001b[1;33m(\u001b[0m\u001b[1;33m*\u001b[0m\u001b[0ma\u001b[0m\u001b[1;33m,\u001b[0m \u001b[1;33m**\u001b[0m\u001b[0mk\u001b[0m\u001b[1;33m)\u001b[0m\u001b[1;33m\u001b[0m\u001b[1;33m\u001b[0m\u001b[0m\n\u001b[0m\u001b[0;32m    188\u001b[0m \u001b[1;33m\u001b[0m\u001b[0m\n\u001b[0;32m    189\u001b[0m         \u001b[1;32mif\u001b[0m \u001b[0mcallable\u001b[0m\u001b[1;33m(\u001b[0m\u001b[0marg\u001b[0m\u001b[1;33m)\u001b[0m\u001b[1;33m:\u001b[0m\u001b[1;33m\u001b[0m\u001b[1;33m\u001b[0m\u001b[0m\n",
      "\u001b[1;32m~\\Anaconda3\\lib\\site-packages\\IPython\\core\\magics\\execution.py\u001b[0m in \u001b[0;36mtimeit\u001b[1;34m(self, line, cell, local_ns)\u001b[0m\n\u001b[0;32m   1156\u001b[0m             \u001b[1;32mfor\u001b[0m \u001b[0mindex\u001b[0m \u001b[1;32min\u001b[0m \u001b[0mrange\u001b[0m\u001b[1;33m(\u001b[0m\u001b[1;36m0\u001b[0m\u001b[1;33m,\u001b[0m \u001b[1;36m10\u001b[0m\u001b[1;33m)\u001b[0m\u001b[1;33m:\u001b[0m\u001b[1;33m\u001b[0m\u001b[1;33m\u001b[0m\u001b[0m\n\u001b[0;32m   1157\u001b[0m                 \u001b[0mnumber\u001b[0m \u001b[1;33m=\u001b[0m \u001b[1;36m10\u001b[0m \u001b[1;33m**\u001b[0m \u001b[0mindex\u001b[0m\u001b[1;33m\u001b[0m\u001b[1;33m\u001b[0m\u001b[0m\n\u001b[1;32m-> 1158\u001b[1;33m                 \u001b[0mtime_number\u001b[0m \u001b[1;33m=\u001b[0m \u001b[0mtimer\u001b[0m\u001b[1;33m.\u001b[0m\u001b[0mtimeit\u001b[0m\u001b[1;33m(\u001b[0m\u001b[0mnumber\u001b[0m\u001b[1;33m)\u001b[0m\u001b[1;33m\u001b[0m\u001b[1;33m\u001b[0m\u001b[0m\n\u001b[0m\u001b[0;32m   1159\u001b[0m                 \u001b[1;32mif\u001b[0m \u001b[0mtime_number\u001b[0m \u001b[1;33m>=\u001b[0m \u001b[1;36m0.2\u001b[0m\u001b[1;33m:\u001b[0m\u001b[1;33m\u001b[0m\u001b[1;33m\u001b[0m\u001b[0m\n\u001b[0;32m   1160\u001b[0m                     \u001b[1;32mbreak\u001b[0m\u001b[1;33m\u001b[0m\u001b[1;33m\u001b[0m\u001b[0m\n",
      "\u001b[1;32m~\\Anaconda3\\lib\\site-packages\\IPython\\core\\magics\\execution.py\u001b[0m in \u001b[0;36mtimeit\u001b[1;34m(self, number)\u001b[0m\n\u001b[0;32m    167\u001b[0m         \u001b[0mgc\u001b[0m\u001b[1;33m.\u001b[0m\u001b[0mdisable\u001b[0m\u001b[1;33m(\u001b[0m\u001b[1;33m)\u001b[0m\u001b[1;33m\u001b[0m\u001b[1;33m\u001b[0m\u001b[0m\n\u001b[0;32m    168\u001b[0m         \u001b[1;32mtry\u001b[0m\u001b[1;33m:\u001b[0m\u001b[1;33m\u001b[0m\u001b[1;33m\u001b[0m\u001b[0m\n\u001b[1;32m--> 169\u001b[1;33m             \u001b[0mtiming\u001b[0m \u001b[1;33m=\u001b[0m \u001b[0mself\u001b[0m\u001b[1;33m.\u001b[0m\u001b[0minner\u001b[0m\u001b[1;33m(\u001b[0m\u001b[0mit\u001b[0m\u001b[1;33m,\u001b[0m \u001b[0mself\u001b[0m\u001b[1;33m.\u001b[0m\u001b[0mtimer\u001b[0m\u001b[1;33m)\u001b[0m\u001b[1;33m\u001b[0m\u001b[1;33m\u001b[0m\u001b[0m\n\u001b[0m\u001b[0;32m    170\u001b[0m         \u001b[1;32mfinally\u001b[0m\u001b[1;33m:\u001b[0m\u001b[1;33m\u001b[0m\u001b[1;33m\u001b[0m\u001b[0m\n\u001b[0;32m    171\u001b[0m             \u001b[1;32mif\u001b[0m \u001b[0mgcold\u001b[0m\u001b[1;33m:\u001b[0m\u001b[1;33m\u001b[0m\u001b[1;33m\u001b[0m\u001b[0m\n",
      "\u001b[1;32m<magic-timeit>\u001b[0m in \u001b[0;36minner\u001b[1;34m(_it, _timer)\u001b[0m\n",
      "\u001b[1;31mNameError\u001b[0m: name 'u' is not defined"
     ]
    }
   ],
   "source": [
    "%timeit tx_cor(u, v, base)\n",
    "%timeit 3 + 4"
   ]
  },
  {
   "cell_type": "code",
   "execution_count": null,
   "metadata": {},
   "outputs": [],
   "source": [
    "%timeit peers = dfr.userId.unique() if base == 'user' else dfr.movieId.unique()"
   ]
  },
  {
   "cell_type": "code",
   "execution_count": null,
   "metadata": {},
   "outputs": [],
   "source": [
    "%timeit peers = dfr[base+'Id'].unique()"
   ]
  },
  {
   "cell_type": "code",
   "execution_count": null,
   "metadata": {},
   "outputs": [],
   "source": [
    "def slow_cor_matrix(cor_fct=tx_cor, base='user', verbose=False):\n",
    "    '''\n",
    "    Retourne la dataframe des taux de corrélations entre peers\n",
    "    '''\n",
    "    ptype, otype = ('userId', 'movieId') if base == 'user' else ('movieId', 'userId')\n",
    "    dfr.sort_values(by=ptype, inplace=True)\n",
    "    peers = dfr[base+'Id'].unique()\n",
    "    nb_peers = len(peers)\n",
    "    \n",
    "    if verbose:\n",
    "        logger = logging.getLogger()\n",
    "        logger.setLevel(logging.INFO)\n",
    "        logging.info('nb of peers: {}'.format(nb_peers))\n",
    "    \n",
    "    correlation = []\n",
    "    couples = []\n",
    "    for i in range(nb_peers):\n",
    "        u = peers[i]\n",
    "        if verbose and not i % 10 : \n",
    "            logging.info('peer nb: {} (id {})'.format(i, u))\n",
    "        for j in range(i + 1, nb_peers):\n",
    "            v = peers[j]\n",
    "            tx_cor = cor_fct(u, v, base)\n",
    "            if not np.isnan(tx_cor):\n",
    "                couples.append((u, v))\n",
    "                correlation.append(tx_cor)\n",
    "    index = pd.MultiIndex.from_tuples(couples, names=['u', 'v'])\n",
    "    cor = pd.DataFrame(correlation, index=index, columns=['correlation'])\n",
    "    return cor"
   ]
  },
  {
   "cell_type": "code",
   "execution_count": null,
   "metadata": {
    "scrolled": true
   },
   "outputs": [],
   "source": [
    "%timeit cm_user = slow_cor_matrix(base='user')"
   ]
  },
  {
   "cell_type": "code",
   "execution_count": null,
   "metadata": {},
   "outputs": [],
   "source": [
    "%timeit cm_user, user_rank = cor_matrix(base='user')"
   ]
  },
  {
   "cell_type": "code",
   "execution_count": null,
   "metadata": {},
   "outputs": [],
   "source": [
    "%%timeit\n",
    "global cm_user\n",
    "global user_rank\n",
    "cm_user = slow_cor_matrix(base='user')\n",
    "a = slow_get_cor(u, v, base)"
   ]
  },
  {
   "cell_type": "code",
   "execution_count": null,
   "metadata": {
    "scrolled": true
   },
   "outputs": [],
   "source": [
    "%%timeit\n",
    "global cm_user\n",
    "global user_rank\n",
    "cm_user, user_rank = cor_matrix(base='user')\n",
    "a = get_cor(u, v, base)"
   ]
  },
  {
   "cell_type": "code",
   "execution_count": null,
   "metadata": {},
   "outputs": [],
   "source": [
    "def slow_get_cor(u, v, base='user'):\n",
    "    '''\n",
    "    Retourne le taux de correlation entre u et v stocké\n",
    "    '''\n",
    "    cm = cm_user if base == 'user' else cm_movie\n",
    "    if u > v :\n",
    "        u, v = v, u\n",
    "    index = list(cm.index.values)\n",
    "    if (u, v) in index :\n",
    "#         print('here')\n",
    "        return float(cm.loc[(u, v)])\n",
    "    return float('nan')"
   ]
  },
  {
   "cell_type": "code",
   "execution_count": null,
   "metadata": {},
   "outputs": [],
   "source": [
    "def cor_matrix(cor_fct=tx_cor, base='user', verbose=False):\n",
    "    '''\n",
    "    Retourne la matrice de corrélation entre peers\n",
    "    '''\n",
    "    ptype, otype = ('userId', 'movieId') if base == 'user' else ('movieId', 'userId')\n",
    "    dfr.sort_values(by=ptype, inplace=True)\n",
    "    peers = dfr[base+'Id'].unique()\n",
    "    nb_peers = len(peers)\n",
    "    \n",
    "    if verbose:\n",
    "        logger = logging.getLogger()\n",
    "        logger.setLevel(logging.INFO)\n",
    "        logging.info('nb of peers: {}'.format(nb_peers))\n",
    "    \n",
    "    cor = np.empty((nb_peers,nb_peers))\n",
    "    cor[:] = np.nan\n",
    "\n",
    "    for i in range(nb_peers):\n",
    "        u = peers[i]\n",
    "        if verbose and not i % 10 : \n",
    "            logging.info('peer nb: {} (id {})'.format(i, u))\n",
    "        for j in range(i + 1, nb_peers):\n",
    "            v = peers[j]\n",
    "            tx_cor = cor_fct(u, v, base)\n",
    "            if not np.isnan(tx_cor):\n",
    "                cor[i, j] = tx_cor\n",
    "                cor[j, i] = cor[i, j]\n",
    "    return cor, peers"
   ]
  },
  {
   "cell_type": "code",
   "execution_count": null,
   "metadata": {},
   "outputs": [],
   "source": [
    "def get_cor(u, v, base='user'):\n",
    "    '''\n",
    "    Retourne le taux de correlation entre u et v\n",
    "    '''\n",
    "    cm = cm_user if base == 'user' else cm_movie\n",
    "    id_index = user_rank if base == 'user' else movie_rank\n",
    "    idu, idv = np.argwhere(id_index == u)[0, 0], np.argwhere(id_index == v)[0, 0]\n",
    "    return cm[u, v]"
   ]
  },
  {
   "cell_type": "markdown",
   "metadata": {},
   "source": [
    "### Prédiction\n",
    "\n",
    "Pour prédire la note donnée par un utilisateur à un film, nous allons faire un moyenne des notes données pour les k peer les plus proches. Dans une approche user-based, on regarde donc les k plus proches utilisateurs, dans une approche item-based, les k films les plus proches. Les plus proches sont ceux qui ont une corrélation la plus élevée. On appelle **p** le peer et **o** l'élément other.\n",
    "\n",
    "La moyenne effectuée est pondérée par les coefficients de corrélations. On ajoute également la moyenne des notes de **p** pour retrouver une note non normalisée.\n",
    "\n",
    "\n",
    "$$\n",
    "\\hat{\\sigma}_{um} = \\mu_u + \\frac{\\sum_{v \\in P_u(m)} s_{vm} \\cdot cor(u, v)}{\\sum_{v \\in P_u(m)} |cor(u,v)|}\n",
    "$$"
   ]
  },
  {
   "cell_type": "markdown",
   "metadata": {},
   "source": [
    "# <span style=\"color:red\">Pourquoi utiliser un parsing fait maison et pas knn non parametré comme tout le monde sur internet ?</span>"
   ]
  },
  {
   "cell_type": "code",
   "execution_count": null,
   "metadata": {},
   "outputs": [],
   "source": [
    "def peer_group(p, o, base='user', k=4):\n",
    "    '''\n",
    "    Retourne les k peers les plus proches de p\n",
    "    '''\n",
    "    ptype, otype = ('userId', 'movieId') if base == 'user' else ('movieId', 'userId')\n",
    "    \n",
    "    # in user-based, get users that rated the movie o\n",
    "    peers = dfr.loc[dfr[otype] == o, [ptype, 'rating_norm_'+base]]\n",
    "    peers = peers[base+'Id'].unique()\n",
    "    \n",
    "    top = [(float('-inf'), p)] * k\n",
    "    for v in peers:\n",
    "        taux = get_cor(p, v, base)\n",
    "        if taux > top[-1][0] :\n",
    "            top += [(taux, v)]\n",
    "            top.sort(reverse=True)\n",
    "            top = top[:-1]\n",
    "    return [t[1] for t in top]"
   ]
  },
  {
   "cell_type": "markdown",
   "metadata": {},
   "source": [
    "# <span style=\"color:red\">Que faire si sum_dow == 0 ? + prédire une note possible ?</span>"
   ]
  },
  {
   "cell_type": "code",
   "execution_count": null,
   "metadata": {},
   "outputs": [],
   "source": [
    "def predict_collabo(p, o, base='user', k=4):\n",
    "    '''\n",
    "    Retourne la prédiction de la note du couple (p, o) utilisant un peer-groupe de taille k\n",
    "    '''\n",
    "    ptype, otype = ('userId', 'movieId') if base == 'user' else ('movieId', 'userId')\n",
    "\n",
    "    mu = mean_user[p] if base == 'user' else mean_movie[p]\n",
    "    peers = peer_group(p, o, base, k)\n",
    "    \n",
    "    sum_up, sum_down = 0, 0\n",
    "    for friend in peers:\n",
    "        cor = get_cor(p, friend, base)\n",
    "        if not math.isnan(cor):\n",
    "            sfo = dfr.loc[(dfr[ptype] == friend) & (dfr[otype] == o), 'rating_norm_'+base]\n",
    "            sfo = 0 if len(sfo) <= 0 else float(sfo)\n",
    "            sum_up += sfo * cor\n",
    "            sum_down += abs(cor)\n",
    "\n",
    "    sum_down = 1 if sum_down == 0 else sum_down\n",
    "    pred = mu + sum_up / sum_down\n",
    "    \n",
    "    # note prédite à une précision de 0.5\n",
    "    pred = round(2 * pred) / 2\n",
    "    # note prédite se trouve entre 0 et 5\n",
    "    pred = 5 if pred > 5 else pred\n",
    "    pred = 0 if pred < 0 else pred\n",
    "\n",
    "    return pred"
   ]
  },
  {
   "cell_type": "markdown",
   "metadata": {},
   "source": [
    "### Test des fonctions de manière individuelle"
   ]
  },
  {
   "cell_type": "code",
   "execution_count": null,
   "metadata": {
    "scrolled": false
   },
   "outputs": [],
   "source": [
    "dfr = ratings.copy().loc[(ratings['userId'] <= 30) & (ratings['movieId'] <= 500)]\n",
    "print(dfr.shape)\n",
    "dfr.head()"
   ]
  },
  {
   "cell_type": "code",
   "execution_count": null,
   "metadata": {},
   "outputs": [],
   "source": [
    "%timeit normalize('user')"
   ]
  },
  {
   "cell_type": "code",
   "execution_count": null,
   "metadata": {},
   "outputs": [],
   "source": [
    "dfr.head()"
   ]
  },
  {
   "cell_type": "code",
   "execution_count": null,
   "metadata": {},
   "outputs": [],
   "source": [
    "dfr.shape"
   ]
  },
  {
   "cell_type": "code",
   "execution_count": null,
   "metadata": {},
   "outputs": [],
   "source": [
    "normalize('movie')\n",
    "normalize('user')\n",
    "dfr.head()"
   ]
  },
  {
   "cell_type": "code",
   "execution_count": null,
   "metadata": {
    "scrolled": true
   },
   "outputs": [],
   "source": [
    "cm_user = slow_cor_matrix(base='user', verbose=True)"
   ]
  },
  {
   "cell_type": "code",
   "execution_count": null,
   "metadata": {},
   "outputs": [],
   "source": [
    "cm_user.head()"
   ]
  },
  {
   "cell_type": "code",
   "execution_count": null,
   "metadata": {
    "scrolled": true
   },
   "outputs": [],
   "source": [
    "%timeit cm_user = cor_matrix(base='user', verbose=True)"
   ]
  },
  {
   "cell_type": "code",
   "execution_count": null,
   "metadata": {},
   "outputs": [],
   "source": [
    "cm_user = cor_matrix(base='user', verbose=True)\n",
    "cm_user.head()"
   ]
  },
  {
   "cell_type": "code",
   "execution_count": null,
   "metadata": {
    "scrolled": true
   },
   "outputs": [],
   "source": [
    "%timeit cm_movie = slow_cor_matrix(base='movie', verbose=True)"
   ]
  },
  {
   "cell_type": "code",
   "execution_count": null,
   "metadata": {
    "scrolled": true
   },
   "outputs": [],
   "source": [
    "%timeit cm_movie = cor_matrix(base='movie', verbose=True)\n",
    "cm_movie.head()"
   ]
  },
  {
   "cell_type": "code",
   "execution_count": null,
   "metadata": {},
   "outputs": [],
   "source": [
    "user = 4\n",
    "movie = 49280\n",
    "movie2 = 26791\n",
    "\n",
    "p1 = predict_collabo(user, movie, base='user')\n",
    "p2 = predict_collabo(user, movie, base='movie')\n",
    "p3 = predict_collabo(user, movie2, base='user')\n",
    "p4 = predict_collabo(user, movie2, base='movie')\n",
    "print(p1)\n",
    "print(p2)\n",
    "print(p3)\n",
    "print(p4)"
   ]
  },
  {
   "cell_type": "markdown",
   "metadata": {},
   "source": [
    "# <span style=\"color:red\"> Hypothèse sur pourquoi c'est pas différent (en haut) : pas assez de données. Parce que quand on utilise tout le datase (en bas) ça marche ... ?\n",
    "</span>."
   ]
  },
  {
   "cell_type": "markdown",
   "metadata": {},
   "source": [
    "### Utilisation de toutes les données"
   ]
  },
  {
   "cell_type": "code",
   "execution_count": null,
   "metadata": {},
   "outputs": [],
   "source": [
    "dfr = ratings"
   ]
  },
  {
   "cell_type": "code",
   "execution_count": null,
   "metadata": {},
   "outputs": [],
   "source": [
    "%timeit normalize(base='user')\n",
    "dfr.head()"
   ]
  },
  {
   "cell_type": "code",
   "execution_count": null,
   "metadata": {
    "scrolled": true
   },
   "outputs": [],
   "source": [
    "%timeit normalize(base='movie')\n",
    "dfr.head()"
   ]
  },
  {
   "cell_type": "code",
   "execution_count": null,
   "metadata": {
    "scrolled": true
   },
   "outputs": [],
   "source": [
    "t1 = time()\n",
    "cm_user = cor_matrix(base='user', verbose=True)\n",
    "t2 = time()\n",
    "print(t2-t1)\n",
    "cm_user.head()"
   ]
  },
  {
   "cell_type": "code",
   "execution_count": null,
   "metadata": {
    "scrolled": true
   },
   "outputs": [],
   "source": [
    "t1 = time()\n",
    "cm_movie = cor_matrix(base='movie', verbose=True)\n",
    "t2 = time()\n",
    "print(t2-t1)\n",
    "cm_movie.head()"
   ]
  },
  {
   "cell_type": "code",
   "execution_count": null,
   "metadata": {},
   "outputs": [],
   "source": [
    "user = 3\n",
    "movie = 4\n",
    "movie2 = 5765\n",
    "\n",
    "p1 = predict_collabo(user, movie, base='user')\n",
    "# p2 = predict_collabo(k, user, movie, base='movie')\n",
    "p3 = predict_collabo(user, movie2, base='user')\n",
    "print(p1)\n",
    "# print(p2)\n",
    "print(p3)"
   ]
  },
  {
   "cell_type": "markdown",
   "metadata": {},
   "source": [
    "## Modèle hybride : popularité par genre et collaborative filtering\n",
    "\n",
    "La méthode précédente permet de prédire une note, mais nous aimerions pouvoir recommander des films à un utilisateurs qu'il est susceptible d'aimer. Pour cela il faudrait prédire la note qu'il donnerait à tous les films qu'il n'a pas encore noté et prélever ceux dont la note prédite est la plus élevée. Ceci serait beaucoup trop coûteux. Une première solution est de ne considérer que des films appartenant à ses genres préférés. Ceci risque d'être toujours trop coûteux, alors nous allons nous restreindre qu'aux films les plus populaires dans ses genres préférés."
   ]
  },
  {
   "cell_type": "markdown",
   "metadata": {},
   "source": [
    "# <span style=\"color:green\"> df_filtered ou dfm avec le merge dans return ? </span>\n",
    "\n",
    "# <span style=\"color:green\"> iterer de manière plus efficace ?</span>"
   ]
  },
  {
   "cell_type": "code",
   "execution_count": null,
   "metadata": {},
   "outputs": [],
   "source": [
    "def hybride_genre(uid, nb_reco=10, base='user', k=4):\n",
    "    '''\n",
    "    Prédit des notes que l'utilisateur uid donnerait aux 1000 films les plus populaires\n",
    "    appartenant à ses genres préférés\n",
    "    Retourne les nb_reco films dont le système prédit la meilleure note\n",
    "    '''\n",
    "    dfm_filtered = top_reco(uid, 1000)\n",
    "    \n",
    "    predictions = pd.DataFrame(columns=['movieId', 'predict_rating'])\n",
    "    \n",
    "    for mid in dfm_filtered.movieId.unique():\n",
    "        p, o = (uid, mid) if base == 'user' else (mid, uid)\n",
    "        rat = predict_collabo(p, o, base, k)\n",
    "        predictions = predictions.append({'movieId':int(mid), 'predict_rating':rat}, ignore_index=True)\n",
    "    \n",
    "    predictions = predictions.sort_values(by='predict_rating', ascending=False)\n",
    "    reco = \n",
    "    \n",
    "    reco = predictions.head(nb_reco) if predictions.shape[0] > nb_reco else predictions\n",
    "    \n",
    "    return dfm_filtered.merge(reco, how='inner')"
   ]
  },
  {
   "cell_type": "code",
   "execution_count": null,
   "metadata": {},
   "outputs": [],
   "source": [
    "user = 4\n",
    "\n",
    "hybride_genre(user)"
   ]
  },
  {
   "cell_type": "markdown",
   "metadata": {},
   "source": [
    "Cette solution présente néanmoins un désavantage. Premièrement, seuls les films les plus populaires sont considérés, leur donnant plus de visibilté parmis les utilisateurs. Ainsi un nouveau film qui n'aura pas beaucoup été vu aura que peut de chance d'être recommandé par assez populaire. Le deuxième problème est que cette méthode regroupe les films par genres. Or ce qui caractérise un film est plus vaste que seulement la case dans laquelle il s'inscrit et peut dépendre du réalisateur, du lieu de tournage ou de pleins d'autres facteurs. C'est ici que le *clustering* nous vient en aide. Cela permet de regrouper les films selon leurs similitudes issues de méta-informations et ainsi d'affiner la recherche."
   ]
  },
  {
   "cell_type": "markdown",
   "metadata": {},
   "source": [
    "## Clustering des films"
   ]
  },
  {
   "cell_type": "markdown",
   "metadata": {},
   "source": [
    "### Nettoyage de la base de données et réduction de la matrice aux caractéristiques interéssantes\n",
    "\n",
    "Suppression des id incorrects, des valeurs abérrantes, des lignes avec NaN, et modification des valeurs pour les rendre plus faciles à traiter.\n",
    "\n",
    "On sélectionne les attributs de films qui semblent pertinents pour différencier les films sur leur contenu.\n",
    "Ces choix sont arbitraires et on pourra être amenés à réfléchir dessus et à les modifier."
   ]
  },
  {
   "cell_type": "code",
   "execution_count": 6,
   "metadata": {},
   "outputs": [
    {
     "name": "stderr",
     "output_type": "stream",
     "text": [
      "C:\\Users\\VICTOR\\Anaconda3\\lib\\site-packages\\pandas\\core\\ops\\__init__.py:1115: FutureWarning: elementwise comparison failed; returning scalar instead, but in the future will perform elementwise comparison\n",
      "  result = method(y)\n"
     ]
    }
   ],
   "source": [
    "movies = movies.drop_duplicates('id')\n",
    "keywords = keywords.drop_duplicates('id')\n",
    "credits = credits.drop_duplicates('movie_id')\n",
    "movies.id = movies.id.apply(filter_correct_id)\n",
    "movies = movies[movies.id != \"wrong_id\"]\n",
    "movies.id = movies.id.astype('int64')\n",
    "movies = movies.rename(columns={'id' : 'tmdbId'})\n",
    "keywords = keywords.rename(columns={'id' : 'tmdbId'})\n",
    "credits = credits.rename(columns={'movie_id' : 'tmdbId'})"
   ]
  },
  {
   "cell_type": "markdown",
   "metadata": {},
   "source": [
    "Nous ne voulons garder que les films ayant reçu une note. Cela est une manière de ne garder qu'un nombre limité de films (il est très compliqué pour nous d'effectuer des calculs pour 45 000 films). De plus le clustering est intéressant pour renforcer la recommendation \"user-based\". On ne garde donc que les films ayant été notés par les utilisateurs. Ensuite on rajoute l'attribut keywords aux films."
   ]
  },
  {
   "cell_type": "code",
   "execution_count": 7,
   "metadata": {},
   "outputs": [],
   "source": [
    "dfm_cluster = movies.join(link.set_index('tmdbId'), on='tmdbId', how='inner')"
   ]
  },
  {
   "cell_type": "code",
   "execution_count": 8,
   "metadata": {},
   "outputs": [],
   "source": [
    "dfm_cluster = dfm_cluster.merge(ratings.drop_duplicates('movieId'), how='inner')"
   ]
  },
  {
   "cell_type": "code",
   "execution_count": 9,
   "metadata": {},
   "outputs": [],
   "source": [
    "credits = credits [['tmdbId','crew']]\n",
    "dfm_cluster = dfm_cluster.join(credits.set_index('tmdbId'), on='tmdbId', how='inner')"
   ]
  },
  {
   "cell_type": "code",
   "execution_count": 10,
   "metadata": {},
   "outputs": [],
   "source": [
    "dfm_cluster = dfm_cluster.join(keywords.set_index('tmdbId'), on='tmdbId', how='inner')"
   ]
  },
  {
   "cell_type": "code",
   "execution_count": 11,
   "metadata": {},
   "outputs": [
    {
     "data": {
      "text/html": [
       "<div>\n",
       "<style scoped>\n",
       "    .dataframe tbody tr th:only-of-type {\n",
       "        vertical-align: middle;\n",
       "    }\n",
       "\n",
       "    .dataframe tbody tr th {\n",
       "        vertical-align: top;\n",
       "    }\n",
       "\n",
       "    .dataframe thead th {\n",
       "        text-align: right;\n",
       "    }\n",
       "</style>\n",
       "<table border=\"1\" class=\"dataframe\">\n",
       "  <thead>\n",
       "    <tr style=\"text-align: right;\">\n",
       "      <th></th>\n",
       "      <th>title</th>\n",
       "      <th>genres</th>\n",
       "      <th>keywords</th>\n",
       "      <th>crew</th>\n",
       "      <th>release_date</th>\n",
       "      <th>production_countries</th>\n",
       "      <th>original_language</th>\n",
       "      <th>runtime</th>\n",
       "    </tr>\n",
       "    <tr>\n",
       "      <th>movieId</th>\n",
       "      <th></th>\n",
       "      <th></th>\n",
       "      <th></th>\n",
       "      <th></th>\n",
       "      <th></th>\n",
       "      <th></th>\n",
       "      <th></th>\n",
       "      <th></th>\n",
       "    </tr>\n",
       "  </thead>\n",
       "  <tbody>\n",
       "    <tr>\n",
       "      <td>1</td>\n",
       "      <td>Toy Story</td>\n",
       "      <td>[{'id': 16, 'name': 'Animation'}, {'id': 35, '...</td>\n",
       "      <td>[{'id': 931, 'name': 'jealousy'}, {'id': 4290,...</td>\n",
       "      <td>[{\"credit_id\": \"52fe4284c3a36847f8024f55\", \"de...</td>\n",
       "      <td>1995-10-30</td>\n",
       "      <td>[{'iso_3166_1': 'US', 'name': 'United States o...</td>\n",
       "      <td>en</td>\n",
       "      <td>81.0</td>\n",
       "    </tr>\n",
       "    <tr>\n",
       "      <td>10</td>\n",
       "      <td>GoldenEye</td>\n",
       "      <td>[{'id': 12, 'name': 'Adventure'}, {'id': 28, '...</td>\n",
       "      <td>[{'id': 701, 'name': 'cuba'}, {'id': 769, 'nam...</td>\n",
       "      <td>[{\"credit_id\": \"52fe426ec3a36847f801e16f\", \"de...</td>\n",
       "      <td>1995-11-16</td>\n",
       "      <td>[{'iso_3166_1': 'GB', 'name': 'United Kingdom'...</td>\n",
       "      <td>en</td>\n",
       "      <td>130.0</td>\n",
       "    </tr>\n",
       "    <tr>\n",
       "      <td>11</td>\n",
       "      <td>The American President</td>\n",
       "      <td>[{'id': 35, 'name': 'Comedy'}, {'id': 18, 'nam...</td>\n",
       "      <td>[{'id': 833, 'name': 'white house'}, {'id': 84...</td>\n",
       "      <td>[{\"credit_id\": \"52fe44dac3a36847f80adfa3\", \"de...</td>\n",
       "      <td>1995-11-17</td>\n",
       "      <td>[{'iso_3166_1': 'US', 'name': 'United States o...</td>\n",
       "      <td>en</td>\n",
       "      <td>106.0</td>\n",
       "    </tr>\n",
       "    <tr>\n",
       "      <td>14</td>\n",
       "      <td>Nixon</td>\n",
       "      <td>[{'id': 36, 'name': 'History'}, {'id': 18, 'na...</td>\n",
       "      <td>[{'id': 840, 'name': 'usa president'}, {'id': ...</td>\n",
       "      <td>[{\"credit_id\": \"52fe43c59251416c7501d705\", \"de...</td>\n",
       "      <td>1995-12-22</td>\n",
       "      <td>[{'iso_3166_1': 'US', 'name': 'United States o...</td>\n",
       "      <td>en</td>\n",
       "      <td>192.0</td>\n",
       "    </tr>\n",
       "    <tr>\n",
       "      <td>15</td>\n",
       "      <td>Cutthroat Island</td>\n",
       "      <td>[{'id': 28, 'name': 'Action'}, {'id': 12, 'nam...</td>\n",
       "      <td>[{'id': 911, 'name': 'exotic island'}, {'id': ...</td>\n",
       "      <td>[{\"credit_id\": \"52fe42f4c3a36847f802f69f\", \"de...</td>\n",
       "      <td>1995-12-22</td>\n",
       "      <td>[{'iso_3166_1': 'FR', 'name': 'France'}, {'iso...</td>\n",
       "      <td>en</td>\n",
       "      <td>119.0</td>\n",
       "    </tr>\n",
       "  </tbody>\n",
       "</table>\n",
       "</div>"
      ],
      "text/plain": [
       "                          title  \\\n",
       "movieId                           \n",
       "1                     Toy Story   \n",
       "10                    GoldenEye   \n",
       "11       The American President   \n",
       "14                        Nixon   \n",
       "15             Cutthroat Island   \n",
       "\n",
       "                                                    genres  \\\n",
       "movieId                                                      \n",
       "1        [{'id': 16, 'name': 'Animation'}, {'id': 35, '...   \n",
       "10       [{'id': 12, 'name': 'Adventure'}, {'id': 28, '...   \n",
       "11       [{'id': 35, 'name': 'Comedy'}, {'id': 18, 'nam...   \n",
       "14       [{'id': 36, 'name': 'History'}, {'id': 18, 'na...   \n",
       "15       [{'id': 28, 'name': 'Action'}, {'id': 12, 'nam...   \n",
       "\n",
       "                                                  keywords  \\\n",
       "movieId                                                      \n",
       "1        [{'id': 931, 'name': 'jealousy'}, {'id': 4290,...   \n",
       "10       [{'id': 701, 'name': 'cuba'}, {'id': 769, 'nam...   \n",
       "11       [{'id': 833, 'name': 'white house'}, {'id': 84...   \n",
       "14       [{'id': 840, 'name': 'usa president'}, {'id': ...   \n",
       "15       [{'id': 911, 'name': 'exotic island'}, {'id': ...   \n",
       "\n",
       "                                                      crew release_date  \\\n",
       "movieId                                                                   \n",
       "1        [{\"credit_id\": \"52fe4284c3a36847f8024f55\", \"de...   1995-10-30   \n",
       "10       [{\"credit_id\": \"52fe426ec3a36847f801e16f\", \"de...   1995-11-16   \n",
       "11       [{\"credit_id\": \"52fe44dac3a36847f80adfa3\", \"de...   1995-11-17   \n",
       "14       [{\"credit_id\": \"52fe43c59251416c7501d705\", \"de...   1995-12-22   \n",
       "15       [{\"credit_id\": \"52fe42f4c3a36847f802f69f\", \"de...   1995-12-22   \n",
       "\n",
       "                                      production_countries original_language  \\\n",
       "movieId                                                                        \n",
       "1        [{'iso_3166_1': 'US', 'name': 'United States o...                en   \n",
       "10       [{'iso_3166_1': 'GB', 'name': 'United Kingdom'...                en   \n",
       "11       [{'iso_3166_1': 'US', 'name': 'United States o...                en   \n",
       "14       [{'iso_3166_1': 'US', 'name': 'United States o...                en   \n",
       "15       [{'iso_3166_1': 'FR', 'name': 'France'}, {'iso...                en   \n",
       "\n",
       "         runtime  \n",
       "movieId           \n",
       "1           81.0  \n",
       "10         130.0  \n",
       "11         106.0  \n",
       "14         192.0  \n",
       "15         119.0  "
      ]
     },
     "execution_count": 11,
     "metadata": {},
     "output_type": "execute_result"
    }
   ],
   "source": [
    "title_id = dfm_cluster[['tmdbId','movieId','title']]\n",
    "cluster_features = dfm_cluster[['title', 'genres', 'keywords','crew', 'release_date', 'production_countries', 'original_language', 'runtime']]\n",
    "cluster_features.index = dfm_cluster.movieId.apply(lambda x: str(x))\n",
    "cluster_features.head()"
   ]
  },
  {
   "cell_type": "code",
   "execution_count": 12,
   "metadata": {},
   "outputs": [
    {
     "data": {
      "text/plain": [
       "[<matplotlib.lines.Line2D at 0x2949779c988>]"
      ]
     },
     "execution_count": 12,
     "metadata": {},
     "output_type": "execute_result"
    },
    {
     "data": {
      "image/png": "[encoded data removed]",
      "text/plain": [
       "<Figure size 432x288 with 1 Axes>"
      ]
     },
     "metadata": {
      "needs_background": "light"
     },
     "output_type": "display_data"
    }
   ],
   "source": [
    "plt.plot(cluster_features.runtime.values)"
   ]
  },
  {
   "cell_type": "markdown",
   "metadata": {},
   "source": [
    "On choisit de ne retenir que les films d'une durée comprise entre 40 minutes et 4 heures."
   ]
  },
  {
   "cell_type": "code",
   "execution_count": 13,
   "metadata": {},
   "outputs": [],
   "source": [
    "def clean_runtime(dfm, inf=40, sup=240):\n",
    "    dfm = dfm[dfm.runtime >= inf]\n",
    "    dfm = dfm[dfm.runtime <= sup]\n",
    "    return dfm"
   ]
  },
  {
   "cell_type": "code",
   "execution_count": 14,
   "metadata": {},
   "outputs": [],
   "source": [
    "cluster_features = clean_runtime(cluster_features)"
   ]
  },
  {
   "cell_type": "markdown",
   "metadata": {},
   "source": [
    "On regarde la proportion de films pour lesquels certains champs n'ont pas été renseignés."
   ]
  },
  {
   "cell_type": "code",
   "execution_count": 15,
   "metadata": {},
   "outputs": [
    {
     "name": "stdout",
     "output_type": "stream",
     "text": [
      "Nombre de films retenus dans cluster_features :  3390\n",
      "Parmi ces films :\n",
      "1 n'ont pas de genres\n",
      "110 n'ont pas de keywords\n",
      "24 n'ont pas de production_countries\n",
      "0 n'ont pas de crew\n"
     ]
    }
   ],
   "source": [
    "print(\"Nombre de films retenus dans cluster_features : \", len(cluster_features))\n",
    "print(\"Parmi ces films :\")\n",
    "print(len(cluster_features[cluster_features.genres == \"[]\"]), \"n'ont pas de genres\")\n",
    "print(len(cluster_features[cluster_features.keywords == \"[]\"]), \"n'ont pas de keywords\")\n",
    "print(len(cluster_features[cluster_features.production_countries == \"[]\"]), \"n'ont pas de production_countries\")\n",
    "print(len(cluster_features[cluster_features.crew == \"[]\"]), \"n'ont pas de crew\")"
   ]
  },
  {
   "cell_type": "markdown",
   "metadata": {},
   "source": [
    "Il s'agit d'une petite proportion, on peut donc retirer ces films problématiques."
   ]
  },
  {
   "cell_type": "code",
   "execution_count": 16,
   "metadata": {},
   "outputs": [],
   "source": [
    "def drop_missing_values(dfm):\n",
    "    dfm = dfm[dfm.genres != \"[]\"]\n",
    "    dfm = dfm[dfm.keywords != \"[]\"]\n",
    "    dfm = dfm[dfm.production_countries != \"[]\"]\n",
    "    return dfm"
   ]
  },
  {
   "cell_type": "code",
   "execution_count": 17,
   "metadata": {},
   "outputs": [],
   "source": [
    "cluster_features = drop_missing_values(cluster_features)"
   ]
  },
  {
   "cell_type": "code",
   "execution_count": 18,
   "metadata": {},
   "outputs": [
    {
     "name": "stdout",
     "output_type": "stream",
     "text": [
      "Nombre de films dans cluster_features :  3265\n"
     ]
    }
   ],
   "source": [
    "print(\"Nombre de films dans cluster_features : \", len(cluster_features))"
   ]
  },
  {
   "cell_type": "markdown",
   "metadata": {},
   "source": [
    "On peut maintenant se concentrer sur le traitement des données de chacune des colonnes. Il faut les simplifier au maximum pour rendre possible la comparaison de films basée sur ces attributs."
   ]
  },
  {
   "cell_type": "code",
   "execution_count": 19,
   "metadata": {},
   "outputs": [],
   "source": [
    "def vectorize_genres(dfm):\n",
    "    \n",
    "    '''This function takes a DataFrame dfm that must contain a column 'genres'.\n",
    "    It turns the column genres from a string that contains a dictionnary into an int list of genres id.'''\n",
    "    \n",
    "    def genres_to_id(gen):\n",
    "        if isinstance(gen, str):\n",
    "            pattern = re.compile(r\"'id': [0-9]*\")\n",
    "            return np.array([int(w[6:]) for w in pattern.findall(gen)])\n",
    "        return gen\n",
    "    \n",
    "    dfm.genres = dfm.genres.apply(genres_to_id)"
   ]
  },
  {
   "cell_type": "code",
   "execution_count": 20,
   "metadata": {},
   "outputs": [],
   "source": [
    "vectorize_genres(cluster_features)"
   ]
  },
  {
   "cell_type": "code",
   "execution_count": 21,
   "metadata": {},
   "outputs": [],
   "source": [
    "def vectorize_keywords(dfm):\n",
    "    \n",
    "    '''This function takes a DataFrame dfm that must contain a column 'keywords'.\n",
    "    It turns the column keywords from a string that contains a dictionnary into an int list of keywords id.'''\n",
    "    \n",
    "    def keywords_to_id(kw):\n",
    "        if isinstance(kw, str):\n",
    "            pattern = re.compile(r\"'id': [0-9]*\")\n",
    "            return np.array([int(w[6:]) for w in pattern.findall(kw)])\n",
    "        return kw\n",
    "    \n",
    "    dfm.keywords = dfm.keywords.apply(keywords_to_id)"
   ]
  },
  {
   "cell_type": "code",
   "execution_count": 22,
   "metadata": {},
   "outputs": [],
   "source": [
    "vectorize_keywords(cluster_features)"
   ]
  },
  {
   "cell_type": "code",
   "execution_count": 23,
   "metadata": {},
   "outputs": [],
   "source": [
    "def find_director(dfm):\n",
    "    \n",
    "    '''This function takes a DataFrame dfm that must contain a column 'director'.\n",
    "    It turns the column director from a string that contains a dictionnary into a string containing the director's name.'''\n",
    "    \n",
    "    def crew_to_director(crew):\n",
    "        if '\\\"Director\\\"' in crew:\n",
    "            start = crew.find('\\\"Director\\\"')+21\n",
    "            new = crew[start:]\n",
    "            end = new.find(\"\\\"\")\n",
    "            director = new[:end]\n",
    "            return director\n",
    "        return \"director missing\"\n",
    "    \n",
    "    dfm.director = dfm.director.apply(crew_to_director)\n",
    "    dfm = dfm[dfm.director != \"director missing\"]"
   ]
  },
  {
   "cell_type": "code",
   "execution_count": 24,
   "metadata": {},
   "outputs": [],
   "source": [
    "cluster_features = cluster_features.rename(columns={'crew' : 'director'})\n",
    "find_director(cluster_features)"
   ]
  },
  {
   "cell_type": "code",
   "execution_count": 25,
   "metadata": {},
   "outputs": [],
   "source": [
    "def simplify_date(dfm):\n",
    "    \n",
    "    '''This function takes a DataFrame dfm that must contain a column 'release_date'.\n",
    "    It turns the column release_date from a string date into an int being the year the film was released.'''\n",
    "    \n",
    "    def date_to_int(date):\n",
    "        if isinstance(date, str):\n",
    "            return int(date[:4])\n",
    "        return date\n",
    "    \n",
    "    dfm.release_date = dfm.release_date.apply(date_to_int)"
   ]
  },
  {
   "cell_type": "code",
   "execution_count": 26,
   "metadata": {},
   "outputs": [],
   "source": [
    "simplify_date(cluster_features)"
   ]
  },
  {
   "cell_type": "code",
   "execution_count": 27,
   "metadata": {},
   "outputs": [],
   "source": [
    "def simplify_countries(dfm):\n",
    "    \n",
    "    '''This function takes a DataFrame dfm that must contain a column 'production_countries'.\n",
    "    It turns the column production_countries from a string that contains a dictionnary into an int list of keywords id.'''\n",
    "    \n",
    "    def simplify(country):\n",
    "        if isinstance(country, str):\n",
    "            pattern = re.compile(r\"'iso_3166_1': ...\")\n",
    "            return [w[15:] for w in pattern.findall(country)]\n",
    "        return country\n",
    "    \n",
    "    dfm.production_countries = dfm.production_countries.apply(simplify)"
   ]
  },
  {
   "cell_type": "code",
   "execution_count": 28,
   "metadata": {},
   "outputs": [],
   "source": [
    "simplify_countries(cluster_features)"
   ]
  },
  {
   "cell_type": "code",
   "execution_count": 29,
   "metadata": {},
   "outputs": [
    {
     "data": {
      "text/html": [
       "<div>\n",
       "<style scoped>\n",
       "    .dataframe tbody tr th:only-of-type {\n",
       "        vertical-align: middle;\n",
       "    }\n",
       "\n",
       "    .dataframe tbody tr th {\n",
       "        vertical-align: top;\n",
       "    }\n",
       "\n",
       "    .dataframe thead th {\n",
       "        text-align: right;\n",
       "    }\n",
       "</style>\n",
       "<table border=\"1\" class=\"dataframe\">\n",
       "  <thead>\n",
       "    <tr style=\"text-align: right;\">\n",
       "      <th></th>\n",
       "      <th>title</th>\n",
       "      <th>genres</th>\n",
       "      <th>keywords</th>\n",
       "      <th>director</th>\n",
       "      <th>release_date</th>\n",
       "      <th>production_countries</th>\n",
       "      <th>original_language</th>\n",
       "      <th>runtime</th>\n",
       "    </tr>\n",
       "    <tr>\n",
       "      <th>movieId</th>\n",
       "      <th></th>\n",
       "      <th></th>\n",
       "      <th></th>\n",
       "      <th></th>\n",
       "      <th></th>\n",
       "      <th></th>\n",
       "      <th></th>\n",
       "      <th></th>\n",
       "    </tr>\n",
       "  </thead>\n",
       "  <tbody>\n",
       "    <tr>\n",
       "      <td>1</td>\n",
       "      <td>Toy Story</td>\n",
       "      <td>[16, 35, 10751]</td>\n",
       "      <td>[931, 4290, 5202, 6054, 9713, 9823, 165503, 17...</td>\n",
       "      <td>John Lasseter</td>\n",
       "      <td>1995</td>\n",
       "      <td>[US]</td>\n",
       "      <td>en</td>\n",
       "      <td>81.0</td>\n",
       "    </tr>\n",
       "    <tr>\n",
       "      <td>10</td>\n",
       "      <td>GoldenEye</td>\n",
       "      <td>[12, 28, 53]</td>\n",
       "      <td>[701, 769, 1308, 2812, 3268, 3272, 3278, 3376,...</td>\n",
       "      <td>Martin Campbell</td>\n",
       "      <td>1995</td>\n",
       "      <td>[GB, US]</td>\n",
       "      <td>en</td>\n",
       "      <td>130.0</td>\n",
       "    </tr>\n",
       "    <tr>\n",
       "      <td>11</td>\n",
       "      <td>The American President</td>\n",
       "      <td>[35, 18, 10749]</td>\n",
       "      <td>[833, 840, 1605, 33476, 211505]</td>\n",
       "      <td>Rob Reiner</td>\n",
       "      <td>1995</td>\n",
       "      <td>[US]</td>\n",
       "      <td>en</td>\n",
       "      <td>106.0</td>\n",
       "    </tr>\n",
       "    <tr>\n",
       "      <td>14</td>\n",
       "      <td>Nixon</td>\n",
       "      <td>[36, 18]</td>\n",
       "      <td>[840, 2946, 4240, 5565, 6086, 6165]</td>\n",
       "      <td>Oliver Stone</td>\n",
       "      <td>1995</td>\n",
       "      <td>[US]</td>\n",
       "      <td>en</td>\n",
       "      <td>192.0</td>\n",
       "    </tr>\n",
       "    <tr>\n",
       "      <td>15</td>\n",
       "      <td>Cutthroat Island</td>\n",
       "      <td>[28, 12]</td>\n",
       "      <td>[911, 1454, 1969, 3799, 5470, 12988]</td>\n",
       "      <td>Renny Harlin</td>\n",
       "      <td>1995</td>\n",
       "      <td>[FR, DE, IT, US]</td>\n",
       "      <td>en</td>\n",
       "      <td>119.0</td>\n",
       "    </tr>\n",
       "  </tbody>\n",
       "</table>\n",
       "</div>"
      ],
      "text/plain": [
       "                          title           genres  \\\n",
       "movieId                                            \n",
       "1                     Toy Story  [16, 35, 10751]   \n",
       "10                    GoldenEye     [12, 28, 53]   \n",
       "11       The American President  [35, 18, 10749]   \n",
       "14                        Nixon         [36, 18]   \n",
       "15             Cutthroat Island         [28, 12]   \n",
       "\n",
       "                                                  keywords         director  \\\n",
       "movieId                                                                       \n",
       "1        [931, 4290, 5202, 6054, 9713, 9823, 165503, 17...    John Lasseter   \n",
       "10       [701, 769, 1308, 2812, 3268, 3272, 3278, 3376,...  Martin Campbell   \n",
       "11                         [833, 840, 1605, 33476, 211505]       Rob Reiner   \n",
       "14                     [840, 2946, 4240, 5565, 6086, 6165]     Oliver Stone   \n",
       "15                    [911, 1454, 1969, 3799, 5470, 12988]     Renny Harlin   \n",
       "\n",
       "         release_date production_countries original_language  runtime  \n",
       "movieId                                                                \n",
       "1                1995                 [US]                en     81.0  \n",
       "10               1995             [GB, US]                en    130.0  \n",
       "11               1995                 [US]                en    106.0  \n",
       "14               1995                 [US]                en    192.0  \n",
       "15               1995     [FR, DE, IT, US]                en    119.0  "
      ]
     },
     "execution_count": 29,
     "metadata": {},
     "output_type": "execute_result"
    }
   ],
   "source": [
    "cluster_features.head()"
   ]
  },
  {
   "cell_type": "markdown",
   "metadata": {},
   "source": [
    "### Définition d'une distance sur les films"
   ]
  },
  {
   "cell_type": "markdown",
   "metadata": {},
   "source": [
    "On va réaliser plus bas un hierarchical agglomerative clustering. Le principe est simple : on commence avec n clusters de 1 film, puis on fusionne à chaque itération les 2 clusters les plus proches, jusqu'à n'avoir plus d'un seul cluster contenant tous les films. Cela requiert une distance sur les films. C'est ce qu'on va construire ici. La tâche n'est pas simple : chaque film a été réduit à 7 attributs, et il faut aggréger ces 7 attributs pour déterminer à quel point 2 films sont similaires. On peut choisir d'accorder un poids différent à chacun des critères en fonction de leur importance."
   ]
  },
  {
   "cell_type": "code",
   "execution_count": 30,
   "metadata": {},
   "outputs": [],
   "source": [
    "# On définit ici des variables globales qui seront utilisées plus loin dans la fonction movie_distance\n",
    "MAX_YEAR_DIFFERENCE = max(cluster_features.release_date) - min(cluster_features.release_date)\n",
    "MAX_RUNTIME_DIFFERENCE = max(cluster_features.runtime) - min(cluster_features.runtime)"
   ]
  },
  {
   "cell_type": "markdown",
   "metadata": {},
   "source": [
    "La fonction movie_distance calcule une distance entre 2 films. Plus cette valeur est proches de 0 et plus les films sont similaires. Plus la valeur est grande et plus ils sont différents. IMPORTANT : la built-in magic command %lprun nous a permis d'analyser la répartition du temps d'exécution lors du clustering sur les données. 99% du temps de calcul réside dans cette fonction de distance. Ce qui est le plus coûteux en temps est l'accès aux attributs des films. On les a donc réduit au strict minimum. De plus, on ne créé pas de vecteur à 7 coefficients qui stockerait la similitude entre les 2 films pour chaque critère. A la place, on additionne directement le carré de ces valeurs dans une variable de somme, puis on renvoit la racine carrée de cette variable. On utilise la norme 2 en la calculant à la main pour accélérer les calculs."
   ]
  },
  {
   "cell_type": "code",
   "execution_count": 32,
   "metadata": {},
   "outputs": [],
   "source": [
    "def movie_distance(m1, m2, w_gen=4, w_key=2, w_dir=2, w_rel=2, w_pro=3, w_ori=2, w_run=1):\n",
    "    \n",
    "    '''This function computes the distance between 2 movies m1 and m2 given some weight parameters.'''\n",
    "    \n",
    "    sum_vect = 0 # avoiding to store a vector just to compute his norm afterwards\n",
    "    \n",
    "    # SIMILARITIES IN GENRES\n",
    "    g1 = m1.genres\n",
    "    g2 = m2.genres\n",
    "    gen = np.append(g1, g2)\n",
    "    sum_vect += w_gen * (1 - (len(gen) - len(np.unique(gen))) / min(len(g1), len(g2))) ** 2\n",
    "    \n",
    "    # SIMILARITIES IN KEYWORDS\n",
    "    kw1 = m1.keywords\n",
    "    kw2 = m2.keywords\n",
    "    kw = np.append(kw1, kw2)\n",
    "    # Having one keyword in common is sufficient to make 2 films similar for this criterion\n",
    "    # This choice was made because most films have many keywords\n",
    "    if len(kw) == len(np.unique(kw)):\n",
    "        sum_vect += w_key * 1 # ** 2\n",
    "    \n",
    "    # SIMILARITIES FOR THE DIRECTOR\n",
    "    # 0 if it's the same director, else 1\n",
    "    if m1.director != m2.director:\n",
    "        sum_vect += w_dir * 1 # ** 2\n",
    "    \n",
    "    # SIMILARITIES FOR THE RELEASE DATE\n",
    "    # the normalized difference between the 2 releade dates\n",
    "    sum_vect += w_rel * (abs(m1.release_date - m2.release_date) / MAX_YEAR_DIFFERENCE) ** 2\n",
    "    \n",
    "    # SIMILARITIES IN PRODUCTION COUNTRIES\n",
    "    pc = []\n",
    "    pc1 = m1.production_countries\n",
    "    pc.extend(pc1)\n",
    "    pc2 = m2.production_countries\n",
    "    pc.extend(pc2)\n",
    "    pc_dist = 1 - (len(pc) - len(np.unique(pc))) / min(len(pc1), len(pc2))\n",
    "    # As it is rare, we set that 2 films which are not from the US have something in common\n",
    "    if 'US' not in pc1 and 'US' not in pc2 and pc_dist > 0.5:\n",
    "        sum_vect += w_pro * 0.5 ** 2\n",
    "    else:\n",
    "        sum_vect += w_pro * pc_dist ** 2\n",
    "    \n",
    "    # SIMILARITIES FOR THE LANGUAGE\n",
    "    lang1 = m1.original_language\n",
    "    lang2 = m2.original_language\n",
    "    if lang1 != lang2 :\n",
    "        # As well, 2 films whose original language is not english have something in common\n",
    "        if lang1 != 'en' and lang2 != 'en':\n",
    "            sum_vect += w_ori * 0.5 ** 2\n",
    "        else:\n",
    "            sum_vect += w_ori * 1 ** 2\n",
    "    \n",
    "    # SIMILARITIES FOR THE RUNTIME\n",
    "    # the normalized difference between the 2 runtimes\n",
    "    sum_vect += w_run * (abs(m1.runtime - m2.runtime) / MAX_RUNTIME_DIFFERENCE) ** 2\n",
    "    \n",
    "    return np.sqrt(sum_vect)"
   ]
  },
  {
   "cell_type": "markdown",
   "metadata": {},
   "source": [
    "Maintenant qu'on dispose d'une distance entre les films, on doit calculer la matrice de distance entre les films. Pour cela, on va utiliser un DataFrame avec en index et columns les id des movies (en string pour éviter toute confusion avec loc et iloc). On initilise un DataFrame vide avec les bonnes dimensions et les bons index / columns. On le remplit ensuite en faisant appel à la fonction movie_distance pour chaque paire de films. Comme par la suite on veut chercher le coefficient minimum de cette matrice, on met la distance d'un film à lui même à 1000 - un nombre suffisemment grand pour qu'aucune autre valeur de distance ne l'approche avec les choix de poids qu'on a fait."
   ]
  },
  {
   "cell_type": "code",
   "execution_count": 33,
   "metadata": {},
   "outputs": [],
   "source": [
    "def compute_dist_matrix(clu_fea):\n",
    "    \n",
    "    '''This function computes the distance matrix between all the movies contained in clu_fea.\n",
    "    The clu_fea DataFrame must have been cleaned before. Returns the distance matrix.'''\n",
    "    \n",
    "    movies_id = clu_fea.index\n",
    "    dist_mat = pd.DataFrame(np.nan * len(clu_fea), index=movies_id, columns=movies_id)\n",
    "    for i in range(len(clu_fea)):\n",
    "        for j in range(i, len(clu_fea)):\n",
    "            if i == j:\n",
    "                dist_mat.iat[i, j] = 1000\n",
    "            else:\n",
    "                dist_mat.iat[i, j] = dist_mat.iat[j, i] = movie_distance(clu_fea.iloc[i], clu_fea.iloc[j])\n",
    "    \n",
    "    return dist_mat"
   ]
  },
  {
   "cell_type": "markdown",
   "metadata": {},
   "source": [
    "<b>HIERARCHICAL AGGLOMERATIVE CLUSTERING </b> <br>\n",
    "Dans ce type de méthode de clustering, on n'a pas besoin de préciser le nombre de clusters attendus. L'algorithme permet de construire un dendrogramme, et on obtient nos clusters en coupant le dendrogramme à une certaine hauteur. On va commencer par écrire une classe dendrogram. Un objet de cette classe contient plusieurs attributs :\n",
    "<li>Un champ leaf - valant None pour les noeuds dans l'arbre et contenant l'id d'un film (int) pour les feuilles </li>\n",
    "<li>Un champ leaf_nb - un int indiquant pour chaque noeud le nombre de feuilles (et donc de films) de l'abre issu de ce noeud </li>\n",
    "<li>Un champ father - une référence vers le père du noeud </li>\n",
    "<li>Un champ left et un champ right - une référence vers le fils gauche (resp. fils droit) du noeud </li>\n",
    "<li>Un champ height - un float indiquant la hauteur du noeud. Attention ! Il ne s'agit pas de la notion classique de hauteur d'un noeud dans un arbre binaire. <br>Il s'agit ici de la hauteur de fusion entre les 2 groupes de films (fils gauche et fils droit). Plus elle est élevée et plus ces 2 groupes de films sont différents </li>\n",
    "<li>Un champ distance_to_father - un float indiquant la longueur de l'arête reliant le noeud à son père </li>"
   ]
  },
  {
   "cell_type": "code",
   "execution_count": 73,
   "metadata": {},
   "outputs": [],
   "source": [
    "class dendrogram:\n",
    "    \n",
    "    def __init__(self, leaf=None):\n",
    "        \n",
    "        '''This is the dendrogram class constructor. It takes only one optional argument, which is leaf if the user\n",
    "        wants to build a leaf containing a movie id. Otherwise it is a node and the leaf attribute is set to None.\n",
    "        The other attributes are set to 0 or None for now, and should be modified by setters later on.'''\n",
    "        \n",
    "        self.leaf = leaf\n",
    "        self.leaf_nb = 1\n",
    "        self.father = None\n",
    "        self.left = None\n",
    "        self.right = None\n",
    "        self.height = 0\n",
    "        self.distance_to_father = 0\n",
    "    \n",
    "    def set_leaf_nb(self):\n",
    "        \n",
    "        '''This method is a setter for the leaf_nb attribute. It requires the left and right sons, as the total number\n",
    "        of leaves of the node is the sum of its left and right leaf_nb attributes. If called on a leaf, leaf_nb should\n",
    "        equal 1 due to the constructor, and set_leaf_nb set leaf_nb to 1 as well. This methode should always be called\n",
    "        after creating a node that is not a leaf.'''\n",
    "        \n",
    "        total_leaf_nb = 0\n",
    "        if self.left is not None:\n",
    "            total_leaf_nb += self.left.leaf_nb\n",
    "        if self.right is not None:\n",
    "            total_leaf_nb += self.right.leaf_nb\n",
    "        self.leaf_nb = max(1, total_leaf_nb)\n",
    "    \n",
    "    def set_height(self, height):\n",
    "        \n",
    "        '''This method is a setter for the height attribute. The height is given as a parameter. This method also sets\n",
    "        the distance_to_father attribute of the node's left and right sons. If called on a leaf, this method does nothing.\n",
    "        This methode should always be called after creating a node that is not a leaf.'''\n",
    "        \n",
    "        if self.left is None or self.right is None:\n",
    "            return\n",
    "        self.height = height\n",
    "        self.left.distance_to_father = height - self.left.height\n",
    "        self.right.distance_to_father = height - self.right.height\n",
    "    \n",
    "    def get_id_list(self):\n",
    "        \n",
    "        '''This method returns a list of all the id contained in the leafs of the node.It uses a prefix run.'''\n",
    "        \n",
    "        id_list = []\n",
    "        def prefix(node):\n",
    "            if node.leaf is not None:\n",
    "                id_list.append(node.leaf)\n",
    "            else:\n",
    "                prefix(node.right)\n",
    "                prefix(node.left)\n",
    "        prefix(self)\n",
    "        \n",
    "        return id_list\n",
    "    \n",
    "    def get_root(self):\n",
    "        \n",
    "        '''This method returns the root of the tree to which the node belongs. The main goal of this method is\n",
    "        to start from a leaf and find the root of the dendrogram, which is the leaf's cluster at a step k.'''\n",
    "        \n",
    "        tmp = self\n",
    "        while tmp.father is not None: tmp = tmp.father\n",
    "        return tmp\n",
    "    \n",
    "    def cut_at_threshold(self, threshold):\n",
    "        \n",
    "        '''This method provides a cut of the dendrogram at a height given by parameter threshold. It returns a list\n",
    "        of dendrogram objects. Each element of the list can be seen as the root of a dendrogram, i.e. a cluster.'''\n",
    "        \n",
    "        assert threshold >= 0\n",
    "        assert threshold <= self.height\n",
    "        node_list = []\n",
    "        def step(node, t):\n",
    "            if node.height == 0:\n",
    "                node_list.append([node])\n",
    "            else:\n",
    "                if node.left.height <= t:\n",
    "                    node_list.append(node.left)\n",
    "                else:\n",
    "                    step(node.left, t)\n",
    "                if node.right.height <= t:\n",
    "                    node_list.append(node.right)\n",
    "                else:\n",
    "                    step(node.right, t)\n",
    "        step(self, threshold)\n",
    "        \n",
    "        return node_list\n",
    "    \n",
    "    def clusters_threshold_cut(self, threshold):\n",
    "        \n",
    "        '''This method uses cut_at_threshold in order to return a list of movies id list. Each element\n",
    "        of the list is a cluster that directly contains the id of all movies that belong to the cluster.'''\n",
    "        \n",
    "        cluster_list = self.cut_at_threshold(threshold)\n",
    "        return [node.get_id_list() for node in cluster_list]\n",
    "    \n",
    "    def find_best_cut(self):\n",
    "        \n",
    "        '''This method does dendrogram cuts at 200 different threshold and keeps the best cut. It returns a list of\n",
    "        movies id list, i.e. the different clusters. Some changes had to be made to avoid getting too many clusters.\n",
    "        This is due to the distance choice between movies. Some attributes such as director or keywords are almost\n",
    "        all different for 2 movies, resulting in a high distance between most movies, even between 2 movies that are\n",
    "        very similar regarding genres, language, release date, production countries and runtime. That is why the method\n",
    "        imposes a maximum number of clusters, which depends on the size of the input. The upper bound is quite high so\n",
    "        that it enables many clusters, and it avoids to have some situations with e.g. 100 movies and 43 clusters.'''\n",
    "        \n",
    "        max_clu_nb = self.leaf_nb / np.sqrt(self.leaf_nb)\n",
    "        threshold_list = np.linspace(0.01, self.height, 200)\n",
    "        def step(t):\n",
    "            nodes = self.cut_at_threshold(t)\n",
    "            if len(nodes) > max_clu_nb:\n",
    "                return 0\n",
    "            return sum([n.distance_to_father for n in nodes]) / len(nodes)\n",
    "        score = [step(t) for t in threshold_list]\n",
    "        best_threshold_index = np.argmax(score)\n",
    "        best_threshold = threshold_list[best_threshold_index]\n",
    "        \n",
    "        return self.clusters_threshold_cut(best_threshold)\n",
    "    \n",
    "    def get_n_clusters(self, n):\n",
    "        \n",
    "        '''This method provides a cut on the dendrogram that gives a number n of clusters, chosen in parameter.\n",
    "        The different clusters are obtained by cutting at a threshold that leads to n clusters.\n",
    "        It uses dichotomy in order to be efficient. It tries a cut at mid-height, check the number of\n",
    "        clusters obtained and then decides to stop, cut at a higher height or cut at a lower height.'''\n",
    "        \n",
    "        assert n >= 1\n",
    "        assert n <= self.leaf_nb\n",
    "        # dichotomy\n",
    "        xmin, xmax, xmid = 0, self.height, self.height / 2\n",
    "        nodes = self.cut_at_threshold(xmid)\n",
    "        while len(nodes) != n:\n",
    "            if len(nodes) < n: \n",
    "                xmax, xmid = xmid, (xmid + xmin) / 2\n",
    "            else:\n",
    "                xmin, xmid = xmid, (xmid + xmax) / 2\n",
    "            nodes = self.cut_at_threshold(xmid)\n",
    "            # if the loop does not end - extremely unlickely but not impossible if 2 nodes\n",
    "            # have the same height - it calls another cut function that returns n clusters\n",
    "            if xmax - xmin < 1e-5:\n",
    "                return self.get_n_clusters_perso(n)[0]\n",
    "        \n",
    "        return [n.get_id_list() for n in nodes]\n",
    "        \n",
    "    def get_n_clusters_perso(self, n):\n",
    "        \n",
    "        '''This method provides a cut on the dendrogram that gives a number n of clusters, chosen in parameter.\n",
    "        It is called get_n_clusters_perso because I imaginated it alone and I don't think it exists elsewhere.\n",
    "        The goal of this method is to solve the following problem : most of the time, cutting a dendrogram at\n",
    "        a given height leads to a certain number of clusters. Among these clusters, some can be very small, there\n",
    "        are even clusters with one element. So, instead of cutting at a threshold, the idea of this method is the\n",
    "        following : it starts at the root and must provide n clusters, e.g. let's take n=10. If the left son's leaf\n",
    "        number is greater than the right son's one, then the left son must provide let's say n=7 clusters, while the\n",
    "        right son must provide n=3 clusters. Finally if the right son's have a very small number of leaves compared\n",
    "        to the left son's one, then the left son must provide n=10 clusters and the leaves of the right son are added\n",
    "        to a list of outliers. At the end of the process, there will be 10 clusters quite well balanced and one list\n",
    "        of outliers, which can form a special cluster of, let's say, unclassifiable movies.'''\n",
    "        \n",
    "        if n <= 0 or n > self.leaf_nb:\n",
    "            print(\"Bad choice for n : too big or <= 0\")\n",
    "            return\n",
    "        cluster_list = []\n",
    "        outliers = []\n",
    "        error = []\n",
    "        def step(node, n):\n",
    "            if n == 1:\n",
    "                cluster_list.append(node.get_id_list())\n",
    "            elif node.left is None or node.right is None:\n",
    "                error.append(True)\n",
    "            else:\n",
    "                prop_left = node.left.leaf_nb / node.leaf_nb\n",
    "                prop_right = node.right.leaf_nb / node.leaf_nb\n",
    "                # a node is considered an outlier if his leaf number\n",
    "                # is less than 15% of his father's leaf number\n",
    "                if prop_left < 0.15:\n",
    "                    outliers.extend(node.left.get_id_list())\n",
    "                    step(node.right, n)\n",
    "                elif prop_right < 0.15:\n",
    "                    outliers.extend(node.right.get_id_list())\n",
    "                    step(node.left, n)\n",
    "                else:\n",
    "                    n_left = max(1, round(n * prop_left))\n",
    "                    if n_left == n:\n",
    "                        n_left -= 1\n",
    "                    n_right = n - n_left\n",
    "                    step(node.left, n_left)\n",
    "                    step(node.right, n_right)\n",
    "        step(self, n)\n",
    "        if error:\n",
    "            print(\"n too big\")\n",
    "        else:\n",
    "            return cluster_list, outliers"
   ]
  },
  {
   "cell_type": "markdown",
   "metadata": {},
   "source": [
    "On peut désormais écrire une classe pour implémenter le Hierarchical Agglomerative Clustering. Un objet de cette classe contiendra les attributs suivants :<br>\n",
    "<li>Un champ dendrogram_root - une référence vers la racine du dendrogramme</li>\n",
    "<li>Un champ cluster_id_list - une liste de listes de movies id, i.e. la liste des clusters</li>\n",
    "<li>Un champ outliers - une liste de movies id, existant uniquement si on choisi la méthode perso</li>\n",
    "<li>Un champ cluster_features - le DataFrame des films nettoyé sur lequel on apprend </li>"
   ]
  },
  {
   "cell_type": "code",
   "execution_count": 84,
   "metadata": {},
   "outputs": [],
   "source": [
    "class hierarchical_cluster:\n",
    "    \n",
    "    def __init__(self):\n",
    "        \n",
    "        '''This is the hierarchical_cluster class constructor. It takes no arguments, all it does is to\n",
    "        build an object. The 4 attributes will be initialized later on, when training the model.'''\n",
    "        \n",
    "        self.dendrogram_root = None\n",
    "        self.cluster_id_list = None\n",
    "        self.outliers = None\n",
    "        self.cluster_features = None\n",
    "    \n",
    "    def set_cluster_features(self, dfm):\n",
    "        \n",
    "        '''This method is a setter for the attribute cluster_features. It takes one parameter, dfm, which is\n",
    "        a DataFrame that contains all the information about movies. The method cleans the DataFrame and keeps\n",
    "        only the attributes that are relevant for the movie clustering.'''\n",
    "        \n",
    "        # selection des attributs qui nous interessent pour le clustering\n",
    "        clu_fea = dfm[['genres','keywords','crew','release_date','production_countries','original_language','runtime']]\n",
    "        clu_fea = clu_fea.dropna()\n",
    "        # on met en index les id des movies\n",
    "        clu_fea.index = dfm.movieId.apply(lambda x: str(x))\n",
    "        # nettoyage du dataframe\n",
    "        clu_fea = clean_runtime(clu_fea)\n",
    "        clu_fea = drop_missing_values(clu_fea)\n",
    "        vectorize_keywords(clu_fea)\n",
    "        vectorize_genres(clu_fea)\n",
    "        clu_fea = clu_fea.rename(columns={'crew' : 'director'})\n",
    "        find_director(clu_fea)\n",
    "        simplify_date(clu_fea)\n",
    "        simplify_countries(clu_fea)\n",
    "        self.cluster_features = clu_fea\n",
    "    \n",
    "    def agglomerative_cluster(self, dist_mat):\n",
    "        \n",
    "        '''This method builds a dendrogram based on the distance matrix given in parameters. It returns\n",
    "        its root. Important things to know about this function : 1) In order to avoid redundancy and to make\n",
    "        the computations faster, it reduces the matrix size at each step by dropping a row and a colums.\n",
    "        At the end, the matrix has 1x1 shape, so if one wants to store the matrix and keep it unchanged,\n",
    "        he must call this method with a copy. 2) A choice which has a huge impact on the dendrogram was made\n",
    "        here. In the algorithm, the 2 closest clusters are merged into a bigger one at each step. But there are\n",
    "        several ways to measure the distance between clusters. It can be the distance between the centroids, the\n",
    "        average distance, the minimal or maximal distance bewteen 2 points from different clusters. We chose this\n",
    "        last option. It avoids to have many unbalanced branches, especially at levels close to the root.'''\n",
    "        \n",
    "        assert self.cluster_features is not None\n",
    "        clu_fea = self.cluster_features\n",
    "        clu_fea[\"dendrogram\"] = clu_fea.index\n",
    "        clu_fea.dendrogram = clu_fea.dendrogram.apply(lambda x: dendrogram(leaf=int(x)))\n",
    "        size_mat = len(clu_fea)\n",
    "        for _ in range(1, size_mat):\n",
    "            # localisation de la plus petite distance dans la matrice\n",
    "            index_str1, index_str2 = dist_mat.stack().idxmin()\n",
    "            height = dist_mat.loc[index_str1, index_str2]\n",
    "            mov1 = clu_fea.loc[index_str1]\n",
    "            mov2 = clu_fea.loc[index_str2]\n",
    "            tmp1 = mov1.dendrogram\n",
    "            tmp2 = mov2.dendrogram\n",
    "            # acces a la racine du cluster de mov1 et de celui de mov2\n",
    "            while tmp1.father is not None: tmp1 = tmp1.father\n",
    "            while tmp2.father is not None: tmp2 = tmp2.father\n",
    "            # creation de la racine du nouvel arbre, fusion des 2 clusters\n",
    "            tmp3 = dendrogram()\n",
    "            tmp3.left = tmp1\n",
    "            tmp3.right = tmp2\n",
    "            tmp1.father = tmp3\n",
    "            tmp2.father = tmp3\n",
    "            tmp3.set_leaf_nb()\n",
    "            tmp3.set_height(height)\n",
    "            # actualisation de la matrice de distance\n",
    "            new_d = np.maximum(dist_mat.loc[index_str1, :], dist_mat.loc[index_str2, :])\n",
    "            dist_mat.loc[index_str1, :] = dist_mat.loc[:, index_str1] = new_d\n",
    "            # suppression d'une des 2 lignes et colonnes qui font maintenant doublons\n",
    "            dist_mat = dist_mat.drop(index_str2, axis=0)\n",
    "            dist_mat = dist_mat.drop(index_str2, axis=1)\n",
    "        \n",
    "        return clu_fea.iloc[0].dendrogram.get_root()\n",
    "    \n",
    "    def train(self, dfm_cluster):\n",
    "        \n",
    "        '''This method coordinates the cluster construction. Firstly it cleans the DataFrame by calling the\n",
    "        set_cluster_features method. Then it calls the function that computes the distance matrix. Finally\n",
    "        it calls the agglomerative_cluster method in order to build the dendrogram.'''\n",
    "        \n",
    "        self.set_cluster_features(dfm_cluster)\n",
    "        dist_mat = compute_dist_matrix(self.cluster_features)\n",
    "        self.dendrogram_root = self.agglomerative_cluster(dist_mat)\n",
    "    \n",
    "    def set_n_clusters(self, n):\n",
    "        \n",
    "        '''This method cuts the dendrogram at a height that forms n different clusters.'''\n",
    "        \n",
    "        if self.dendrogram_root is None:\n",
    "            print(\"Erreur, vous devez d'abord construire le dendrogram avec la methode train.\")\n",
    "        else:\n",
    "            self.outliers = None\n",
    "            self.cluster_id_list = self.dendrogram_root.get_n_clusters(n)\n",
    "    \n",
    "    def set_best_n_clusters(self):\n",
    "        \n",
    "        '''This method cuts the dendrogram at a height that maximizes the distance_to_father attributes\n",
    "        of the cluster roots, on the condition that it doesn't create too many clusters.'''\n",
    "        \n",
    "        if self.dendrogram_root is None:\n",
    "            print(\"Erreur, vous devez d'abord construire le dendrogram avec la methode train.\")\n",
    "        else:\n",
    "            self.cluster_id_list = self.dendrogram_root.find_best_cut()\n",
    "    \n",
    "    def set_n_clusters_perso(self, n):\n",
    "        \n",
    "        '''This method cuts the dendrogram at different heights depending on the branch, so that if forms\n",
    "        n clusters quite well balanced. It does not take the nodes height in consideration.'''\n",
    "        \n",
    "        if self.dendrogram_root is None:\n",
    "            print(\"Erreur, vous devez d'abord construire le dendrogram avec la methode train.\")\n",
    "        else:\n",
    "            self.cluster_id_list, self.outliers = self.dendrogram_root.get_n_clusters_perso(n)\n",
    "    \n",
    "    def get_cluster(self, pos, movies=None):\n",
    "        \n",
    "        '''This method returns a DataFrame that contains the movies from cluster number pos (first pos is 1).\n",
    "        It uses the self.cluster_features attribute if the argument movies is not precised.'''\n",
    "        \n",
    "        if movies is None:\n",
    "            movies = self.cluster_features\n",
    "        if pos <= 0:\n",
    "            print(\"Erreur, l'argument doit etre >= 1\")\n",
    "            return\n",
    "        if pos > len(self.cluster_id_list):\n",
    "            print(\"Erreur, il y a seulement \", len(self.cluster_id_list), \" clusters.\")\n",
    "            return\n",
    "        if self.cluster_id_list is None:\n",
    "            print(\"Erreur, vous devez d'abord choisir un nombre de clusters avec la methode set_n_clusters.\")\n",
    "            return\n",
    "        df = pd.DataFrame([])\n",
    "        if 'movieId' in movies.columns:\n",
    "            for i in self.cluster_id_list[pos - 1]:\n",
    "                df = df.append(movies[movies.movieId == int(i)])\n",
    "        else:\n",
    "            for i in self.cluster_id_list[pos - 1]:\n",
    "                df = df.append(movies.loc[str(i)])\n",
    "        return df\n",
    "    \n",
    "    def get_outliers(self, movies=None):\n",
    "        \n",
    "        '''This method returns a DataFrame that contains all the outliers movies. It exists only if the perso\n",
    "        method is used when setting a number of clusters. Otherwise it returns an empty DataFrame.'''\n",
    "        \n",
    "        df = pd.DataFrame([])\n",
    "        if self.outliers is None:\n",
    "            return df\n",
    "        if movies is None:\n",
    "            movies = self.cluster_features\n",
    "        if 'movieId' in movies.columns:\n",
    "            for i in outliers:\n",
    "                df = df.append(movies[movies.movieId == int(i)])\n",
    "        else:\n",
    "            for i in outliers:\n",
    "                df = df.append(movies.loc[str(i)])\n",
    "        return df\n",
    "    \n",
    "    def get_clusters_size(self):\n",
    "        \n",
    "        '''This method returns a list containing the size of the clusters,\n",
    "        i.e. the number of movies for each cluster.'''\n",
    "        \n",
    "        if self.cluster_id_list is None:\n",
    "            print(\"Erreur, vous devez d'abord choisir un nombre de clusters avec la methode set_n_clusters.\")\n",
    "            return\n",
    "        l = []\n",
    "        for id_list in self.cluster_id_list:\n",
    "            l.append(len(id_list))\n",
    "        return l\n",
    "    \n",
    "    def find_closest_cluster(self, movie):\n",
    "        \n",
    "        '''This method finds the closest cluster for a movie given in parameter. The closest cluster is the\n",
    "        cluster that contains the movie that is the closest to the argument.'''\n",
    "        \n",
    "        if self.cluster_id_list is None:\n",
    "            print(\"Erreur, vous devez d'abord choisir un nombre de clusters avec la methode set_n_clusters.\")\n",
    "            return\n",
    "        min_list = []\n",
    "        for cluster in self.cluster_id_list:\n",
    "            min_dist = np.min([movie_distance(movie, self.cluster_features.loc[str(m)]) for m in cluster])\n",
    "            min_list.append(min_dist)\n",
    "        index_closest_cluser = np.argmin(min_list)\n",
    "        \n",
    "        return self.cluster_id_list[index_closest_cluser]"
   ]
  },
  {
   "cell_type": "markdown",
   "metadata": {},
   "source": [
    "Test sur un échantillon de taille 10"
   ]
  },
  {
   "cell_type": "code",
   "execution_count": 76,
   "metadata": {},
   "outputs": [],
   "source": [
    "cluster_10 = hierarchical_cluster()\n",
    "test_10 = dfm_cluster.sample(10)"
   ]
  },
  {
   "cell_type": "code",
   "execution_count": 79,
   "metadata": {},
   "outputs": [
    {
     "name": "stdout",
     "output_type": "stream",
     "text": [
      "Wall time: 58.8 ms\n"
     ]
    }
   ],
   "source": [
    "%time cluster_10.train(test_10)"
   ]
  },
  {
   "cell_type": "code",
   "execution_count": 80,
   "metadata": {},
   "outputs": [],
   "source": [
    "cluster_10.set_n_clusters(3)"
   ]
  },
  {
   "cell_type": "code",
   "execution_count": 81,
   "metadata": {
    "scrolled": true
   },
   "outputs": [
    {
     "data": {
      "text/html": [
       "<div>\n",
       "<style scoped>\n",
       "    .dataframe tbody tr th:only-of-type {\n",
       "        vertical-align: middle;\n",
       "    }\n",
       "\n",
       "    .dataframe tbody tr th {\n",
       "        vertical-align: top;\n",
       "    }\n",
       "\n",
       "    .dataframe thead th {\n",
       "        text-align: right;\n",
       "    }\n",
       "</style>\n",
       "<table border=\"1\" class=\"dataframe\">\n",
       "  <thead>\n",
       "    <tr style=\"text-align: right;\">\n",
       "      <th></th>\n",
       "      <th>director</th>\n",
       "      <th>genres</th>\n",
       "      <th>keywords</th>\n",
       "      <th>original_language</th>\n",
       "      <th>production_countries</th>\n",
       "      <th>release_date</th>\n",
       "      <th>runtime</th>\n",
       "      <th>title</th>\n",
       "    </tr>\n",
       "  </thead>\n",
       "  <tbody>\n",
       "    <tr>\n",
       "      <td>1704</td>\n",
       "      <td>Gus Van Sant</td>\n",
       "      <td>[18]</td>\n",
       "      <td>[1480, 1680, 1992, 2462, 2463, 3734, 6009, 625...</td>\n",
       "      <td>en</td>\n",
       "      <td>[CA, US]</td>\n",
       "      <td>1997.0</td>\n",
       "      <td>126.0</td>\n",
       "      <td>Good Will Hunting</td>\n",
       "    </tr>\n",
       "    <tr>\n",
       "      <td>5815</td>\n",
       "      <td>Don Michael Paul</td>\n",
       "      <td>[80, 28, 53]</td>\n",
       "      <td>[836, 1568, 3859, 8627]</td>\n",
       "      <td>en</td>\n",
       "      <td>[DE, US]</td>\n",
       "      <td>2002.0</td>\n",
       "      <td>98.0</td>\n",
       "      <td>Half Past Dead</td>\n",
       "    </tr>\n",
       "    <tr>\n",
       "      <td>7360</td>\n",
       "      <td>Zack Snyder</td>\n",
       "      <td>[14, 27, 28]</td>\n",
       "      <td>[972, 1583, 1912, 1926, 2081, 2583, 2776, 3725...</td>\n",
       "      <td>en</td>\n",
       "      <td>[US]</td>\n",
       "      <td>2004.0</td>\n",
       "      <td>101.0</td>\n",
       "      <td>Dawn of the Dead</td>\n",
       "    </tr>\n",
       "    <tr>\n",
       "      <td>69821</td>\n",
       "      <td>Perry Lang</td>\n",
       "      <td>[28, 53]</td>\n",
       "      <td>[1293, 2041, 3070, 10183, 10787]</td>\n",
       "      <td>en</td>\n",
       "      <td>[US, ES]</td>\n",
       "      <td>1994.0</td>\n",
       "      <td>103.0</td>\n",
       "      <td>Men of War</td>\n",
       "    </tr>\n",
       "    <tr>\n",
       "      <td>160563</td>\n",
       "      <td>David Yates</td>\n",
       "      <td>[28, 12]</td>\n",
       "      <td>[409, 5650, 7347, 10787, 158130]</td>\n",
       "      <td>en</td>\n",
       "      <td>[CA, GB, US]</td>\n",
       "      <td>2016.0</td>\n",
       "      <td>109.0</td>\n",
       "      <td>The Legend of Tarzan</td>\n",
       "    </tr>\n",
       "  </tbody>\n",
       "</table>\n",
       "</div>"
      ],
      "text/plain": [
       "                director        genres  \\\n",
       "1704        Gus Van Sant          [18]   \n",
       "5815    Don Michael Paul  [80, 28, 53]   \n",
       "7360         Zack Snyder  [14, 27, 28]   \n",
       "69821         Perry Lang      [28, 53]   \n",
       "160563       David Yates      [28, 12]   \n",
       "\n",
       "                                                 keywords original_language  \\\n",
       "1704    [1480, 1680, 1992, 2462, 2463, 3734, 6009, 625...                en   \n",
       "5815                              [836, 1568, 3859, 8627]                en   \n",
       "7360    [972, 1583, 1912, 1926, 2081, 2583, 2776, 3725...                en   \n",
       "69821                    [1293, 2041, 3070, 10183, 10787]                en   \n",
       "160563                   [409, 5650, 7347, 10787, 158130]                en   \n",
       "\n",
       "       production_countries  release_date  runtime                 title  \n",
       "1704               [CA, US]        1997.0    126.0     Good Will Hunting  \n",
       "5815               [DE, US]        2002.0     98.0        Half Past Dead  \n",
       "7360                   [US]        2004.0    101.0      Dawn of the Dead  \n",
       "69821              [US, ES]        1994.0    103.0            Men of War  \n",
       "160563         [CA, GB, US]        2016.0    109.0  The Legend of Tarzan  "
      ]
     },
     "execution_count": 81,
     "metadata": {},
     "output_type": "execute_result"
    }
   ],
   "source": [
    "cluster_10.get_cluster(1, cluster_features)"
   ]
  },
  {
   "cell_type": "code",
   "execution_count": 82,
   "metadata": {
    "scrolled": true
   },
   "outputs": [
    {
     "data": {
      "text/html": [
       "<div>\n",
       "<style scoped>\n",
       "    .dataframe tbody tr th:only-of-type {\n",
       "        vertical-align: middle;\n",
       "    }\n",
       "\n",
       "    .dataframe tbody tr th {\n",
       "        vertical-align: top;\n",
       "    }\n",
       "\n",
       "    .dataframe thead th {\n",
       "        text-align: right;\n",
       "    }\n",
       "</style>\n",
       "<table border=\"1\" class=\"dataframe\">\n",
       "  <thead>\n",
       "    <tr style=\"text-align: right;\">\n",
       "      <th></th>\n",
       "      <th>director</th>\n",
       "      <th>genres</th>\n",
       "      <th>keywords</th>\n",
       "      <th>original_language</th>\n",
       "      <th>production_countries</th>\n",
       "      <th>release_date</th>\n",
       "      <th>runtime</th>\n",
       "      <th>title</th>\n",
       "    </tr>\n",
       "  </thead>\n",
       "  <tbody>\n",
       "    <tr>\n",
       "      <td>3979</td>\n",
       "      <td>Steven Brill</td>\n",
       "      <td>[35, 14, 10749]</td>\n",
       "      <td>[494, 1155, 15001, 167707]</td>\n",
       "      <td>en</td>\n",
       "      <td>[US]</td>\n",
       "      <td>2000.0</td>\n",
       "      <td>90.0</td>\n",
       "      <td>Little Nicky</td>\n",
       "    </tr>\n",
       "    <tr>\n",
       "      <td>58839</td>\n",
       "      <td>George Clooney</td>\n",
       "      <td>[35, 10749, 18]</td>\n",
       "      <td>[579, 1483, 1485, 1701, 3836, 5398, 6149, 6186...</td>\n",
       "      <td>en</td>\n",
       "      <td>[DE, US]</td>\n",
       "      <td>2008.0</td>\n",
       "      <td>114.0</td>\n",
       "      <td>Leatherheads</td>\n",
       "    </tr>\n",
       "    <tr>\n",
       "      <td>69122</td>\n",
       "      <td>Todd Phillips</td>\n",
       "      <td>[35]</td>\n",
       "      <td>[3508, 4809, 8070, 11461, 11462, 11464, 11465,...</td>\n",
       "      <td>en</td>\n",
       "      <td>[DE, US]</td>\n",
       "      <td>2009.0</td>\n",
       "      <td>100.0</td>\n",
       "      <td>The Hangover</td>\n",
       "    </tr>\n",
       "  </tbody>\n",
       "</table>\n",
       "</div>"
      ],
      "text/plain": [
       "             director           genres  \\\n",
       "3979     Steven Brill  [35, 14, 10749]   \n",
       "58839  George Clooney  [35, 10749, 18]   \n",
       "69122   Todd Phillips             [35]   \n",
       "\n",
       "                                                keywords original_language  \\\n",
       "3979                          [494, 1155, 15001, 167707]                en   \n",
       "58839  [579, 1483, 1485, 1701, 3836, 5398, 6149, 6186...                en   \n",
       "69122  [3508, 4809, 8070, 11461, 11462, 11464, 11465,...                en   \n",
       "\n",
       "      production_countries  release_date  runtime         title  \n",
       "3979                  [US]        2000.0     90.0  Little Nicky  \n",
       "58839             [DE, US]        2008.0    114.0  Leatherheads  \n",
       "69122             [DE, US]        2009.0    100.0  The Hangover  "
      ]
     },
     "execution_count": 82,
     "metadata": {},
     "output_type": "execute_result"
    }
   ],
   "source": [
    "cluster_10.get_cluster(2, cluster_features)"
   ]
  },
  {
   "cell_type": "code",
   "execution_count": 83,
   "metadata": {
    "scrolled": true
   },
   "outputs": [
    {
     "data": {
      "text/html": [
       "<div>\n",
       "<style scoped>\n",
       "    .dataframe tbody tr th:only-of-type {\n",
       "        vertical-align: middle;\n",
       "    }\n",
       "\n",
       "    .dataframe tbody tr th {\n",
       "        vertical-align: top;\n",
       "    }\n",
       "\n",
       "    .dataframe thead th {\n",
       "        text-align: right;\n",
       "    }\n",
       "</style>\n",
       "<table border=\"1\" class=\"dataframe\">\n",
       "  <thead>\n",
       "    <tr style=\"text-align: right;\">\n",
       "      <th></th>\n",
       "      <th>director</th>\n",
       "      <th>genres</th>\n",
       "      <th>keywords</th>\n",
       "      <th>original_language</th>\n",
       "      <th>production_countries</th>\n",
       "      <th>release_date</th>\n",
       "      <th>runtime</th>\n",
       "      <th>title</th>\n",
       "    </tr>\n",
       "  </thead>\n",
       "  <tbody>\n",
       "    <tr>\n",
       "      <td>1949</td>\n",
       "      <td>Fred Zinnemann</td>\n",
       "      <td>[18, 36]</td>\n",
       "      <td>[392, 717, 1829, 2122, 4350, 4351, 4352, 4353,...</td>\n",
       "      <td>en</td>\n",
       "      <td>[GB]</td>\n",
       "      <td>1966.0</td>\n",
       "      <td>120.0</td>\n",
       "      <td>A Man for All Seasons</td>\n",
       "    </tr>\n",
       "    <tr>\n",
       "      <td>3854</td>\n",
       "      <td>Max F\\u00e4rberb\\u00f6ck</td>\n",
       "      <td>[18, 36, 10749]</td>\n",
       "      <td>[220, 2606, 3691, 9833, 10180, 34215]</td>\n",
       "      <td>de</td>\n",
       "      <td>[DE]</td>\n",
       "      <td>1999.0</td>\n",
       "      <td>125.0</td>\n",
       "      <td>Aimee &amp; Jaguar</td>\n",
       "    </tr>\n",
       "  </tbody>\n",
       "</table>\n",
       "</div>"
      ],
      "text/plain": [
       "                      director           genres  \\\n",
       "1949            Fred Zinnemann         [18, 36]   \n",
       "3854  Max F\\u00e4rberb\\u00f6ck  [18, 36, 10749]   \n",
       "\n",
       "                                               keywords original_language  \\\n",
       "1949  [392, 717, 1829, 2122, 4350, 4351, 4352, 4353,...                en   \n",
       "3854              [220, 2606, 3691, 9833, 10180, 34215]                de   \n",
       "\n",
       "     production_countries  release_date  runtime                  title  \n",
       "1949                 [GB]        1966.0    120.0  A Man for All Seasons  \n",
       "3854                 [DE]        1999.0    125.0         Aimee & Jaguar  "
      ]
     },
     "execution_count": 83,
     "metadata": {},
     "output_type": "execute_result"
    }
   ],
   "source": [
    "cluster_10.get_cluster(3, cluster_features)"
   ]
  },
  {
   "cell_type": "code",
   "execution_count": 43,
   "metadata": {},
   "outputs": [],
   "source": [
    "cluster_10.set_n_clusters_perso(3)"
   ]
  },
  {
   "cell_type": "code",
   "execution_count": 44,
   "metadata": {
    "scrolled": true
   },
   "outputs": [
    {
     "data": {
      "text/html": [
       "<div>\n",
       "<style scoped>\n",
       "    .dataframe tbody tr th:only-of-type {\n",
       "        vertical-align: middle;\n",
       "    }\n",
       "\n",
       "    .dataframe tbody tr th {\n",
       "        vertical-align: top;\n",
       "    }\n",
       "\n",
       "    .dataframe thead th {\n",
       "        text-align: right;\n",
       "    }\n",
       "</style>\n",
       "<table border=\"1\" class=\"dataframe\">\n",
       "  <thead>\n",
       "    <tr style=\"text-align: right;\">\n",
       "      <th></th>\n",
       "      <th>director</th>\n",
       "      <th>genres</th>\n",
       "      <th>keywords</th>\n",
       "      <th>original_language</th>\n",
       "      <th>production_countries</th>\n",
       "      <th>release_date</th>\n",
       "      <th>runtime</th>\n",
       "      <th>title</th>\n",
       "    </tr>\n",
       "  </thead>\n",
       "  <tbody>\n",
       "    <tr>\n",
       "      <td>6338</td>\n",
       "      <td>Steve Carr</td>\n",
       "      <td>[35, 10751]</td>\n",
       "      <td>[271, 3836, 4590, 10103, 156052]</td>\n",
       "      <td>en</td>\n",
       "      <td>[US]</td>\n",
       "      <td>2003.0</td>\n",
       "      <td>92.0</td>\n",
       "      <td>Daddy Day Care</td>\n",
       "    </tr>\n",
       "    <tr>\n",
       "      <td>5449</td>\n",
       "      <td>Steven Brill</td>\n",
       "      <td>[35, 10749]</td>\n",
       "      <td>[3452, 6018, 8680, 9468, 9821, 10911, 12547, 1...</td>\n",
       "      <td>en</td>\n",
       "      <td>[US]</td>\n",
       "      <td>2002.0</td>\n",
       "      <td>96.0</td>\n",
       "      <td>Mr. Deeds</td>\n",
       "    </tr>\n",
       "    <tr>\n",
       "      <td>20</td>\n",
       "      <td>Joseph Ruben</td>\n",
       "      <td>[28, 35, 80]</td>\n",
       "      <td>[380, 1552, 14512, 155735, 156120]</td>\n",
       "      <td>en</td>\n",
       "      <td>[US]</td>\n",
       "      <td>1995.0</td>\n",
       "      <td>103.0</td>\n",
       "      <td>Money Train</td>\n",
       "    </tr>\n",
       "  </tbody>\n",
       "</table>\n",
       "</div>"
      ],
      "text/plain": [
       "          director        genres  \\\n",
       "6338    Steve Carr   [35, 10751]   \n",
       "5449  Steven Brill   [35, 10749]   \n",
       "20    Joseph Ruben  [28, 35, 80]   \n",
       "\n",
       "                                               keywords original_language  \\\n",
       "6338                   [271, 3836, 4590, 10103, 156052]                en   \n",
       "5449  [3452, 6018, 8680, 9468, 9821, 10911, 12547, 1...                en   \n",
       "20                   [380, 1552, 14512, 155735, 156120]                en   \n",
       "\n",
       "     production_countries  release_date  runtime           title  \n",
       "6338                 [US]        2003.0     92.0  Daddy Day Care  \n",
       "5449                 [US]        2002.0     96.0       Mr. Deeds  \n",
       "20                   [US]        1995.0    103.0     Money Train  "
      ]
     },
     "execution_count": 44,
     "metadata": {},
     "output_type": "execute_result"
    }
   ],
   "source": [
    "cluster_10.get_cluster(1, cluster_features)"
   ]
  },
  {
   "cell_type": "code",
   "execution_count": 45,
   "metadata": {
    "scrolled": true
   },
   "outputs": [
    {
     "data": {
      "text/html": [
       "<div>\n",
       "<style scoped>\n",
       "    .dataframe tbody tr th:only-of-type {\n",
       "        vertical-align: middle;\n",
       "    }\n",
       "\n",
       "    .dataframe tbody tr th {\n",
       "        vertical-align: top;\n",
       "    }\n",
       "\n",
       "    .dataframe thead th {\n",
       "        text-align: right;\n",
       "    }\n",
       "</style>\n",
       "<table border=\"1\" class=\"dataframe\">\n",
       "  <thead>\n",
       "    <tr style=\"text-align: right;\">\n",
       "      <th></th>\n",
       "      <th>director</th>\n",
       "      <th>genres</th>\n",
       "      <th>keywords</th>\n",
       "      <th>original_language</th>\n",
       "      <th>production_countries</th>\n",
       "      <th>release_date</th>\n",
       "      <th>runtime</th>\n",
       "      <th>title</th>\n",
       "    </tr>\n",
       "  </thead>\n",
       "  <tbody>\n",
       "    <tr>\n",
       "      <td>3969</td>\n",
       "      <td>Mimi Leder</td>\n",
       "      <td>[18, 10749]</td>\n",
       "      <td>[161868, 166625, 170365, 170375, 170378, 17038...</td>\n",
       "      <td>en</td>\n",
       "      <td>[US]</td>\n",
       "      <td>2000.0</td>\n",
       "      <td>122.0</td>\n",
       "      <td>Pay It Forward</td>\n",
       "    </tr>\n",
       "    <tr>\n",
       "      <td>2154</td>\n",
       "      <td>Kevin Rodney Sullivan</td>\n",
       "      <td>[35, 18, 10749]</td>\n",
       "      <td>[577, 965, 3266, 6876, 11322]</td>\n",
       "      <td>en</td>\n",
       "      <td>[US]</td>\n",
       "      <td>1998.0</td>\n",
       "      <td>124.0</td>\n",
       "      <td>How Stella Got Her Groove Back</td>\n",
       "    </tr>\n",
       "    <tr>\n",
       "      <td>4890</td>\n",
       "      <td>Bobby Farrelly</td>\n",
       "      <td>[35, 10749]</td>\n",
       "      <td>[2064, 3258, 3363, 4539, 8663, 8664, 8665, 997...</td>\n",
       "      <td>en</td>\n",
       "      <td>[US]</td>\n",
       "      <td>2001.0</td>\n",
       "      <td>114.0</td>\n",
       "      <td>Shallow Hal</td>\n",
       "    </tr>\n",
       "    <tr>\n",
       "      <td>48744</td>\n",
       "      <td>John Cameron Mitchell</td>\n",
       "      <td>[10749, 18, 35]</td>\n",
       "      <td>[237, 242, 460, 463, 571, 572, 826, 1252, 1664...</td>\n",
       "      <td>en</td>\n",
       "      <td>[US]</td>\n",
       "      <td>2006.0</td>\n",
       "      <td>101.0</td>\n",
       "      <td>Shortbus</td>\n",
       "    </tr>\n",
       "  </tbody>\n",
       "</table>\n",
       "</div>"
      ],
      "text/plain": [
       "                    director           genres  \\\n",
       "3969              Mimi Leder      [18, 10749]   \n",
       "2154   Kevin Rodney Sullivan  [35, 18, 10749]   \n",
       "4890          Bobby Farrelly      [35, 10749]   \n",
       "48744  John Cameron Mitchell  [10749, 18, 35]   \n",
       "\n",
       "                                                keywords original_language  \\\n",
       "3969   [161868, 166625, 170365, 170375, 170378, 17038...                en   \n",
       "2154                       [577, 965, 3266, 6876, 11322]                en   \n",
       "4890   [2064, 3258, 3363, 4539, 8663, 8664, 8665, 997...                en   \n",
       "48744  [237, 242, 460, 463, 571, 572, 826, 1252, 1664...                en   \n",
       "\n",
       "      production_countries  release_date  runtime  \\\n",
       "3969                  [US]        2000.0    122.0   \n",
       "2154                  [US]        1998.0    124.0   \n",
       "4890                  [US]        2001.0    114.0   \n",
       "48744                 [US]        2006.0    101.0   \n",
       "\n",
       "                                title  \n",
       "3969                   Pay It Forward  \n",
       "2154   How Stella Got Her Groove Back  \n",
       "4890                      Shallow Hal  \n",
       "48744                        Shortbus  "
      ]
     },
     "execution_count": 45,
     "metadata": {},
     "output_type": "execute_result"
    }
   ],
   "source": [
    "cluster_10.get_cluster(2, cluster_features)"
   ]
  },
  {
   "cell_type": "code",
   "execution_count": 46,
   "metadata": {
    "scrolled": true
   },
   "outputs": [
    {
     "data": {
      "text/html": [
       "<div>\n",
       "<style scoped>\n",
       "    .dataframe tbody tr th:only-of-type {\n",
       "        vertical-align: middle;\n",
       "    }\n",
       "\n",
       "    .dataframe tbody tr th {\n",
       "        vertical-align: top;\n",
       "    }\n",
       "\n",
       "    .dataframe thead th {\n",
       "        text-align: right;\n",
       "    }\n",
       "</style>\n",
       "<table border=\"1\" class=\"dataframe\">\n",
       "  <thead>\n",
       "    <tr style=\"text-align: right;\">\n",
       "      <th></th>\n",
       "      <th>director</th>\n",
       "      <th>genres</th>\n",
       "      <th>keywords</th>\n",
       "      <th>original_language</th>\n",
       "      <th>production_countries</th>\n",
       "      <th>release_date</th>\n",
       "      <th>runtime</th>\n",
       "      <th>title</th>\n",
       "    </tr>\n",
       "  </thead>\n",
       "  <tbody>\n",
       "    <tr>\n",
       "      <td>8196</td>\n",
       "      <td>Russ Meyer</td>\n",
       "      <td>[35, 18, 53]</td>\n",
       "      <td>[637, 3490, 4344]</td>\n",
       "      <td>en</td>\n",
       "      <td>[US]</td>\n",
       "      <td>1970.0</td>\n",
       "      <td>109.0</td>\n",
       "      <td>Beyond the Valley of the Dolls</td>\n",
       "    </tr>\n",
       "  </tbody>\n",
       "</table>\n",
       "</div>"
      ],
      "text/plain": [
       "        director        genres           keywords original_language  \\\n",
       "8196  Russ Meyer  [35, 18, 53]  [637, 3490, 4344]                en   \n",
       "\n",
       "     production_countries  release_date  runtime  \\\n",
       "8196                 [US]        1970.0    109.0   \n",
       "\n",
       "                               title  \n",
       "8196  Beyond the Valley of the Dolls  "
      ]
     },
     "execution_count": 46,
     "metadata": {},
     "output_type": "execute_result"
    }
   ],
   "source": [
    "cluster_10.get_cluster(3, cluster_features)"
   ]
  },
  {
   "cell_type": "code",
   "execution_count": 47,
   "metadata": {},
   "outputs": [],
   "source": [
    "cluster_10.set_best_n_clusters()"
   ]
  },
  {
   "cell_type": "code",
   "execution_count": 48,
   "metadata": {
    "scrolled": true
   },
   "outputs": [
    {
     "data": {
      "text/html": [
       "<div>\n",
       "<style scoped>\n",
       "    .dataframe tbody tr th:only-of-type {\n",
       "        vertical-align: middle;\n",
       "    }\n",
       "\n",
       "    .dataframe tbody tr th {\n",
       "        vertical-align: top;\n",
       "    }\n",
       "\n",
       "    .dataframe thead th {\n",
       "        text-align: right;\n",
       "    }\n",
       "</style>\n",
       "<table border=\"1\" class=\"dataframe\">\n",
       "  <thead>\n",
       "    <tr style=\"text-align: right;\">\n",
       "      <th></th>\n",
       "      <th>director</th>\n",
       "      <th>genres</th>\n",
       "      <th>keywords</th>\n",
       "      <th>original_language</th>\n",
       "      <th>production_countries</th>\n",
       "      <th>release_date</th>\n",
       "      <th>runtime</th>\n",
       "      <th>title</th>\n",
       "    </tr>\n",
       "  </thead>\n",
       "  <tbody>\n",
       "    <tr>\n",
       "      <td>8196</td>\n",
       "      <td>Russ Meyer</td>\n",
       "      <td>[35, 18, 53]</td>\n",
       "      <td>[637, 3490, 4344]</td>\n",
       "      <td>en</td>\n",
       "      <td>[US]</td>\n",
       "      <td>1970.0</td>\n",
       "      <td>109.0</td>\n",
       "      <td>Beyond the Valley of the Dolls</td>\n",
       "    </tr>\n",
       "    <tr>\n",
       "      <td>3969</td>\n",
       "      <td>Mimi Leder</td>\n",
       "      <td>[18, 10749]</td>\n",
       "      <td>[161868, 166625, 170365, 170375, 170378, 17038...</td>\n",
       "      <td>en</td>\n",
       "      <td>[US]</td>\n",
       "      <td>2000.0</td>\n",
       "      <td>122.0</td>\n",
       "      <td>Pay It Forward</td>\n",
       "    </tr>\n",
       "    <tr>\n",
       "      <td>2154</td>\n",
       "      <td>Kevin Rodney Sullivan</td>\n",
       "      <td>[35, 18, 10749]</td>\n",
       "      <td>[577, 965, 3266, 6876, 11322]</td>\n",
       "      <td>en</td>\n",
       "      <td>[US]</td>\n",
       "      <td>1998.0</td>\n",
       "      <td>124.0</td>\n",
       "      <td>How Stella Got Her Groove Back</td>\n",
       "    </tr>\n",
       "    <tr>\n",
       "      <td>4890</td>\n",
       "      <td>Bobby Farrelly</td>\n",
       "      <td>[35, 10749]</td>\n",
       "      <td>[2064, 3258, 3363, 4539, 8663, 8664, 8665, 997...</td>\n",
       "      <td>en</td>\n",
       "      <td>[US]</td>\n",
       "      <td>2001.0</td>\n",
       "      <td>114.0</td>\n",
       "      <td>Shallow Hal</td>\n",
       "    </tr>\n",
       "    <tr>\n",
       "      <td>48744</td>\n",
       "      <td>John Cameron Mitchell</td>\n",
       "      <td>[10749, 18, 35]</td>\n",
       "      <td>[237, 242, 460, 463, 571, 572, 826, 1252, 1664...</td>\n",
       "      <td>en</td>\n",
       "      <td>[US]</td>\n",
       "      <td>2006.0</td>\n",
       "      <td>101.0</td>\n",
       "      <td>Shortbus</td>\n",
       "    </tr>\n",
       "    <tr>\n",
       "      <td>6338</td>\n",
       "      <td>Steve Carr</td>\n",
       "      <td>[35, 10751]</td>\n",
       "      <td>[271, 3836, 4590, 10103, 156052]</td>\n",
       "      <td>en</td>\n",
       "      <td>[US]</td>\n",
       "      <td>2003.0</td>\n",
       "      <td>92.0</td>\n",
       "      <td>Daddy Day Care</td>\n",
       "    </tr>\n",
       "    <tr>\n",
       "      <td>5449</td>\n",
       "      <td>Steven Brill</td>\n",
       "      <td>[35, 10749]</td>\n",
       "      <td>[3452, 6018, 8680, 9468, 9821, 10911, 12547, 1...</td>\n",
       "      <td>en</td>\n",
       "      <td>[US]</td>\n",
       "      <td>2002.0</td>\n",
       "      <td>96.0</td>\n",
       "      <td>Mr. Deeds</td>\n",
       "    </tr>\n",
       "    <tr>\n",
       "      <td>20</td>\n",
       "      <td>Joseph Ruben</td>\n",
       "      <td>[28, 35, 80]</td>\n",
       "      <td>[380, 1552, 14512, 155735, 156120]</td>\n",
       "      <td>en</td>\n",
       "      <td>[US]</td>\n",
       "      <td>1995.0</td>\n",
       "      <td>103.0</td>\n",
       "      <td>Money Train</td>\n",
       "    </tr>\n",
       "  </tbody>\n",
       "</table>\n",
       "</div>"
      ],
      "text/plain": [
       "                    director           genres  \\\n",
       "8196              Russ Meyer     [35, 18, 53]   \n",
       "3969              Mimi Leder      [18, 10749]   \n",
       "2154   Kevin Rodney Sullivan  [35, 18, 10749]   \n",
       "4890          Bobby Farrelly      [35, 10749]   \n",
       "48744  John Cameron Mitchell  [10749, 18, 35]   \n",
       "6338              Steve Carr      [35, 10751]   \n",
       "5449            Steven Brill      [35, 10749]   \n",
       "20              Joseph Ruben     [28, 35, 80]   \n",
       "\n",
       "                                                keywords original_language  \\\n",
       "8196                                   [637, 3490, 4344]                en   \n",
       "3969   [161868, 166625, 170365, 170375, 170378, 17038...                en   \n",
       "2154                       [577, 965, 3266, 6876, 11322]                en   \n",
       "4890   [2064, 3258, 3363, 4539, 8663, 8664, 8665, 997...                en   \n",
       "48744  [237, 242, 460, 463, 571, 572, 826, 1252, 1664...                en   \n",
       "6338                    [271, 3836, 4590, 10103, 156052]                en   \n",
       "5449   [3452, 6018, 8680, 9468, 9821, 10911, 12547, 1...                en   \n",
       "20                    [380, 1552, 14512, 155735, 156120]                en   \n",
       "\n",
       "      production_countries  release_date  runtime  \\\n",
       "8196                  [US]        1970.0    109.0   \n",
       "3969                  [US]        2000.0    122.0   \n",
       "2154                  [US]        1998.0    124.0   \n",
       "4890                  [US]        2001.0    114.0   \n",
       "48744                 [US]        2006.0    101.0   \n",
       "6338                  [US]        2003.0     92.0   \n",
       "5449                  [US]        2002.0     96.0   \n",
       "20                    [US]        1995.0    103.0   \n",
       "\n",
       "                                title  \n",
       "8196   Beyond the Valley of the Dolls  \n",
       "3969                   Pay It Forward  \n",
       "2154   How Stella Got Her Groove Back  \n",
       "4890                      Shallow Hal  \n",
       "48744                        Shortbus  \n",
       "6338                   Daddy Day Care  \n",
       "5449                        Mr. Deeds  \n",
       "20                        Money Train  "
      ]
     },
     "execution_count": 48,
     "metadata": {},
     "output_type": "execute_result"
    }
   ],
   "source": [
    "cluster_10.get_cluster(1, cluster_features)"
   ]
  },
  {
   "cell_type": "code",
   "execution_count": 49,
   "metadata": {
    "scrolled": true
   },
   "outputs": [
    {
     "data": {
      "text/html": [
       "<div>\n",
       "<style scoped>\n",
       "    .dataframe tbody tr th:only-of-type {\n",
       "        vertical-align: middle;\n",
       "    }\n",
       "\n",
       "    .dataframe tbody tr th {\n",
       "        vertical-align: top;\n",
       "    }\n",
       "\n",
       "    .dataframe thead th {\n",
       "        text-align: right;\n",
       "    }\n",
       "</style>\n",
       "<table border=\"1\" class=\"dataframe\">\n",
       "  <thead>\n",
       "    <tr style=\"text-align: right;\">\n",
       "      <th></th>\n",
       "      <th>director</th>\n",
       "      <th>genres</th>\n",
       "      <th>keywords</th>\n",
       "      <th>original_language</th>\n",
       "      <th>production_countries</th>\n",
       "      <th>release_date</th>\n",
       "      <th>runtime</th>\n",
       "      <th>title</th>\n",
       "    </tr>\n",
       "  </thead>\n",
       "  <tbody>\n",
       "    <tr>\n",
       "      <td>105954</td>\n",
       "      <td>J.C. Chandor</td>\n",
       "      <td>[28, 12, 18]</td>\n",
       "      <td>[3342, 41599, 168683, 175316, 175668, 176052, ...</td>\n",
       "      <td>en</td>\n",
       "      <td>[US]</td>\n",
       "      <td>2013.0</td>\n",
       "      <td>106.0</td>\n",
       "      <td>All Is Lost</td>\n",
       "    </tr>\n",
       "  </tbody>\n",
       "</table>\n",
       "</div>"
      ],
      "text/plain": [
       "            director        genres  \\\n",
       "105954  J.C. Chandor  [28, 12, 18]   \n",
       "\n",
       "                                                 keywords original_language  \\\n",
       "105954  [3342, 41599, 168683, 175316, 175668, 176052, ...                en   \n",
       "\n",
       "       production_countries  release_date  runtime        title  \n",
       "105954                 [US]        2013.0    106.0  All Is Lost  "
      ]
     },
     "execution_count": 49,
     "metadata": {},
     "output_type": "execute_result"
    }
   ],
   "source": [
    "cluster_10.get_cluster(2, cluster_features)"
   ]
  },
  {
   "cell_type": "code",
   "execution_count": 50,
   "metadata": {
    "scrolled": true
   },
   "outputs": [
    {
     "name": "stdout",
     "output_type": "stream",
     "text": [
      "Erreur, il y a seulement  2  clusters.\n"
     ]
    }
   ],
   "source": [
    "cluster_10.get_cluster(3, cluster_features)"
   ]
  },
  {
   "cell_type": "code",
   "execution_count": 51,
   "metadata": {},
   "outputs": [
    {
     "name": "stdout",
     "output_type": "stream",
     "text": [
      "Erreur, il y a seulement  2  clusters.\n"
     ]
    }
   ],
   "source": [
    "cluster_10.get_cluster(4, cluster_features)"
   ]
  },
  {
   "cell_type": "code",
   "execution_count": 52,
   "metadata": {},
   "outputs": [
    {
     "name": "stdout",
     "output_type": "stream",
     "text": [
      "Erreur, il y a seulement  2  clusters.\n"
     ]
    }
   ],
   "source": [
    "cluster_10.get_cluster(5, cluster_features)"
   ]
  },
  {
   "cell_type": "markdown",
   "metadata": {},
   "source": [
    "Test sur un échantillon de taille 100"
   ]
  },
  {
   "cell_type": "code",
   "execution_count": 53,
   "metadata": {},
   "outputs": [],
   "source": [
    "test_100 = dfm_cluster.sample(100)\n",
    "cluster_100 = hierarchical_cluster()"
   ]
  },
  {
   "cell_type": "code",
   "execution_count": 55,
   "metadata": {},
   "outputs": [
    {
     "name": "stdout",
     "output_type": "stream",
     "text": [
      "Wall time: 3.09 s\n"
     ]
    }
   ],
   "source": [
    "%time cluster_100.train(test_100)"
   ]
  },
  {
   "cell_type": "code",
   "execution_count": 446,
   "metadata": {},
   "outputs": [],
   "source": [
    "%lprun -f movie_distance cluster_100.train(test_100)"
   ]
  },
  {
   "cell_type": "code",
   "execution_count": 56,
   "metadata": {},
   "outputs": [
    {
     "data": {
      "text/plain": [
       "[72, 4, 12, 2, 3, 3]"
      ]
     },
     "execution_count": 56,
     "metadata": {},
     "output_type": "execute_result"
    }
   ],
   "source": [
    "cluster_100.set_n_clusters(6)\n",
    "cluster_100.get_clusters_size()"
   ]
  },
  {
   "cell_type": "code",
   "execution_count": 57,
   "metadata": {},
   "outputs": [
    {
     "name": "stdout",
     "output_type": "stream",
     "text": [
      "30  outliers\n"
     ]
    },
    {
     "data": {
      "text/plain": [
       "[18, 4, 12, 10, 11, 11]"
      ]
     },
     "execution_count": 57,
     "metadata": {},
     "output_type": "execute_result"
    }
   ],
   "source": [
    "cluster_100.set_n_clusters_perso(6)\n",
    "print(len(cluster_100.outliers), \" outliers\")\n",
    "cluster_100.get_clusters_size()"
   ]
  },
  {
   "cell_type": "code",
   "execution_count": 58,
   "metadata": {},
   "outputs": [
    {
     "data": {
      "text/plain": [
       "[76, 12, 2, 3, 3]"
      ]
     },
     "execution_count": 58,
     "metadata": {},
     "output_type": "execute_result"
    }
   ],
   "source": [
    "cluster_100.set_best_n_clusters()\n",
    "cluster_100.get_clusters_size()"
   ]
  },
  {
   "cell_type": "code",
   "execution_count": 59,
   "metadata": {},
   "outputs": [
    {
     "data": {
      "text/html": [
       "<div>\n",
       "<style scoped>\n",
       "    .dataframe tbody tr th:only-of-type {\n",
       "        vertical-align: middle;\n",
       "    }\n",
       "\n",
       "    .dataframe tbody tr th {\n",
       "        vertical-align: top;\n",
       "    }\n",
       "\n",
       "    .dataframe thead th {\n",
       "        text-align: right;\n",
       "    }\n",
       "</style>\n",
       "<table border=\"1\" class=\"dataframe\">\n",
       "  <thead>\n",
       "    <tr style=\"text-align: right;\">\n",
       "      <th></th>\n",
       "      <th>director</th>\n",
       "      <th>genres</th>\n",
       "      <th>keywords</th>\n",
       "      <th>original_language</th>\n",
       "      <th>production_countries</th>\n",
       "      <th>release_date</th>\n",
       "      <th>runtime</th>\n",
       "      <th>title</th>\n",
       "    </tr>\n",
       "  </thead>\n",
       "  <tbody>\n",
       "    <tr>\n",
       "      <td>1282</td>\n",
       "      <td>David Hand</td>\n",
       "      <td>[16, 10751, 10402]</td>\n",
       "      <td>[3537, 5783, 190719]</td>\n",
       "      <td>en</td>\n",
       "      <td>[US]</td>\n",
       "      <td>1940.0</td>\n",
       "      <td>124.0</td>\n",
       "      <td>Fantasia</td>\n",
       "    </tr>\n",
       "    <tr>\n",
       "      <td>1093</td>\n",
       "      <td>Oliver Stone</td>\n",
       "      <td>[18, 10402]</td>\n",
       "      <td>[458, 496, 572, 578, 2483, 3298, 3593, 3800, 4...</td>\n",
       "      <td>en</td>\n",
       "      <td>[US]</td>\n",
       "      <td>1991.0</td>\n",
       "      <td>140.0</td>\n",
       "      <td>The Doors</td>\n",
       "    </tr>\n",
       "    <tr>\n",
       "      <td>914</td>\n",
       "      <td>George Cukor</td>\n",
       "      <td>[18, 10751, 10402, 10749]</td>\n",
       "      <td>[4344, 4375, 4485, 10786, 11411, 11707, 14514,...</td>\n",
       "      <td>en</td>\n",
       "      <td>[US]</td>\n",
       "      <td>1964.0</td>\n",
       "      <td>170.0</td>\n",
       "      <td>My Fair Lady</td>\n",
       "    </tr>\n",
       "    <tr>\n",
       "      <td>7080</td>\n",
       "      <td>Lloyd Bacon</td>\n",
       "      <td>[10402, 35, 10749]</td>\n",
       "      <td>[276, 4344, 6415, 14530, 15142, 33926, 41316, ...</td>\n",
       "      <td>en</td>\n",
       "      <td>[US]</td>\n",
       "      <td>1933.0</td>\n",
       "      <td>89.0</td>\n",
       "      <td>42nd Street</td>\n",
       "    </tr>\n",
       "    <tr>\n",
       "      <td>109374</td>\n",
       "      <td>Wes Anderson</td>\n",
       "      <td>[35, 18]</td>\n",
       "      <td>[612, 5918, 11159, 12371, 14604, 172772, 18104...</td>\n",
       "      <td>en</td>\n",
       "      <td>[GB, US, DE]</td>\n",
       "      <td>2014.0</td>\n",
       "      <td>99.0</td>\n",
       "      <td>The Grand Budapest Hotel</td>\n",
       "    </tr>\n",
       "    <tr>\n",
       "      <td>...</td>\n",
       "      <td>...</td>\n",
       "      <td>...</td>\n",
       "      <td>...</td>\n",
       "      <td>...</td>\n",
       "      <td>...</td>\n",
       "      <td>...</td>\n",
       "      <td>...</td>\n",
       "      <td>...</td>\n",
       "    </tr>\n",
       "    <tr>\n",
       "      <td>7255</td>\n",
       "      <td>Robert Luketic</td>\n",
       "      <td>[35, 10749]</td>\n",
       "      <td>[6562, 9799, 10556, 162262]</td>\n",
       "      <td>en</td>\n",
       "      <td>[US]</td>\n",
       "      <td>2004.0</td>\n",
       "      <td>95.0</td>\n",
       "      <td>Win a Date with Tad Hamilton!</td>\n",
       "    </tr>\n",
       "    <tr>\n",
       "      <td>6212</td>\n",
       "      <td>Adam Shankman</td>\n",
       "      <td>[35]</td>\n",
       "      <td>[378, 1594, 3848, 10685, 10909]</td>\n",
       "      <td>en</td>\n",
       "      <td>[US]</td>\n",
       "      <td>2003.0</td>\n",
       "      <td>105.0</td>\n",
       "      <td>Bringing Down the House</td>\n",
       "    </tr>\n",
       "    <tr>\n",
       "      <td>6006</td>\n",
       "      <td>Shawn Levy</td>\n",
       "      <td>[35]</td>\n",
       "      <td>[110, 254, 378, 657, 1295, 2587, 2676, 3098, 3...</td>\n",
       "      <td>en</td>\n",
       "      <td>[DE, US]</td>\n",
       "      <td>2003.0</td>\n",
       "      <td>95.0</td>\n",
       "      <td>Just Married</td>\n",
       "    </tr>\n",
       "    <tr>\n",
       "      <td>69604</td>\n",
       "      <td>Woody Allen</td>\n",
       "      <td>[35, 10749]</td>\n",
       "      <td>[699, 708, 965, 2487, 5950, 6038, 8778, 9622, ...</td>\n",
       "      <td>en</td>\n",
       "      <td>[FR, US]</td>\n",
       "      <td>2009.0</td>\n",
       "      <td>92.0</td>\n",
       "      <td>Whatever Works</td>\n",
       "    </tr>\n",
       "    <tr>\n",
       "      <td>61729</td>\n",
       "      <td>David Koepp</td>\n",
       "      <td>[35, 14, 10749]</td>\n",
       "      <td>[3737, 9622, 156181, 186382]</td>\n",
       "      <td>en</td>\n",
       "      <td>[US]</td>\n",
       "      <td>2008.0</td>\n",
       "      <td>102.0</td>\n",
       "      <td>Ghost Town</td>\n",
       "    </tr>\n",
       "  </tbody>\n",
       "</table>\n",
       "<p>76 rows × 8 columns</p>\n",
       "</div>"
      ],
      "text/plain": [
       "              director                     genres  \\\n",
       "1282        David Hand         [16, 10751, 10402]   \n",
       "1093      Oliver Stone                [18, 10402]   \n",
       "914       George Cukor  [18, 10751, 10402, 10749]   \n",
       "7080       Lloyd Bacon         [10402, 35, 10749]   \n",
       "109374    Wes Anderson                   [35, 18]   \n",
       "...                ...                        ...   \n",
       "7255    Robert Luketic                [35, 10749]   \n",
       "6212     Adam Shankman                       [35]   \n",
       "6006        Shawn Levy                       [35]   \n",
       "69604      Woody Allen                [35, 10749]   \n",
       "61729      David Koepp            [35, 14, 10749]   \n",
       "\n",
       "                                                 keywords original_language  \\\n",
       "1282                                 [3537, 5783, 190719]                en   \n",
       "1093    [458, 496, 572, 578, 2483, 3298, 3593, 3800, 4...                en   \n",
       "914     [4344, 4375, 4485, 10786, 11411, 11707, 14514,...                en   \n",
       "7080    [276, 4344, 6415, 14530, 15142, 33926, 41316, ...                en   \n",
       "109374  [612, 5918, 11159, 12371, 14604, 172772, 18104...                en   \n",
       "...                                                   ...               ...   \n",
       "7255                          [6562, 9799, 10556, 162262]                en   \n",
       "6212                      [378, 1594, 3848, 10685, 10909]                en   \n",
       "6006    [110, 254, 378, 657, 1295, 2587, 2676, 3098, 3...                en   \n",
       "69604   [699, 708, 965, 2487, 5950, 6038, 8778, 9622, ...                en   \n",
       "61729                        [3737, 9622, 156181, 186382]                en   \n",
       "\n",
       "       production_countries  release_date  runtime  \\\n",
       "1282                   [US]        1940.0    124.0   \n",
       "1093                   [US]        1991.0    140.0   \n",
       "914                    [US]        1964.0    170.0   \n",
       "7080                   [US]        1933.0     89.0   \n",
       "109374         [GB, US, DE]        2014.0     99.0   \n",
       "...                     ...           ...      ...   \n",
       "7255                   [US]        2004.0     95.0   \n",
       "6212                   [US]        2003.0    105.0   \n",
       "6006               [DE, US]        2003.0     95.0   \n",
       "69604              [FR, US]        2009.0     92.0   \n",
       "61729                  [US]        2008.0    102.0   \n",
       "\n",
       "                                title  \n",
       "1282                         Fantasia  \n",
       "1093                        The Doors  \n",
       "914                      My Fair Lady  \n",
       "7080                      42nd Street  \n",
       "109374       The Grand Budapest Hotel  \n",
       "...                               ...  \n",
       "7255    Win a Date with Tad Hamilton!  \n",
       "6212          Bringing Down the House  \n",
       "6006                     Just Married  \n",
       "69604                  Whatever Works  \n",
       "61729                      Ghost Town  \n",
       "\n",
       "[76 rows x 8 columns]"
      ]
     },
     "execution_count": 59,
     "metadata": {},
     "output_type": "execute_result"
    }
   ],
   "source": [
    "cluster_100.get_cluster(1, cluster_features)"
   ]
  },
  {
   "cell_type": "markdown",
   "metadata": {},
   "source": [
    "Données complètes : 50 minutes pour run"
   ]
  },
  {
   "cell_type": "code",
   "execution_count": 333,
   "metadata": {},
   "outputs": [],
   "source": [
    "cluster = hierarchical_cluster()"
   ]
  },
  {
   "cell_type": "code",
   "execution_count": 334,
   "metadata": {
    "scrolled": true
   },
   "outputs": [
    {
     "name": "stdout",
     "output_type": "stream",
     "text": [
      "Wall time: 51min 16s\n"
     ]
    }
   ],
   "source": [
    "%time cluster.train(dfm_cluster)"
   ]
  },
  {
   "cell_type": "code",
   "execution_count": 406,
   "metadata": {},
   "outputs": [
    {
     "data": {
      "text/plain": [
       "[690, 393, 26, 467, 189, 185, 116, 400, 79, 724]"
      ]
     },
     "execution_count": 406,
     "metadata": {},
     "output_type": "execute_result"
    }
   ],
   "source": [
    "cluster.set_n_clusters(10)\n",
    "cluster.get_clusters_size()"
   ]
  },
  {
   "cell_type": "code",
   "execution_count": 341,
   "metadata": {},
   "outputs": [
    {
     "name": "stdout",
     "output_type": "stream",
     "text": [
      "8  outliers\n"
     ]
    },
    {
     "data": {
      "text/plain": [
       "[469, 198, 419, 321, 118, 374, 116, 400, 580, 144]"
      ]
     },
     "execution_count": 341,
     "metadata": {},
     "output_type": "execute_result"
    }
   ],
   "source": [
    "cluster.set_n_clusters_perso(10)\n",
    "print(len(cluster_100.outliers), \" outliers\")\n",
    "cluster.get_clusters_size()"
   ]
  },
  {
   "cell_type": "code",
   "execution_count": 347,
   "metadata": {},
   "outputs": [
    {
     "data": {
      "text/plain": [
       "[690,\n",
       " 362,\n",
       " 31,\n",
       " 22,\n",
       " 4,\n",
       " 169,\n",
       " 21,\n",
       " 7,\n",
       " 27,\n",
       " 69,\n",
       " 20,\n",
       " 6,\n",
       " 2,\n",
       " 118,\n",
       " 28,\n",
       " 119,\n",
       " 44,\n",
       " 26,\n",
       " 185,\n",
       " 81,\n",
       " 10,\n",
       " 18,\n",
       " 7,\n",
       " 20,\n",
       " 18,\n",
       " 60,\n",
       " 114,\n",
       " 38,\n",
       " 60,\n",
       " 19,\n",
       " 3,\n",
       " 17,\n",
       " 9,\n",
       " 4,\n",
       " 4,\n",
       " 7,\n",
       " 4,\n",
       " 11,\n",
       " 6,\n",
       " 6,\n",
       " 79,\n",
       " 580,\n",
       " 144]"
      ]
     },
     "execution_count": 347,
     "metadata": {},
     "output_type": "execute_result"
    }
   ],
   "source": [
    "cluster.set_best_n_clusters()\n",
    "cluster.get_clusters_size()"
   ]
  },
  {
   "cell_type": "markdown",
   "metadata": {},
   "source": [
    "## Model-based recommendation system"
   ]
  },
  {
   "cell_type": "markdown",
   "metadata": {},
   "source": [
    "La matrice des notes user-item $R$ est partiellement vide. Ainsi réduire les dimensions de la matrice pourrait améliorer la complexité de nos algorithmes. Une méthode que nous pourrions avoir envie d'utiliser est la décomposision en valeurs singulières : $R = U_{svd} \\Sigma V_{svd}$. Cependant cette méthode ne s'applique pas ici étant donné que $R$ n'est pas complète et qu'on a besoin de réaliser des calculs algébriques avec $R$ pour trouver la décomposition.\n",
    "\n",
    "On considère donc un modèle dans lequel il existe des attributs décrivants les films et les préférences des utilisateurs. La matrice $R$ peut alors être factorisée en produit de deux matrices $U$ et $V$ représentant respectivement les utilisateurs et les items :\n",
    "\n",
    "$$\n",
    "R \\approx U \\times V^T\n",
    "$$\n",
    "\n",
    "avec $R \\in \\mathbb{R}^{n \\times m}$ la matrice des notes user-item, $U \\in \\mathbb{R}^{n \\times \\ell}$ la matrice des users, $V \\in \\mathbb{R}^{m \\times \\ell}$ la matrice des items et $\\ell$ le nombre d'attributs. Pour faire un rapprochement avec la SVD, on peut considerer que $U = U_{svd} \\Sigma^{1/2}$ et $V = \\Sigma^{1/2} V_{svd}$. On note $U_i$ les lignes de $U$ et $V_j$ les lignes de $V$ :\n",
    "$\n",
    "U = \\left[ \\begin{array}{c} U_1 \\\\ \\vdots \\\\ U_n \\end{array} \\right]\n",
    "$ et \n",
    "$\n",
    "V = \\left[ \\begin{array}{c} V_1 \\\\ \\vdots \\\\ V_m \\end{array} \\right]\n",
    "$\n",
    "avec $U_i^T, V_j^T \\in \\mathbb{R^\\ell}$.\n",
    "\n",
    "Dans ce modèle, chaque note $R_{ij}$ associée à un couple user-item $(i, j)$ est le résultat du produit scalaire entre la ligne associée au user $i$ dans $U$ et la ligne associée au item $j$ dans $V$ : $R_{ij} = U_i \\cdot V_j^T$. Une fois les matrices $U$ et $V$ apprises, pour prédire une note il suffira de faire le produit scalaire entre les lignes associées.\n",
    "\n",
    "Trouver $U$ et $I$ revient à minimiser l'erreur entre la note prédite $U_i \\cdot V_j^T$ et la véritable note $R_{ij}$. Il s'agit du problème de minimisation suivant, avec $E = \\{(i, j) \\mbox{ | } R_{ij} \\mbox{ connue}\\}$ :\n",
    "\n",
    "$$\n",
    "(U, V) = argmin_{(U, V)} \\sum_{(i, j) \\in E} [U_i \\cdot V_j^T - R_{ij}]^2\n",
    "$$\n",
    "\n",
    "qui est équivalent à:\n",
    "\n",
    "$$\n",
    "(U, V) = argmin_{(U, V)} \\frac{1}{2}\\sum_{(i, j) \\in E} [U_i \\cdot V_j^T - R_{ij}]^2 + \\lambda (\\|U_i\\|^2 + \\|V_j\\|^2)\n",
    "$$\n",
    "\n",
    "Le terme de droite est un terme régulateur, de paramètre $\\lambda$ à ajuster, permettant de prévenir un overfitting.\n",
    "\n",
    "Pour résoudre ce problème, nous allons utiliser une méthode de descente de gradient.\n",
    "\n",
    "\n",
    "*Pour résoudre ce problème, on peut utiliser une méthode de descente de gradient. Nous allons ensuite optimiser cette méthode en utilisant d'abord des batch, puis en se réduisant à un problème de moindre carré en fixant alternativement les matrices $U$ et $V$.*"
   ]
  },
  {
   "cell_type": "markdown",
   "metadata": {},
   "source": [
    "### Descente de gradient (à pas constant)\n",
    "\n",
    "Dans notre [cours d'optimisation](https://www.ceremade.dauphine.fr/~gontier/enseignement.html) donné par David Gontier, nous avons étudié différentes méthodes de descente de gradient de complexité et d'optimalité différentes. Cependant il nous semble qu'utiliser une version simple à pas $\\tau$ constant suffit. Il sera possible de régler cet hyper-paramètre par validation croisée. \n",
    "\n",
    "Notre fonction objective est la suivante :\n",
    "$$\n",
    "F(U, V) := \\sum_{(i, j) \\in E} \\frac{1}{2}[U_i \\cdot V_j^T - R_{ij}]^2 + \\frac{\\lambda}{2} (\\|U_i\\|^2 + \\|V_j\\|^2)\n",
    "$$\n",
    "\n",
    "Dans une descente de gradient classique, à chaque itération on met à jour $U$ et $V$ suivant la formule \n",
    "$\n",
    "(U, V) = (U, V) - \\tau \\nabla F(U, V)\n",
    "$. Cependant, dans notre cas nous n'allons pas mettre à jour toutes les lignes de $U$ et $V$ simultanément. En effet, puisque la somme dans $F$ ne se fait que sur les couples $(i, j)$ pour lesquels la note est connue, nous allons seulement mettre à jour le couple $(U_i, V_j)$ associé en itérant sur tous les couples $(i, j) \\in E$. \n",
    "\n",
    "Pour une note $R_{ij}$, on a \n",
    "$\n",
    "\\frac{\\partial F}{\\partial U_i} = V_j^T (U_i \\cdot V_j^T - R_{ij}) + \\lambda U_i\n",
    "$\n",
    " et \n",
    "$\n",
    "\\frac{\\partial F}{\\partial V_j} = Ui (U_i \\cdot V_j^T - R_{ij}) + \\lambda V_j\n",
    "$\n",
    "donc on peut mettre à jour les lignes $U_i$ et $V_j$ selon les formules \n",
    "$$\n",
    "U_i = Ui - \\tau [V_j^T (U_i \\cdot V_j^T - R_{ij}) + \\lambda U_i]\\\\\n",
    "V_j = V_j - \\tau [Ui (U_i \\cdot V_j^T - R_{ij}) + \\lambda V_j]\n",
    "$$"
   ]
  },
  {
   "cell_type": "code",
   "execution_count": null,
   "metadata": {},
   "outputs": [],
   "source": [
    "dfr = ratings.copy()\n",
    "user_rank = dfr.userId.unique().tolist()\n",
    "movie_rank = dfr.movieId.unique().tolist()\n",
    "R = [ratings.loc[ratings['userId'] == user, ['rating']].to_numpy() for user in user_rank]"
   ]
  },
  {
   "cell_type": "code",
   "execution_count": null,
   "metadata": {},
   "outputs": [],
   "source": []
  },
  {
   "cell_type": "code",
   "execution_count": null,
   "metadata": {},
   "outputs": [],
   "source": [
    "R.head()"
   ]
  },
  {
   "cell_type": "code",
   "execution_count": null,
   "metadata": {},
   "outputs": [],
   "source": [
    "n = len(R.userId.unique())\n",
    "m = len(R.movieId.unique())\n",
    "print('n:', n, 'm:', m)"
   ]
  },
  {
   "cell_type": "code",
   "execution_count": null,
   "metadata": {},
   "outputs": [],
   "source": [
    "a = R.movieId.unique()\n",
    "a.sort()\n",
    "print(a)\n",
    "R.userId.unique()[:100]"
   ]
  },
  {
   "cell_type": "markdown",
   "metadata": {},
   "source": [
    "Il se peut que tous les entiers entre 1 et $n$ (ou $m$) ne soient pas utlisés par les id des users (ou des movies). Ceci est par exemple le cas lorsqu'on travaille avec un échantillon des données. Puisque nous aimerions utiliser des numpy array dans nos calculs, il va être nécessaire d'avoir la correspondant entre les id et les indices utilisés dans les numpy array (que nous allons appeler rang). Pour cela, utilisons simplement une liste contenant les id et dont l'indice dans la liste d'un id donné correspondra au rang. Pour trouver l'id à partir d'un rang il suffira de faire un simple extraction, pour trouver le rang à partir d'un id on utilisera la méthode `index()`."
   ]
  },
  {
   "cell_type": "code",
   "execution_count": null,
   "metadata": {},
   "outputs": [],
   "source": [
    "user_rank = R.userId.unique().tolist()\n",
    "movie_rank = R.movieId.unique().tolist()"
   ]
  },
  {
   "cell_type": "markdown",
   "metadata": {},
   "source": [
    "La matrice $R$ étant vide, nous n'allons pas utiliser de matrice pour la représenter et garderons la dataframe qui ne contient que les notes connues. Nous allons également avoir besoin d'écrire une fonction `get_rat()` qui permet d'accéder à la note d'un couple de rang dans la dataframe des notes. Nous utilisons également une fonction `known()` pour construire l'ensemble $E$."
   ]
  },
  {
   "cell_type": "markdown",
   "metadata": {},
   "source": [
    "# <span style=\"color:green\"> Comparer si get_rat plus efficace avec R une dataframe ou R un numpy matrix </span>"
   ]
  },
  {
   "cell_type": "code",
   "execution_count": null,
   "metadata": {},
   "outputs": [],
   "source": [
    "def get_rat(R, i, j):\n",
    "    '''\n",
    "    Retourne la note de rang (i, j) dans la dataframe R\n",
    "    '''\n",
    "    uid, mid = user_rank[i], movie_rank[j]\n",
    "    return float(R.loc[(R['userId'] == uid) & (R['movieId'] == mid), 'rating'])"
   ]
  },
  {
   "cell_type": "code",
   "execution_count": null,
   "metadata": {},
   "outputs": [],
   "source": [
    "def known(R):\n",
    "    '''\n",
    "    Retourne l'ensemble des indices (i, j) pour lesquels la note est connue dans R\n",
    "    '''\n",
    "    ids = set(R.loc[:, ['userId', 'movieId']].itertuples(index=False, name=None))\n",
    "    E = set(map(lambda t : (user_rank.index(t[0]), movie_rank.index(t[1])), ids ))\n",
    "    return E"
   ]
  },
  {
   "cell_type": "markdown",
   "metadata": {},
   "source": [
    "Nous pouvons à présent écrire la fonction résolvant notre problème de minimisation. Remarquons qu'elle modifie les valeurs de $U$ et $V$ en place."
   ]
  },
  {
   "cell_type": "markdown",
   "metadata": {},
   "source": [
    "# <span style=\"color:green\"> Condition d'arrêt de la descente : prends trop de temps à calculer </span>"
   ]
  },
  {
   "cell_type": "code",
   "execution_count": null,
   "metadata": {},
   "outputs": [],
   "source": [
    "def compute_rmse(U, V, E):\n",
    "    predicted = np.dot(U, V.T) # the predicted rating matrix\n",
    "    \n",
    "    rmse = 0\n",
    "    nb_instances = 0\n",
    "    for (i, j) in E :\n",
    "        rmse += (predicted[i, j] - get_rat(R, i, j)) ** 2 \n",
    "        nb_instances += 1\n",
    "    return np.sqrt(rmse / nb_instances)"
   ]
  },
  {
   "cell_type": "code",
   "execution_count": null,
   "metadata": {},
   "outputs": [],
   "source": [
    "def descenteGradient(U, V, tau, tol=1e-3, Niter=100, verbose=False):\n",
    "    E = known(R)\n",
    "    last_rmse = 0\n",
    "    \n",
    "    if verbose:\n",
    "        logger = logging.getLogger()\n",
    "        logger.setLevel(logging.INFO)\n",
    "        logging.info('nombre de couples : {}'.format(len(E)))\n",
    "\n",
    "    for n in range(Niter):\n",
    "        if verbose :\n",
    "            logging.info(\"iteration: {}\".format(n))\n",
    "            logging.info('compute rmse')\n",
    "        \n",
    "        rmse = compute_rmse(U, V, E)\n",
    "        if abs(rmse - last_rmse) < tol:\n",
    "            return U, V\n",
    "        last_rmse = rmse\n",
    "\n",
    "        if verbose:\n",
    "            logging.info('update U and V')\n",
    "        \n",
    "        n_couple = 0\n",
    "        for (i, j) in E :\n",
    "            if verbose and not n_couple % 10000:\n",
    "                logging.info(\"couple number: {}\".format(n_couple))\n",
    "            n_couple += 1\n",
    "    \n",
    "            gradU = V[j].T * (np.dot(U[i], V[j].T) - get_rat(R, i, j)) + lamb * U[i]\n",
    "            gradV = U[i] * (np.dot(U[i], V[j].T) - get_rat(R, i, j)) + lamb * V[j]\n",
    "            U[i] = U[i] - tau * gradU\n",
    "            V[j] = V[j] - tau * gradV\n",
    "    print(\"Erreur, l’algorithme n’a pas convergé après\", Niter ,\" itérations\")\n",
    "    return U, V"
   ]
  },
  {
   "cell_type": "code",
   "execution_count": null,
   "metadata": {
    "scrolled": false
   },
   "outputs": [],
   "source": [
    "# hyper-paramètres à tuned\n",
    "ell = 10\n",
    "tau = 1/10\n",
    "lamb = 1/2\n",
    "U, V = np.random.rand(n, ell), np.random.rand(m, ell)\n",
    "print(U[:5, :5])\n",
    "print(V[:5, :5])"
   ]
  },
  {
   "cell_type": "code",
   "execution_count": null,
   "metadata": {
    "scrolled": true
   },
   "outputs": [],
   "source": [
    "t1 = time()\n",
    "descenteGradient(U, V, tau, verbose=True)\n",
    "t2 = time()\n",
    "print(t2-t1)"
   ]
  },
  {
   "cell_type": "code",
   "execution_count": null,
   "metadata": {
    "scrolled": true
   },
   "outputs": [],
   "source": [
    "t1 = time()\n",
    "rmse = compute_rmse(U, V, known(R))\n",
    "t2 = time()\n",
    "print(t2-t1)\n",
    "print(rmse)"
   ]
  },
  {
   "cell_type": "code",
   "execution_count": null,
   "metadata": {},
   "outputs": [],
   "source": [
    "def predict_model(uid, mid):\n",
    "    user = user_rank[uid]\n",
    "    movie = movie_rank[mid]\n",
    "    return np.dot(U[user], V[movie].T)"
   ]
  },
  {
   "cell_type": "code",
   "execution_count": null,
   "metadata": {},
   "outputs": [],
   "source": [
    "user = 3\n",
    "movie = 4\n",
    "\n",
    "print(predict_model(user, movie))"
   ]
  },
  {
   "cell_type": "markdown",
   "metadata": {},
   "source": [
    "### Cross-validation\n"
   ]
  },
  {
   "cell_type": "markdown",
   "metadata": {},
   "source": [
    "## Linear model : content-based\n",
    "\n",
    "On remarque que si $U$ ou $V$ est fixé, la fonction objective devient quadratique. Or nous connaissons des algorithmes efficaces pour minimiser des fonctions quadratiques. De plus, une matrice d'attributs des films peut être donnée puisqu'on connaît certaines informations sur les films."
   ]
  },
  {
   "cell_type": "code",
   "execution_count": null,
   "metadata": {},
   "outputs": [],
   "source": []
  }
 ],
 "metadata": {
  "kernelspec": {
   "display_name": "Python 3",
   "language": "python",
   "name": "python3"
  },
  "language_info": {
   "codemirror_mode": {
    "name": "ipython",
    "version": 3
   },
   "file_extension": ".py",
   "mimetype": "text/x-python",
   "name": "python",
   "nbconvert_exporter": "python",
   "pygments_lexer": "ipython3",
   "version": "3.7.6"
  }
 },
 "nbformat": 4,
 "nbformat_minor": 2
}
