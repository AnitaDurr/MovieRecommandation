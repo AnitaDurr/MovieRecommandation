{
 "cells": [
  {
   "cell_type": "markdown",
   "metadata": {},
   "source": [
    "# Construction d'un système de recommandation\n",
    "\n",
    "Nous avons décidé d'orienter notre projet sur la recommendation de films.\n",
    "En effet durant ce confinement, nous avons eu le temps de visionner beaucoup de films,\n",
    "mais nous nous sommes rendus compte que nous passions quasiment autant de temps\n",
    "à choisir le film qu'à le regarder. D'où la nécessité de créer un système de re-\n",
    "commendations afin d'optimiser notre temps de visionnage.\n",
    "Nous avons chercher une base de données assez exploitable afin de mener à bien\n",
    "notre projet. Nous nous sommes basés sur la base de données de 'The Movies Dataset'."
   ]
  },
  {
   "cell_type": "markdown",
   "metadata": {},
   "source": [
    "# Différents systèmes de recommandation\n",
    "\n",
    "- [x] memory-based (user- et item- based)\n",
    "- [ ] hybride\n",
    "- [ ] model-based (matrix factorisation, optimisation avec descente de gradient)\n",
    "- [x] popularity based = moyenne simple\n",
    "- [ ] user-centered linear approach = descente de gradient (même pb d'opti que model-based)\n",
    "- [ ] clustering (??)"
   ]
  },
  {
   "cell_type": "code",
   "execution_count": 18,
   "metadata": {},
   "outputs": [],
   "source": [
    "import numpy as np\n",
    "import matplotlib.pyplot as plt\n",
    "import pandas as pd\n",
    "import math\n",
    "import re\n",
    "from ast import literal_eval"
   ]
  },
  {
   "cell_type": "markdown",
   "metadata": {},
   "source": [
    "## Fetching and cleaning data\n",
    "\n",
    "Nous utilisons deux tables de données. L'une, *movies_metadata.csv*, contient une liste de films et des informations relativesau genre, date de sortie etc. "
   ]
  },
  {
   "cell_type": "markdown",
   "metadata": {},
   "source": [
    "### Informations sur les films"
   ]
  },
  {
   "cell_type": "code",
   "execution_count": 589,
   "metadata": {
    "scrolled": true
   },
   "outputs": [
    {
     "data": {
      "text/html": [
       "<div>\n",
       "<style scoped>\n",
       "    .dataframe tbody tr th:only-of-type {\n",
       "        vertical-align: middle;\n",
       "    }\n",
       "\n",
       "    .dataframe tbody tr th {\n",
       "        vertical-align: top;\n",
       "    }\n",
       "\n",
       "    .dataframe thead th {\n",
       "        text-align: right;\n",
       "    }\n",
       "</style>\n",
       "<table border=\"1\" class=\"dataframe\">\n",
       "  <thead>\n",
       "    <tr style=\"text-align: right;\">\n",
       "      <th></th>\n",
       "      <th>adult</th>\n",
       "      <th>belongs_to_collection</th>\n",
       "      <th>budget</th>\n",
       "      <th>genres</th>\n",
       "      <th>homepage</th>\n",
       "      <th>id</th>\n",
       "      <th>imdb_id</th>\n",
       "      <th>original_language</th>\n",
       "      <th>original_title</th>\n",
       "      <th>overview</th>\n",
       "      <th>...</th>\n",
       "      <th>release_date</th>\n",
       "      <th>revenue</th>\n",
       "      <th>runtime</th>\n",
       "      <th>spoken_languages</th>\n",
       "      <th>status</th>\n",
       "      <th>tagline</th>\n",
       "      <th>title</th>\n",
       "      <th>video</th>\n",
       "      <th>vote_average</th>\n",
       "      <th>vote_count</th>\n",
       "    </tr>\n",
       "  </thead>\n",
       "  <tbody>\n",
       "    <tr>\n",
       "      <th>0</th>\n",
       "      <td>False</td>\n",
       "      <td>{'id': 10194, 'name': 'Toy Story Collection', ...</td>\n",
       "      <td>30000000</td>\n",
       "      <td>[{'id': 16, 'name': 'Animation'}, {'id': 35, '...</td>\n",
       "      <td>http://toystory.disney.com/toy-story</td>\n",
       "      <td>862</td>\n",
       "      <td>tt0114709</td>\n",
       "      <td>en</td>\n",
       "      <td>Toy Story</td>\n",
       "      <td>Led by Woody, Andy's toys live happily in his ...</td>\n",
       "      <td>...</td>\n",
       "      <td>1995-10-30</td>\n",
       "      <td>373554033.0</td>\n",
       "      <td>81.0</td>\n",
       "      <td>[{'iso_639_1': 'en', 'name': 'English'}]</td>\n",
       "      <td>Released</td>\n",
       "      <td>NaN</td>\n",
       "      <td>Toy Story</td>\n",
       "      <td>False</td>\n",
       "      <td>7.7</td>\n",
       "      <td>5415.0</td>\n",
       "    </tr>\n",
       "    <tr>\n",
       "      <th>1</th>\n",
       "      <td>False</td>\n",
       "      <td>NaN</td>\n",
       "      <td>65000000</td>\n",
       "      <td>[{'id': 12, 'name': 'Adventure'}, {'id': 14, '...</td>\n",
       "      <td>NaN</td>\n",
       "      <td>8844</td>\n",
       "      <td>tt0113497</td>\n",
       "      <td>en</td>\n",
       "      <td>Jumanji</td>\n",
       "      <td>When siblings Judy and Peter discover an encha...</td>\n",
       "      <td>...</td>\n",
       "      <td>1995-12-15</td>\n",
       "      <td>262797249.0</td>\n",
       "      <td>104.0</td>\n",
       "      <td>[{'iso_639_1': 'en', 'name': 'English'}, {'iso...</td>\n",
       "      <td>Released</td>\n",
       "      <td>Roll the dice and unleash the excitement!</td>\n",
       "      <td>Jumanji</td>\n",
       "      <td>False</td>\n",
       "      <td>6.9</td>\n",
       "      <td>2413.0</td>\n",
       "    </tr>\n",
       "    <tr>\n",
       "      <th>2</th>\n",
       "      <td>False</td>\n",
       "      <td>{'id': 119050, 'name': 'Grumpy Old Men Collect...</td>\n",
       "      <td>0</td>\n",
       "      <td>[{'id': 10749, 'name': 'Romance'}, {'id': 35, ...</td>\n",
       "      <td>NaN</td>\n",
       "      <td>15602</td>\n",
       "      <td>tt0113228</td>\n",
       "      <td>en</td>\n",
       "      <td>Grumpier Old Men</td>\n",
       "      <td>A family wedding reignites the ancient feud be...</td>\n",
       "      <td>...</td>\n",
       "      <td>1995-12-22</td>\n",
       "      <td>0.0</td>\n",
       "      <td>101.0</td>\n",
       "      <td>[{'iso_639_1': 'en', 'name': 'English'}]</td>\n",
       "      <td>Released</td>\n",
       "      <td>Still Yelling. Still Fighting. Still Ready for...</td>\n",
       "      <td>Grumpier Old Men</td>\n",
       "      <td>False</td>\n",
       "      <td>6.5</td>\n",
       "      <td>92.0</td>\n",
       "    </tr>\n",
       "    <tr>\n",
       "      <th>3</th>\n",
       "      <td>False</td>\n",
       "      <td>NaN</td>\n",
       "      <td>16000000</td>\n",
       "      <td>[{'id': 35, 'name': 'Comedy'}, {'id': 18, 'nam...</td>\n",
       "      <td>NaN</td>\n",
       "      <td>31357</td>\n",
       "      <td>tt0114885</td>\n",
       "      <td>en</td>\n",
       "      <td>Waiting to Exhale</td>\n",
       "      <td>Cheated on, mistreated and stepped on, the wom...</td>\n",
       "      <td>...</td>\n",
       "      <td>1995-12-22</td>\n",
       "      <td>81452156.0</td>\n",
       "      <td>127.0</td>\n",
       "      <td>[{'iso_639_1': 'en', 'name': 'English'}]</td>\n",
       "      <td>Released</td>\n",
       "      <td>Friends are the people who let you be yourself...</td>\n",
       "      <td>Waiting to Exhale</td>\n",
       "      <td>False</td>\n",
       "      <td>6.1</td>\n",
       "      <td>34.0</td>\n",
       "    </tr>\n",
       "    <tr>\n",
       "      <th>4</th>\n",
       "      <td>False</td>\n",
       "      <td>{'id': 96871, 'name': 'Father of the Bride Col...</td>\n",
       "      <td>0</td>\n",
       "      <td>[{'id': 35, 'name': 'Comedy'}]</td>\n",
       "      <td>NaN</td>\n",
       "      <td>11862</td>\n",
       "      <td>tt0113041</td>\n",
       "      <td>en</td>\n",
       "      <td>Father of the Bride Part II</td>\n",
       "      <td>Just when George Banks has recovered from his ...</td>\n",
       "      <td>...</td>\n",
       "      <td>1995-02-10</td>\n",
       "      <td>76578911.0</td>\n",
       "      <td>106.0</td>\n",
       "      <td>[{'iso_639_1': 'en', 'name': 'English'}]</td>\n",
       "      <td>Released</td>\n",
       "      <td>Just When His World Is Back To Normal... He's ...</td>\n",
       "      <td>Father of the Bride Part II</td>\n",
       "      <td>False</td>\n",
       "      <td>5.7</td>\n",
       "      <td>173.0</td>\n",
       "    </tr>\n",
       "  </tbody>\n",
       "</table>\n",
       "<p>5 rows × 24 columns</p>\n",
       "</div>"
      ],
      "text/plain": [
       "   adult                              belongs_to_collection    budget  \\\n",
       "0  False  {'id': 10194, 'name': 'Toy Story Collection', ...  30000000   \n",
       "1  False                                                NaN  65000000   \n",
       "2  False  {'id': 119050, 'name': 'Grumpy Old Men Collect...         0   \n",
       "3  False                                                NaN  16000000   \n",
       "4  False  {'id': 96871, 'name': 'Father of the Bride Col...         0   \n",
       "\n",
       "                                              genres  \\\n",
       "0  [{'id': 16, 'name': 'Animation'}, {'id': 35, '...   \n",
       "1  [{'id': 12, 'name': 'Adventure'}, {'id': 14, '...   \n",
       "2  [{'id': 10749, 'name': 'Romance'}, {'id': 35, ...   \n",
       "3  [{'id': 35, 'name': 'Comedy'}, {'id': 18, 'nam...   \n",
       "4                     [{'id': 35, 'name': 'Comedy'}]   \n",
       "\n",
       "                               homepage     id    imdb_id original_language  \\\n",
       "0  http://toystory.disney.com/toy-story    862  tt0114709                en   \n",
       "1                                   NaN   8844  tt0113497                en   \n",
       "2                                   NaN  15602  tt0113228                en   \n",
       "3                                   NaN  31357  tt0114885                en   \n",
       "4                                   NaN  11862  tt0113041                en   \n",
       "\n",
       "                original_title  \\\n",
       "0                    Toy Story   \n",
       "1                      Jumanji   \n",
       "2             Grumpier Old Men   \n",
       "3            Waiting to Exhale   \n",
       "4  Father of the Bride Part II   \n",
       "\n",
       "                                            overview  ... release_date  \\\n",
       "0  Led by Woody, Andy's toys live happily in his ...  ...   1995-10-30   \n",
       "1  When siblings Judy and Peter discover an encha...  ...   1995-12-15   \n",
       "2  A family wedding reignites the ancient feud be...  ...   1995-12-22   \n",
       "3  Cheated on, mistreated and stepped on, the wom...  ...   1995-12-22   \n",
       "4  Just when George Banks has recovered from his ...  ...   1995-02-10   \n",
       "\n",
       "       revenue runtime                                   spoken_languages  \\\n",
       "0  373554033.0    81.0           [{'iso_639_1': 'en', 'name': 'English'}]   \n",
       "1  262797249.0   104.0  [{'iso_639_1': 'en', 'name': 'English'}, {'iso...   \n",
       "2          0.0   101.0           [{'iso_639_1': 'en', 'name': 'English'}]   \n",
       "3   81452156.0   127.0           [{'iso_639_1': 'en', 'name': 'English'}]   \n",
       "4   76578911.0   106.0           [{'iso_639_1': 'en', 'name': 'English'}]   \n",
       "\n",
       "     status                                            tagline  \\\n",
       "0  Released                                                NaN   \n",
       "1  Released          Roll the dice and unleash the excitement!   \n",
       "2  Released  Still Yelling. Still Fighting. Still Ready for...   \n",
       "3  Released  Friends are the people who let you be yourself...   \n",
       "4  Released  Just When His World Is Back To Normal... He's ...   \n",
       "\n",
       "                         title  video vote_average vote_count  \n",
       "0                    Toy Story  False          7.7     5415.0  \n",
       "1                      Jumanji  False          6.9     2413.0  \n",
       "2             Grumpier Old Men  False          6.5       92.0  \n",
       "3            Waiting to Exhale  False          6.1       34.0  \n",
       "4  Father of the Bride Part II  False          5.7      173.0  \n",
       "\n",
       "[5 rows x 24 columns]"
      ]
     },
     "execution_count": 589,
     "metadata": {},
     "output_type": "execute_result"
    }
   ],
   "source": [
    "movies = pd.read_csv(\"movies_metadata.csv\")\n",
    "movies.head()"
   ]
  },
  {
   "cell_type": "code",
   "execution_count": 476,
   "metadata": {
    "scrolled": false
   },
   "outputs": [
    {
     "data": {
      "text/html": [
       "<div>\n",
       "<style scoped>\n",
       "    .dataframe tbody tr th:only-of-type {\n",
       "        vertical-align: middle;\n",
       "    }\n",
       "\n",
       "    .dataframe tbody tr th {\n",
       "        vertical-align: top;\n",
       "    }\n",
       "\n",
       "    .dataframe thead th {\n",
       "        text-align: right;\n",
       "    }\n",
       "</style>\n",
       "<table border=\"1\" class=\"dataframe\">\n",
       "  <thead>\n",
       "    <tr style=\"text-align: right;\">\n",
       "      <th></th>\n",
       "      <th>id</th>\n",
       "    </tr>\n",
       "  </thead>\n",
       "  <tbody>\n",
       "    <tr>\n",
       "      <th>count</th>\n",
       "      <td>45433.000000</td>\n",
       "    </tr>\n",
       "    <tr>\n",
       "      <th>mean</th>\n",
       "      <td>108375.226179</td>\n",
       "    </tr>\n",
       "    <tr>\n",
       "      <th>std</th>\n",
       "      <td>112479.760366</td>\n",
       "    </tr>\n",
       "    <tr>\n",
       "      <th>min</th>\n",
       "      <td>2.000000</td>\n",
       "    </tr>\n",
       "    <tr>\n",
       "      <th>25%</th>\n",
       "      <td>26461.000000</td>\n",
       "    </tr>\n",
       "    <tr>\n",
       "      <th>50%</th>\n",
       "      <td>59996.000000</td>\n",
       "    </tr>\n",
       "    <tr>\n",
       "      <th>75%</th>\n",
       "      <td>157351.000000</td>\n",
       "    </tr>\n",
       "    <tr>\n",
       "      <th>max</th>\n",
       "      <td>469172.000000</td>\n",
       "    </tr>\n",
       "  </tbody>\n",
       "</table>\n",
       "</div>"
      ],
      "text/plain": [
       "                  id\n",
       "count   45433.000000\n",
       "mean   108375.226179\n",
       "std    112479.760366\n",
       "min         2.000000\n",
       "25%     26461.000000\n",
       "50%     59996.000000\n",
       "75%    157351.000000\n",
       "max    469172.000000"
      ]
     },
     "execution_count": 476,
     "metadata": {},
     "output_type": "execute_result"
    }
   ],
   "source": [
    "movies.describe()"
   ]
  },
  {
   "cell_type": "code",
   "execution_count": 502,
   "metadata": {},
   "outputs": [],
   "source": [
    "def filter_correct_id(word):\n",
    "    if re.fullmatch(r'[0-9]+', word):\n",
    "        return word\n",
    "    return \"wrong_id\""
   ]
  },
  {
   "cell_type": "code",
   "execution_count": 590,
   "metadata": {},
   "outputs": [],
   "source": [
    "# don't re-run\n",
    "movies = movies[~movies.id.duplicated()]\n",
    "movies.id = movies.id.apply(filter_correct_id)\n",
    "movies = movies[movies.id != \"wrong_id\"]\n",
    "movies.id = movies.id.astype('int64')"
   ]
  },
  {
   "cell_type": "markdown",
   "metadata": {},
   "source": [
    "### Avis des utilisateurs"
   ]
  },
  {
   "cell_type": "code",
   "execution_count": 15,
   "metadata": {},
   "outputs": [
    {
     "data": {
      "text/html": [
       "<div>\n",
       "<style scoped>\n",
       "    .dataframe tbody tr th:only-of-type {\n",
       "        vertical-align: middle;\n",
       "    }\n",
       "\n",
       "    .dataframe tbody tr th {\n",
       "        vertical-align: top;\n",
       "    }\n",
       "\n",
       "    .dataframe thead th {\n",
       "        text-align: right;\n",
       "    }\n",
       "</style>\n",
       "<table border=\"1\" class=\"dataframe\">\n",
       "  <thead>\n",
       "    <tr style=\"text-align: right;\">\n",
       "      <th></th>\n",
       "      <th>userId</th>\n",
       "      <th>movieId</th>\n",
       "      <th>rating</th>\n",
       "      <th>timestamp</th>\n",
       "    </tr>\n",
       "  </thead>\n",
       "  <tbody>\n",
       "    <tr>\n",
       "      <th>0</th>\n",
       "      <td>1</td>\n",
       "      <td>31</td>\n",
       "      <td>2.5</td>\n",
       "      <td>1260759144</td>\n",
       "    </tr>\n",
       "    <tr>\n",
       "      <th>1</th>\n",
       "      <td>1</td>\n",
       "      <td>1029</td>\n",
       "      <td>3.0</td>\n",
       "      <td>1260759179</td>\n",
       "    </tr>\n",
       "    <tr>\n",
       "      <th>2</th>\n",
       "      <td>1</td>\n",
       "      <td>1061</td>\n",
       "      <td>3.0</td>\n",
       "      <td>1260759182</td>\n",
       "    </tr>\n",
       "    <tr>\n",
       "      <th>3</th>\n",
       "      <td>1</td>\n",
       "      <td>1129</td>\n",
       "      <td>2.0</td>\n",
       "      <td>1260759185</td>\n",
       "    </tr>\n",
       "    <tr>\n",
       "      <th>4</th>\n",
       "      <td>1</td>\n",
       "      <td>1172</td>\n",
       "      <td>4.0</td>\n",
       "      <td>1260759205</td>\n",
       "    </tr>\n",
       "  </tbody>\n",
       "</table>\n",
       "</div>"
      ],
      "text/plain": [
       "   userId  movieId  rating   timestamp\n",
       "0       1       31     2.5  1260759144\n",
       "1       1     1029     3.0  1260759179\n",
       "2       1     1061     3.0  1260759182\n",
       "3       1     1129     2.0  1260759185\n",
       "4       1     1172     4.0  1260759205"
      ]
     },
     "execution_count": 15,
     "metadata": {},
     "output_type": "execute_result"
    }
   ],
   "source": [
    "ratings = pd.read_csv(\"ratings_small.csv\")\n",
    "ratings.head()"
   ]
  },
  {
   "cell_type": "code",
   "execution_count": 16,
   "metadata": {},
   "outputs": [
    {
     "data": {
      "text/html": [
       "<div>\n",
       "<style scoped>\n",
       "    .dataframe tbody tr th:only-of-type {\n",
       "        vertical-align: middle;\n",
       "    }\n",
       "\n",
       "    .dataframe tbody tr th {\n",
       "        vertical-align: top;\n",
       "    }\n",
       "\n",
       "    .dataframe thead th {\n",
       "        text-align: right;\n",
       "    }\n",
       "</style>\n",
       "<table border=\"1\" class=\"dataframe\">\n",
       "  <thead>\n",
       "    <tr style=\"text-align: right;\">\n",
       "      <th></th>\n",
       "      <th>userId</th>\n",
       "      <th>movieId</th>\n",
       "      <th>rating</th>\n",
       "    </tr>\n",
       "  </thead>\n",
       "  <tbody>\n",
       "    <tr>\n",
       "      <th>0</th>\n",
       "      <td>1</td>\n",
       "      <td>31</td>\n",
       "      <td>2.5</td>\n",
       "    </tr>\n",
       "    <tr>\n",
       "      <th>1</th>\n",
       "      <td>1</td>\n",
       "      <td>1029</td>\n",
       "      <td>3.0</td>\n",
       "    </tr>\n",
       "    <tr>\n",
       "      <th>2</th>\n",
       "      <td>1</td>\n",
       "      <td>1061</td>\n",
       "      <td>3.0</td>\n",
       "    </tr>\n",
       "    <tr>\n",
       "      <th>3</th>\n",
       "      <td>1</td>\n",
       "      <td>1129</td>\n",
       "      <td>2.0</td>\n",
       "    </tr>\n",
       "    <tr>\n",
       "      <th>4</th>\n",
       "      <td>1</td>\n",
       "      <td>1172</td>\n",
       "      <td>4.0</td>\n",
       "    </tr>\n",
       "  </tbody>\n",
       "</table>\n",
       "</div>"
      ],
      "text/plain": [
       "   userId  movieId  rating\n",
       "0       1       31     2.5\n",
       "1       1     1029     3.0\n",
       "2       1     1061     3.0\n",
       "3       1     1129     2.0\n",
       "4       1     1172     4.0"
      ]
     },
     "execution_count": 16,
     "metadata": {},
     "output_type": "execute_result"
    }
   ],
   "source": [
    "# ne pas re-run !\n",
    "ratings = ratings.drop(columns=['timestamp'])\n",
    "ratings.head()"
   ]
  },
  {
   "cell_type": "code",
   "execution_count": 17,
   "metadata": {},
   "outputs": [
    {
     "data": {
      "text/html": [
       "<div>\n",
       "<style scoped>\n",
       "    .dataframe tbody tr th:only-of-type {\n",
       "        vertical-align: middle;\n",
       "    }\n",
       "\n",
       "    .dataframe tbody tr th {\n",
       "        vertical-align: top;\n",
       "    }\n",
       "\n",
       "    .dataframe thead th {\n",
       "        text-align: right;\n",
       "    }\n",
       "</style>\n",
       "<table border=\"1\" class=\"dataframe\">\n",
       "  <thead>\n",
       "    <tr style=\"text-align: right;\">\n",
       "      <th></th>\n",
       "      <th>userId</th>\n",
       "      <th>movieId</th>\n",
       "      <th>rating</th>\n",
       "    </tr>\n",
       "  </thead>\n",
       "  <tbody>\n",
       "    <tr>\n",
       "      <th>0</th>\n",
       "      <td>1</td>\n",
       "      <td>31</td>\n",
       "      <td>2.5</td>\n",
       "    </tr>\n",
       "  </tbody>\n",
       "</table>\n",
       "</div>"
      ],
      "text/plain": [
       "   userId  movieId  rating\n",
       "0       1       31     2.5"
      ]
     },
     "execution_count": 17,
     "metadata": {},
     "output_type": "execute_result"
    }
   ],
   "source": [
    "ratings[(ratings['userId'] == 1) & (ratings['movieId'] == 31)]"
   ]
  },
  {
   "cell_type": "code",
   "execution_count": 18,
   "metadata": {},
   "outputs": [
    {
     "name": "stdout",
     "output_type": "stream",
     "text": [
      "0.5 5.0\n"
     ]
    },
    {
     "data": {
      "text/plain": [
       "userId       int64\n",
       "movieId      int64\n",
       "rating     float64\n",
       "dtype: object"
      ]
     },
     "execution_count": 18,
     "metadata": {},
     "output_type": "execute_result"
    }
   ],
   "source": [
    "print(min(ratings.rating), max(ratings.rating))\n",
    "ratings.describe()\n",
    "ratings.dtypes"
   ]
  },
  {
   "cell_type": "code",
   "execution_count": 19,
   "metadata": {},
   "outputs": [],
   "source": [
    "nbPers = len(ratings.userId.unique())\n",
    "nbMovi = len(ratings.movieId.unique())"
   ]
  },
  {
   "cell_type": "markdown",
   "metadata": {},
   "source": [
    "## User Based Recommandation\n",
    "\n",
    "Pour ce système, nous n'avons que besoin des notations des utilisateurs et des titres des films associés. Nous allons translater les notes afin que la moyenne des notes pour chaque utilisateur se trouve à 0. Par abus de langage nous appelons ces nouvelles notes les notes *normalisées*. "
   ]
  },
  {
   "cell_type": "code",
   "execution_count": 439,
   "metadata": {},
   "outputs": [
    {
     "name": "stdout",
     "output_type": "stream",
     "text": [
      "9066\n"
     ]
    }
   ],
   "source": [
    "print(len(ratings.movieId.unique()))\n",
    "ratings_small = ratings.loc[ratings['userId'] <= 50]"
   ]
  },
  {
   "cell_type": "code",
   "execution_count": 181,
   "metadata": {},
   "outputs": [],
   "source": [
    "def mean_user(df, uid):\n",
    "    '''\n",
    "    Retourne la moyenne des notes données par l'utilisateur d'id uid\n",
    "    '''\n",
    "    n = df.loc[ratings['userId'] == uid].count().loc['userId']\n",
    "    s = df.loc[ratings['userId'] == uid].sum().loc['rating']\n",
    "    return s / n"
   ]
  },
  {
   "cell_type": "code",
   "execution_count": 182,
   "metadata": {},
   "outputs": [],
   "source": [
    "def normalize_user(df):\n",
    "    '''\n",
    "    Ajoute une colonne dans la dataframe df contenant les notes normalisées des utilisateurs\n",
    "    '''\n",
    "    mean = df.loc[:, ['userId']].drop_duplicates()\n",
    "    mean['mu'] = mean['userId'].map(lambda uid : mean_user(df, uid))\n",
    "    mean = mean.set_index('userId')\n",
    "    df['rating_norm'] = df[['userId', 'rating']].apply(lambda row : row['rating'] -  mean.loc[int(row['userId'])]['mu'], axis=1)"
   ]
  },
  {
   "cell_type": "code",
   "execution_count": 183,
   "metadata": {},
   "outputs": [
    {
     "name": "stdout",
     "output_type": "stream",
     "text": [
      "   userId  movieId  rating  rating_norm\n",
      "0       1       31     2.5        -0.05\n",
      "1       1     1029     3.0         0.45\n",
      "2       1     1061     3.0         0.45\n",
      "3       1     1129     2.0        -0.55\n",
      "4       1     1172     4.0         1.45\n"
     ]
    },
    {
     "name": "stderr",
     "output_type": "stream",
     "text": [
      "/Users/anitaetemiliedurr/anaconda3/lib/python3.7/site-packages/ipykernel_launcher.py:8: SettingWithCopyWarning: \n",
      "A value is trying to be set on a copy of a slice from a DataFrame.\n",
      "Try using .loc[row_indexer,col_indexer] = value instead\n",
      "\n",
      "See the caveats in the documentation: http://pandas.pydata.org/pandas-docs/stable/indexing.html#indexing-view-versus-copy\n",
      "  \n"
     ]
    }
   ],
   "source": [
    "normalize_user(ratings_small)\n",
    "print(ratings_small.head())"
   ]
  },
  {
   "cell_type": "markdown",
   "metadata": {},
   "source": [
    "### Regrouper les utilisateurs dans des peer-group\n",
    "\n",
    "Pour déterminer si deux utilisateurs se ressemblent en termes de goûts, nous utilisons un taux de corrélation sur les avis données. Nous allons comparer quatres taux de corrélations différents. Le premier ```cor()``` calcule le taux de corrélation classique donné par la formule :\n",
    "$$\n",
    "cor(u, v) = \\frac{\\sum_{k \\in I_{uv}} s_{uk} s_{vk}}{\\sqrt{\\sum_{k \\in I_{uv}} s_{uk}^2}\\sqrt{\\sum_{k \\in I_{uv}} s_{vk}^2}}\n",
    "$$\n",
    "\n",
    "Le taux de corrélation ajusté ```cor_adj()``` permet de ne pas donner trop d'importance aux films populaires que beaucoup de personnes ont vu.\n",
    "\n",
    "Le taux de correlation calculé par ```cor_dis()``` permet de ne pas donner une correlation trop élevée si les deux utilisateurs n'ont pas donné assez d'avis sur des films en commun. \n",
    "\n",
    "Enfin la fonction ```cor_dis_adj()``` fait un mélange des deux dernières amélioration : il filtre les films trop populaire et n'apporte de l'importance seulement si deux personnes ont données leur avis sur un certain nombre de films."
   ]
  },
  {
   "cell_type": "code",
   "execution_count": 24,
   "metadata": {},
   "outputs": [],
   "source": [
    "def cor(u, v, df, Iuv):\n",
    "    su = df.loc[(df['userId'] == u) & (df['movieId'].isin(Iuv['movieId']))].rating_norm\n",
    "    sv = df.loc[(df['userId'] == v) & (df['movieId'].isin(Iuv['movieId']))].rating_norm\n",
    "    su = np.array(su)\n",
    "    sv = np.array(sv)\n",
    "    \n",
    "    return np.dot(su, sv) / math.sqrt(np.dot(su, su) * np.dot(sv, sv))"
   ]
  },
  {
   "cell_type": "code",
   "execution_count": 25,
   "metadata": {},
   "outputs": [],
   "source": [
    "def cor_adj(u, v, df, Iuv):\n",
    "    nb_rat = df.loc[:, ['movieId', 'rating']].groupby(['movieId']).count()\n",
    "    \n",
    "    sum_up = 0\n",
    "    sum_down_u = 0\n",
    "    sum_down_v = 0\n",
    "    for movie in Iuv.movieId.unique() :\n",
    "        suk = df.loc[(df['userId'] == u) & (df['movieId'] == movie), ['rating_norm']]\n",
    "        svk = df.loc[(df['userId'] == v) & (df['movieId'] == movie), ['rating_norm']]\n",
    "        suk, svk = float(suk), float(svk)\n",
    "        \n",
    "        sum_up += suk * svk / nb_rat.at[movie, 'rating']\n",
    "        sum_down_u += suk**2 /  nb_rat.at[movie, 'rating']\n",
    "        sum_down_v += svk**2 /  nb_rat.at[movie, 'rating']\n",
    "    return sum_up / math.sqrt(sum_down_u * sum_down_v)"
   ]
  },
  {
   "cell_type": "code",
   "execution_count": 26,
   "metadata": {},
   "outputs": [],
   "source": [
    "def cor_dis(u, v, df, Iuv):\n",
    "    beta = 20\n",
    "    correlation = cor(u, v, df, Iuv)\n",
    "    return correlation * min(len(Iuv), beta)/beta"
   ]
  },
  {
   "cell_type": "code",
   "execution_count": 27,
   "metadata": {},
   "outputs": [],
   "source": [
    "def cor_dis_adj(u, v, df, Iuv):\n",
    "    beta = 20\n",
    "    correlation = cor_adj(u, v, df, Iuv)\n",
    "    return correlation * min(len(Iuv), beta)/beta"
   ]
  },
  {
   "cell_type": "markdown",
   "metadata": {},
   "source": [
    "**Test des taux de corrélation sur les utilisateurs 2 et 3 qui ont 8 films en communs**"
   ]
  },
  {
   "cell_type": "code",
   "execution_count": 28,
   "metadata": {},
   "outputs": [
    {
     "name": "stdout",
     "output_type": "stream",
     "text": [
      "    movieId\n",
      "27      110\n",
      "49      296\n",
      "57      356\n",
      "64      377\n",
      "79      527\n",
      "88      588\n",
      "91      592\n",
      "92      593\n",
      "-0.016060945830838957\n",
      "-0.006424378332335582\n"
     ]
    }
   ],
   "source": [
    "u, v = 2, 3\n",
    "df = ratings_small\n",
    "Iu = df.loc[df['userId'] == u, ['movieId']]\n",
    "Iv = df.loc[df['userId'] == v, ['movieId']]\n",
    "Iuv = Iu.join(Iv.set_index('movieId'), on='movieId', how='inner')\n",
    "print(Iuv)\n",
    "\n",
    "print(cor(u, v, df, Iuv))\n",
    "# print(cor_adj(u, v, df))\n",
    "print(cor_dis(u, v, df, Iuv))\n",
    "# print(cor_dis_adj(u, v, df))"
   ]
  },
  {
   "cell_type": "markdown",
   "metadata": {},
   "source": [
    "Nous construisons maintenant la matrice de correlation. Puisqu'une telle matrice est symétrique, nous avons préféré utiliser une dataframe à deux entrées et ne stocker la corrélation pour un couple qu'une seule fois."
   ]
  },
  {
   "cell_type": "code",
   "execution_count": 53,
   "metadata": {},
   "outputs": [],
   "source": [
    "def uu_matrix(df, cor_fct=cor):\n",
    "    '''\n",
    "    Retourne la dataframe des taux de corrélations des utilisateurs de df\n",
    "    '''\n",
    "    correlation = []\n",
    "    users = df.userId.unique()\n",
    "    couples = []\n",
    "    for i in range(len(users)):\n",
    "        u = users[i]\n",
    "        if not u % 20 : \n",
    "            print('user:', u, end='')\n",
    "        for j in range(i + 1, len(users)):\n",
    "            v = users[j]\n",
    "            Iu = df.loc[df['userId'] == u, ['movieId']]\n",
    "            Iv = df.loc[df['userId'] == v, ['movieId']]\n",
    "            Iuv = Iu.join(Iv.set_index('movieId'), on='movieId', how='inner')\n",
    "            if Iuv.size :\n",
    "                couples.append((u, v))\n",
    "                correlation.append(cor_fct(u, v, df, Iuv))\n",
    "    index = pd.MultiIndex.from_tuples(couples, names=['u', 'v'])\n",
    "    cor = pd.DataFrame(correlation, index=index, columns=['correlation'])\n",
    "    return cor"
   ]
  },
  {
   "cell_type": "code",
   "execution_count": 54,
   "metadata": {},
   "outputs": [],
   "source": [
    "def get_cor(u, v, cm):\n",
    "    '''\n",
    "    Retourne le taux de correlation entre u et v stocké dans cm\n",
    "    '''\n",
    "    if u > v :\n",
    "        u, v = v, u\n",
    "    index = list(cm.index.values)\n",
    "    if (u, v) in index :\n",
    "        return float(cm.loc[(u, v)])\n",
    "    return float('nan')"
   ]
  },
  {
   "cell_type": "code",
   "execution_count": 55,
   "metadata": {
    "scrolled": true
   },
   "outputs": [
    {
     "name": "stderr",
     "output_type": "stream",
     "text": [
      "/Users/anitaetemiliedurr/anaconda3/lib/python3.7/site-packages/ipykernel_launcher.py:7: RuntimeWarning: invalid value encountered in double_scalars\n",
      "  import sys\n"
     ]
    },
    {
     "name": "stdout",
     "output_type": "stream",
     "text": [
      "user: 20user: 40"
     ]
    }
   ],
   "source": [
    "cm_small = uu_matrix(ratings_small)"
   ]
  },
  {
   "cell_type": "code",
   "execution_count": 56,
   "metadata": {},
   "outputs": [
    {
     "data": {
      "text/html": [
       "<div>\n",
       "<style scoped>\n",
       "    .dataframe tbody tr th:only-of-type {\n",
       "        vertical-align: middle;\n",
       "    }\n",
       "\n",
       "    .dataframe tbody tr th {\n",
       "        vertical-align: top;\n",
       "    }\n",
       "\n",
       "    .dataframe thead th {\n",
       "        text-align: right;\n",
       "    }\n",
       "</style>\n",
       "<table border=\"1\" class=\"dataframe\">\n",
       "  <thead>\n",
       "    <tr style=\"text-align: right;\">\n",
       "      <th></th>\n",
       "      <th></th>\n",
       "      <th>correlation</th>\n",
       "    </tr>\n",
       "    <tr>\n",
       "      <th>u</th>\n",
       "      <th>v</th>\n",
       "      <th></th>\n",
       "    </tr>\n",
       "  </thead>\n",
       "  <tbody>\n",
       "    <tr>\n",
       "      <th rowspan=\"5\" valign=\"top\">1</th>\n",
       "      <th>4</th>\n",
       "      <td>0.042137</td>\n",
       "    </tr>\n",
       "    <tr>\n",
       "      <th>5</th>\n",
       "      <td>-1.000000</td>\n",
       "    </tr>\n",
       "    <tr>\n",
       "      <th>7</th>\n",
       "      <td>-0.752427</td>\n",
       "    </tr>\n",
       "    <tr>\n",
       "      <th>9</th>\n",
       "      <td>1.000000</td>\n",
       "    </tr>\n",
       "    <tr>\n",
       "      <th>15</th>\n",
       "      <td>0.043773</td>\n",
       "    </tr>\n",
       "  </tbody>\n",
       "</table>\n",
       "</div>"
      ],
      "text/plain": [
       "      correlation\n",
       "u v              \n",
       "1 4      0.042137\n",
       "  5     -1.000000\n",
       "  7     -0.752427\n",
       "  9      1.000000\n",
       "  15     0.043773"
      ]
     },
     "execution_count": 56,
     "metadata": {},
     "output_type": "execute_result"
    }
   ],
   "source": [
    "cm_small.head()"
   ]
  },
  {
   "cell_type": "code",
   "execution_count": 57,
   "metadata": {},
   "outputs": [
    {
     "name": "stdout",
     "output_type": "stream",
     "text": [
      "0.042136808375910856\n",
      "0.042136808375910856\n",
      "nan\n"
     ]
    }
   ],
   "source": [
    "print(get_cor(1, 4, cm_small))\n",
    "print(get_cor(4, 1, cm_small))\n",
    "print(get_cor(2, 1, cm_small))"
   ]
  },
  {
   "cell_type": "markdown",
   "metadata": {},
   "source": [
    "Nous allons maintenant prédire la note qu'un utilisateur **u** donnerait à un film *m . Pour cela, nous allons faire la somme des notes données à l'item *i* par les k utilisateurs plus proches de u qui ont donné une note à m. Cette somme sera pondérée par les coéfficients de corrélations.\n",
    "\n",
    "$$\n",
    "\\hat{\\sigma}_{um} = \\mu_u + \\frac{\\sum_{v \\in P_u(m)} s_{vm} \\cdot cor(u, v)}{\\sum_{v \\in P_u(m)} |cor(u,v)|}\n",
    "$$\n",
    "\n",
    "Le peer-group de l'utilisateur u pour le film m est l'ensemble des k utilisateurs qui ont donné une note au film m les plus proche de l'utilisateur u en terme de taux de corrélation. "
   ]
  },
  {
   "cell_type": "code",
   "execution_count": 104,
   "metadata": {},
   "outputs": [],
   "source": [
    "def peers(user, movie, k, cm, df):\n",
    "    '''\n",
    "    Retourne les k utilisateurs du peer-group de (user, movie)\n",
    "    '''\n",
    "    top = [(float('-inf'), user)] * k\n",
    "    df_movie = df.loc[df['movieId'] == movie, ['userId', 'rating_norm']]\n",
    "    for v in df_movie.userId.unique():\n",
    "        taux = get_cor(user, v, cm)\n",
    "        if taux > top[-1][0] :\n",
    "            top += [(taux, v)]\n",
    "            top.sort(reverse=True)\n",
    "            top = top[:-1]\n",
    "    return [t[1] for t in top]"
   ]
  },
  {
   "cell_type": "code",
   "execution_count": 105,
   "metadata": {},
   "outputs": [],
   "source": [
    "def predict(user, movie, k, cm, df):\n",
    "    mu = mean_user(user)\n",
    "    peer_group = peers(user, movie, k, cm, df)\n",
    "    sum_up, sum_down = 0, 0\n",
    "    for v in peer_group:\n",
    "        cor = get_cor(user, v, cm)\n",
    "        if not math.isnan(cor):\n",
    "            svm = df.loc[(df['userId'] == v) & (df['movieId'] == movie), 'rating_norm']\n",
    "            svm = 0 if len(svm) <= 0 else float(svm)\n",
    "            sum_up += svm * cor\n",
    "            sum_down += abs(cor)\n",
    "    sum_down = 1 if sum_down == 0 else sum_down\n",
    "    return mu + sum_up / sum_down"
   ]
  },
  {
   "cell_type": "code",
   "execution_count": 106,
   "metadata": {},
   "outputs": [
    {
     "name": "stdout",
     "output_type": "stream",
     "text": [
      "[19, 2, 7, 21]\n",
      "2.9266428360943952\n",
      "      userId  movieId  rating  norm_movie\n",
      "3112      19       10     3.0    -0.45082\n",
      "3626      21       10     3.0    -0.45082\n",
      "20         2       10     4.0     0.54918\n",
      "496        7       10     3.0    -0.45082\n"
     ]
    }
   ],
   "source": [
    "user = 85\n",
    "movie = 10\n",
    "k = 4\n",
    "\n",
    "friends = peers(user, movie, k, cm_small, ratings_small)\n",
    "p = predict(user, movie, k, cm_small, ratings_small)\n",
    "print(friends)\n",
    "print(p)\n",
    "print(df.loc[(df['userId'].isin(friends)) & (df['movieId'] == 10)])"
   ]
  },
  {
   "cell_type": "markdown",
   "metadata": {},
   "source": [
    "## Item Based Recommandation\n",
    "\n",
    "Nous allons maintenant construire un système de recommandation basé sur les items. Dans le système user-based, pour prédire la note donnée par l'utilisateur *user* au film *movie*, on regardait les notes donnés à ce même film *movie* par des utilisateurs similaires à *user*. De manière analogue, dans le système item-based, pour prédire la note donnée par user à *movie*, on regarde les notes données par *user* à des films similaires à *movie*."
   ]
  },
  {
   "cell_type": "code",
   "execution_count": 107,
   "metadata": {},
   "outputs": [],
   "source": [
    "ratings_mm = ratings.loc[ratings['movieId'] <= 100]"
   ]
  },
  {
   "cell_type": "markdown",
   "metadata": {},
   "source": [
    "**Normalisation des notes données aux films par leur moyenne**"
   ]
  },
  {
   "cell_type": "code",
   "execution_count": 185,
   "metadata": {},
   "outputs": [],
   "source": [
    "def mean_movie(df, mid):\n",
    "    '''\n",
    "    Retourne la moyenne des notes données au film d'id mid\n",
    "    '''\n",
    "    n = df.loc[ratings['movieId'] == mid].count().loc['movieId']\n",
    "    s = df.loc[ratings['movieId'] == mid].sum().loc['rating']\n",
    "    return s / n"
   ]
  },
  {
   "cell_type": "code",
   "execution_count": 186,
   "metadata": {},
   "outputs": [],
   "source": [
    "def normalize_movie(df):\n",
    "    '''\n",
    "    Ajoute une colonne dans la dataframe df contenant les notes normalisées des films\n",
    "    '''\n",
    "    mean = df.loc[:, ['movieId']].drop_duplicates()\n",
    "    mean['mu'] = mean['movieId'].map(lambda mid : mean_movie(df, mid))\n",
    "    mean = mean.set_index('movieId')\n",
    "    df['norm_movie'] = df[['movieId', 'rating']].apply(lambda row : row['rating'] -  mean.loc[int(row['movieId'])]['mu'], axis=1)"
   ]
  },
  {
   "cell_type": "code",
   "execution_count": 187,
   "metadata": {},
   "outputs": [],
   "source": [
    "normalize_movie(ratings_mm)"
   ]
  },
  {
   "cell_type": "code",
   "execution_count": 111,
   "metadata": {},
   "outputs": [
    {
     "data": {
      "text/html": [
       "<div>\n",
       "<style scoped>\n",
       "    .dataframe tbody tr th:only-of-type {\n",
       "        vertical-align: middle;\n",
       "    }\n",
       "\n",
       "    .dataframe tbody tr th {\n",
       "        vertical-align: top;\n",
       "    }\n",
       "\n",
       "    .dataframe thead th {\n",
       "        text-align: right;\n",
       "    }\n",
       "</style>\n",
       "<table border=\"1\" class=\"dataframe\">\n",
       "  <thead>\n",
       "    <tr style=\"text-align: right;\">\n",
       "      <th></th>\n",
       "      <th>userId</th>\n",
       "      <th>movieId</th>\n",
       "      <th>rating</th>\n",
       "      <th>norm_movie</th>\n",
       "    </tr>\n",
       "  </thead>\n",
       "  <tbody>\n",
       "    <tr>\n",
       "      <th>44632</th>\n",
       "      <td>313</td>\n",
       "      <td>1</td>\n",
       "      <td>4.0</td>\n",
       "      <td>0.12753</td>\n",
       "    </tr>\n",
       "    <tr>\n",
       "      <th>30672</th>\n",
       "      <td>219</td>\n",
       "      <td>1</td>\n",
       "      <td>5.0</td>\n",
       "      <td>1.12753</td>\n",
       "    </tr>\n",
       "    <tr>\n",
       "      <th>92559</th>\n",
       "      <td>615</td>\n",
       "      <td>1</td>\n",
       "      <td>4.0</td>\n",
       "      <td>0.12753</td>\n",
       "    </tr>\n",
       "    <tr>\n",
       "      <th>92944</th>\n",
       "      <td>616</td>\n",
       "      <td>1</td>\n",
       "      <td>4.0</td>\n",
       "      <td>0.12753</td>\n",
       "    </tr>\n",
       "    <tr>\n",
       "      <th>59530</th>\n",
       "      <td>431</td>\n",
       "      <td>1</td>\n",
       "      <td>4.5</td>\n",
       "      <td>0.62753</td>\n",
       "    </tr>\n",
       "  </tbody>\n",
       "</table>\n",
       "</div>"
      ],
      "text/plain": [
       "       userId  movieId  rating  norm_movie\n",
       "44632     313        1     4.0     0.12753\n",
       "30672     219        1     5.0     1.12753\n",
       "92559     615        1     4.0     0.12753\n",
       "92944     616        1     4.0     0.12753\n",
       "59530     431        1     4.5     0.62753"
      ]
     },
     "execution_count": 111,
     "metadata": {},
     "output_type": "execute_result"
    }
   ],
   "source": [
    "ratings_mm = ratings_mm.sort_values(by='movieId')\n",
    "ratings_mm.head()"
   ]
  },
  {
   "cell_type": "code",
   "execution_count": 112,
   "metadata": {},
   "outputs": [],
   "source": [
    "def cor_movie(u, v, df, Iuv):\n",
    "    su = df.loc[(df['movieId'] == u) & (df['userId'].isin(Iuv['userId']))].norm_movie\n",
    "    sv = df.loc[(df['movieId'] == v) & (df['userId'].isin(Iuv['userId']))].norm_movie\n",
    "    su = np.array(su)\n",
    "    sv = np.array(sv)\n",
    "    \n",
    "    return np.dot(su, sv) / math.sqrt(np.dot(su, su) * np.dot(sv, sv))"
   ]
  },
  {
   "cell_type": "code",
   "execution_count": 119,
   "metadata": {},
   "outputs": [],
   "source": [
    "def mm_matrix(df, cor_fct=cor_movie):\n",
    "    '''\n",
    "    Retourne la dataframe des taux de corrélations des utilisateurs de df\n",
    "    '''\n",
    "    correlation = []\n",
    "    movies = df.movieId.unique()\n",
    "    couples = []\n",
    "    for i in range(len(movies)):\n",
    "        u = movies[i]\n",
    "        if not i % 20 : \n",
    "            print('movie number:', i, end=' ')\n",
    "        for j in range(i + 1, len(movies)):\n",
    "            v = movies[j]\n",
    "            Iu = df.loc[df['movieId'] == u, ['userId']]\n",
    "            Iv = df.loc[df['movieId'] == v, ['userId']]\n",
    "            Iuv = Iu.join(Iv.set_index('userId'), on='userId', how='inner')\n",
    "            if Iuv.size :\n",
    "                couples.append((u, v))\n",
    "                correlation.append(cor_fct(u, v, df, Iuv))\n",
    "    index = pd.MultiIndex.from_tuples(couples, names=['u', 'v'])\n",
    "    cor = pd.DataFrame(correlation, index=index, columns=['correlation'])\n",
    "    return cor"
   ]
  },
  {
   "cell_type": "code",
   "execution_count": 114,
   "metadata": {
    "scrolled": true
   },
   "outputs": [
    {
     "name": "stdout",
     "output_type": "stream",
     "text": [
      "movie number:  0 "
     ]
    },
    {
     "name": "stderr",
     "output_type": "stream",
     "text": [
      "/Users/anitaetemiliedurr/anaconda3/lib/python3.7/site-packages/ipykernel_launcher.py:7: RuntimeWarning: invalid value encountered in double_scalars\n",
      "  import sys\n"
     ]
    },
    {
     "name": "stdout",
     "output_type": "stream",
     "text": [
      "movie number:  1 movie number:  2 movie number:  3 movie number:  4 movie number:  5 movie number:  6 movie number:  7 movie number:  8 movie number:  9 movie number:  10 movie number:  11 movie number:  12 movie number:  13 movie number:  14 movie number:  15 movie number:  16 movie number:  17 movie number:  18 movie number:  19 movie number:  20 movie number:  21 movie number:  22 movie number:  23 movie number:  24 movie number:  25 movie number:  26 movie number:  27 movie number:  28 movie number:  29 movie number:  30 movie number:  31 movie number:  32 movie number:  33 movie number:  34 movie number:  35 movie number:  36 movie number:  37 movie number:  38 movie number:  39 movie number:  40 movie number:  41 movie number:  42 movie number:  43 movie number:  44 movie number:  45 movie number:  46 movie number:  47 movie number:  48 movie number:  49 movie number:  50 movie number:  51 movie number:  52 movie number:  53 movie number:  54 movie number:  55 movie number:  56 movie number:  57 movie number:  58 movie number:  59 movie number:  60 movie number:  61 movie number:  62 movie number:  63 movie number:  64 movie number:  65 movie number:  66 movie number:  67 movie number:  68 movie number:  69 movie number:  70 movie number:  71 movie number:  72 movie number:  73 movie number:  74 movie number:  75 movie number:  76 movie number:  77 movie number:  78 movie number:  79 movie number:  80 movie number:  81 movie number:  82 movie number:  83 movie number:  84 movie number:  85 movie number:  86 movie number:  87 movie number:  88 movie number:  89 movie number:  90 movie number:  91 movie number:  92 "
     ]
    }
   ],
   "source": [
    "cm_small = mm_matrix(ratings_mm)"
   ]
  },
  {
   "cell_type": "code",
   "execution_count": 115,
   "metadata": {},
   "outputs": [
    {
     "data": {
      "text/html": [
       "<div>\n",
       "<style scoped>\n",
       "    .dataframe tbody tr th:only-of-type {\n",
       "        vertical-align: middle;\n",
       "    }\n",
       "\n",
       "    .dataframe tbody tr th {\n",
       "        vertical-align: top;\n",
       "    }\n",
       "\n",
       "    .dataframe thead th {\n",
       "        text-align: right;\n",
       "    }\n",
       "</style>\n",
       "<table border=\"1\" class=\"dataframe\">\n",
       "  <thead>\n",
       "    <tr style=\"text-align: right;\">\n",
       "      <th></th>\n",
       "      <th></th>\n",
       "      <th>correlation</th>\n",
       "    </tr>\n",
       "    <tr>\n",
       "      <th>u</th>\n",
       "      <th>v</th>\n",
       "      <th></th>\n",
       "    </tr>\n",
       "  </thead>\n",
       "  <tbody>\n",
       "    <tr>\n",
       "      <th rowspan=\"5\" valign=\"top\">1</th>\n",
       "      <th>2</th>\n",
       "      <td>0.045297</td>\n",
       "    </tr>\n",
       "    <tr>\n",
       "      <th>3</th>\n",
       "      <td>0.153406</td>\n",
       "    </tr>\n",
       "    <tr>\n",
       "      <th>4</th>\n",
       "      <td>0.358796</td>\n",
       "    </tr>\n",
       "    <tr>\n",
       "      <th>5</th>\n",
       "      <td>-0.490730</td>\n",
       "    </tr>\n",
       "    <tr>\n",
       "      <th>6</th>\n",
       "      <td>-0.096954</td>\n",
       "    </tr>\n",
       "  </tbody>\n",
       "</table>\n",
       "</div>"
      ],
      "text/plain": [
       "     correlation\n",
       "u v             \n",
       "1 2     0.045297\n",
       "  3     0.153406\n",
       "  4     0.358796\n",
       "  5    -0.490730\n",
       "  6    -0.096954"
      ]
     },
     "execution_count": 115,
     "metadata": {},
     "output_type": "execute_result"
    }
   ],
   "source": [
    "cm_small.head()"
   ]
  },
  {
   "cell_type": "code",
   "execution_count": 116,
   "metadata": {},
   "outputs": [],
   "source": [
    "def peers_movie(user, movie, k, cm, df):\n",
    "    '''\n",
    "    Retourne les k films du peer-group de (movie, user)\n",
    "    '''\n",
    "    top = [(float('-inf'), movie)] * k\n",
    "    df_user = df.loc[df['userId'] == user, ['movieId', 'norm_movie']]\n",
    "    for v in df_user.movieId.unique():\n",
    "        taux = get_cor(movie, v, cm)\n",
    "        if taux > top[-1][0] :\n",
    "            top += [(taux, v)]\n",
    "            top.sort(reverse=True)\n",
    "            top = top[:-1]\n",
    "    return [t[1] for t in top]"
   ]
  },
  {
   "cell_type": "code",
   "execution_count": 117,
   "metadata": {},
   "outputs": [],
   "source": [
    "def predict(user, movie, k, cm, df):\n",
    "    mu = mean_movie(movie)\n",
    "    sum_up, sum_down = 0, 0\n",
    "    peer_group = peers_movie(user, movie, k, cm, df)\n",
    "    for v in peer_group:\n",
    "        cor = get_cor(movie, v, cm)\n",
    "        if not math.isnan(cor):\n",
    "            svm = df.loc[(df['movieId'] == v) & (df['userId'] == user), 'norm_movie']\n",
    "            svm = 0 if len(svm) <= 0 else float(svm)\n",
    "            sum_up += svm * cor\n",
    "            sum_down += abs(cor)\n",
    "    sum_down = 1 if sum_down == 0 else sum_down\n",
    "    return mu + sum_up / sum_down"
   ]
  },
  {
   "cell_type": "code",
   "execution_count": 118,
   "metadata": {},
   "outputs": [
    {
     "name": "stdout",
     "output_type": "stream",
     "text": [
      "[21, 5, 2, 44]\n",
      "3.742214146340207\n",
      "       userId  movieId  rating  norm_movie\n",
      "13184      85        2     5.0    1.598131\n",
      "13186      85        5     3.0   -0.267857\n",
      "13189      85       21     4.0    0.463158\n",
      "13191      85       44     2.0   -0.697368\n"
     ]
    }
   ],
   "source": [
    "cm = cm_small\n",
    "df = ratings_mm\n",
    "user = 85\n",
    "movie = 10\n",
    "k = 4\n",
    "\n",
    "friends = peers_movie(user, movie, k, cm, df)\n",
    "p = predict(user, movie, k, cm, df)\n",
    "print(friends)\n",
    "print(p)\n",
    "print(df.loc[(df['movieId'].isin(friends)) & (df['userId'] == user)])"
   ]
  },
  {
   "cell_type": "markdown",
   "metadata": {},
   "source": [
    "## Factorisation du user- et item- based\n",
    "\n",
    "Dans un système user-based, le ptype (pour peer-type) est userId et le otype (pour other-type) est movieId. Dans un système item-based c'est l'inverse. "
   ]
  },
  {
   "cell_type": "code",
   "execution_count": 422,
   "metadata": {},
   "outputs": [
    {
     "data": {
      "text/html": [
       "<div>\n",
       "<style scoped>\n",
       "    .dataframe tbody tr th:only-of-type {\n",
       "        vertical-align: middle;\n",
       "    }\n",
       "\n",
       "    .dataframe tbody tr th {\n",
       "        vertical-align: top;\n",
       "    }\n",
       "\n",
       "    .dataframe thead th {\n",
       "        text-align: right;\n",
       "    }\n",
       "</style>\n",
       "<table border=\"1\" class=\"dataframe\">\n",
       "  <thead>\n",
       "    <tr style=\"text-align: right;\">\n",
       "      <th></th>\n",
       "      <th>userId</th>\n",
       "      <th>movieId</th>\n",
       "      <th>rating</th>\n",
       "    </tr>\n",
       "  </thead>\n",
       "  <tbody>\n",
       "    <tr>\n",
       "      <th>0</th>\n",
       "      <td>1</td>\n",
       "      <td>31</td>\n",
       "      <td>2.5</td>\n",
       "    </tr>\n",
       "    <tr>\n",
       "      <th>20</th>\n",
       "      <td>2</td>\n",
       "      <td>10</td>\n",
       "      <td>4.0</td>\n",
       "    </tr>\n",
       "    <tr>\n",
       "      <th>21</th>\n",
       "      <td>2</td>\n",
       "      <td>17</td>\n",
       "      <td>5.0</td>\n",
       "    </tr>\n",
       "    <tr>\n",
       "      <th>22</th>\n",
       "      <td>2</td>\n",
       "      <td>39</td>\n",
       "      <td>5.0</td>\n",
       "    </tr>\n",
       "    <tr>\n",
       "      <th>23</th>\n",
       "      <td>2</td>\n",
       "      <td>47</td>\n",
       "      <td>4.0</td>\n",
       "    </tr>\n",
       "  </tbody>\n",
       "</table>\n",
       "</div>"
      ],
      "text/plain": [
       "    userId  movieId  rating\n",
       "0        1       31     2.5\n",
       "20       2       10     4.0\n",
       "21       2       17     5.0\n",
       "22       2       39     5.0\n",
       "23       2       47     4.0"
      ]
     },
     "execution_count": 422,
     "metadata": {},
     "output_type": "execute_result"
    }
   ],
   "source": [
    "ratings_small = ratings.loc[(ratings['userId'] <= 100) & (ratings['movieId'] <= 100)]\n",
    "ratings_small.head()"
   ]
  },
  {
   "cell_type": "markdown",
   "metadata": {},
   "source": [
    "### Normalisation"
   ]
  },
  {
   "cell_type": "code",
   "execution_count": 615,
   "metadata": {},
   "outputs": [],
   "source": [
    "def mean_base(df, pid, base):\n",
    "    '''\n",
    "    Retourne la moyenne des notes données par l'utilisateur d'id uid\n",
    "    '''\n",
    "    ptype, otype = ('userId', 'movieId') if base == 'user' else ('movieId', 'userId')\n",
    "    n = df.loc[ratings[ptype] == pid].count().loc[ptype]\n",
    "    s = df.loc[ratings[ptype] == pid].sum().loc['rating']\n",
    "    return s / n"
   ]
  },
  {
   "cell_type": "code",
   "execution_count": 424,
   "metadata": {},
   "outputs": [
    {
     "name": "stdout",
     "output_type": "stream",
     "text": [
      "3.0\n",
      "4.5\n"
     ]
    }
   ],
   "source": [
    "pid = 4\n",
    "print(mean_base(ratings_small, pid, 'movie'))\n",
    "print(mean_base(ratings_small, pid, 'user'))"
   ]
  },
  {
   "cell_type": "code",
   "execution_count": 425,
   "metadata": {},
   "outputs": [],
   "source": [
    "def normalize(df, base='user'):\n",
    "    '''\n",
    "    Ajoute une colonne dans la dataframe df contenant les notes normalisées des utilisateurs\n",
    "    '''\n",
    "    ptype, otype = ('userId', 'movieId') if base == 'user' else ('movieId', 'userId')\n",
    "    mean = df.loc[:, [ptype]].drop_duplicates()\n",
    "    mean['mu'] = mean[ptype].map(lambda pid : mean_base(df, pid, base))\n",
    "    mean = mean.set_index(ptype)\n",
    "    df['rating_norm'] = df[[ptype, 'rating']].apply(lambda row : row['rating'] -  mean.loc[int(row[ptype])]['mu'], axis=1)\n",
    "    df.sort_values(by=ptype, inplace=True)"
   ]
  },
  {
   "cell_type": "code",
   "execution_count": 426,
   "metadata": {},
   "outputs": [
    {
     "name": "stderr",
     "output_type": "stream",
     "text": [
      "/Users/anitaetemiliedurr/anaconda3/lib/python3.7/site-packages/ipykernel_launcher.py:9: SettingWithCopyWarning: \n",
      "A value is trying to be set on a copy of a slice from a DataFrame.\n",
      "Try using .loc[row_indexer,col_indexer] = value instead\n",
      "\n",
      "See the caveats in the documentation: http://pandas.pydata.org/pandas-docs/stable/indexing.html#indexing-view-versus-copy\n",
      "  if __name__ == '__main__':\n",
      "/Users/anitaetemiliedurr/anaconda3/lib/python3.7/site-packages/ipykernel_launcher.py:10: SettingWithCopyWarning: \n",
      "A value is trying to be set on a copy of a slice from a DataFrame\n",
      "\n",
      "See the caveats in the documentation: http://pandas.pydata.org/pandas-docs/stable/indexing.html#indexing-view-versus-copy\n",
      "  # Remove the CWD from sys.path while we load stuff.\n"
     ]
    }
   ],
   "source": [
    "normalize(ratings_small, 'movie')"
   ]
  },
  {
   "cell_type": "code",
   "execution_count": 427,
   "metadata": {},
   "outputs": [
    {
     "data": {
      "text/html": [
       "<div>\n",
       "<style scoped>\n",
       "    .dataframe tbody tr th:only-of-type {\n",
       "        vertical-align: middle;\n",
       "    }\n",
       "\n",
       "    .dataframe tbody tr th {\n",
       "        vertical-align: top;\n",
       "    }\n",
       "\n",
       "    .dataframe thead th {\n",
       "        text-align: right;\n",
       "    }\n",
       "</style>\n",
       "<table border=\"1\" class=\"dataframe\">\n",
       "  <thead>\n",
       "    <tr style=\"text-align: right;\">\n",
       "      <th></th>\n",
       "      <th>userId</th>\n",
       "      <th>movieId</th>\n",
       "      <th>rating</th>\n",
       "      <th>rating_norm</th>\n",
       "    </tr>\n",
       "  </thead>\n",
       "  <tbody>\n",
       "    <tr>\n",
       "      <th>12616</th>\n",
       "      <td>79</td>\n",
       "      <td>1</td>\n",
       "      <td>2.0</td>\n",
       "      <td>-1.828947</td>\n",
       "    </tr>\n",
       "    <tr>\n",
       "      <th>889</th>\n",
       "      <td>13</td>\n",
       "      <td>1</td>\n",
       "      <td>5.0</td>\n",
       "      <td>1.171053</td>\n",
       "    </tr>\n",
       "    <tr>\n",
       "      <th>962</th>\n",
       "      <td>15</td>\n",
       "      <td>1</td>\n",
       "      <td>2.0</td>\n",
       "      <td>-1.828947</td>\n",
       "    </tr>\n",
       "    <tr>\n",
       "      <th>9610</th>\n",
       "      <td>67</td>\n",
       "      <td>1</td>\n",
       "      <td>3.0</td>\n",
       "      <td>-0.828947</td>\n",
       "    </tr>\n",
       "    <tr>\n",
       "      <th>13291</th>\n",
       "      <td>86</td>\n",
       "      <td>1</td>\n",
       "      <td>3.0</td>\n",
       "      <td>-0.828947</td>\n",
       "    </tr>\n",
       "  </tbody>\n",
       "</table>\n",
       "</div>"
      ],
      "text/plain": [
       "       userId  movieId  rating  rating_norm\n",
       "12616      79        1     2.0    -1.828947\n",
       "889        13        1     5.0     1.171053\n",
       "962        15        1     2.0    -1.828947\n",
       "9610       67        1     3.0    -0.828947\n",
       "13291      86        1     3.0    -0.828947"
      ]
     },
     "execution_count": 427,
     "metadata": {},
     "output_type": "execute_result"
    }
   ],
   "source": [
    "ratings_small.head()"
   ]
  },
  {
   "cell_type": "markdown",
   "metadata": {},
   "source": [
    "### Matrice de correlation"
   ]
  },
  {
   "cell_type": "markdown",
   "metadata": {},
   "source": [
    "# Big question : on donne quoi comme correlation si su et/ou sv est nul ? J'ai mis 0 par défaut mais bon ..."
   ]
  },
  {
   "cell_type": "markdown",
   "metadata": {},
   "source": [
    "# Big question 2 : un gars ([ici](https://www.ethanrosenthal.com/2015/11/02/intro-to-collaborative-filtering/)) fait cette fonction pour calculer la matrice plus rapidement "
   ]
  },
  {
   "cell_type": "code",
   "execution_count": null,
   "metadata": {},
   "outputs": [],
   "source": [
    "def fast_similarity(ratings, kind='user', epsilon=1e-9):\n",
    "    # epsilon -> small number for handling dived-by-zero errors\n",
    "    if kind == 'user':\n",
    "        sim = ratings.dot(ratings.T) + epsilon\n",
    "    elif kind == 'item':\n",
    "        sim = ratings.T.dot(ratings) + epsilon\n",
    "    norms = np.array([np.sqrt(np.diagonal(sim))])\n",
    "    return (sim / norms / norms.T)"
   ]
  },
  {
   "cell_type": "code",
   "execution_count": 428,
   "metadata": {},
   "outputs": [],
   "source": [
    "def cor(df, u, v, Iuv, base):\n",
    "    ptype, otype = ('userId', 'movieId') if base == 'user' else ('movieId', 'userId')\n",
    "    su = df.loc[(df[ptype] == u) & (df[otype].isin(Iuv[otype]))].rating_norm\n",
    "    sv = df.loc[(df[ptype] == v) & (df[otype].isin(Iuv[otype]))].rating_norm\n",
    "    su = np.array(su)\n",
    "    sv = np.array(sv)\n",
    "    up = np.dot(su, sv)\n",
    "    down = math.sqrt(np.dot(su, su) * np.dot(sv, sv))\n",
    "    if up == 0 or down == 0:\n",
    "        return 0\n",
    "    return up/ down"
   ]
  },
  {
   "cell_type": "code",
   "execution_count": 429,
   "metadata": {},
   "outputs": [],
   "source": [
    "def cor_matrix(df, cor_fct=cor, base='user'):\n",
    "    '''\n",
    "    Retourne la dataframe des taux de corrélations des ptype de df\n",
    "    '''\n",
    "    ptype, otype = ('userId', 'movieId') if base == 'user' else ('movieId', 'userId')\n",
    "    correlation = []\n",
    "    peers = df.userId.unique() if base == 'user' else df.movieId.unique()\n",
    "    couples = []\n",
    "    for i in range(len(peers)):\n",
    "        u = peers[i]\n",
    "        if not u % 20 : \n",
    "            print('peer :', u, end='\\n')\n",
    "        for j in range(i + 1, len(peers)):\n",
    "            v = peers[j]\n",
    "            Iu = df.loc[df[ptype] == u, [otype]]\n",
    "            Iv = df.loc[df[ptype] == v, [otype]]\n",
    "            Iuv = Iu.join(Iv.set_index(otype), on=otype, how='inner')\n",
    "            if Iuv.size :\n",
    "                couples.append((u, v))\n",
    "                correlation.append(cor_fct(df, u, v, Iuv, base))\n",
    "    index = pd.MultiIndex.from_tuples(couples, names=['u', 'v'])\n",
    "    cor = pd.DataFrame(correlation, index=index, columns=['correlation'])\n",
    "    return cor"
   ]
  },
  {
   "cell_type": "code",
   "execution_count": 430,
   "metadata": {},
   "outputs": [
    {
     "name": "stdout",
     "output_type": "stream",
     "text": [
      "peer : 20\n",
      "peer : 40\n",
      "peer : 60\n",
      "peer : 100\n"
     ]
    }
   ],
   "source": [
    "cm_small = cor_matrix(ratings_small, base='movie')"
   ]
  },
  {
   "cell_type": "code",
   "execution_count": 431,
   "metadata": {},
   "outputs": [
    {
     "data": {
      "text/html": [
       "<div>\n",
       "<style scoped>\n",
       "    .dataframe tbody tr th:only-of-type {\n",
       "        vertical-align: middle;\n",
       "    }\n",
       "\n",
       "    .dataframe tbody tr th {\n",
       "        vertical-align: top;\n",
       "    }\n",
       "\n",
       "    .dataframe thead th {\n",
       "        text-align: right;\n",
       "    }\n",
       "</style>\n",
       "<table border=\"1\" class=\"dataframe\">\n",
       "  <thead>\n",
       "    <tr style=\"text-align: right;\">\n",
       "      <th></th>\n",
       "      <th></th>\n",
       "      <th>correlation</th>\n",
       "    </tr>\n",
       "    <tr>\n",
       "      <th>u</th>\n",
       "      <th>v</th>\n",
       "      <th></th>\n",
       "    </tr>\n",
       "  </thead>\n",
       "  <tbody>\n",
       "    <tr>\n",
       "      <th rowspan=\"5\" valign=\"top\">1</th>\n",
       "      <th>2</th>\n",
       "      <td>0.212100</td>\n",
       "    </tr>\n",
       "    <tr>\n",
       "      <th>3</th>\n",
       "      <td>0.535777</td>\n",
       "    </tr>\n",
       "    <tr>\n",
       "      <th>4</th>\n",
       "      <td>0.000000</td>\n",
       "    </tr>\n",
       "    <tr>\n",
       "      <th>5</th>\n",
       "      <td>0.177455</td>\n",
       "    </tr>\n",
       "    <tr>\n",
       "      <th>6</th>\n",
       "      <td>0.193060</td>\n",
       "    </tr>\n",
       "  </tbody>\n",
       "</table>\n",
       "</div>"
      ],
      "text/plain": [
       "     correlation\n",
       "u v             \n",
       "1 2     0.212100\n",
       "  3     0.535777\n",
       "  4     0.000000\n",
       "  5     0.177455\n",
       "  6     0.193060"
      ]
     },
     "execution_count": 431,
     "metadata": {},
     "output_type": "execute_result"
    }
   ],
   "source": [
    "cm_small.head()"
   ]
  },
  {
   "cell_type": "markdown",
   "metadata": {},
   "source": [
    "### Prédire une note pour un couple p/o donné"
   ]
  },
  {
   "cell_type": "code",
   "execution_count": 432,
   "metadata": {},
   "outputs": [],
   "source": [
    "def peers(df, cm, k, p, o, base='user'):\n",
    "    '''\n",
    "    Retourne les k films du peer-group de (movie, user)\n",
    "    '''\n",
    "    ptype, otype = ('userId', 'movieId') if base == 'user' else ('movieId', 'userId')\n",
    "    top = [(float('-inf'), p)] * k\n",
    "    df_peers = df.loc[df[ptype] == p, [otype, 'rating_norm']]\n",
    "    peers = df_peers.iloc[0].unique()\n",
    "    for v in peers:\n",
    "        taux = get_cor(p, v, cm)\n",
    "        if taux > top[-1][0] :\n",
    "            top += [(taux, v)]\n",
    "            top.sort(reverse=True)\n",
    "            top = top[:-1]\n",
    "    return [t[1] for t in top]"
   ]
  },
  {
   "cell_type": "code",
   "execution_count": 433,
   "metadata": {},
   "outputs": [],
   "source": [
    "def predict(df, cm, k, p, o, base='user'):\n",
    "    ptype, otype = ('userId', 'movieId') if base == 'user' else ('movieId', 'userId')\n",
    "    mu = mean_base(df, p, base)\n",
    "    peer_group = peers(df, cm, k, p, o, base)\n",
    "    sum_up, sum_down = 0, 0\n",
    "    for v in peer_group:\n",
    "        cor = get_cor(p, v, cm)\n",
    "        if not math.isnan(cor):\n",
    "            svm = df.loc[(df[ptype] == v) & (df[otype] == o), 'rating_norm']\n",
    "            svm = 0 if len(svm) <= 0 else float(svm)\n",
    "            sum_up += svm * cor\n",
    "            sum_down += abs(cor)\n",
    "    sum_down = 1 if sum_down == 0 else sum_down\n",
    "    return mu + sum_up / sum_down"
   ]
  },
  {
   "cell_type": "code",
   "execution_count": 434,
   "metadata": {},
   "outputs": [
    {
     "name": "stdout",
     "output_type": "stream",
     "text": [
      "[85, 85, 85, 85]\n",
      "3.111111111111111\n",
      "Empty DataFrame\n",
      "Columns: [userId, movieId, rating, rating_norm]\n",
      "Index: []\n"
     ]
    }
   ],
   "source": [
    "df = ratings_small\n",
    "cm = cm_small\n",
    "user = 85\n",
    "movie = 10\n",
    "k = 4\n",
    "\n",
    "friends = peers(df, cm, k, user, movie, base='user')\n",
    "p = predict(df, cm , k, user, movie, base='user')\n",
    "print(friends)\n",
    "print(p)\n",
    "print(df.loc[(df['movieId'].isin(friends)) & (df['userId'] == user)])"
   ]
  },
  {
   "cell_type": "code",
   "execution_count": null,
   "metadata": {},
   "outputs": [],
   "source": [
    "full_rat = ratings\n",
    "normalize(full_rat)\n",
    "full_rat.head()"
   ]
  },
  {
   "cell_type": "code",
   "execution_count": null,
   "metadata": {},
   "outputs": [],
   "source": [
    "full_cm = uu_matrix(full_rat)"
   ]
  },
  {
   "cell_type": "markdown",
   "metadata": {},
   "source": [
    "### Recommand top 10 movies to user"
   ]
  },
  {
   "cell_type": "code",
   "execution_count": null,
   "metadata": {},
   "outputs": [],
   "source": []
  },
  {
   "cell_type": "markdown",
   "metadata": {},
   "source": [
    "## Top films par genres"
   ]
  },
  {
   "cell_type": "markdown",
   "metadata": {},
   "source": [
    "### Selection des genres"
   ]
  },
  {
   "cell_type": "code",
   "execution_count": 670,
   "metadata": {},
   "outputs": [
    {
     "data": {
      "text/html": [
       "<div>\n",
       "<style scoped>\n",
       "    .dataframe tbody tr th:only-of-type {\n",
       "        vertical-align: middle;\n",
       "    }\n",
       "\n",
       "    .dataframe tbody tr th {\n",
       "        vertical-align: top;\n",
       "    }\n",
       "\n",
       "    .dataframe thead th {\n",
       "        text-align: right;\n",
       "    }\n",
       "</style>\n",
       "<table border=\"1\" class=\"dataframe\">\n",
       "  <thead>\n",
       "    <tr style=\"text-align: right;\">\n",
       "      <th></th>\n",
       "      <th>movieId</th>\n",
       "      <th>genres</th>\n",
       "      <th>title</th>\n",
       "    </tr>\n",
       "  </thead>\n",
       "  <tbody>\n",
       "    <tr>\n",
       "      <th>0</th>\n",
       "      <td>862</td>\n",
       "      <td>[Animation, Comedy, Family]</td>\n",
       "      <td>Toy Story</td>\n",
       "    </tr>\n",
       "    <tr>\n",
       "      <th>1</th>\n",
       "      <td>8844</td>\n",
       "      <td>[Adventure, Fantasy, Family]</td>\n",
       "      <td>Jumanji</td>\n",
       "    </tr>\n",
       "    <tr>\n",
       "      <th>2</th>\n",
       "      <td>15602</td>\n",
       "      <td>[Romance, Comedy]</td>\n",
       "      <td>Grumpier Old Men</td>\n",
       "    </tr>\n",
       "    <tr>\n",
       "      <th>3</th>\n",
       "      <td>31357</td>\n",
       "      <td>[Comedy, Drama, Romance]</td>\n",
       "      <td>Waiting to Exhale</td>\n",
       "    </tr>\n",
       "    <tr>\n",
       "      <th>4</th>\n",
       "      <td>11862</td>\n",
       "      <td>[Comedy]</td>\n",
       "      <td>Father of the Bride Part II</td>\n",
       "    </tr>\n",
       "  </tbody>\n",
       "</table>\n",
       "</div>"
      ],
      "text/plain": [
       "   movieId                        genres                        title\n",
       "0      862   [Animation, Comedy, Family]                    Toy Story\n",
       "1     8844  [Adventure, Fantasy, Family]                      Jumanji\n",
       "2    15602             [Romance, Comedy]             Grumpier Old Men\n",
       "3    31357      [Comedy, Drama, Romance]            Waiting to Exhale\n",
       "4    11862                      [Comedy]  Father of the Bride Part II"
      ]
     },
     "execution_count": 670,
     "metadata": {},
     "output_type": "execute_result"
    }
   ],
   "source": [
    "movies = movies.rename(columns={'id' : 'movieId'})\n",
    "movies = movies.loc[:, ['movieId', 'genres', 'title']]\n",
    "movies.head()"
   ]
  },
  {
   "cell_type": "code",
   "execution_count": 671,
   "metadata": {},
   "outputs": [
    {
     "data": {
      "text/html": [
       "<div>\n",
       "<style scoped>\n",
       "    .dataframe tbody tr th:only-of-type {\n",
       "        vertical-align: middle;\n",
       "    }\n",
       "\n",
       "    .dataframe tbody tr th {\n",
       "        vertical-align: top;\n",
       "    }\n",
       "\n",
       "    .dataframe thead th {\n",
       "        text-align: right;\n",
       "    }\n",
       "</style>\n",
       "<table border=\"1\" class=\"dataframe\">\n",
       "  <thead>\n",
       "    <tr style=\"text-align: right;\">\n",
       "      <th></th>\n",
       "      <th>movieId</th>\n",
       "      <th>genres</th>\n",
       "      <th>title</th>\n",
       "    </tr>\n",
       "  </thead>\n",
       "  <tbody>\n",
       "    <tr>\n",
       "      <th>0</th>\n",
       "      <td>862</td>\n",
       "      <td>[Animation, Comedy, Family]</td>\n",
       "      <td>Toy Story</td>\n",
       "    </tr>\n",
       "    <tr>\n",
       "      <th>1</th>\n",
       "      <td>8844</td>\n",
       "      <td>[Adventure, Fantasy, Family]</td>\n",
       "      <td>Jumanji</td>\n",
       "    </tr>\n",
       "    <tr>\n",
       "      <th>2</th>\n",
       "      <td>15602</td>\n",
       "      <td>[Romance, Comedy]</td>\n",
       "      <td>Grumpier Old Men</td>\n",
       "    </tr>\n",
       "    <tr>\n",
       "      <th>3</th>\n",
       "      <td>31357</td>\n",
       "      <td>[Comedy, Drama, Romance]</td>\n",
       "      <td>Waiting to Exhale</td>\n",
       "    </tr>\n",
       "    <tr>\n",
       "      <th>4</th>\n",
       "      <td>11862</td>\n",
       "      <td>[Comedy]</td>\n",
       "      <td>Father of the Bride Part II</td>\n",
       "    </tr>\n",
       "  </tbody>\n",
       "</table>\n",
       "</div>"
      ],
      "text/plain": [
       "   movieId                        genres                        title\n",
       "0      862   [Animation, Comedy, Family]                    Toy Story\n",
       "1     8844  [Adventure, Fantasy, Family]                      Jumanji\n",
       "2    15602             [Romance, Comedy]             Grumpier Old Men\n",
       "3    31357      [Comedy, Drama, Romance]            Waiting to Exhale\n",
       "4    11862                      [Comedy]  Father of the Bride Part II"
      ]
     },
     "execution_count": 671,
     "metadata": {},
     "output_type": "execute_result"
    }
   ],
   "source": [
    "def simplify_genre(l):\n",
    "    if len(l) <= 0 :\n",
    "        return []\n",
    "    if isinstance(l[0], dict):\n",
    "        return [d['name'] for d in l]\n",
    "    return l\n",
    "\n",
    "movies['genres'] = movies['genres'].apply(lambda x: literal_eval(x) if isinstance(x, str) else x).apply(simplify_genre)\n",
    "movies.head()"
   ]
  },
  {
   "cell_type": "markdown",
   "metadata": {},
   "source": [
    "### Normaliser les notes sur toutes les données"
   ]
  },
  {
   "cell_type": "code",
   "execution_count": 672,
   "metadata": {},
   "outputs": [
    {
     "name": "stderr",
     "output_type": "stream",
     "text": [
      "/Users/anitaetemiliedurr/anaconda3/lib/python3.7/site-packages/ipykernel_launcher.py:2: SettingWithCopyWarning: \n",
      "A value is trying to be set on a copy of a slice from a DataFrame.\n",
      "Try using .loc[row_indexer,col_indexer] = value instead\n",
      "\n",
      "See the caveats in the documentation: http://pandas.pydata.org/pandas-docs/stable/indexing.html#indexing-view-versus-copy\n",
      "  \n"
     ]
    }
   ],
   "source": [
    "movies_small = movies.loc[movies['movieId'] <= 100]\n",
    "movies_small['mean_rating'] = movies_small['movieId'].apply(lambda x: mean_base(ratings, x, 'movie'))"
   ]
  },
  {
   "cell_type": "code",
   "execution_count": 673,
   "metadata": {},
   "outputs": [
    {
     "data": {
      "text/html": [
       "<div>\n",
       "<style scoped>\n",
       "    .dataframe tbody tr th:only-of-type {\n",
       "        vertical-align: middle;\n",
       "    }\n",
       "\n",
       "    .dataframe tbody tr th {\n",
       "        vertical-align: top;\n",
       "    }\n",
       "\n",
       "    .dataframe thead th {\n",
       "        text-align: right;\n",
       "    }\n",
       "</style>\n",
       "<table border=\"1\" class=\"dataframe\">\n",
       "  <thead>\n",
       "    <tr style=\"text-align: right;\">\n",
       "      <th></th>\n",
       "      <th>movieId</th>\n",
       "      <th>genres</th>\n",
       "      <th>title</th>\n",
       "      <th>mean_rating</th>\n",
       "    </tr>\n",
       "  </thead>\n",
       "  <tbody>\n",
       "    <tr>\n",
       "      <th>17</th>\n",
       "      <td>5</td>\n",
       "      <td>[Crime, Comedy]</td>\n",
       "      <td>Four Rooms</td>\n",
       "      <td>3.267857</td>\n",
       "    </tr>\n",
       "    <tr>\n",
       "      <th>31</th>\n",
       "      <td>63</td>\n",
       "      <td>[Science Fiction, Thriller, Mystery]</td>\n",
       "      <td>Twelve Monkeys</td>\n",
       "      <td>2.833333</td>\n",
       "    </tr>\n",
       "    <tr>\n",
       "      <th>212</th>\n",
       "      <td>76</td>\n",
       "      <td>[Drama, Romance]</td>\n",
       "      <td>Before Sunrise</td>\n",
       "      <td>3.333333</td>\n",
       "    </tr>\n",
       "    <tr>\n",
       "      <th>256</th>\n",
       "      <td>11</td>\n",
       "      <td>[Adventure, Action, Science Fiction]</td>\n",
       "      <td>Star Wars</td>\n",
       "      <td>3.689024</td>\n",
       "    </tr>\n",
       "    <tr>\n",
       "      <th>351</th>\n",
       "      <td>13</td>\n",
       "      <td>[Comedy, Drama, Romance]</td>\n",
       "      <td>Forrest Gump</td>\n",
       "      <td>3.937500</td>\n",
       "    </tr>\n",
       "  </tbody>\n",
       "</table>\n",
       "</div>"
      ],
      "text/plain": [
       "     movieId                                genres           title  \\\n",
       "17         5                       [Crime, Comedy]      Four Rooms   \n",
       "31        63  [Science Fiction, Thriller, Mystery]  Twelve Monkeys   \n",
       "212       76                      [Drama, Romance]  Before Sunrise   \n",
       "256       11  [Adventure, Action, Science Fiction]       Star Wars   \n",
       "351       13              [Comedy, Drama, Romance]    Forrest Gump   \n",
       "\n",
       "     mean_rating  \n",
       "17      3.267857  \n",
       "31      2.833333  \n",
       "212     3.333333  \n",
       "256     3.689024  \n",
       "351     3.937500  "
      ]
     },
     "execution_count": 673,
     "metadata": {},
     "output_type": "execute_result"
    }
   ],
   "source": [
    "movies_small.head()"
   ]
  },
  {
   "cell_type": "code",
   "execution_count": 674,
   "metadata": {},
   "outputs": [],
   "source": [
    "movies_small = movies_small.sort_values(by='mean_rating', ascending=False)"
   ]
  },
  {
   "cell_type": "code",
   "execution_count": 675,
   "metadata": {},
   "outputs": [
    {
     "data": {
      "text/html": [
       "<div>\n",
       "<style scoped>\n",
       "    .dataframe tbody tr th:only-of-type {\n",
       "        vertical-align: middle;\n",
       "    }\n",
       "\n",
       "    .dataframe tbody tr th {\n",
       "        vertical-align: top;\n",
       "    }\n",
       "\n",
       "    .dataframe thead th {\n",
       "        text-align: right;\n",
       "    }\n",
       "</style>\n",
       "<table border=\"1\" class=\"dataframe\">\n",
       "  <thead>\n",
       "    <tr style=\"text-align: right;\">\n",
       "      <th></th>\n",
       "      <th>movieId</th>\n",
       "      <th>genres</th>\n",
       "      <th>title</th>\n",
       "      <th>mean_rating</th>\n",
       "    </tr>\n",
       "  </thead>\n",
       "  <tbody>\n",
       "    <tr>\n",
       "      <th>7911</th>\n",
       "      <td>80</td>\n",
       "      <td>[Drama, Romance]</td>\n",
       "      <td>Before Sunset</td>\n",
       "      <td>4.625000</td>\n",
       "    </tr>\n",
       "    <tr>\n",
       "      <th>2216</th>\n",
       "      <td>73</td>\n",
       "      <td>[Drama]</td>\n",
       "      <td>American History X</td>\n",
       "      <td>4.115385</td>\n",
       "    </tr>\n",
       "    <tr>\n",
       "      <th>9769</th>\n",
       "      <td>26</td>\n",
       "      <td>[Drama]</td>\n",
       "      <td>Walk on Water</td>\n",
       "      <td>4.100000</td>\n",
       "    </tr>\n",
       "    <tr>\n",
       "      <th>1165</th>\n",
       "      <td>28</td>\n",
       "      <td>[Drama, War]</td>\n",
       "      <td>Apocalypse Now</td>\n",
       "      <td>4.083333</td>\n",
       "    </tr>\n",
       "    <tr>\n",
       "      <th>1156</th>\n",
       "      <td>85</td>\n",
       "      <td>[Adventure, Action]</td>\n",
       "      <td>Raiders of the Lost Ark</td>\n",
       "      <td>4.062500</td>\n",
       "    </tr>\n",
       "  </tbody>\n",
       "</table>\n",
       "</div>"
      ],
      "text/plain": [
       "      movieId               genres                    title  mean_rating\n",
       "7911       80     [Drama, Romance]            Before Sunset     4.625000\n",
       "2216       73              [Drama]       American History X     4.115385\n",
       "9769       26              [Drama]            Walk on Water     4.100000\n",
       "1165       28         [Drama, War]           Apocalypse Now     4.083333\n",
       "1156       85  [Adventure, Action]  Raiders of the Lost Ark     4.062500"
      ]
     },
     "execution_count": 675,
     "metadata": {},
     "output_type": "execute_result"
    }
   ],
   "source": [
    "movies_small.head()"
   ]
  },
  {
   "cell_type": "code",
   "execution_count": 694,
   "metadata": {},
   "outputs": [
    {
     "data": {
      "text/html": [
       "<div>\n",
       "<style scoped>\n",
       "    .dataframe tbody tr th:only-of-type {\n",
       "        vertical-align: middle;\n",
       "    }\n",
       "\n",
       "    .dataframe tbody tr th {\n",
       "        vertical-align: top;\n",
       "    }\n",
       "\n",
       "    .dataframe thead th {\n",
       "        text-align: right;\n",
       "    }\n",
       "</style>\n",
       "<table border=\"1\" class=\"dataframe\">\n",
       "  <thead>\n",
       "    <tr style=\"text-align: right;\">\n",
       "      <th></th>\n",
       "      <th>movieId</th>\n",
       "      <th>title</th>\n",
       "      <th>mean_rating</th>\n",
       "      <th>genres</th>\n",
       "    </tr>\n",
       "  </thead>\n",
       "  <tbody>\n",
       "    <tr>\n",
       "      <th>17</th>\n",
       "      <td>5</td>\n",
       "      <td>Four Rooms</td>\n",
       "      <td>3.267857</td>\n",
       "      <td>Crime</td>\n",
       "    </tr>\n",
       "    <tr>\n",
       "      <th>17</th>\n",
       "      <td>5</td>\n",
       "      <td>Four Rooms</td>\n",
       "      <td>3.267857</td>\n",
       "      <td>Comedy</td>\n",
       "    </tr>\n",
       "    <tr>\n",
       "      <th>31</th>\n",
       "      <td>63</td>\n",
       "      <td>Twelve Monkeys</td>\n",
       "      <td>2.833333</td>\n",
       "      <td>Science Fiction</td>\n",
       "    </tr>\n",
       "    <tr>\n",
       "      <th>31</th>\n",
       "      <td>63</td>\n",
       "      <td>Twelve Monkeys</td>\n",
       "      <td>2.833333</td>\n",
       "      <td>Thriller</td>\n",
       "    </tr>\n",
       "    <tr>\n",
       "      <th>31</th>\n",
       "      <td>63</td>\n",
       "      <td>Twelve Monkeys</td>\n",
       "      <td>2.833333</td>\n",
       "      <td>Mystery</td>\n",
       "    </tr>\n",
       "  </tbody>\n",
       "</table>\n",
       "</div>"
      ],
      "text/plain": [
       "    movieId           title  mean_rating           genres\n",
       "17        5      Four Rooms     3.267857            Crime\n",
       "17        5      Four Rooms     3.267857           Comedy\n",
       "31       63  Twelve Monkeys     2.833333  Science Fiction\n",
       "31       63  Twelve Monkeys     2.833333         Thriller\n",
       "31       63  Twelve Monkeys     2.833333          Mystery"
      ]
     },
     "execution_count": 694,
     "metadata": {},
     "output_type": "execute_result"
    }
   ],
   "source": [
    "# 1 genre par ligne\n",
    "serie = movies_small.apply(lambda x: pd.Series(x['genres']),axis=1).stack().reset_index(level=1, drop=True)\n",
    "serie.name = 'genres'\n",
    "df_simpl = movies_small.drop('genres', axis=1).join(serie)\n",
    "df_simpl.head()"
   ]
  },
  {
   "cell_type": "code",
   "execution_count": 697,
   "metadata": {},
   "outputs": [],
   "source": [
    "def top(df_simpl, genres):\n",
    "    # selection des films par genre\n",
    "    df_genres = df_simpl.loc[df_simpl['genres'].isin(genres)]\n",
    "    df_genres = df_genres.sort_values(by='mean_rating', ascending=False)\n",
    "    return df_genres"
   ]
  },
  {
   "cell_type": "code",
   "execution_count": 700,
   "metadata": {},
   "outputs": [
    {
     "data": {
      "text/html": [
       "<div>\n",
       "<style scoped>\n",
       "    .dataframe tbody tr th:only-of-type {\n",
       "        vertical-align: middle;\n",
       "    }\n",
       "\n",
       "    .dataframe tbody tr th {\n",
       "        vertical-align: top;\n",
       "    }\n",
       "\n",
       "    .dataframe thead th {\n",
       "        text-align: right;\n",
       "    }\n",
       "</style>\n",
       "<table border=\"1\" class=\"dataframe\">\n",
       "  <thead>\n",
       "    <tr style=\"text-align: right;\">\n",
       "      <th></th>\n",
       "      <th>movieId</th>\n",
       "      <th>title</th>\n",
       "      <th>mean_rating</th>\n",
       "      <th>genres</th>\n",
       "    </tr>\n",
       "  </thead>\n",
       "  <tbody>\n",
       "    <tr>\n",
       "      <th>7911</th>\n",
       "      <td>80</td>\n",
       "      <td>Before Sunset</td>\n",
       "      <td>4.625000</td>\n",
       "      <td>Drama</td>\n",
       "    </tr>\n",
       "    <tr>\n",
       "      <th>2216</th>\n",
       "      <td>73</td>\n",
       "      <td>American History X</td>\n",
       "      <td>4.115385</td>\n",
       "      <td>Drama</td>\n",
       "    </tr>\n",
       "    <tr>\n",
       "      <th>9769</th>\n",
       "      <td>26</td>\n",
       "      <td>Walk on Water</td>\n",
       "      <td>4.100000</td>\n",
       "      <td>Drama</td>\n",
       "    </tr>\n",
       "    <tr>\n",
       "      <th>1165</th>\n",
       "      <td>28</td>\n",
       "      <td>Apocalypse Now</td>\n",
       "      <td>4.083333</td>\n",
       "      <td>Drama</td>\n",
       "    </tr>\n",
       "    <tr>\n",
       "      <th>10387</th>\n",
       "      <td>59</td>\n",
       "      <td>A History of Violence</td>\n",
       "      <td>4.000000</td>\n",
       "      <td>Drama</td>\n",
       "    </tr>\n",
       "  </tbody>\n",
       "</table>\n",
       "</div>"
      ],
      "text/plain": [
       "       movieId                  title  mean_rating genres\n",
       "7911        80          Before Sunset     4.625000  Drama\n",
       "2216        73     American History X     4.115385  Drama\n",
       "9769        26          Walk on Water     4.100000  Drama\n",
       "1165        28         Apocalypse Now     4.083333  Drama\n",
       "10387       59  A History of Violence     4.000000  Drama"
      ]
     },
     "execution_count": 700,
     "metadata": {},
     "output_type": "execute_result"
    }
   ],
   "source": [
    "top(df_simpl, ['Drama', 'Comedy']).head()"
   ]
  },
  {
   "cell_type": "markdown",
   "metadata": {},
   "source": [
    "## Recommandation hybride"
   ]
  },
  {
   "cell_type": "code",
   "execution_count": null,
   "metadata": {},
   "outputs": [],
   "source": []
  },
  {
   "cell_type": "markdown",
   "metadata": {},
   "source": [
    "## Model-based recommendation system\n",
    "\n",
    "Aide :\n",
    "https://towardsdatascience.com/introduction-to-recommender-systems-6c66cf15ada"
   ]
  },
  {
   "cell_type": "markdown",
   "metadata": {},
   "source": [
    "La matrice des notes user-item $R$ est partiellement vide. Ainsi réduire les dimensions de la matrice pourrait améliorer la complexité de nos algorithmes. Une méthode que nous pourrions avoir envie d'utiliser est la décomposision en valeurs singulières : $R = U_{svd} \\Sigma V_{svd}$. Cependant cette méthode ne s'applique pas ici étant donné que $R$ n'est pas complète et qu'on a besoin de réaliser des calculs algébriques avec $R$ pour trouver la décomposition.\n",
    "\n",
    "On considère donc un modèle dans lequel il existe des attributs décrivants les films et les préférences des utilisateurs. La matrice $R$ peut alors être factorisée en produit de deux matrices $U$ et $V$ représentant respectivement les utilisateurs et les items :\n",
    "\n",
    "$$\n",
    "R \\approx U \\times V^T\n",
    "$$\n",
    "\n",
    "avec $R \\in \\mathbb{R}^{n \\times m}$ la matrice des notes user-item, $U \\in \\mathbb{R}^{n \\times \\ell}$ la matrice des users, $V \\in \\mathbb{R}^{m \\times \\ell}$ la matrice des items et $\\ell$ le nombre d'attributs. Pour faire un rapprochement avec la SVD, on peut considerer que $U = U_{svd} \\Sigma^{1/2}$ et $V = \\Sigma^{1/2} V_{svd}$. On note $U_i$ les lignes de $U$ et $V_j$ les lignes de $V$ :\n",
    "$\n",
    "U = \\left[ \\begin{array}{c} U_1 \\\\ \\vdots \\\\ U_n \\end{array} \\right]\n",
    "$ et \n",
    "$\n",
    "V = \\left[ \\begin{array}{c} V_1 \\\\ \\vdots \\\\ V_m \\end{array} \\right]\n",
    "$\n",
    "avec $U_i^T, V_j^T \\in \\mathbb{R^\\ell}$.\n",
    "\n",
    "Dans ce modèle, chaque note $R_{ij}$ associée à un couple user-item $(i, j)$ est le résultat du produit scalaire entre la ligne associée au user $i$ dans $U$ et la ligne associée au item $j$ dans $V$ : $R_{ij} = U_i \\cdot V_j^T$. Une fois les matrices $U$ et $V$ apprises, pour prédire une note il suffira de faire le produit scalaire entre les lignes associées.\n",
    "\n",
    "Trouver $U$ et $I$ revient à minimiser l'erreur entre la note prédite $U_i \\cdot V_j^T$ et la véritable note $R_{ij}$. Il s'agit du problème de minimisation suivant, avec $E = \\{(i, j) \\mbox{ | } R_{ij} \\mbox{ connue}\\}$ :\n",
    "\n",
    "$$\n",
    "(U, V) = argmin_{(U, V)} \\sum_{(i, j) \\in E} [U_i \\cdot V_j^T - R_{ij}]^2\n",
    "$$\n",
    "\n",
    "qui est équivalent à:\n",
    "\n",
    "$$\n",
    "(U, V) = argmin_{(U, V)} \\frac{1}{2}\\sum_{(i, j) \\in E} [U_i \\cdot V_j^T - R_{ij}]^2 + \\lambda (\\|U_i\\|^2 + \\|V_j\\|^2)\n",
    "$$\n",
    "\n",
    "Le terme de droite est un terme régulateur, de paramètre $\\lambda$ à ajuster, permettant de prévenir un overfitting.\n",
    "\n",
    "Pour résoudre ce problème, nous allons utiliser une méthode de descente de gradient.\n",
    "\n",
    "\n",
    "*Pour résoudre ce problème, on peut utiliser une méthode de descente de gradient. Nous allons ensuite optimiser cette méthode en utilisant d'abord des batch, puis en se réduisant à un problème de moindre carré en fixant alternativement les matrices $U$ et $V$.*"
   ]
  },
  {
   "cell_type": "markdown",
   "metadata": {},
   "source": [
    "### Descente de gradient (à pas constant)\n",
    "\n",
    "Dans notre [cours d'optimisation](https://www.ceremade.dauphine.fr/~gontier/enseignement.html) donné par David Gontier, nous avons étudié différentes méthodes de descente de gradient de complexité et d'optimalité différentes. Cependant il nous semble qu'utiliser une version simple à pas $\\tau$ constant suffit. Il sera possible de régler cet hyper-paramètre par validation croisée. \n",
    "\n",
    "Notre fonction objective est \n",
    "$$\n",
    "F(U, V) := \\sum_{(i, j) \\in E} F_{ij}(U, V)\n",
    "$$\n",
    "\n",
    "où \n",
    "$$\n",
    "F_{ij}(U, V) := \\sum_{(i, j) \\in E} \\frac{1}{2}[U_i \\cdot V_j^T - R_{ij}]^2 + \\frac{\\lambda}{2} (\\|U_i\\|^2 + \\|V_j\\|^2)\n",
    "$$\n",
    "\n",
    "À chaque itération de la descente de gradient, $U$ et $V$ sont mis à jour selon les formules\n",
    "$$\n",
    "U = U - \\tau \\nabla_U F(U, V)\\\\ \n",
    "V = V - \\tau \\nabla_V F(U, V)\n",
    "$$\n",
    "où pour $M \\in \\{U, V\\}$ on dénote $\\nabla_M F$ la sous-matrice du gradient de $F$ contenant les dérivées partielles de $F$ selon les variables de $M$. Pour une note $R_{ij}$, on a \n",
    "$$\n",
    "\\frac{\\partial F_{ij}}{\\partial U_i} = V_j^T (U_i \\cdot V_j^T - R_{ij}) + \\lambda U_i \\\\\n",
    "\\frac{\\partial F_{ij}}{\\partial V_j} = Ui (U_i \\cdot V_j^T - R_{ij}) + \\lambda V_j\n",
    "$$\n",
    "donc on peut mettre à jour les lignes $U_i$ et $V_j$ selon les formules \n",
    "$$\n",
    "U_i = Ui - \\tau [V_j^T (U_i \\cdot V_j^T - R_{ij}) + \\lambda U_i]\\\\\n",
    "V_j = V_j - \\tau [Ui (U_i \\cdot V_j^T - R_{ij}) + \\lambda V_j]\n",
    "$$"
   ]
  },
  {
   "cell_type": "code",
   "execution_count": 23,
   "metadata": {},
   "outputs": [],
   "source": [
    "def gradientF(U, V, eps=1e-5):\n",
    "    n, ell = U.size\n",
    "    m, ell = V.size\n",
    "    def nablaFU(X):\n",
    "        assert X.size == U.size\n",
    "        return np.array( [[np.dot(V[:, j], np.dot( np.dot(X[i], V[:, j]) - R[i, j]) ) + lamb * X[i] for i in range(n)] for j in range(ell)] )\n",
    "    def nablaFV(Y):\n",
    "        assert Y.size == V.size\n",
    "        return np.array( [[np.dot(U[i], np.dot( np.dot(U[i], Y[:, j]) - R[i, j]) ) + lamb * Y[:, j] for i in range(m)] for j in range(ell)] )\n",
    "    \n",
    "    return nablaFU, nablaFV"
   ]
  },
  {
   "cell_type": "code",
   "execution_count": 25,
   "metadata": {},
   "outputs": [],
   "source": [
    "def gradientPasConstant(dF, U, V, tau, tol=1e-6, Niter=1000):\n",
    "    for n in range(Niter):\n",
    "        gradU, gradV = dF(U, V)\n",
    "        if np.linalg.norm(gradU(U, V)) + np.linalg.norm(gradV(U, V)) < tol :\n",
    "            return U, V\n",
    "        U = U - tau * gradU(U, V)\n",
    "        V = V - tau * gradV(U, V)\n",
    "    print(\"Erreur, l’algorithme n’a pas convergé après\", Niter ,\" itérations\")\n",
    "    return U, V"
   ]
  },
  {
   "cell_type": "markdown",
   "metadata": {},
   "source": [
    "**Input** : training matrix V, the number of features K, regularisation parameter lambda, learning rate epsilon\n",
    "\n",
    "**Output** : row related model matrix W and column related model matrix H\n",
    "\n",
    "Initialize W, H to UniformReal(0, 1/sqrt(K))\n",
    "\n",
    "    repeat :\n",
    "        for random V_ij \\in V do :\n",
    "            error = W_i* H*j - Vij\n",
    "            Wi* = Wi* - epsilon(error * H*j^T + lamda Wi*)\n",
    "            H*j = H*j - epsilon(error * Wi*^T + lamda J*j)\n",
    "        end for\n",
    "    until convergence"
   ]
  },
  {
   "cell_type": "markdown",
   "metadata": {},
   "source": [
    "### Descente de gradient\n",
    "\n",
    "Pour résoudre ce problème, on peut utiliser un algorithme de descente de gradient. Cet [article](https://towardsdatascience.com/introduction-to-recommender-systems-6c66cf15ada) précise aussi, qu'afin d'optimiser la recherche, on peut se contenter d'optimsier sur des batch et non sur tout $E$ et de simplifier le problème à un problème d'optimisation à une variable où les matrices $X$ et $Y$ sont alternativement fixées lors de chaque itération."
   ]
  },
  {
   "cell_type": "markdown",
   "metadata": {},
   "source": [
    "Posons $F : \\mathbb{R}^{n \\times \\ell} \\times \\mathbb{R}^{m \\times \\ell} \\to \\mathbb{R}$ la fonction définie par :\n",
    "\n",
    "$$\n",
    "F(A) := \\frac{1}{2}\\sum_{(i, j) \\in E} [X_i \\cdot Y_j^T - M_{ij}]^2 + \\frac{\\lambda}{2} [ \\sum_{(i, j)} X_{ij}^2 + \\sum_{(i, j)} Y_{ij}^2 ]\n",
    "$$\n",
    "\n",
    "où $A = [U, I]$."
   ]
  },
  {
   "cell_type": "code",
   "execution_count": 19,
   "metadata": {},
   "outputs": [],
   "source": [
    "def F(A, M):\n",
    "    error = 0\n",
    "#     n, m = M.size\n",
    "#     for i in range((\n",
    "    \n",
    "    return sum"
   ]
  },
  {
   "cell_type": "code",
   "execution_count": 21,
   "metadata": {},
   "outputs": [],
   "source": [
    "Nx1 , Nx2 = 100, 100\n",
    "xx1 , xx2 = np.linspace(0, 5, Nx1), np.linspace(0, 5, Nx2)\n",
    "Z = [[F(np.array([x1, x2]), []) for x1 in xx1] for x2 in xx2]\n",
    "# plt.contour(xx1 , xx2 , Z, 30)"
   ]
  },
  {
   "cell_type": "markdown",
   "metadata": {},
   "source": [
    "# Big question k : est ce qu'on a une expression explicite du gradient ?"
   ]
  },
  {
   "cell_type": "markdown",
   "metadata": {},
   "source": [
    "La fonction `gradientDFC(F,d,eps=1e-5)` prend une fonction $F : \\mathbb{R}^l \\times \\mathbb{R}^l \\to \\mathbb{R}$, et renvoie une approximation de son gradient, **la fonction** $\\nabla_\\varepsilon F$, dont les composantes sont calculées par différences finies centrées, c'est à dire\n",
    "\n",
    "$$\n",
    "    \\left( \\nabla_\\varepsilon F \\right)_i : \\mathbf{x} \\mapsto \\dfrac{F(\\mathbf{x} + \\varepsilon \\mathbf{e}_i ) - F(\\mathbf{x} - \\varepsilon \\mathbf{e}_i )}{2 \\varepsilon}\n",
    "$$"
   ]
  },
  {
   "cell_type": "code",
   "execution_count": 704,
   "metadata": {},
   "outputs": [],
   "source": [
    "def gradientDFC(F, d, eps=1e-5):\n",
    "    def naplaF(x):\n",
    "        e = eps*identity(d)\n",
    "        return array([(F(x + e[i]) - F(x - e[i]))/(2*eps) for i in range(d)])\n",
    "    return naplaF"
   ]
  },
  {
   "cell_type": "markdown",
   "metadata": {},
   "source": [
    "La fonction `gradientPasConstant(dF, x0, tau, tol=1e-6, Niter=1000)` prend une fonction $dF : \\mathbb{R}^\\ell \\times \\mathbb{R}^\\ell \\to \\mathbb{R}$, un point initial $(x_0, y_0) \\in \\mathbb{R}^\\ell \\times \\mathbb{R}^\\ell$, et un pas $\\tau > 0$, et renvoie le premier point $(x_n, y_n) \\in \\mathbb{R}^\\ell$ tel que $\\| \\nabla F(x_n) \\| < tol$, où $(x_n, y_n)$ est définie par\n",
    "$$\n",
    "    (x_{n+1}) = x_n - \\tau \\nabla F(x_n).\n",
    "$$\n",
    "ainsi que la liste des points $[x_0, \\cdots, x_{n-1}]$."
   ]
  },
  {
   "cell_type": "code",
   "execution_count": 703,
   "metadata": {},
   "outputs": [],
   "source": [
    "def gradientPasConstant(dF, x0, tau, tol=1e-6, Niter=1000):\n",
    "    xn = x0\n",
    "    L = []\n",
    "    for n in range(Niter):\n",
    "        if norm(dF(xn)) < tol :\n",
    "            return array(xn), array(L)\n",
    "        L += xn\n",
    "        xn = xn - tau*dF(xn)\n",
    "    print(\"Erreur, l’algorithme n’a pas convergé après\", Niter ,\" itérations\")\n",
    "    return array(xn), array(L)"
   ]
  },
  {
   "cell_type": "markdown",
   "metadata": {},
   "source": [
    "Dans notre cas"
   ]
  },
  {
   "cell_type": "code",
   "execution_count": null,
   "metadata": {},
   "outputs": [],
   "source": []
  }
 ],
 "metadata": {
  "kernelspec": {
   "display_name": "Python 3",
   "language": "python",
   "name": "python3"
  },
  "language_info": {
   "codemirror_mode": {
    "name": "ipython",
    "version": 3
   },
   "file_extension": ".py",
   "mimetype": "text/x-python",
   "name": "python",
   "nbconvert_exporter": "python",
   "pygments_lexer": "ipython3",
   "version": "3.7.3"
  }
 },
 "nbformat": 4,
 "nbformat_minor": 2
}
